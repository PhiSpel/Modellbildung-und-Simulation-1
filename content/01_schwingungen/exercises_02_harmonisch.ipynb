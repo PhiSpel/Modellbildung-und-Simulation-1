{
 "cells": [
  {
   "cell_type": "markdown",
   "metadata": {},
   "source": [
    "# Harmonische Schwingung"
   ]
  },
  {
   "cell_type": "markdown",
   "metadata": {},
   "source": [
    "Unter einer harmonischen Schwingung versteht man eine Schwingung, die vollständig mit der Sinus- bzw. Kosinusfunktion beschrieben werden kann:\n",
    "$y(t) = \\hat y \\cdot \\sin \\left( {\\omega  \\cdot t} \\right)$"
   ]
  },
  {
   "cell_type": "markdown",
   "metadata": {},
   "source": [
    "## Aufgabe 1: Fadenpendel"
   ]
  },
  {
   "cell_type": "markdown",
   "metadata": {},
   "source": [
    "Nutzen Sie Matlab/Octave, um das Verhalten eines Fadenpendels zu simulieren. Stellen Sie dazu zunächst mit Stift und Papier die zu lösende Differentialgleichung auf. ***Tipp: Vielleicht hilft Ihnen eine Skizze und die Energieerhaltung bei der Herleitung!***"
   ]
  },
  {
   "cell_type": "markdown",
   "metadata": {},
   "source": [
    "Nun stehen wir vor der Herausforderung ein zeitkontinuierliches Problem mit unseren endlichen Ressourcen zu lösen! Wie gelingt uns dies? Und wie können wir eine diskrete Zeit in Matlab ausdrücken? ***Tipp: Vielleicht kommen wir mit [dieser Funktion](https://de.mathworks.com/help/matlab/ref/linspace.html) einen Schritt näher?***"
   ]
  },
  {
   "cell_type": "markdown",
   "metadata": {},
   "source": [
    "Nun können wir unser Problem Matlab/Octave mitteilen. Dazu geben wir zunächst allen Variablen und konstanten Größen einen Wert:"
   ]
  },
  {
   "cell_type": "code",
   "execution_count": null,
   "metadata": {},
   "outputs": [],
   "source": [
    "g = 9.81; %Gravitationskonstante\n",
    "l = 1; %Länge des Seils\n",
    "x0 = [, 0]; %Anfangsbedingung \n",
    "t_start = 0; %Zu welchem Zeitpunkt die Simulation beginnt\n",
    "t_end = ; %Zu welchem Zeitpunkt die Simulation endet \n",
    "t_steps = ; %Anzahl der Zeitschritte zwischen t_start und t_end \n",
    "t_interval = ; %Zeitvektor "
   ]
  },
  {
   "cell_type": "markdown",
   "metadata": {},
   "source": [
    "Die DGL, die wir zu Beginn aufgestellt haben, können wir nun auch in Vektorform aufschreiben:"
   ]
  },
  {
   "cell_type": "code",
   "execution_count": null,
   "metadata": {},
   "outputs": [],
   "source": [
    "dgl = @(t,x) [ ; ]; %Eine Funktion, mit t und x als Variablen "
   ]
  },
  {
   "cell_type": "markdown",
   "metadata": {},
   "source": [
    "Unser nun diskretes Problem können wir problemlos mit den uns zur Verfügung stehenden Hilfsmitteln lösen. Dazu benötigen wir nichts weiter als Stift und Papier... und eine Menge Geduld, wenn wir eine brauchbare Zeitauflösung verfolgen! Wie können wir unsere nun zeitdiskrete Differentialgleichung mit Hilfe von Matlab/Octave lösen? ***Tipp: [Hier](https://de.mathworks.com/help/matlab/ref/ode45.html) finden Sie Informationen zur Anwendung einer der populärlisten Möglichkeiten unser Problem zu lösen!***"
   ]
  },
  {
   "cell_type": "code",
   "execution_count": null,
   "metadata": {},
   "outputs": [],
   "source": [
    "[t, x] =  ; %Lösung der dgl nach x in Abhängigkeit von t "
   ]
  },
  {
   "cell_type": "markdown",
   "metadata": {},
   "source": [
    "Plotten Sie nun das Ergebnis. Dazu bietet es sich an, zunächst ein Winkel-Zeit-Diagramm und ein Geschwindigkeits-Zeit-Diagramm auszugeben. Die Lösung unserer Differentialgleichung wurde in $x$ gespeichert und besteht aus zwei Spalten, dem Winkel und der Geschwindigkeit. ***Tipp: Wie man auf einzelne Spalten einer Matrix zugreift und weiteres zur Indizierung von Arrays in Matlab/Octave finden Sie zum Beispiel [hier](https://de.mathworks.com/help/matlab/math/array-indexing.html).***"
   ]
  },
  {
   "cell_type": "code",
   "execution_count": null,
   "metadata": {},
   "outputs": [],
   "source": [
    "phi_t = x( , )'; %Auslesen der Winkel-Komponenten aus dem Ergebnisvektor x \n",
    "omega_t = x( , )'; %Auslesen der Winkelgeschwindigkeits-Komponenten aus dem Ergebnisvektor x "
   ]
  },
  {
   "cell_type": "markdown",
   "metadata": {},
   "source": [
    "Mit Hilfe des [plot-Befehls](https://de.mathworks.com/help/matlab/ref/plot.html) können wir nun unsere Diagramme zeichnen lassen, diese sollten ungefähr so aussehen:\n",
    "\n",
    "<figure>\n",
    "  <img src=\"../images/plot.png\"/>\n",
    "  <figcaption>Abbildung 1: Der Verlauf des Winkels zwischen Pendel und Decke über die Zeit</figcaption>\n",
    "</figure>"
   ]
  },
  {
   "cell_type": "code",
   "execution_count": null,
   "metadata": {},
   "outputs": [],
   "source": [
    "plot(t, phi_t)\n",
    "grid on\n",
    "title('Winkel-Zeit-Diagramm')"
   ]
  },
  {
   "cell_type": "markdown",
   "metadata": {},
   "source": [
    "***Animation und Bilder passen noch nicht zusammen!!!***\n",
    "<figure>\n",
    "  <img src=\"../images/schwingung_01.gif\" width=\"500\"/>\n",
    "  <figcaption></figcaption>\n",
    "</figure>"
   ]
  },
  {
   "cell_type": "markdown",
   "metadata": {},
   "source": [
    "TODO1: Lassen wir das Pendel los, wenn es fast im Gleichgewicht ist (pi-0.00001)\n",
    "\n",
    "TODO2: Dämpfung + Resonanz durch Anregung"
   ]
  }
 ],
 "metadata": {
  "kernelspec": {
   "display_name": "Octave",
   "language": "octave",
   "name": "octave"
  },
  "language_info": {
   "file_extension": ".m",
   "help_links": [
    {
     "text": "GNU Octave",
     "url": "https://www.gnu.org/software/octave/support.html"
    },
    {
     "text": "Octave Kernel",
     "url": "https://github.com/Calysto/octave_kernel"
    },
    {
     "text": "MetaKernel Magics",
     "url": "https://metakernel.readthedocs.io/en/latest/source/README.html"
    }
   ],
   "mimetype": "text/x-octave",
   "name": "octave",
   "version": "4.2.2"
  }
 },
 "nbformat": 4,
 "nbformat_minor": 4
}
