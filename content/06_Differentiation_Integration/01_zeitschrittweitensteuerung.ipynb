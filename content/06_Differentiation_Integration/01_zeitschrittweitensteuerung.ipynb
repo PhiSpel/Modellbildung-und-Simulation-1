{
 "cells": [
  {
   "cell_type": "markdown",
   "metadata": {},
   "source": [
    "# Numerische Intergration mit Schrittweitensteuerung\n",
    "\n",
    "\n",
    "\n",
    "## Aufgabe 1\n",
    "Entwickeln Sie mit Stift und Papier (und am besten auch einer Skizze) die Trapezregel zur numerischen Approximation von Integralen beliebiger Funktionen auf beliebigen Intervallen.\n",
    "\n",
    " Die Simpson-Regel erweitert dieses Konzept, statt einer Geraden wird hier zur Approximation eine Parabel durch die Randpunkte und den Mittelpunkt des Intervals gelegt und der Flächeninhalt darunter bestimmt. So kann die Fehlerordnung der Approximation erhöht werden. Die Integrationsformel lautet dann\n",
    " \n",
    " $$\\int_{x_i}^{x_{i+1}} f(x) dx = \\frac{x_{i+1} - x_i}{6}\\left(f(x_i)+4f\\left(\\frac{x_i+x_{i+1}}{2}\\right)+f(x_{i+1})\\right)$$\n",
    "\n",
    "## Aufgabe 2\n",
    "Schreiben Sie ein Programm zur numerischen Berechnung von\n",
    "    $$\\int_{a}^{b} f(x) dx$$\n",
    "mit der zusammengesetzten Simpson- und Trapezregel. D.h. beide Regeln werden auf einzelne Teilintervalle angewendet und die Ergebnisse zum Gesamtintegral aufsummiert. Dabei soll die Anzahl der verwendeten Teilintervalle solange verdoppelt werden, bis die Differenz zwischen Simpson- und Trapezregel kleiner als die vom Benutzer vorgegebenen Toleranz `tol` ist.\n",
    "  \n",
    " Der Vergleich der beiden Ergebnisse ermöglicht es, abzuschätzen, bei welcher Anzahl an Zeitschritten die gewünschte Genauigkeit erreicht wird. Durch eine derartige Schrittweitensteuerung kann zusätzlicher Rechenaufwand durch zu kleine Zeitschrittweiten vermieden werden und trotzdem auf allen Intervallen die geforderte Genauigkeit erreicht werden.\n",
    " \n",
    " Denken Sie daran, dass Eingaben nicht immer mit der Funktionsweise Ihrer Funktion kompatibel sein müssen! Möchte jemand bspw. $\\int_{-1}^{1} 1/x dx$ berechnen, wie geht ihre Funktion mit der Polstelle um? Überlegen Sie sich eine Abbruchbedingung für den Fehlerfall!"
   ]
  },
  {
   "cell_type": "code",
   "execution_count": 10,
   "metadata": {},
   "outputs": [
    {
     "name": "stdout",
     "output_type": "stream",
     "text": [
      "Created file '/home/martin/Modellbildung-und-Simulation/content/06_Differentiation_Integration/numInt.m'.\n"
     ]
    }
   ],
   "source": [
    "%%file numInt.m\n",
    "%function [I, dt]= numInt(f,a,b,tol)\n",
    "% Compute numeric integral of f on [a, b] to tolerance tol via Simpson's rule. Step width is regulated via comparison to result of Trapezoidal rule.\n",
    "% Inputs: function, lower boundary, upper boundary, tolerance\n",
    "% Output: integration result, step size\n",
    "\n",
    "function [I, dt] = numInt(f,a,b,tol)\n",
    "h = b-a; n = 1;\n",
    "trap = h/2*(f(a) + f(b));\n",
    "sim = h/6*(f(a)+4*f(a+h/2)+f(b));\n",
    "while abs(trap-sim) > tol\n",
    "    h = h/2;\n",
    "    n=n*2;\n",
    "    sum_sim = 0; sum_trap = 0;\n",
    "    x = a;\n",
    "    for i=1:n\n",
    "        f0_plus_f1 = f(x) + f(x+h);\n",
    "        sum_trap = sum_trap + f0_plus_f1;\n",
    "        sum_sim = sum_sim + f0_plus_f1 + 4*f(x+h/2);\n",
    "        x = x + h;\n",
    "    end\n",
    "    trap = h/2*sum_trap;\n",
    "    sim = h/6*sum_sim;\n",
    "    if h < 10^(-9)\n",
    "        msgID = 'numInt:convergence';\n",
    "        msg = 'does not converge';\n",
    "        %exception = MException(msgID,msg);\n",
    "        error(msgID,msg);\n",
    "        %throw(exception);\n",
    "        break;\n",
    "    end\n",
    "end\n",
    "I = sim;\n",
    "dt = h;\n",
    "end"
   ]
  },
  {
   "cell_type": "markdown",
   "metadata": {},
   "source": [
    "## Aufgabe 3\n",
    "Testen Sie Ihre Funktion mit dem `unit test`. Sie sollten zumindest die ersten 5 der 7 Anforderungen erfüllen. Vergleichen Sie ihre Ergebnisse auch mit der Matlabroutine `Integral`."
   ]
  },
  {
   "cell_type": "code",
   "execution_count": 11,
   "metadata": {},
   "outputs": [
    {
     "name": "stdout",
     "output_type": "stream",
     "text": [
      "error: name match should be unique\n",
      "error: called from\n",
      "    assert at line 94 column 11\n",
      "    initTestSuite at line 136 column 21\n",
      "    test_numInt at line 7 column 5\n"
     ]
    }
   ],
   "source": [
    "test_numInt()"
   ]
  },
  {
   "cell_type": "markdown",
   "metadata": {},
   "source": [
    "Neben der reinen Funktion, die sie jetzt offensichtlich sehr gut realisiert haben, hat Code allerdings noch weitere Qualitätskriterien. Ein wichtiges ist z. B. der Rechenaufwand bzw. die Zeit, die eine Ausführung benötigt. \n",
    "Dieser kann hier noch optimiert werden, indem die berechneten Werte aus der jeweils vorherigen Iteration weiterverwendet werden, wodurch in jeder Iteration nur ein Drittel so viele Werte berechnet werden wie in der einfachen Implementierung. Aber das soll Ihnen vorläufig erspart bleiben."
   ]
  }
 ],
 "metadata": {
  "author": "Martin Kliemank",
  "kernelspec": {
   "display_name": "Octave",
   "language": "octave",
   "name": "octave"
  },
  "language_info": {
   "file_extension": ".m",
   "help_links": [
    {
     "text": "GNU Octave",
     "url": "https://www.gnu.org/software/octave/support.html"
    },
    {
     "text": "Octave Kernel",
     "url": "https://github.com/Calysto/octave_kernel"
    },
    {
     "text": "MetaKernel Magics",
     "url": "https://metakernel.readthedocs.io/en/latest/source/README.html"
    }
   ],
   "mimetype": "text/x-octave",
   "name": "octave",
   "version": "4.2.2"
  }
 },
 "nbformat": 4,
 "nbformat_minor": 2
}
