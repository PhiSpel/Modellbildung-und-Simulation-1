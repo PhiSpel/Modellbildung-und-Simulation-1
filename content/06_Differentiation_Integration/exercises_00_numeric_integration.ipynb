{
 "cells": [
  {
   "cell_type": "markdown",
   "metadata": {},
   "source": [
    "# Numerische Intergration\n",
    "\n",
    "\n",
    "\n",
    "   1. Entwickeln Sie mit Stift und Papier (und am besten auch einer Skizze) die Trapezregel zur numerischen Approximation von Integralen beliebiger Funktionen auf beliebigen Intervallen.\n",
    "\n",
    " Die Simpson-Regel erweitert dieses Konzept und legt den Fokus verstärkt auf den tatsächlichen Wert in der Mitte des Intervalls. Sie lautet\n",
    " \n",
    "    $$\\int_{x_i}^{x_{i+1}} f(x) dx = \\frac{x_{i+1} - x_i}{6}\\left(f(x_i)+4f\\left(\\frac{x_i+x_{i+1}}{2}\\right)+f(x_{i+1})\\right)$$\n",
    "\n",
    "\n",
    "  2. Schreiben Sie ein Programm zur numerischen Berechnung von\n",
    "    $$\\int_{a}^{b} f(x) dx$$\n",
    "  Dabei soll die Anzahl der verwendeten Teilintervalle solange verdoppelt werden, bis die Differenz\n",
    "  zwischen Simpson- und Trapezregel kleiner als die vom Benutzer\n",
    "   vorgegebenen Toleranz `tol` ist."
   ]
  },
  {
   "cell_type": "code",
   "execution_count": null,
   "metadata": {},
   "outputs": [],
   "source": [
    "%%file numInt.m\n",
    "function I = numInt(f,a,b,tol)\n",
    "% Inputs: function, lower boundary, upper boundary, tolerance\n",
    "% Output: integration result\n"
   ]
  },
  {
   "cell_type": "markdown",
   "metadata": {},
   "source": [
    "3. Testen Sie Ihre Funktion mit dem `unit test`. Sie sollten zumindest die ersten 3 der 5 Anforderungen erfüllen. Vergleichen Sie ihre Ergebnisse auch mit der Matlabroutine `Integral`."
   ]
  },
  {
   "cell_type": "code",
   "execution_count": null,
   "metadata": {},
   "outputs": [],
   "source": [
    "test_numInt()"
   ]
  }
 ],
 "metadata": {
  "kernelspec": {
   "display_name": "Octave",
   "language": "octave",
   "name": "octave"
  },
  "language_info": {
   "file_extension": ".m",
   "help_links": [
    {
     "text": "GNU Octave",
     "url": "https://www.gnu.org/software/octave/support.html"
    },
    {
     "text": "Octave Kernel",
     "url": "https://github.com/Calysto/octave_kernel"
    },
    {
     "text": "MetaKernel Magics",
     "url": "https://metakernel.readthedocs.io/en/latest/source/README.html"
    }
   ],
   "mimetype": "text/x-octave",
   "name": "octave",
   "version": "4.2.2"
  }
 },
 "nbformat": 4,
 "nbformat_minor": 2
}
