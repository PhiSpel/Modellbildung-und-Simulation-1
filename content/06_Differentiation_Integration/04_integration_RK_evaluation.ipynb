{
 "cells": [
  {
   "cell_type": "markdown",
   "id": "0f0da3c8-d298-41f8-b4b1-7d9785dfc328",
   "metadata": {},
   "source": [
    "````{panels}\n",
    "Voraussetzungen\n",
    "^^^\n",
    "- Schwingungen\n",
    "- Grundkonzepte der numerischen Integration von gewöhnlichen Differentialgleichungen\n",
    "---\n",
    "\n",
    "Lernziele\n",
    "^^^\n",
    "- Bewertung einiger grundlegender Integrationmethoden\n",
    "````"
   ]
  },
  {
   "cell_type": "markdown",
   "id": "5b207cff",
   "metadata": {
    "tags": []
   },
   "source": [
    "(integration_rk_eval)=\n",
    "# Lohnen sich Verfahren höherer Ordnung?\n",
    "\n",
    "Nachdem wir uns in {ref}`integration_rk` auf das numerische Lösen einer analytisch nicht lösbaren ODE fokussiert haben, möchten wir nun bewerten, wie gut die numerische Lösung im Vergleich zur analytischen Lösung ist. Dazu nehmen wir das Beispiel des Fadenpendels aus {ref}`harmonic_oscillation`. Dessen Lösung kennen wir unter der Annahme der Kleinwinkelnäherung $\\sin \\varphi \\approx \\varphi$:\n",
    "\n",
    "$$\\varphi(t) = \\varphi_0 \\cdot \\cos \\left( {\\sqrt{\\frac{g}{l}} \\cdot t} \\right)$$\n",
    "\n",
    "```{image} images/pendulum.png\n",
    ":alt: Name of image\n",
    ":width: 400px\n",
    ":align: center\n",
    "```"
   ]
  },
  {
   "cell_type": "markdown",
   "id": "08385778-232b-4b10-b83d-746ed3a53528",
   "metadata": {},
   "source": [
    "## Aufgabe 1: Analytische Lösung\n",
    "\n",
    "Stellen Sie die analytische Lösung auf und plotten Sie sie mit einer hohen Auflösung (> 1000 Punkte). Gehen Sie von $\\varphi_0 = 1$ und $\\omega_0 = 1$ aus. Nehmen Sie auf Ihrem Intervall mindestens fünf Perioden auf."
   ]
  },
  {
   "cell_type": "code",
   "execution_count": null,
   "id": "13600924-59e2-4b5f-8cd6-afaa2d8c2422",
   "metadata": {},
   "outputs": [],
   "source": [
    "%your code here"
   ]
  },
  {
   "cell_type": "markdown",
   "id": "da552627-ca29-4bb6-a455-3f8d4ae7d946",
   "metadata": {},
   "source": [
    "```{image} images/cos.png\n",
    ":alt: Name of image\n",
    ":width: 400px\n",
    ":align: center\n",
    "```"
   ]
  },
  {
   "cell_type": "markdown",
   "id": "246f4828-6da1-47cb-ba3e-bb9795776d66",
   "metadata": {},
   "source": [
    "## Aufgabe 2: Vergleich der drei Lösungen\n",
    "\n",
    "Wir wollen hier drei Lösungsmöglichkeiten vergleichen:\n",
    "\n",
    "1. explizites Eulerverfahren (Linke Rechteckregel)\n",
    "2. Runge-Kutta-Verfahren 2. Ordnung (Mittelpunktregel mit Schätzung von $y_{i+\\frac{1}{2}}$\n",
    "3. Runge-Kutta-Verfahren 3. Ordnung (Simpsonregel)\n",
    "\n",
    "Gehen Sie zunächst davon aus, dass alle drei Verfahren dieselbe Schrittweite (100 Punkte auf Ihrem Intervall) nutzen und verwenden Sie *keine Schrittweitensteuerung*."
   ]
  },
  {
   "cell_type": "code",
   "execution_count": null,
   "id": "0782651c-f413-4208-aa70-6b912c8529a0",
   "metadata": {},
   "outputs": [],
   "source": [
    "%your code here\n",
    "expEul   = ...\n",
    "RK2      = ...\n",
    "RK3      = ...\n",
    "\n",
    "%plots\n",
    "plot(tspan,expEul,tspan,RK2,tspan,RK3)"
   ]
  },
  {
   "cell_type": "markdown",
   "id": "9700c001-bf35-4cb6-bbe3-b2527d6a8671",
   "metadata": {},
   "source": [
    "Ihre Lösung könnte in etwa so aussehen (hier mit einer Schrittweite von 0.1):\n",
    "\n",
    "```{image} images/cos_comparison.png\n",
    ":alt: Name of image\n",
    ":width: 800px\n",
    ":align: center\n",
    "```\n",
    "\n",
    "```{admonition} Hinweis\n",
    "Die Abweichung der Lösung können wir nun auch interpretieren! Wird die Amplitude der Schwingung größer, bedeutet das, dass dem System Energie zugeführt wurde. Und wir als Ingenieur:innen wissen: **Das kann nicht sein**. In der Praxis kann es sein, dass solche Abweichungen nicht so offensichtlich falsch sind. Es ist also immens wichtig, dass unsere Lösung an die reale Lösung gut konvergiert.\n",
    "```\n",
    "\n",
    "Messen Sie nun zusätzlich die benötigte Zeit der Verfahren mit den `tic ... time_n = toc` Befehlen sowie die Abweichung von der analytischen Lösung (über den gesamten Zeitraum). Als Grundlage für eine quantitative Bewertung der Abweichung hat sich die Methode der Summe der Quadrate bewährt."
   ]
  },
  {
   "cell_type": "code",
   "execution_count": null,
   "id": "7fe913f6-fef3-42b9-b79f-e5de6453885e",
   "metadata": {},
   "outputs": [],
   "source": [
    "% time results\n",
    "time_expEul = ...\n",
    "time_RK2    = ...\n",
    "time_RK3    = ...\n",
    "\n",
    "% error results\n",
    "err_expEul  = sum((...).^2);\n",
    "err_RK2     = ...\n",
    "err_RK3     = ..."
   ]
  },
  {
   "cell_type": "markdown",
   "id": "88cef3bc-50ae-4333-a6db-c86558a51b72",
   "metadata": {},
   "source": [
    "## Aufgabe 3: Lohnt sich das?\n",
    "\n",
    "Passen Sie nun die Schrittweiten so an, dass alle Verfahren in etwa gleich lang benötigen.\n",
    "\n",
    "- Wie unterscheiden sich die Fehler?\n",
    "- Für welches Verfahren entscheiden Sie sich in der Praxis?\n",
    "\n",
    "Vergleichen Sie außerdem die Lösung mit der MATLAB-Routine `ode45`."
   ]
  },
  {
   "cell_type": "code",
   "execution_count": null,
   "id": "4c864af3-f196-4add-9753-3457a4c2f99a",
   "metadata": {},
   "outputs": [],
   "source": [
    "%your code here"
   ]
  }
 ],
 "metadata": {
  "kernelspec": {
   "display_name": "Octave",
   "language": "octave",
   "name": "octave"
  },
  "language_info": {
   "file_extension": ".m",
   "help_links": [
    {
     "text": "GNU Octave",
     "url": "https://www.gnu.org/software/octave/support.html"
    },
    {
     "text": "Octave Kernel",
     "url": "https://github.com/Calysto/octave_kernel"
    },
    {
     "text": "MetaKernel Magics",
     "url": "https://metakernel.readthedocs.io/en/latest/source/README.html"
    }
   ],
   "mimetype": "text/x-octave",
   "name": "octave",
   "version": "6.2.0"
  }
 },
 "nbformat": 4,
 "nbformat_minor": 5
}
