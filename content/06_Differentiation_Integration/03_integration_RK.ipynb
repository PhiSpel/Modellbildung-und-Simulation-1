{
 "cells": [
  {
   "cell_type": "markdown",
   "id": "7ed2940d",
   "metadata": {},
   "source": [
    "# Integration von Differentialgleichungen\n",
    "\n",
    "Gewöhnliche Differentialgleichungen (Ordinary Differential Equations, **ODE**s) können oft nicht analytisch gelöst werden.\n",
    "\n",
    "Während die harmonische Schwingungsgleichung\n",
    "\n",
    "$$\\ddot x + \\omega_0^2\\cdot x = 0$$\n",
    "\n",
    "eine analytische Lösung besitzt, hat das Inverse Tangentenproblem (auch Traktrix genannt)\n",
    "\n",
    "$$y' \\cdot \\sqrt{d^2-y^2} = - y$$\n",
    "\n",
    "keine klare analytische Lösung mehr. In der Praxis begegnen uns viele Fälle, in denen sich zwar eine Differentialgleichung aufstellen, aber nicht analytisch lösen lässt (siehe [](content:references:num_ode))."
   ]
  },
  {
   "cell_type": "markdown",
   "id": "9e668555",
   "metadata": {},
   "source": [
    "## Explizite Formulierungen\n",
    "\n",
    "Wenn wir eine ODE für die Funktion $y(x)$ in der Form\n",
    "\n",
    "$$y'(x) = f(y(x),x)$$\n",
    "\n",
    "schreiben können, sprechen wir von einer **expliziten Formulierung**. Diese Form ist besonders interessant für uns, denn wir können unsere Kenntnisse aus der numerischen Integration auf sie anwenden. Für die Traktrix ergibt sich die Formulierung\n",
    "\n",
    "$$y'(x) = - \\frac{y}{\\sqrt{d^2-y^2(x)}}.$$\n",
    "\n",
    "Die Integration der expliziten Form funktioniert wie die numerische Integration bekannter Funktionen, mit dem Unterschied, dass ein Funktionswerte $y_i$ geschickt gefunden werden müssen.\n",
    "\n",
    "## Aufgabe 1: Linke Rechteckregel\n",
    "\n",
    "Statt $y'$ nun analytisch zu integrieren, können wir für Teilintervalle das numerische Integral bilden. Wenden Sie die linke Rechteckregel\n",
    "\n",
    "$$\\int_{x_i}^{x_{i+1}}y'(x)dx \\approx h \\cdot y'(y(x_i),x_i)$$\n",
    "\n",
    "auf die Traktrix an. Dazu müssen Sie bedenken, dass die Teilintegrale auch hier aufaddiert werden:\n",
    "\n",
    "$$y_{i+1} = y_i + \\int_{x_i}^{x_{i+1}}y'(x)dx \\approx y_i + h \\cdot y'(y(x_i),x_i)$$\n",
    "\n",
    "Was passiert bei $x=0$? Wie können Sie dem Problem ausweichen?\n",
    "\n",
    "```{admonition} Hinweis\n",
    "Dieses Vorgehen entspricht dem **expliziten Eulerverfahren**, das in [](content:references:euler_stability) weiter dikutiert wird.\n",
    "```"
   ]
  },
  {
   "cell_type": "code",
   "execution_count": null,
   "id": "ded5bdf3",
   "metadata": {},
   "outputs": [],
   "source": [
    "% your code here"
   ]
  },
  {
   "cell_type": "markdown",
   "id": "680b829e",
   "metadata": {},
   "source": [
    "## Aufgabe 2: Adaptive Schrittweitensteuerung\n",
    "\n",
    "Sie können nun Ihren Code aus [](content:references:num_int) auf die Traktrix anwenden. Die Werte von $y$, die für $y'\\left(y,\\frac{x_i+x_{i+1}}{2}\\right)$ und $y'(y,x_{i+1})$ verwendet werden, können Sie als $y_i$ annehmen.\n",
    "\n",
    "<!---\n",
    "```{admonition} Hinweis\n",
    " kennen Sie noch nicht. Approximeren Sie sie zunächst jeweils mit der linken Rechteckregel wie oben.\n",
    "```\n",
    "-->"
   ]
  },
  {
   "cell_type": "code",
   "execution_count": null,
   "id": "3b25299d",
   "metadata": {},
   "outputs": [],
   "source": [
    "%function [I, dt]= numInt(f,a,b,tol)\n",
    "% Compute numeric integral of f on [a, b] to tolerance tol via Simpson's rule. Step width is regulated via comparison to result of Trapezoidal rule.\n",
    "% Inputs: function, lower boundary, upper boundary, tolerance\n",
    "% Output: integration result, step size\n",
    "\n",
    "function [I, dt] = numInt(f,a,b,tol)\n",
    "% insert your code here\n",
    "end"
   ]
  },
  {
   "cell_type": "markdown",
   "id": "59e0ae8c",
   "metadata": {},
   "source": [
    "## Mehrstufige ODE-Löser\n",
    "\n",
    "Formulieren wir die Simpsonregel\n",
    "\n",
    "$$\\int_{x_i}^{x_{i+1}} y'(y,x) dx \\approx \\frac{x_{i+1} - x_i}{6}\\left(y'(y,x_i)+4 y'\\left(y,\\frac{x_i+x_{i+1}}{2}\\right)+y'(y,x_{i+1})\\right)$$\n",
    "\n",
    "um zu\n",
    "\n",
    "$$y_{i+1} \\approx y_i + h \\cdot \\left(\\frac{1}{6} \\cdot f\\left(y_i,x_i\\right) + \\frac{4}{6} \\cdot f\\left(y_i,x+\\frac{1}{2}h\\right) + \\frac{1}{6} \\cdot f\\left(y_i,x+h\\right)\\right).$$\n",
    "\n",
    "Außerdem benennen wir die drei verwendeten Faktoren als $K_1, K_2, K_3$, also\n",
    "\n",
    "$$\\begin{align}K_1 &= f\\left(y_i,x_i\\right)\\\\ K_2 &= f\\left(y_i,x+\\frac{1}{2}h\\right)\\\\ K_3 &= f\\left(y_i,x+h\\right)\\end{align}$$\n",
    "\n",
    "Bisher haben wir angenommen, dass wir $y_i$ auch für die mittlere Stützstelle $K_2 = f\\left(y_i,x+\\frac{1}{2}h\\right)$ und die rechte Stützstelle $K_3 = f\\left(y_i,x+h\\right)$ verwenden können. Das können wir aber noch besser. $K_2$ approximieren wir einfach mit der linken Rechteckregel:\n",
    "\n",
    "$$K_2 = f\\left(y_i + \\frac{h}{2}\\cdot y'(y_i,x_i),x+\\frac{1}{2}h\\right) = f\\left(y_i + h\\cdot\\frac{1}{2}K_1, x+\\frac{1}{2}h\\right).$$\n",
    "\n",
    "Für $K_3$ verwenden wir zusätzlich auch $K_2$ als Stützstelle:\n",
    "\n",
    "$$\\begin{align} & \\\\ & \\end{align}\n",
    "K_3 = f\\left(y_i + h \\cdot \\left(-1 \\cdot K_1 + 2 \\cdot K_2 \\right), x + h\\right).$$\n",
    "\n",
    "Zusammengesetzt ergibt sich das Runge-Kutta-Verfahren der Ordnung 3:\n",
    "\n",
    "$$y_{i+1} = y_i + h \\cdot \\left(\\frac{1}{6}K_1 + \\frac{4}{6}K_2 + \\frac{1}{6}K_3\\right)$$\n",
    "\n",
    "```{admonition} Hinweis\n",
    "Verwechseln Sie nicht die mehr*stufigen* Verfahren mit Mehr*schritt*verfahren. Letztere verwenden zusätzlich zu $y_i$ auch vorherige Auswertungen $y_{i-c\\cdot h}$.\n",
    "```"
   ]
  },
  {
   "cell_type": "markdown",
   "id": "92e25ec5",
   "metadata": {},
   "source": [
    "## Aufgabe 3: Runge-Kutta-Verfahren 3. Ordnung\n",
    "\n",
    "Passen Sie Ihren Code so an, dass anstelle der Simpsonregel das RK-Verfahren 3. Ordnung verwendet wird.\n",
    "\n",
    "```{admonition} Achtung\n",
    ":class: warning\n",
    "Kopieren Sie Ihren Code, um die Lösungen der verschiedenen Verfahren vergleichen zu können.\n",
    "```"
   ]
  },
  {
   "cell_type": "code",
   "execution_count": null,
   "id": "ed8589da",
   "metadata": {},
   "outputs": [],
   "source": []
  }
 ],
 "metadata": {
  "kernelspec": {
   "display_name": "Octave",
   "language": "octave",
   "name": "octave"
  },
  "language_info": {
   "file_extension": ".m",
   "help_links": [
    {
     "text": "GNU Octave",
     "url": "https://www.gnu.org/software/octave/support.html"
    },
    {
     "text": "Octave Kernel",
     "url": "https://github.com/Calysto/octave_kernel"
    },
    {
     "text": "MetaKernel Magics",
     "url": "https://metakernel.readthedocs.io/en/latest/source/README.html"
    }
   ],
   "mimetype": "text/x-octave",
   "name": "octave",
   "version": "6.2.0"
  }
 },
 "nbformat": 4,
 "nbformat_minor": 5
}
