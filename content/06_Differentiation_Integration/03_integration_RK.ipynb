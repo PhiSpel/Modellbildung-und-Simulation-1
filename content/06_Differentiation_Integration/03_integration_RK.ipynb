{
 "cells": [
  {
   "cell_type": "markdown",
   "id": "80a29e11-5caa-4505-827a-94a33dd2b55c",
   "metadata": {},
   "source": [
    "````{panels}\n",
    "Voraussetzungen\n",
    "^^^\n",
    "- Schwingungen\n",
    "- Numerische Integration analytischer Funktionen\n",
    "---\n",
    "\n",
    "Lernziele\n",
    "^^^\n",
    "- Grundkonzepte der numerischen Integration von gewöhnlichen Differentialgleichungen\n",
    "````"
   ]
  },
  {
   "cell_type": "markdown",
   "id": "5b207cff",
   "metadata": {
    "tags": []
   },
   "source": [
    "(integration_rk)=\n",
    "# Integration von Differentialgleichungen\n",
    "\n",
    "Gewöhnliche Differentialgleichungen (Ordinary Differential Equations, **ODE**s) können oft nicht analytisch gelöst werden.\n",
    "\n",
    "Während die harmonische Schwingungsgleichung\n",
    "\n",
    "$$\\ddot x + \\omega_0^2\\cdot x = 0$$\n",
    "\n",
    "eine analytische Lösung besitzt, hat das Inverse Tangentenproblem (auch Traktrix genannt)\n",
    "\n",
    "$$y' \\cdot \\sqrt{d^2-y^2} = - y$$\n",
    "\n",
    "schon keine klare analytische Lösung mehr. In der Praxis begegnen uns viele Fälle, in denen sich zwar eine Differentialgleichung aufstellen, aber nicht analytisch lösen lässt (siehe [](content:references:num_ode))."
   ]
  },
  {
   "cell_type": "markdown",
   "id": "81c11dcb",
   "metadata": {
    "tags": []
   },
   "source": [
    "## Explizite Formulierungen\n",
    "\n",
    "Wenn wir eine ODE für die Funktion $y(x)$ in der Form\n",
    "\n",
    "$$y'(x) = f(y(x),x)$$\n",
    "\n",
    "schreiben können, sprechen wir von einer **expliziten Formulierung**. Diese Form ist besonders interessant für uns, denn wir können unsere Kenntnisse aus der numerischen Integration auf sie anwenden. Für die Traktrix ergibt sich die Formulierung\n",
    "\n",
    "$$y'(x) = - \\frac{y}{\\sqrt{d^2-y^2(x)}}.$$\n",
    "\n",
    "Die Integration der expliziten Form funktioniert wie die numerische Integration bekannter Funktionen, mit dem Unterschied, dass ein Funktionswerte $y_i$ geschickt gefunden werden müssen.\n",
    "\n",
    "## Aufgabe 1: Linke Rechteckregel\n",
    "\n",
    "Statt $y'$ nun analytisch zu integrieren, können wir für Teilintervalle das numerische Integral bilden. Wenden Sie die linke Rechteckregel\n",
    "\n",
    "$$\\int_{x_i}^{x_{i+1}}y'(x)dx \\approx h \\cdot y'(y(x_i),x_i)$$\n",
    "\n",
    "auf die Traktrix an. Dazu müssen Sie bedenken, dass die Teilintegrale auch hier aufaddiert werden:\n",
    "\n",
    "$$y_{i+1} = y_i + \\int_{x_i}^{x_{i+1}}y'(x)dx \\approx y_i + h \\cdot y'(y(x_i),x_i)$$\n",
    "\n",
    "Was passiert bei $x=0$? Wie können Sie dem Problem ausweichen?\n",
    "\n",
    "```{admonition} Hinweis\n",
    "Dieses Vorgehen entspricht dem **expliziten Eulerverfahren**, das in {ref}`euler_stability` weiter dikutiert wird. Die rechte Rechteckregel entspricht dem **impliziten Eulerverfahren**, das in {ref}`integration_implicit` behandelt wird.\n",
    "```"
   ]
  },
  {
   "cell_type": "code",
   "execution_count": null,
   "id": "78585f47",
   "metadata": {
    "tags": []
   },
   "outputs": [],
   "source": [
    "% your code here\n",
    "y0    = 1;\n",
    "n     = 20; % number of timesteps\n",
    "tmax  = 10;\n",
    "tspan = linspace(0,tmax,n);\n",
    "y     = zeros(n);\n",
    "for i = 1:n\n",
    "    t    = tspan(i);\n",
    "    y(i) = ...\n",
    "end\n",
    "\n",
    "plot(tspan,y)"
   ]
  },
  {
   "cell_type": "markdown",
   "id": "b2cc3636",
   "metadata": {},
   "source": [
    "## Aufgabe 2: Adaptive Schrittweitensteuerung\n",
    "\n",
    "Sie können nun Ihren Code aus [](content:references:num_int) auf die Traktrix anwenden. Die Werte von $y$, die für $y'\\left(y,\\frac{x_i+x_{i+1}}{2}\\right)$ und $y'(y,x_{i+1})$ verwendet werden, können Sie als $y_i$ annehmen.\n",
    "\n",
    "<!---\n",
    "```{admonition} Hinweis\n",
    " kennen Sie noch nicht. Approximeren Sie sie zunächst jeweils mit der linken Rechteckregel wie oben.\n",
    "```\n",
    "-->"
   ]
  },
  {
   "cell_type": "code",
   "execution_count": null,
   "id": "1414a758",
   "metadata": {},
   "outputs": [],
   "source": [
    "%function [I, dt]= numInt(f,a,b,tol)\n",
    "% Compute numeric integral of f on [a, b] to tolerance tol via Simpson's rule. Step width is regulated via comparison to result of Trapezoidal rule.\n",
    "% Inputs: function, lower boundary, upper boundary, tolerance\n",
    "% Output: integration result, step size\n",
    "\n",
    "function [I, dt] = numInt(f,a,b,tol)\n",
    "% insert your code here\n",
    "end"
   ]
  },
  {
   "cell_type": "markdown",
   "id": "41f8110c-6aee-4b3a-9bde-6d0ef25e5761",
   "metadata": {
    "tags": []
   },
   "source": [
    "## Mehrstufige Verfahren\n",
    "\n",
    "## Aufgabe 3: Mittelpunktregel\n",
    "\n",
    "Um eine größere Genauigkeit zu erreichen, wenden Sie die Mittelpunktregel an.\n",
    "\n",
    "$$\\int_{x_i}^{x_{i+1}}y'(x)dx \\approx h \\cdot y'\\left(y\\left(x_i\\right),\\frac{x_i+x_{i+1}}{2}\\right)$$\n",
    "\n",
    ", also für die Integration der DGL\n",
    "\n",
    "$$y_{i+1} \\approx y_i + h \\cdot y'\\left(y\\left(x_i\\right),x_{i+1/2}\\right)$$\n",
    "\n",
    "```{admonition} Hinweis\n",
    "Kopieren Sie Ihren Code in die neue Codebox oder auf Ihrem Rechner in eine neue Datei, um die Lösungen der verschiedenen Verfahren später vergleichen zu können.\n",
    "```"
   ]
  },
  {
   "cell_type": "code",
   "execution_count": null,
   "id": "d902f10a-7ef9-49de-a2b9-9e36b5f6b8ed",
   "metadata": {
    "collapsed": true,
    "jupyter": {
     "outputs_hidden": true
    },
    "tags": []
   },
   "outputs": [],
   "source": [
    "% your code here"
   ]
  },
  {
   "cell_type": "markdown",
   "id": "00bdff83-3e8c-4322-9bad-57357f3255e5",
   "metadata": {},
   "source": [
    "Streng genommen können Sie für die Approximation nicht $y(x_i)$ verwenden, sondern müssen $y\\left(x_{i+1/2}\\right)$ schätzen. Verwenden Sie dazu die linke Rechteckregel von oben:\n",
    "\n",
    "$$y\\left(x_{i+1/2}\\right) = y_{i+1/2} = y_i + \\int_{x_i}^{x_{i+1/2}}y'(x)dx$$\n",
    "\n",
    "Wir führen zur besseren Übersicht $K_1$ für die linke und $K_2$ für die mittlere Stützstelle ein und kommen zu:\n",
    "\n",
    "$$K_1 := y'(y(x_i),x_i)$$\n",
    "$$K_2 := y'\\left(y\\left(x_{i+1/2}\\right),x_i + \\frac{h}{2}\\right) \\approx y(x_i) + \\frac{h}{2} \\cdot K_1$$\n",
    "$$y_{i+1} \\approx y_i + h \\cdot K_2$$\n",
    "\n",
    "Übernehmen Sie die verbesserte Stützstelle $K_2$ in Ihrem Code. In der Abbildung sehen Sie, wie sich die verbesserte Ableitung auswirkt. Die kleinen blauen Pfeile beschreiben die Ableitung $y'(x,y) = \\frac{dy}{dx}(x,y)$ an ausgewählten Stellen im Raum ausgewertet (da die ODE von der Zeit *und* dem Funktionswert abhängen kann).\n",
    "\n",
    "```{image} images/vectorfield_animated_traktrix_RK2.gif\n",
    ":alt: Name of image\n",
    ":width: 800px\n",
    ":align: center\n",
    "```\n",
    "\n",
    "```{admonition} Hinweis\n",
    "Dieses Vorgehen entspricht dem **Runge-Kutta-Verfahren 2. Ordnung**. Für die Kosinus-Funktion (also die Integration der Sinus-Funktion klappt das Verfahren sogar noch besser:\n",
    "```\n",
    "\n",
    "```{image} images/vectorfield_animated_cos_RK2.gif\n",
    ":alt: Name of image\n",
    ":width: 800px\n",
    ":align: center\n",
    "```"
   ]
  },
  {
   "cell_type": "code",
   "execution_count": null,
   "id": "6ef32bfe-32b0-4d9e-8128-401ae89cb3e9",
   "metadata": {},
   "outputs": [],
   "source": [
    "% your code here"
   ]
  },
  {
   "cell_type": "markdown",
   "id": "1a6f8214",
   "metadata": {},
   "source": [
    "## Anwendung auf höherstufige Verfahren\n",
    "\n",
    "Formulieren wir die Simpsonregel\n",
    "\n",
    "$$\\int_{x_i}^{x_{i+1}} y'(y,x) dx \\approx \\frac{x_{i+1} - x_i}{6}\\left(y'(y,x_i)+4 y'\\left(y,\\frac{x_i+x_{i+1}}{2}\\right)+y'(y,x_{i+1})\\right)$$\n",
    "\n",
    "um zu\n",
    "\n",
    "$$y_{i+1} \\approx y_i + h \\cdot \\left(\\frac{1}{6} \\cdot f\\left(y_i,x_i\\right) + \\frac{4}{6} \\cdot f\\left(y_i,x+\\frac{1}{2}h\\right) + \\frac{1}{6} \\cdot f\\left(y_i,x+h\\right)\\right).$$\n",
    "\n",
    "Außerdem benennen wir die drei verwendeten Faktoren als $K_1, K_2, K_3$, also\n",
    "\n",
    "$$\\begin{align}K_1 &= f\\left(y_i,x_i\\right)\\\\ K_2 &= f\\left(y_i,x+\\frac{1}{2}h\\right)\\\\ K_3 &= f\\left(y_i,x+h\\right)\\end{align}$$\n",
    "\n",
    "Bisher haben wir angenommen, dass wir $y_i$ auch für die mittlere Stützstelle $K_2 = f\\left(y_i,x+\\frac{1}{2}h\\right)$ und die rechte Stützstelle $K_3 = f\\left(y_i,x+h\\right)$ verwenden können. Das können wir aber noch besser. $K_2$ approximieren wir einfach mit der linken Rechteckregel:\n",
    "\n",
    "$$K_2 = f\\left(y_i + \\frac{h}{2}\\cdot y'(y_i,x_i),x+\\frac{1}{2}h\\right) = f\\left(y_i + h\\cdot\\frac{1}{2}K_1, x+\\frac{1}{2}h\\right).$$\n",
    "\n",
    "Für $K_3$ verwenden wir zusätzlich auch $K_2$ als Stützstelle:\n",
    "\n",
    "$$\\begin{align} & \\\\ & \\end{align}\n",
    "K_3 = f\\left(y_i + h \\cdot \\left(-1 \\cdot K_1 + 2 \\cdot K_2 \\right), x + h\\right).$$\n",
    "\n",
    "Zusammengesetzt ergibt sich das Runge-Kutta-Verfahren der Ordnung 3:\n",
    "\n",
    "$$y_{i+1} = y_i + h \\cdot \\left(\\frac{1}{6}K_1 + \\frac{4}{6}K_2 + \\frac{1}{6}K_3\\right)$$\n",
    "\n",
    "In der Abbildung sehen Sie, wie die einzelnen Faktoren das Ergebnis für eine ergeben. Da die Auswertungsstelle für $K_3$ unschön ist, finden Sie darunter auch die Aufstellung der Faktoren für eine Kosinus-Funktion.\n",
    "\n",
    "```{image} images/vectorfield_animated_traktrix.gif\n",
    ":alt: Name of image\n",
    ":width: 800px\n",
    ":align: center\n",
    "```\n",
    "\n",
    "```{image} images/vectorfield_animated_cos.gif\n",
    ":alt: Name of image\n",
    ":width: 800px\n",
    ":align: center\n",
    "```\n",
    "\n",
    "```{admonition} Hinweis\n",
    "Verwechseln Sie nicht die mehr*stufigen* Verfahren mit Mehr*schritt*verfahren. Letztere verwenden zusätzlich zu $y_i$ auch vorherige Auswertungen $y_{i-c\\cdot h}$.\n",
    "```"
   ]
  },
  {
   "cell_type": "markdown",
   "id": "fb230b1c",
   "metadata": {},
   "source": [
    "## Aufgabe 4: Implementierung des Runge-Kutta-Verfahrens 3. Ordnung\n",
    "\n",
    "Passen Sie Ihren Code so an, dass zur Lösung anstelle der Trapezregel das explizite Eulerverfahren verwendet wird. Zur adaptiven Schrittweitensteuerung vergleichen Sie die Lösung mit dem RK-Verfahren 3. Ordnung."
   ]
  },
  {
   "cell_type": "code",
   "execution_count": null,
   "id": "e183d65d",
   "metadata": {},
   "outputs": [],
   "source": [
    "% your code here"
   ]
  },
  {
   "cell_type": "markdown",
   "id": "4c0f431f-e66e-4187-9a1e-b3e9eaf147b7",
   "metadata": {},
   "source": [
    "## Aufgabe 5: Ordnungen der Verfahren\n",
    "\n",
    "Die Ordnung $\\mathcal{O}$ gibt an, wie sich ein Fehler bei Vergrößerung/Verkleinerung der Schrittweite ändern. Ein Verfahren 2. Ordnung, $\\mathcal{O}(n^2)$ hat also bei Halbierung der Schrittweite nur noch ein Viertel des Fehlers.\n",
    "\n",
    "Ermitteln Sie nun **experimentell** die Ordnungen der von Ihnen entwickelten Verfahren anhand der Traktrix:\n",
    "\n",
    "- explizites Eulerverfahren (Linke Rechteckregel)\n",
    "- Mittelpunktregel ohne Schätzung von $y_{i+\\frac{1}{2}}$\n",
    "- Runge-Kutta-Verfahren 2. Ordnung (Mittelpunktregel mit Schätzung von $y_{i+\\frac{1}{2}}$\n",
    "- Runge-Kutta-Verfahren 3. Ordnung (Simpsonregel)"
   ]
  },
  {
   "cell_type": "code",
   "execution_count": null,
   "id": "732fb09b-54ab-41f0-b8bd-9a58066408c2",
   "metadata": {},
   "outputs": [],
   "source": [
    "% your code here"
   ]
  }
 ],
 "metadata": {
  "kernelspec": {
   "display_name": "Octave",
   "language": "octave",
   "name": "octave"
  },
  "language_info": {
   "file_extension": ".m",
   "help_links": [
    {
     "text": "GNU Octave",
     "url": "https://www.gnu.org/software/octave/support.html"
    },
    {
     "text": "Octave Kernel",
     "url": "https://github.com/Calysto/octave_kernel"
    },
    {
     "text": "MetaKernel Magics",
     "url": "https://metakernel.readthedocs.io/en/latest/source/README.html"
    }
   ],
   "mimetype": "text/x-octave",
   "name": "octave",
   "version": "6.2.0"
  }
 },
 "nbformat": 4,
 "nbformat_minor": 5
}
