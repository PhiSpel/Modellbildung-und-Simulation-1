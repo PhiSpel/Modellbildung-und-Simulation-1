{
 "cells": [
  {
   "cell_type": "markdown",
   "id": "7aa561c8",
   "metadata": {},
   "source": [
    "(content:references:highline_dynamic_PDE)=\n",
    "# Modellierung einer Highline - Die Lösung als PDE\n",
    "\n",
    "Wie in [](content:references:highline_dynamic) wollen wir nun die Highline aus [](content:references:highline_static) als partielle Differentialgleichung (Partial Differential Equation, PDE) lösen. Im Unterschied zu den gewöhnlichen Differentialgleichungen gibt es hier Ableitungen nach mehr als einer Variablen, häufig nach Raumgrößen und der Zeit (z.B. $\\frac{\\partial f(t,x)}{\\partial t}, \\frac{\\partial f(t,x)}{\\partial x}$)."
   ]
  },
  {
   "cell_type": "markdown",
   "id": "bfde6ea8",
   "metadata": {},
   "source": [
    "Auch wenn es nicht so aussah, beinhaltet bereits die die Kräftebilanzierung aus [](content:references:highline_static) eine partielle Differentialgleichung. Für einen allgemeinen Massepunkt mit den Koordinaten $\\mathbf{z}(t) = \\begin{bmatrix} \\mathbf{x}(t) \\\\ \\mathbf{y}(t) \\end{bmatrix}$ ergibt sich aus der Kräftebilanz $m \\mathbf{\\ddot{z}} = \\mathbf{F}_{\\text{Feder}} + \\mathbf{F}_{\\text{Dämpfer}} + \\mathbf{F}_{\\text{ext}}$ die PDE\n",
    "\n",
    "$$\\rho \\mathbf{\\ddot{z}} = k_{ges} \\mathbf{z}_{xx} + d_{ges} \\mathbf{\\dot{z}}_{xx} + \\mathbf{F}_{\\text{ext}}(t)$$\n",
    "\n",
    "```{admonition} Hinweis \n",
    "- $\\rho$ ist die Dichte bezogen auf die Länge, also $\\rho=\\frac{m_{ges}}{L} \\left[\\frac{kg}{m}\\right]$. Im 3D wäre es die Volumendichte.\n",
    "- Andere Schreibweisen wären\n",
    "\n",
    "$$\\rho \\cdot \\frac{\\partial^2 \\mathbf{z}}{\\partial t^2} = k_{ges} \\cdot \\frac{\\partial^2 \\mathbf{z}}{\\partial x^2} + d_{ges} \\cdot \\frac{\\partial^2 \\frac{\\partial \\mathbf{z}}{\\partial t}}{\\partial x^2} + \\mathbf{F}_{\\text{ext}}(t)$$\n",
    "\n",
    "oder\n",
    "\n",
    "$$\\rho \\mathbf{z}_{tt} = k_{ges} \\mathbf{z}_{xx} + d_{ges} {\\mathbf{z}_t}_{xx} + \\mathbf{F}_{\\text{ext}}(t).$$\n",
    "\n",
    "- Die Ableitung nach dem Ort $\\frac{\\partial}{\\partial x}$ ist nicht zu verwechseln mit der einzelnen Raumkoordinaten $x_i$.\n",
    "```"
   ]
  },
  {
   "cell_type": "markdown",
   "id": "9a4e4ee1",
   "metadata": {},
   "source": [
    "Um diese PDE in ein System von ODEs zu überführen, muss ein sogenannter Differenzenstern für die Ortsableitungen gebildet werden. Im Eindimensionalen ist ein möglicher Differenzenstern für die zweite Ableitung der zentrale Differenzenquotient.\n",
    "\n",
    "$$\\frac{\\partial^2 f}{\\partial x^2} \\approx \\frac{f(x-h)-2f(x)+f(x+h)}{h^2}.$$\n",
    "\n",
    "Nachdem wir elementweise für $i = 1,...N$ diskretisieren ist der zentrale Differenzenquotient\n",
    "\n",
    "$$\\frac{\\partial^2 \\mathbf{z}_i}{\\partial x^2} = \\frac{\\mathbf{z}_{i-1}-2\\mathbf{z}_i+\\mathbf{z}_{i+1}}{dx^2}.$$\n",
    "\n",
    "Damit wird die PDE zu\n",
    "\n",
    "$$\\rho {\\mathbf{\\ddot{z}}_i} = \\frac{k_{ges}}{dx^2} (\\mathbf{z}_{i-1}-2\\mathbf{z}_i+\\mathbf{z}_{i+1}) + \\frac{d_{ges}}{dx^2} (\\mathbf{\\dot{z}}_{i-1}-2\\mathbf{\\dot{z}}_i+\\mathbf{\\dot{z}}_{i+1}) + \\mathbf{F}_{\\text{ext}}(t).$$"
   ]
  },
  {
   "cell_type": "markdown",
   "id": "2ce412f8",
   "metadata": {},
   "source": [
    "Mit $m_{ges} = m \\cdot N$ und $N = \\frac{L}{dx}$ wird $\\rho = \\frac{m_{ges}}{L} = \\frac{m}{dx}$, mit $m$ der Masse pro Masseelement.\n",
    "\n",
    "Mit $k_{ges} = k\\cdot dx, d_{ges} = d\\cdot dx$ und $\\mathbf{F}_{\\text{ext}} = \\frac{\\mathbf{F}_{\\text{i,ext}}(t)}{dx}$ wird aus der PDE \n",
    "\n",
    "$$\\frac{m}{dx} {\\mathbf{\\ddot{z}}_i} = \\frac{k}{dx} (\\mathbf{z}_{i-1}-2\\mathbf{z}_i+\\mathbf{z}_{i+1}) + \\frac{d}{dx} (\\mathbf{\\dot{z}}_{i-1}-2\\mathbf{\\dot{z}}_i+\\mathbf{\\dot{z}}_{i+1}) + \\frac{1}{dx}\\mathbf{F}_{\\text{i,ext}}(t)$$\n",
    "\n",
    "Nach Kürzen von $dx$ entsteht die bekannte Gleichung aus [](content:references:highline_static):\n",
    "\n",
    "$$m \\ddot{\\mathbf{z}}_i = k(\\mathbf{z}_{i-1}-\\mathbf{z}_{i}) + d(\\dot{\\mathbf{z}}_{i-1} - \\dot{\\mathbf{z}}_{i}) - k(\\mathbf{z}_{i}-\\mathbf{z}_{i+1}) - d(\\dot{\\mathbf{z}}_{i} -\\dot{\\mathbf{z}}_{i+1}) + \\mathbf{F}_{i,\\text{ext}}$$"
   ]
  },
  {
   "cell_type": "markdown",
   "id": "f8f6b8ba",
   "metadata": {},
   "source": [
    "Für den ersten und den letzten Massenpunkt ($i=1$ und $i=N$) sind zusätzlich die Geschwindigkeit und Verschiebung der Massenpunkte an den Rändern für die finiten Differenzen notwendig. Es entsteht also ein System mit $N+4$ Unbekannten (beziehungsweise $2N+8$ Unbekannte, falls wir die Vektoren in ihre Raumrichtungen zerlegen) und nur $N$ Gleichungen.\n",
    "\n",
    "Daher müssen Randbedingungen festgelegt werden. Diese ist für die Highline ganz logisch und einfach festzulegen: Die  Geschwindigkeit und Verschiebung der äußeren Elemente sind natürlich $\\mathbf{z}_0=\\mathbf{z}_{N+1}=0, \\mathbf{\\dot{z}}_0=\\mathbf{\\dot{z}}_{N+1}=0$.\n",
    "\n",
    "```{admonition} Hinweis \n",
    "Diese Randbedingungen werden Dirichlet-Randbedingungen genannt. Andere bekannte RBs sind die Neumann-RB, die die Ortsableitungen an den Rändern festlegen.\n",
    "```"
   ]
  },
  {
   "cell_type": "markdown",
   "id": "fe73608a",
   "metadata": {},
   "source": [
    "Damit werden die Gleichungen für $i=1$ und $i=N$ etwas kürzer und wir erhalten das Gleichungssystem für die verbleibenden Unbekannten $\\mathbf{z}_1,...,\\mathbf{z}_N$\n",
    "\n",
    "$$\n",
    "\\begin{align}\n",
    " m \\ddot{\\mathbf{z}}_1 &= -k \\mathbf{z}_1 - d \\dot{\\mathbf{z}}_1 -k(\\mathbf{z}_1-\\mathbf{z}_2) - d(\\dot{\\mathbf{z}}_1-\\dot{\\mathbf{z}}_2) + \\mathbf{F}_{1,\\text{ext}} \\notag \\\\\n",
    " m \\ddot{\\mathbf{z}}_i &= k(\\mathbf{z}_{i-1}-\\mathbf{z}_{i}) + d(\\dot{\\mathbf{z}}_{i-1} - \\dot{\\mathbf{z}}_{i}) - k(\\mathbf{z}_{i}-\\mathbf{z}_{i+1}) - d(\\dot{\\mathbf{z}}_{i} -\\dot{\\mathbf{z}}_{i+1}) + \\mathbf{F}_{i,\\text{ext}}, \\hskip4em \\text{für } i=2,...,N-1 \\notag \\\\\n",
    " m \\ddot{\\mathbf{z}}_N &= -k \\mathbf{z}_N - d \\dot{\\mathbf{z}}_N + k(\\mathbf{z}_{N-1}-\\mathbf{z}_N) + d(\\dot{\\mathbf{z}}_{N-1}-\\dot{\\mathbf{z}}_N) + \\mathbf{F}_{N,\\text{ext}} \\notag\\end{align}\n",
    "$$\n",
    "\n",
    ", für das wir die Lösung bereits gelernt haben.\n",
    "\n",
    "```{admonition} Hinweis \n",
    "Diese Lösungsstrategie nennt sich übrigens **Linienmethode**:\n",
    "\n",
    "Die Ortsableitungen in der PDE werden durch finite Differenzenquotienten ersetzt. Zusammen mit den Randbedingungen ergibt sich ein System gewöhnlicher Differentialgleichungen.\n",
    "```"
   ]
  }
 ],
 "metadata": {
  "kernelspec": {
   "display_name": "Octave",
   "language": "octave",
   "name": "octave"
  },
  "language_info": {
   "file_extension": ".m",
   "help_links": [
    {
     "text": "GNU Octave",
     "url": "https://www.gnu.org/software/octave/support.html"
    },
    {
     "text": "Octave Kernel",
     "url": "https://github.com/Calysto/octave_kernel"
    },
    {
     "text": "MetaKernel Magics",
     "url": "https://metakernel.readthedocs.io/en/latest/source/README.html"
    }
   ],
   "mimetype": "text/x-octave",
   "name": "octave",
   "version": "6.2.0"
  }
 },
 "nbformat": 4,
 "nbformat_minor": 5
}
