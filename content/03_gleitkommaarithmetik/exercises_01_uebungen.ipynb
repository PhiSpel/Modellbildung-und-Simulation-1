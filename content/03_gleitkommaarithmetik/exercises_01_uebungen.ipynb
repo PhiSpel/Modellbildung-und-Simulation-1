{
 "cells": [
  {
   "cell_type": "markdown",
   "metadata": {},
   "source": [
    "# Übungen"
   ]
  },
  {
   "cell_type": "markdown",
   "metadata": {},
   "source": [
    "1. Welches Ergebnis erhalten Sie für die Rechnung \n",
    "    \n",
    "    $2590 + 4 + 4 + 4$\n",
    "\n",
    "    in Gleitpunktarithmetik zur Basis $\\beta=10$ mit Mantissenlänge $t=3$, wenn sie die Summanden\n",
    "    \n",
    "    (a) von links nach rechts und \\\n",
    "    (b) von rechts nach links\n",
    "    \n",
    "    abarbeiten? Welche allgemeine Konsequenz lässt sich daraus ableiten?"
   ]
  },
  {
   "cell_type": "code",
   "execution_count": null,
   "metadata": {},
   "outputs": [],
   "source": []
  }
 ],
 "metadata": {
  "kernelspec": {
   "display_name": "Octave",
   "language": "octave",
   "name": "octave"
  },
  "language_info": {
   "file_extension": ".m",
   "help_links": [
    {
     "text": "GNU Octave",
     "url": "https://www.gnu.org/software/octave/support.html"
    },
    {
     "text": "Octave Kernel",
     "url": "https://github.com/Calysto/octave_kernel"
    },
    {
     "text": "MetaKernel Magics",
     "url": "https://metakernel.readthedocs.io/en/latest/source/README.html"
    }
   ],
   "mimetype": "text/x-octave",
   "name": "octave",
   "version": "4.2.2"
  }
 },
 "nbformat": 4,
 "nbformat_minor": 4
}
