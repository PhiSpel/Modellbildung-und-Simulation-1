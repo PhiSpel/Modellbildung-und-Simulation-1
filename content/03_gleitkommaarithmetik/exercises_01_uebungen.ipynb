{
 "cells": [
  {
   "cell_type": "markdown",
   "metadata": {},
   "source": [
    "# Übungen"
   ]
  },
  {
   "cell_type": "markdown",
   "metadata": {},
   "source": [
    "1. Welches Ergebnis erhalten Sie für die Rechnung \n",
    "    \n",
    "    $2590 + 4 + 4 + 4$\n",
    "\n",
    "    in Gleitpunktarithmetik zur Basis $\\beta=10$ mit Mantissenlänge $t=3$, wenn sie die Summanden\n",
    "    \n",
    "    (a) von links nach rechts und \\\n",
    "    (b) von rechts nach links\n",
    "    \n",
    "    abarbeiten? Welche allgemeine Konsequenz lässt sich daraus ableiten?"
   ]
  },
  {
   "cell_type": "markdown",
   "metadata": {},
   "source": [
    "2. Berechnen Sie mit dem Taschenrechner\n",
    " \n",
    " $f(x)=\\ln(\\sqrt{x^2+1}-x)$\n",
    " \n",
    " für $x=10^4$ und $x=10^6$. Welches Ergebnis ist richtig?\n",
    " Wie k\"onnen Sie das Ergebnis umformen, um ein richtiges Ergebnis zu erhalten?\n",
    " \n",
    " (Hinweis: Vermeiden Sie die Subtraktion von etwa gleich großen Zahlen)"
   ]
  },
  {
   "cell_type": "markdown",
   "metadata": {},
   "source": [
    "3. Die Beträge von $x$ und $y$ in der Formel\n",
    "\n",
    " $r=\\sqrt{x^2 + y^2}$\n",
    " \n",
    " seien so groß, dass die Auswertung von $x^2+y^2$ zu einem Overflow führt, obwohl $r$ im zulässigen Bereich der Maschinenzahlen liegt.\n",
    " Formen Sie die Formel so um, dass ein Overflow vermieden wird.\n",
    " "
   ]
  }
 ],
 "metadata": {
  "kernelspec": {
   "display_name": "Octave",
   "language": "octave",
   "name": "octave"
  },
  "language_info": {
   "file_extension": ".m",
   "help_links": [
    {
     "text": "GNU Octave",
     "url": "https://www.gnu.org/software/octave/support.html"
    },
    {
     "text": "Octave Kernel",
     "url": "https://github.com/Calysto/octave_kernel"
    },
    {
     "text": "MetaKernel Magics",
     "url": "https://metakernel.readthedocs.io/en/latest/source/README.html"
    }
   ],
   "mimetype": "text/x-octave",
   "name": "octave",
   "version": "4.2.2"
  }
 },
 "nbformat": 4,
 "nbformat_minor": 4
}
