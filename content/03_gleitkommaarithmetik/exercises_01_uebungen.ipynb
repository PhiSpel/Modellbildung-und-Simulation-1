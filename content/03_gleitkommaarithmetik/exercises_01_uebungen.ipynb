{
 "cells": [
  {
   "cell_type": "markdown",
   "metadata": {},
   "source": [
    "# Übungen"
   ]
  },
  {
   "cell_type": "markdown",
   "metadata": {},
   "source": [
    "## Aufgabe 1: Gleitpunktarithmetik\n",
    "\n",
    "Welches Ergebnis erhalten Sie für die Rechnung \n",
    "    \n",
    "$2590 + 4 + 4 + 4$\n",
    "\n",
    "in Gleitpunktarithmetik zur Basis $\\beta=10$ mit Mantissenlänge $t=3$, wenn sie die Summanden\n",
    "    \n",
    "(a) von links nach rechts und \\\n",
    "(b) von rechts nach links\n",
    "    \n",
    "abarbeiten? Welche allgemeine Konsequenz lässt sich daraus ableiten?"
   ]
  },
  {
   "cell_type": "markdown",
   "metadata": {},
   "source": [
    "## Aufgabe 2: Auslöschung \n",
    "Berechnen Sie mit dem Taschenrechner\n",
    " \n",
    " $f(x)=\\ln(\\sqrt{x^2+1}-x)$\n",
    " \n",
    " für $x=10^4$ und $x=10^6$. Welches Ergebnis ist richtig?\n",
    " Wie können Sie das Ergebnis umformen, um ein richtiges Ergebnis zu erhalten?\n",
    " \n",
    " (Hinweis: Vermeiden Sie die Subtraktion von etwa gleich großen Zahlen)"
   ]
  },
  {
   "cell_type": "markdown",
   "metadata": {},
   "source": [
    "## Aufgabe 3: Overflow\n",
    "\n",
    "Die Beträge von $x$ und $y$ in der Formel\n",
    "\n",
    " $r=\\sqrt{x^2 + y^2}$\n",
    " \n",
    " seien so groß, dass die Auswertung von $x^2+y^2$ zu einem Overflow führt, obwohl $r$ im zulässigen Bereich der Maschinenzahlen liegt.\n",
    " Formen Sie die Formel so um, dass ein Overflow vermieden wird.\n",
    " "
   ]
  },
  {
   "cell_type": "markdown",
   "metadata": {},
   "source": [
    "## Aufgabe 4: Rundungsfehler\n",
    "\n",
    "MATLAB bzw. Octave steht für die Auflösung reeller Zahlen die Menge der sogenannten Maschinenzahlen zur Verfügung. Diese haben eine endliche Genauigkeit, welche Sie sich mit dem Befehl"
   ]
  },
  {
   "cell_type": "code",
   "execution_count": 1,
   "metadata": {},
   "outputs": [
    {
     "name": "stdout",
     "output_type": "stream",
     "text": [
      "ans =    2.2204e-16\n"
     ]
    }
   ],
   "source": [
    "eps"
   ]
  },
  {
   "cell_type": "markdown",
   "metadata": {},
   "source": [
    "ausgeben lassen können. Bei der Eingabe einer reellen Zahl wird intern eine Maschinenzahl verwendet, die nicht zwangsweise mit dem tatsächlich eingegebenen Wert übereinstimmt. Es entsteht also ein (kleiner) Rundungsfehler im Rahmen der Maschinengenauigkeit.\n",
    "\n",
    "François Viète hat 1593 als erster eine analytische Gleichung für die Kreiszahl $\\pi$ veröffentlicht. Zu diesem Zeitpunkt gab es zwar bereits einige Ansätze $\\pi$ zu approximieren, doch seine Darstellung als unendliches Produkt\n",
    "\n",
    "$$\n",
    "\\begin{align}\n",
    "a_1 &= \\frac{1}{2}\\sqrt{2}, \\\\\n",
    "a_n &= \\frac{1}{2}\\sqrt{2+2a_{n-1}}, \\text{ für } n \\geq 2 \n",
    "\\end{align}\n",
    "$$\n",
    "\n",
    "$$ \\Rightarrow \\frac{2}{\\pi} = \\lim_{n \\to \\infty} a_i = a_1 \\cdot a_2 \\cdot a_3 \\cdot ... = \\left( \\frac{1}{2}\\sqrt{2} \\right) \\cdot \\left( \\frac{1}{2}\\sqrt{2+\\sqrt{2}} \\right) \\cdot \\left( \\frac{1}{2}\\sqrt{2+\\sqrt{2 + \\sqrt{2}}} \\right) \\cdot ... $$\n",
    "\n",
    "war neu. Die Produktformel lässt sich äquivalent als eine Folge schreiben:\n",
    "\n",
    "$$ \n",
    "\\begin{align}\n",
    "z_0 &= 2, \\notag \\\\\n",
    "z_n &= 2^{n+\\frac{1}{2}}\\sqrt{1-\\sqrt{1-4^{-n}z_{n-1}^2}}, \\text{ für } n = 1, 2, 3, ... \n",
    "\\end{align}\n",
    "$$\n",
    "\n",
    "Die Folge konvergiert für $n \\to \\infty$ gegen $\\pi$:\n",
    "\n",
    "$$ \\lim_{n \\to \\infty} z_n = \\pi. $$"
   ]
  },
  {
   "cell_type": "markdown",
   "metadata": {},
   "source": [
    "Herr Viète konnte damals noch nichts von Computern und den inherent eingebauten Rundungsfehlern wissen. Leider ist gerade seine Folge anfällig für Fehlerfortplanzung, d.h. kleine Rundungsfehler in jedem Iterationsschritt verstärken sich. Schreiben Sie ein kleines Matlabskript, das diese Fehlerfortplanzung demonstriert. Berechnen Sie dazu für $n=1,2,3,...,20$ jeweils die Folgeglieder $z_n$. Berechnen Sie für jedes $z_n$ den relativen Fehler\n",
    "\n",
    "$$ r_n = \\frac{|\\pi - z_n|}{\\pi}. $$\n",
    "\n",
    "Erstellen Sie einen Plot, in dem der Logarithmus des relativen Fehlers in Abhängigkeit der Iterationszahl $n$ dargestellt ist. Wie verhält sich der Fehler für kleine bzw. große $n$?"
   ]
  },
  {
   "cell_type": "code",
   "execution_count": null,
   "metadata": {},
   "outputs": [],
   "source": [
    "% demonstrate numerical error propagation using Viète's formula for approximating pi"
   ]
  }
 ],
 "metadata": {
  "kernelspec": {
   "display_name": "Octave",
   "language": "octave",
   "name": "octave"
  },
  "language_info": {
   "file_extension": ".m",
   "help_links": [
    {
     "text": "GNU Octave",
     "url": "https://www.gnu.org/software/octave/support.html"
    },
    {
     "text": "Octave Kernel",
     "url": "https://github.com/Calysto/octave_kernel"
    },
    {
     "text": "MetaKernel Magics",
     "url": "https://metakernel.readthedocs.io/en/latest/source/README.html"
    }
   ],
   "mimetype": "text/x-octave",
   "name": "octave",
   "version": "4.2.2"
  }
 },
 "nbformat": 4,
 "nbformat_minor": 4
}
