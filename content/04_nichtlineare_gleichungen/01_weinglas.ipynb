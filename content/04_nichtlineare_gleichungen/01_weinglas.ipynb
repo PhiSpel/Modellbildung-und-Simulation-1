{
 "cells": [
  {
   "cell_type": "markdown",
   "metadata": {},
   "source": [
    "# Weinglas\n",
    "\n",
    "Gegeben sei ein Weinglas mit dem Querschnitt $y= tan(x^2)$. An welcher Stelle auf der y-Achse muss der Eichstrich für einen Inhalt von $V=0.5$ gezogen werden?\n",
    "\n",
    "![](https://upload.wikimedia.org/wikipedia/commons/thumb/a/a5/A_glass_of_red_wine.jpg/640px-A_glass_of_red_wine.jpg)\n",
    "<div style=\"text-align: right\"><a href=\"https://commons.m.wikimedia.org/wiki/File:A_glass_of_red_wine.jpg\" > [CC BY-SA 2.0], via Wikimedia Commons </a></div>\n",
    "\n",
    "Hinweise:\n",
    "1. Um das Volumen auszurechnen, können Sie das Glas auch als Rotationskörper um die x-Achse ansehen. \n",
    "    \n",
    "    $V=\\pi \\cdot \\int _{a}^{b}(f(x))^{2}\\mathrm {d} x$\n",
    "2. Die Stammfunktion von $\\arctan(x)$ ist:\n",
    "\n",
    "    $x\\arctan \\left( x \\right) -1/2\\,\\ln  \\left( 1+{x}^{2} \\right)$\n",
    "\n",
    "Verwenden Sie zur Lösung die MATLAB-Funktion `fzero`.\n",
    "\n",
    "Aus der Hilfe zu fzero:\n",
    "    \n",
    "```\n",
    "FZERO  Scalar nonlinear zero finding. \n",
    "X = FZERO(FUN,X0) tries to find a zero of the function FUN near X0, \n",
    "if X0 is a scalar.  \n",
    "Examples\n",
    "   FUN can be specified using @:\n",
    "   X = fzero(@sin,3)\n",
    "   returns pi.\n",
    "```"
   ]
  },
  {
   "cell_type": "code",
   "execution_count": null,
   "metadata": {},
   "outputs": [],
   "source": [
    "% SPACE FOR SOLUTION\n"
   ]
  },
  {
   "cell_type": "markdown",
   "metadata": {},
   "source": [
    "Mithife des Newton-Verfahrens lassen sich, genauso wie mit der MATLAB internen Funktion `fzero` Nullstellen einer Funktion mithilfe von Startwerten berechnen.\n",
    "\n",
    "Programmieren Sie das Newton-Verfahren, so dass es wie `fzero` angewendet werden kann."
   ]
  },
  {
   "cell_type": "code",
   "execution_count": null,
   "metadata": {},
   "outputs": [],
   "source": [
    "%%file simple_newton.m\n",
    "function z = simple_newton(func,z0,tol,maxit)\n",
    "% z = newton(F,z0,tol,maxit) solves the nonlinear system 0=func(z)\n",
    "%\n",
    "% inputs:\n",
    "%   func    a handle to the nonlinear function\n",
    "%   z0      initial guess for the Newton method\n",
    "%   atol    absolute tolerance\n",
    "%   maxit   maximum number of Newton iterations\n",
    "\n",
    "% YOUR CODE HERE"
   ]
  },
  {
   "cell_type": "markdown",
   "metadata": {},
   "source": [
    "Das erstellte Programm lässt sich folgendermaßen testen:"
   ]
  },
  {
   "cell_type": "code",
   "execution_count": null,
   "metadata": {},
   "outputs": [],
   "source": [
    "moxunit_runtests test_simple_newton.m"
   ]
  }
 ],
 "metadata": {
  "kernelspec": {
   "display_name": "Octave",
   "language": "octave",
   "name": "octave"
  },
  "language_info": {
   "file_extension": ".m",
   "help_links": [
    {
     "text": "GNU Octave",
     "url": "https://www.gnu.org/software/octave/support.html"
    },
    {
     "text": "Octave Kernel",
     "url": "https://github.com/Calysto/octave_kernel"
    },
    {
     "text": "MetaKernel Magics",
     "url": "https://metakernel.readthedocs.io/en/latest/source/README.html"
    }
   ],
   "mimetype": "text/x-octave",
   "name": "octave",
   "version": "4.2.2"
  }
 },
 "nbformat": 4,
 "nbformat_minor": 4
}
