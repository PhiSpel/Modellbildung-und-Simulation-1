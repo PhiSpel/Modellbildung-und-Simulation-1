{
 "cells": [
  {
   "cell_type": "markdown",
   "metadata": {},
   "source": [
    "## Der Zerfall des Bierschaums\n",
    "\n",
    "![](../images/weizenbier.jpg)\n",
    "\n",
    "Wenn wir ein Weizenbier länger stehen lassen, baut sich die schöne Schaumkrone ab. Aber wie schnell eigentlich?"
   ]
  },
  {
   "cell_type": "markdown",
   "metadata": {},
   "source": [
    "### Experimenteller Aufbau\n",
    "\n",
    "To Do (Bilder Experiment, Messwerte, idealerweise in der VL durchgeführt, Scatterplot V über t der Messergebnisse). \n",
    "\n",
    "| $t$ [s] | Oberer Messwert [$l$] | Unterer Messwert [$l$] | $V$ [$l$] |\n",
    "| -- | -- | -- | -- |\n",
    "| 0 | 0.5 | 0.15 | 0.35 |\n",
    "| 12 | 0.45 | 0.2 | 0.25 |\n",
    "| 20 | 0.425 | 0.225 | 0.2 |\n",
    "| 30 | 0.35 | 0.25 | 0.1 |\n",
    "\n",
    "Die Genauigkeit der Messung sei mal dahin gestellt, es reicht zumindest aus um einen Trend zu erkennen: Der Schaum baut sich anfänglich schneller ab als später, wenn nicht mehr viel Schaum da ist."
   ]
  },
  {
   "cell_type": "code",
   "execution_count": 28,
   "metadata": {
    "tags": [
     "hidecode"
    ]
   },
   "outputs": [
    {
     "data": {
      "image/png": "[encoded data removed]",
      "text/plain": [
       "<IPython.core.display.Image object>"
      ]
     },
     "metadata": {},
     "output_type": "display_data"
    }
   ],
   "source": [
    "% measurements taken from Leike (https://www.tf.uni-kiel.de/matwis/amat/iss/kap_2/articles/beer_article.pdf) for now \n",
    "t = [0 15 30 45 60 75 90 105 120 150 180 210 240 300 360];\n",
    "V = [17 16.1 14.9 14 13.2 12.5 11.9 11.2 10.7 9.7 8.9 8.3 7.5 6.3 5.2]*0.001*pi*7.2^2/4;\n",
    "plot(t,V,'*')\n",
    "title('Measurement of beer froth volume over time')\n",
    "xlabel('time [s]')\n",
    "ylabel('volume [liters]')"
   ]
  },
  {
   "cell_type": "markdown",
   "metadata": {},
   "source": [
    "### Modellbeschreibung\n",
    "\n",
    "Der Schaum besteht aus vielen kleinen Bläschen, die nach und nach platzen. Je mehr Schaum da ist, d.h. je mehr Bläschen da sind, desto mehr Bläschen platzen auch. Ist der Schaum schon fast komplett abgebaut, bleiben insgesamt weniger Bläschen die platzen können, und die Zerfallsrate des Bierschaumes sinkt entsprechend. Mathematisch ausgedrückt ist die zeitliche Änderung $\\dot{V}$ des Schaumvolumens proportional zur Menge des Schaumvolumens selbst, d.h. es gilt\n",
    "\n",
    "$$ \\dot{V} = a \\cdot V, $$\n",
    "\n",
    "mit einer uns unbekannten Proportionalitätskonstante $a \\in \\mathbb{R}$. Diese Differentialgleichung kommt sehr häufig vor, denn sie beschreibt exponentielles Wachstum, bzw. - je nach Vorzeichen von $a$ - exponentiellen Zerfall. Wir machen also, wie gewohnt, einen Ansatz \n",
    "\n",
    "$$ V(t) = b \\cdot e^{c \\cdot t}.$$\n",
    "\n",
    "Setzen wir $V(t)$ in die Differentialgleichung $ \\dot{V} = a \\cdot V $ ein, \n",
    "\n",
    "$$ c b \\cdot e^{c \\cdot t} = a \\cdot b e^{c \\cdot t}, $$\n",
    "\n",
    "stellen wir fest, dass unser Ansatz eine valide Lösung der Differentialgleichung ist, unter der Voraussetzung, dass $c = a$ gilt.\n",
    "\n",
    "$$ V(t) = b \\cdot e^{a \\cdot t}. $$\n",
    "\n",
    "Ok, nun haben wir einerseits Messwerte und andererseits ein mathematisches Modell mit unbekannten Parametern $a$ und $b$. $b$ muss offensichtlich der y-Achsenabschnitt sein, da $V(0)=b \\cdot e^0 = b$, den kennen wir aus den Messwerten. Aber was, wenn ausgerechnet die erste Messung mit Messfehlern behaftet ist? Abgesehen, davon haben wir auch dann noch Schwierigkeiten händisch die Zerfallsrate $a$ zu raten. Für $a=-0.005 \\frac{1}{\\text{s}}$ und $b=0.7$ $l$ ergibt sich folgender Verlauf."
   ]
  },
  {
   "cell_type": "code",
   "execution_count": 30,
   "metadata": {
    "tags": [
     "hidecode"
    ]
   },
   "outputs": [
    {
     "data": {
      "image/png": "[encoded data removed]",
      "text/plain": [
       "<IPython.core.display.Image object>"
      ]
     },
     "metadata": {},
     "output_type": "display_data"
    }
   ],
   "source": [
    "% measurements taken from Leike (https://www.tf.uni-kiel.de/matwis/amat/iss/kap_2/articles/beer_article.pdf) for now \n",
    "\n",
    "t = [0 15 30 45 60 75 90 105 120 150 180 210 240 300 360]; % time in seconds\n",
    "V = [17 16.1 14.9 14 13.2 12.5 11.9 11.2 10.7 9.7 8.9 8.3 7.5 6.3 5.2]*0.001*pi*7.2^2/4; % Volume [liters] = measured height in cm times 0.001*pi*(diameter of cylincrical glass in cm)^2\n",
    "\n",
    "hold on\n",
    "\n",
    "% plot measurement\n",
    "h1 = plot(t,V,'*','DisplayName', 'measurement');\n",
    "title('Measurement of beer froth volume over time')\n",
    "xlabel('time [s]')\n",
    "ylabel('volume [liters]')\n",
    "\n",
    "% plot model\n",
    "a = -0.005;\n",
    "b = 0.7;\n",
    "tfine = linspace(t(1),t(end),100);\n",
    "yfine = b*exp(a*tfine);\n",
    "plot(tfine, yfine,'DisplayName','model with guessed parameters a and b')\n",
    "\n",
    "legend toggle"
   ]
  },
  {
   "cell_type": "markdown",
   "metadata": {},
   "source": [
    " Wir können aber immer noch keine quantifizierbare Aussage darüber treffen, wie schnell das Bier sich abbaut. Wie können wir jetzt $a$ und $b$ so bestimmen, dass das Modell zu unseren Messwerten passt? Wenn wir das wüssten, könnten wir auf Grundlage der Modellgleichung Vorhersagen treffen."
   ]
  },
  {
   "cell_type": "markdown",
   "metadata": {},
   "source": [
    "## Die Methode der kleinsten Quadrate\n",
    "\n",
    "Die Methode der kleinsten Quadrate ist eine weit verbreitete Methode zur Modellkalibrierung. Mit ihr können Sie noch unbekannte Parameter $p_1,...,p_n$ eines Modells $y = f(p_1,...,p_n,t)$ so anpassen, dass es vorher ermittelte experimentelle Daten $(t_1,y_1),...,(t_m, y_m)$ möglichst gut wiederspiegelt.\n",
    "\n",
    "### Die Grundidee\n",
    "\n",
    "Sie wollen die Parameter also so bestimmen, dass für alle Messpunkte $t_i$ die Differenz $y_i - f(p_1,...,p_n,t_i)$ betragsmäßig klein wird. Es handelt sich also um eine Minimierungsaufgabe!\n",
    "\n",
    "Für die Formulierung stehen Ihnen verschiedene Ansätze zur Verfügung. Sie könnten einfach den Mittelwert der betragsmäßigen Differenzen über alle Messpunkte minimieren:\n",
    "\n",
    "$$ \\min_{p_1,...,p_n} G(p_1,...,p_n) = \\frac{1}{m} \\sum_{i=1}^m |y_i - f(p_1,...,p_n,t_i)|  $$\n",
    "\n",
    "Wenn die Funktion $G$ minimal werden soll, muss die Ableitung von $G$ nach allen Parametern verschwinden, \n",
    "\n",
    "$$ \\frac{\\partial G}{\\partial p_1} = ... = \\frac{\\partial G}{\\partial p_n} = 0. $$\n",
    "\n",
    "Spätestens jetzt haben wir ein Problem: Wir müssen die Betragsfunktion, die in $G$ verwendet wird ableiten. Als Alternative nehmen wir nicht den Betrag der Differenzen, sondern einfach das Quadrat. Auf diese Weise werden positive sowie negative Differenzen gleich berücksichtigt. Es hat auch noch den angenehmen Nebeneffekt, dass große Abweichungen zwischen Modell und Messung größer bestraft werden als kleine Abweichungen:\n",
    "\n",
    "$$ \\min_{p_1,...,p_n} G(p_1,...,p_n) = \\frac{1}{m} \\sum_{i=1}^m (y_i - f(p_1,...,p_n,t_i))^2  $$\n",
    "\n",
    "Das Minimierungsproblem lösen wir, indem wir die Bedingung aufstellen, dass alle Ableitungen von $G$ nach den Parametern null sein sollen und nach den Parametern auflösen. Die partiellen Ableitungen bestimmen wir mit der Kettenregel:\n",
    "\n",
    "$$\n",
    "\\boldsymbol{0} = \n",
    "\\begin{bmatrix}\n",
    "0 \\\\ \\vdots \\\\ 0\n",
    "\\end{bmatrix} = F(\\mathbf{p}) =\n",
    "\\begin{bmatrix} \n",
    "\\frac{\\partial G}{\\partial p_1}(p_1,...,p_n)  \\\\\n",
    "\\vdots \\\\\n",
    "\\frac{\\partial G}{\\partial p_n}(p_1,...,p_n)\n",
    "\\end{bmatrix}\n",
    "=\n",
    "\\begin{bmatrix}\n",
    "\\frac{2}{m}\\sum_{i=1}^m (y_i - f(p_1,...,p_n,t_i))\\cdot \\frac{\\partial f}{\\partial p_1}(p_1,...,p_n) \\\\\n",
    "\\vdots \\\\\n",
    "\\frac{2}{m}\\sum_{i=1}^m (y_i - f(p_1,...,p_n,t_i))\\cdot \\frac{\\partial f}{\\partial p_n}(p_1,...,p_n) \\\\\n",
    "\\end{bmatrix}\n",
    "$$\n",
    "\n",
    "### Anwendung auf den Bierschaum\n",
    "\n",
    "Im Falle des Bierschaumes gilt $p_1 = a, p_2 = b$ und\n",
    "\n",
    "$$ f(a,b,t) = b\\cdot e^{a \\cdot t}. $$\n",
    "\n",
    "Das nichtlineare Gleichungssystem, das gelöst werden muss lautet also\n",
    "\n",
    "$$ \n",
    "\\boldsymbol{0} = F(a,b) = \n",
    "\\begin{bmatrix}\n",
    "\\frac{\\partial G}{\\partial a} (a,b) \\\\\n",
    "\\frac{\\partial G}{\\partial b} (a,b) \n",
    "\\end{bmatrix} = \n",
    "\\begin{bmatrix}\n",
    "\\frac{2}{m}\\sum_{i=1}^m (V_i - b \\cdot e^{a \\cdot t_i})\\cdot  t_i \\cdot b \\cdot e^{a \\cdot t_i} \\\\\n",
    "\\frac{2}{m}\\sum_{i=1}^m (V_i - b \\cdot e^{a \\cdot t_i}) \\cdot e^{a \\cdot t_i}\n",
    "\\end{bmatrix}\n",
    "$$\n",
    "\n",
    "### Aufgabe 1: Das nichtlineare Gleichungssystem\n",
    "\n",
    "Schreiben Sie eine Matlab-Funktion, die die nichtlineare Gleichung $F$ für beliebige Parameter $\\mathbf{p}=[a,b]^T \\in \\mathbb{R}^2$ und Messwerte $t \\in \\mathbb{R}^m$, $V \\in \\mathbb{R}^m$ auswertet:"
   ]
  },
  {
   "cell_type": "code",
   "execution_count": 1,
   "metadata": {},
   "outputs": [
    {
     "name": "stdout",
     "output_type": "stream",
     "text": [
      "Created file '/mnt/c/Users/jan/Documents/Vorlesungen/Modellbildung-und-Simulation/content/04_nichtlineare_gleichungen/F.m'.\n"
     ]
    }
   ],
   "source": [
    "%%file F.m\n",
    "function e = F(p,t,V)\n",
    "\n",
    "% PUT YOUR CODE HERE"
   ]
  },
  {
   "cell_type": "markdown",
   "metadata": {},
   "source": [
    "## Das Newton-Verfahren\n",
    "\n",
    "Aus der Vorlesung kennen Sie das Newton-Verfahren zum Lösen nichtlinearer Gleichungssysteme. Angefangen mit einem Startwert $\\mathbf{p}^{(0)}$ muss in jeder Iteration muss ein lineares Gleichungssystem gelöst werden:\n",
    "\n",
    "$$\n",
    "\\begin{align}\n",
    " J_F(\\mathbf{p}^{(i)}) \\Delta \\mathbf{p}^{(i+1)} &= - F(\\mathbf{p}^{(i)}), \\notag \\\\\n",
    " \\mathbf{p}^{(i+1)} &= \\mathbf{p}^{(i)} + \\Delta \\mathbf{p}^{(i+1)}, \\notag\n",
    "\\end{align}\n",
    "$$\n",
    "\n",
    "$i=1,2,3,...$\n",
    "\n",
    "Um die Jacobi-Matrix $J_F(\\mathbf{p}^{(i)})$ in jeder Iteration zu bestimmen, müssen wir die partiellen Ableitungen von $F$ anch $p_1 = a$ und $p_2=b$ ausrechnen. Theoretisch kann man das in unserem Fall noch analytisch machen. Einfacher ist es aber, die Jacobi-Matrix mittels finiter Differenzen zu approximieren. Dadurch verlieren wir zwar an Genauigkeit. Aber wir können unser Verfahren so auch auf komplexere Modellgleichungen anwenden, die sich nicht mehr so einfach ableiten lassen.\n",
    "\n",
    "### Aufgabe 2: Approximation der Jacobi-Matrix\n",
    "\n",
    "Schreiben Sie eine Matlab-Funktion, die die Jacobimatrix $J_F(\\mathbf{x})$ für eine beliebige Funktion $F:\\mathbb{R}^n \\to \\mathbb{R}^m$ mit finiten Differenzen approximiert:"
   ]
  },
  {
   "cell_type": "code",
   "execution_count": 2,
   "metadata": {},
   "outputs": [
    {
     "name": "stdout",
     "output_type": "stream",
     "text": [
      "Created file '/mnt/c/Users/jan/Documents/Vorlesungen/Modellbildung-und-Simulation/content/04_nichtlineare_gleichungen/jacobian.m'.\n"
     ]
    }
   ],
   "source": [
    "%%file jacobian.m\n",
    "function J = jacobian(F,x)\n",
    "% J = jacobian(F,x) returns the (m x n) Jacobian matrix of F evaluated at x\n",
    "%\n",
    "%   |  dF1/dx1 ... dF1/dxn |\n",
    "%   |     .           .    |\n",
    "%   |  dFm/dx1 ... dFm/dxn |\n",
    "%\n",
    "% It uses finite difference approximations. x must be a (n,1)-column vector and F must be a function\n",
    "% taking an (n,1)-vector as an input. m is deduced from F.\n",
    "\n",
    "% PUT YOUR CODE HERE"
   ]
  },
  {
   "cell_type": "markdown",
   "metadata": {},
   "source": [
    "Mit dem folgenden unit test können Sie ihre Funktion testen:"
   ]
  },
  {
   "cell_type": "code",
   "execution_count": null,
   "metadata": {},
   "outputs": [],
   "source": [
    "moxunit_runtests test_jacobian"
   ]
  },
  {
   "cell_type": "markdown",
   "metadata": {},
   "source": [
    "Es gilt `F(p,t,V)` $= J_G(\\mathbf{p})$ mit\n",
    "\n",
    "$$\n",
    "G(\\mathbf{p}) = \\frac{1}{m} \\sum_{i=1}^m (y_i - f(\\mathbf{p},t_i))^2.\n",
    "$$\n",
    "\n",
    "Einerseits haben Sie in Aufgabe 1 eine Funktion geschrieben, die `F` berechnet, andererseits können Sie mit ihrer Funktion aus Aufgabe 2 die Jacobi-Matrix $J_G(\\mathbf{p})\\in \\mathbb{R}^{1 \\times n}$ mit finiten Differenzen approximieren. Vergleichen Sie die beiden Ergebnisse für verschiedene $\\mathbf{p}$. In welcher Größenordung befindet sich in etwa der relative Fehler der Funktion `jacobian` für ihr Problem? "
   ]
  },
  {
   "cell_type": "markdown",
   "metadata": {},
   "source": [
    "### Aufgabe 3: Parameterbestimmung\n",
    "\n",
    "Schreiben Sie eine Matlab-Funktion, die das Newton-Verfahren implementiert. Verwenden Sie dazu ihre Funktion `jacobian` aus Aufgabe 2."
   ]
  },
  {
   "cell_type": "code",
   "execution_count": 5,
   "metadata": {},
   "outputs": [
    {
     "name": "stdout",
     "output_type": "stream",
     "text": [
      "Created file '/mnt/c/Users/jan/Documents/Vorlesungen/Modellbildung-und-Simulation/content/04_nichtlineare_gleichungen/newton.m'.\n"
     ]
    }
   ],
   "source": [
    "%%file newton.m\n",
    "function z = newton(func,z0,tol,maxit)\n",
    "% z = newton(F,z0,tol,maxit) solves the nonlinear system 0=func(z)\n",
    "%\n",
    "% inputs:\n",
    "%   func    a handle to the nonlinear function\n",
    "%   z0      initial guess for the Newton method\n",
    "%   atol    absolute tolerance\n",
    "%   maxit   maximum number of Newton iterations\n",
    "\n",
    "% YOUR CODE HERE"
   ]
  },
  {
   "cell_type": "markdown",
   "metadata": {},
   "source": [
    "Mit dem folgenden unit test können Sie ihre Funktion testen:"
   ]
  },
  {
   "cell_type": "code",
   "execution_count": null,
   "metadata": {},
   "outputs": [],
   "source": [
    "moxunit_runtests test_newton"
   ]
  },
  {
   "cell_type": "markdown",
   "metadata": {},
   "source": [
    " - Wenden Sie das Newton-Verfahren auf die Funkton `func = @(p) F(p,t,V)` an um das ursprüngliche nichtlineare Gleichungssystem zu lösen. Wählen Sie angemessene Werte für die Toleranz und die maximale Anzahl an Iterationen. Wie lauten die Parameter $a$ und $b$ ihrer Modellfunktion? \n",
    " - Vergleichen Sie Ihr Ergebnis mit dem Ergebnis der Matlab-Funktion `fzero`.\n",
    " - Erstellen Sie ein Plot mit den Messwerten, sowie der kalibrierten Modellfunktion $V(t) = b \\cdot e^{a \\cdot t}$.\n",
    " - Wie lautet die Halbwertzeit des Bierschaumes?"
   ]
  },
  {
   "cell_type": "markdown",
   "metadata": {},
   "source": [
    "## Optimierungsverfahren\n",
    "\n",
    "Die Methode der kleinsten Quadrate ist eigentlich ein Minimerungsproblem. Wir haben gesehen, dass sich das Minimum einer Funktion $G: \\mathbb{R}^n \\to \\mathbb{R}$ bestimmen lässt, in dem das nichtlineare Gleichungssystem \n",
    "\n",
    "$$\n",
    "  \\boldsymbol{0} = J_G(\\mathbf{p})^T = \n",
    "  \\begin{bmatrix}  \n",
    "  \\frac{\\partial G}{\\partial p_1}(\\mathbf{p}) \\\\\n",
    "  \\vdots \\\\\n",
    "  \\frac{\\partial G}{\\partial p_n}(\\mathbf{p})\n",
    "  \\end{bmatrix}\n",
    "$$\n",
    "\n",
    "mit dem Newton-Verfahren nach $\\mathbf{p}$ gelöst wird. Die Iterationsvorschrift lautet\n",
    "\n",
    "$$\n",
    "\\begin{align}\n",
    "J_{J_G}(\\mathbf{p}^{(i)}) \\Delta \\mathbf{p}^{(i+1)} &= - J_G(\\mathbf{p}^{(i)})^T \\notag \\\\\n",
    "\\mathbf{p}^{(i+1)} &= \\mathbf{p}^{(i)} + \\Delta \\mathbf{p}^{(i)}, \\notag\n",
    "\\end{align}\n",
    "$$\n",
    "\n",
    "$i=1,2,3,...$ Hierbei ist $J_G(\\mathbf{p}^{(i)})^T \\in \\mathbb{R}^n$ die Jacobimatrix von $G$. Die Jacobimatrix von $J_G(\\mathbf{p}^{(i)})^T$ wiederum ist $J_{J_G}(\\mathbf{p}^{(i)}) \\in \\mathbb{R}^{n \\times n}$. Sie wird auch als *Hessematrix von $G$* an der Stelle $\\mathbf{p}^{(i)}$ bezeichnet und beinhaltet die zweiten Ableitung der Funktion $G$:\n",
    "\n",
    "$$\n",
    "Hess_G(\\mathbf{p}) = J_{J_G}(\\mathbf{p}) =\n",
    "\\begin{bmatrix}\n",
    "\\frac{\\partial}{\\partial p_0} \\frac{\\partial G}{\\partial p_0}(\\mathbf{p}) & \\cdots & \\frac{\\partial}{\\partial p_n} \\frac{\\partial G}{\\partial p_0}(\\mathbf{p}) \\\\\n",
    "\\vdots & \\ddots & \\vdots \\\\\n",
    "\\frac{\\partial}{\\partial p_0} \\frac{\\partial G}{\\partial p_n}(\\mathbf{p}) & \\cdots & \\frac{\\partial}{\\partial p_n} \\frac{\\partial G}{\\partial p_n}(\\mathbf{p})\n",
    "\\end{bmatrix}\n",
    "$$\n",
    "\n",
    "Zusammenfassend kann ein Minimierungsproblem also gelöst werden, indem es auf ein nichtlineares Gleichungssystem zurückgeführt wird. Dieses wiederum kann mit Hilfe des Newtonverfahren gelöst werden. In jeder Iteration des Newtonverfahrens muss ein lineares Gleichungssystem gelöst werden.\n",
    "\n",
    "### Aufgabe 4: Algorithmus zur Minimierung einer Funktion\n",
    "\n",
    "Schreiben Sie eine neue Funktion `minimize(func,x0,tol,maxit)` auf Grundlage ihrer Implementierung für das Newtonverfahren, die eine beliebige Funktion `func`$: \\mathbb{R}^n \\to \\mathbb{R}$ minimiert. Verwenden Sie ihre Funktion `jacobian` um die Hessematrix sowie die rechte Seite in jedem Funktionsaufruf zu konstruieren.\n",
    "\n",
    " - Lösen Sie das ursprüngliche Minimierungsproblem mit ihrer neuen Funktion und vergleichen Sie das Ergebnis mit ihrem Ergebnis aus Aufgabe 3 sowie dem Resultat der Matlab-Funktion `fminsearch`."
   ]
  },
  {
   "cell_type": "markdown",
   "metadata": {},
   "source": [
    "## Literatur\n",
    "\n",
    " - Leike, A. (2002). Demonstration of the Exponential Decay Law Using Beer Froth; *European Journal of Physics, 23, 21-26.* [[Link]](https://www.tf.uni-kiel.de/matwis/amat/iss/kap_2/articles/beer_article.pdf)\n",
    " - Theißen, H. (2009). Mythos Bierschaumzerfall - Ein Analogon für den radioaktiven Zerfall?; *PhyDid A - Physik und Didaktik in Schule und Hochschule, 2(9), 49 - 57.* [[Link]](http://www.phydid.de/index.php/phydid/article/download/87/85)"
   ]
  }
 ],
 "metadata": {
  "kernelspec": {
   "display_name": "Octave",
   "language": "octave",
   "name": "octave"
  },
  "language_info": {
   "file_extension": ".m",
   "help_links": [
    {
     "text": "GNU Octave",
     "url": "https://www.gnu.org/software/octave/support.html"
    },
    {
     "text": "Octave Kernel",
     "url": "https://github.com/Calysto/octave_kernel"
    },
    {
     "text": "MetaKernel Magics",
     "url": "https://github.com/calysto/metakernel/blob/master/metakernel/magics/README.md"
    }
   ],
   "mimetype": "text/x-octave",
   "name": "octave",
   "version": "4.2.2"
  }
 },
 "nbformat": 4,
 "nbformat_minor": 2
}
