{
 "cells": [
  {
   "cell_type": "markdown",
   "metadata": {},
   "source": [
    "## Der Zerfall des Bierschaums\n",
    "\n",
    "![](../images/weizenbier.jpg)\n",
    "\n",
    "Wenn wir ein Weizenbier länger stehen lassen, baut sich die schöne Schaumkrone ab. Aber wie schnell eigentlich?"
   ]
  },
  {
   "cell_type": "markdown",
   "metadata": {},
   "source": [
    "### Experimenteller Aufbau\n",
    "\n",
    "Messen wir es einfach nach! Wir benutzen ein Messbecher, Wasser und einen wasserfesten Marker um ein Weizenglas mit Eichstrichen zu verwesen. Wir schütten ein Bier ein, so dass sehr viel Schaum entsteht und notieren uns - so gut es eben geht - den unteren und oberen Stand des Schaumes zu unterschiedlichen Zeitpunkten. Die Differenz ist dann das Bierschaumvolumen zum jeweiligen Zeitpunkt.\n",
    "\n",
    "| $t$ [s] | Oberer Messwert [$l$] | Unterer Messwert [$l$] | $V$ [$l$] |\n",
    "| -- | -- | -- | -- |\n",
    "| 0  | 0.020 | 0.600 | 0.580 |\n",
    "| 12 | 0.050 | 0.600 | 0.550 |\n",
    "| 51 | 0.125 | 0.550 | 0.425  |\n",
    "| 96 | 0.150 | 0.500 | 0.350  |\n",
    "| 164 | 0.170 | 0.450 | 0.280  |\n",
    "| 220 | 0.180 | 0.400 | 0.220  |\n",
    "| 270 | 0.180 | 0.375 | 0.195  |\n",
    "| 345 | 0.185 | 0.325 | 0.140  |\n",
    "| 432 | 0.190 | 0.275 | 0.085  |\n",
    "| 490 | 0.190 | 0.250 | 0.060  |\n",
    "| 570 | 0.190 | 0.225 | 0.035  |\n",
    "\n",
    "Die Genauigkeit der Messung sei mal dahin gestellt, es reicht zumindest aus um einen Trend zu erkennen: Der Schaum baut sich anfänglich schneller ab als später, wenn nicht mehr viel Schaum da ist. Wenn wir von einem Messfehler von ca. $0.02$ Litern und ca. $2$ Sekunden ausgehen, ergibt sich folgendes Bild"
   ]
  },
  {
   "cell_type": "code",
   "execution_count": 51,
   "metadata": {
    "tags": [
     "hidecode"
    ]
   },
   "outputs": [
    {
     "data": {
      "image/png": "[encoded data removed]",
      "text/plain": [
       "<IPython.core.display.Image object>"
      ]
     },
     "metadata": {},
     "output_type": "display_data"
    }
   ],
   "source": [
    "% measurement results\n",
    "\n",
    "t = [0 12 51 96 164 220 270 345 432 490 570];\n",
    "U = [0.02 0.05 0.125 0.15 0.17 0.18 0.18 0.185 0.19 0.19 0.19];\n",
    "O = [0.6 0.6 0.55 0.5 0.45 0.4 0.375 0.325 0.275 0.25 0.225];\n",
    "V = O-U;\n",
    "\n",
    "% approximate measurement errors:\n",
    "t_err = 2;\n",
    "V_err = 0.02;\n",
    "\n",
    "errorbar(t, V, t_err, V_err, '~>.')\n",
    "title('Measurement of beer foam volume over time')\n",
    "xlabel('time [s]')\n",
    "ylabel('volume [liters]')"
   ]
  },
  {
   "cell_type": "markdown",
   "metadata": {},
   "source": [
    "### Modellbeschreibung\n",
    "\n",
    "Der Schaum besteht aus vielen kleinen Bläschen, die nach und nach platzen. Je mehr Schaum da ist, d.h. je mehr Bläschen da sind, desto mehr Bläschen platzen auch. Ist der Schaum schon fast komplett abgebaut, bleiben insgesamt weniger Bläschen die platzen können, und die Zerfallsrate des Bierschaumes sinkt entsprechend. Mathematisch ausgedrückt ist die zeitliche Änderung $\\dot{V}$ des Schaumvolumens proportional zur Menge des Schaumvolumens selbst, d.h. es gilt\n",
    "\n",
    "$$ \\dot{V} = a \\cdot V, $$\n",
    "\n",
    "mit einer uns unbekannten Proportionalitätskonstante $a \\in \\mathbb{R}$. Diese Differentialgleichung kommt sehr häufig vor, denn sie beschreibt exponentielles Wachstum, bzw. - je nach Vorzeichen von $a$ - exponentiellen Zerfall. Wir machen also, wie gewohnt, einen Ansatz \n",
    "\n",
    "$$ V(t) = b \\cdot e^{c \\cdot t}.$$\n",
    "\n",
    "Setzen wir $V(t)$ in die Differentialgleichung $ \\dot{V} = a \\cdot V $ ein, \n",
    "\n",
    "$$ c b \\cdot e^{c \\cdot t} = a \\cdot b e^{c \\cdot t}, $$\n",
    "\n",
    "stellen wir fest, dass unser Ansatz eine valide Lösung der Differentialgleichung ist, unter der Voraussetzung, dass $c = a$ gilt.\n",
    "\n",
    "$$ V(t) = b \\cdot e^{a \\cdot t}. $$\n",
    "\n",
    "Ok, nun haben wir einerseits Messwerte und andererseits ein mathematisches Modell mit unbekannten Parametern $a$ und $b$. $b$ muss offensichtlich der y-Achsenabschnitt sein, da $V(0)=b \\cdot e^0 = b$, den kennen wir aus den Messwerten. Aber was, wenn ausgerechnet die erste Messung mit Messfehlern behaftet ist? Abgesehen, davon haben wir auch dann noch Schwierigkeiten händisch die Zerfallsrate $a$ zu raten. Für $a=-0.001 \\frac{1}{\\text{s}}$ und $b=0.58$ $l$ ergibt sich folgender Verlauf."
   ]
  },
  {
   "cell_type": "code",
   "execution_count": 52,
   "metadata": {
    "tags": [
     "hidecode"
    ]
   },
   "outputs": [
    {
     "data": {
      "image/png": "[encoded data removed]",
      "text/plain": [
       "<IPython.core.display.Image object>"
      ]
     },
     "metadata": {},
     "output_type": "display_data"
    }
   ],
   "source": [
    "hold on\n",
    "\n",
    "% plot measurement\n",
    "h_meas = errorbar(t, V, t_err, V_err, '~>.');\n",
    "title('Measurement of beer foam volume over time')\n",
    "xlabel('time [s]')\n",
    "ylabel('volume [liters]')\n",
    "\n",
    "% plot model\n",
    "a = -0.001;\n",
    "b = 0.58;\n",
    "tfine = linspace(t(1),t(end),100);\n",
    "yfine = b*exp(a*tfine);\n",
    "h_model = plot(tfine, yfine);\n",
    "\n",
    "legend([h_meas, h_model],{'measurement data', 'model with guessed parameters'})"
   ]
  },
  {
   "cell_type": "markdown",
   "metadata": {},
   "source": [
    " Wir können immer noch keine quantifizierbare Aussage darüber treffen, wie schnell das Bier sich abbaut. \n",
    " \n",
    "Wie können wir $a$ und $b$ so bestimmen, dass das Modell zu unseren Messwerten passt? Wenn wir das wüssten, könnten wir auf Grundlage der Modellgleichung Vorhersagen treffen."
   ]
  },
  {
   "cell_type": "markdown",
   "metadata": {},
   "source": [
    "## Die Methode der kleinsten Quadrate\n",
    "\n",
    "Die Methode der kleinsten Quadrate ist eine weit verbreitete Methode zur Modellkalibrierung. Mit ihr können noch unbekannte Parameter $p_1,...,p_n$ eines Modells $y = f(p_1,...,p_n,t)$ so angepasst werden, dass es vorher ermittelte experimentelle Daten $(t_1,y_1),...,(t_m, y_m)$ möglichst gut wiederspiegelt.\n",
    "\n",
    "### Die Grundidee\n",
    "\n",
    "Wir formulieren ein Minimierungsproblem: Für alle Messpunkte $t_i$ soll die Differenz $y_i - f(p_1,...,p_n,t_i)$ betragsmäßig klein werden.\n",
    "\n",
    "Für die Formulierung stehen verschiedene Ansätze zur Verfügung. Man könnte einfach den Mittelwert der betragsmäßigen Differenzen über alle Messpunkte minimieren:\n",
    "\n",
    "$$ \\min_{p_1,...,p_n} G(p_1,...,p_n) = \\frac{1}{m} \\sum_{i=1}^m |y_i - f(p_1,...,p_n,t_i)|  $$\n",
    "\n",
    "Wenn die Funktion $G$ minimal werden soll, muss die Ableitung von $G$ nach allen Parametern verschwinden, \n",
    "\n",
    "$$ \\frac{\\partial G}{\\partial p_1} = ... = \\frac{\\partial G}{\\partial p_n} = 0. $$\n",
    "\n",
    "Spätestens jetzt haben wir ein Problem: Wir müssen die Betragsfunktion, die in $G$ verwendet wird ableiten. \n",
    "\n",
    "Als Alternative nehmen wir nicht den Betrag der Differenzen, sondern einfach das Quadrat. Auf diese Weise werden positive sowie negative Differenzen gleich berücksichtigt. Es hat auch noch den angenehmen Nebeneffekt, dass große Abweichungen zwischen Modell und Messung größer bestraft werden als kleine Abweichungen:\n",
    "\n",
    "$$ \\min_{p_1,...,p_n} G(p_1,...,p_n) = \\frac{1}{m} \\sum_{i=1}^m (y_i - f(p_1,...,p_n,t_i))^2  $$\n",
    "\n",
    "Das Minimierungsproblem lösen wir, indem wir die Bedingung aufstellen, dass alle Ableitungen von $G$ nach den Parametern null sein sollen und nach den Parametern auflösen. Die partiellen Ableitungen bestimmen wir mit der Kettenregel:\n",
    "\n",
    "$$\n",
    "\\boldsymbol{0} = \n",
    "\\begin{bmatrix}\n",
    "0 \\\\ \\vdots \\\\ 0\n",
    "\\end{bmatrix} = F(\\mathbf{p}) =\n",
    "\\begin{bmatrix} \n",
    "\\frac{\\partial G}{\\partial p_1}(p_1,...,p_n)  \\\\\n",
    "\\vdots \\\\\n",
    "\\frac{\\partial G}{\\partial p_n}(p_1,...,p_n)\n",
    "\\end{bmatrix}\n",
    "=\n",
    "\\begin{bmatrix}\n",
    "-\\frac{2}{m}\\sum_{i=1}^m (y_i - f(p_1,...,p_n,t_i))\\cdot \\frac{\\partial f}{\\partial p_1}(p_1,...,p_n) \\\\\n",
    "\\vdots \\\\\n",
    "-\\frac{2}{m}\\sum_{i=1}^m (y_i - f(p_1,...,p_n,t_i))\\cdot \\frac{\\partial f}{\\partial p_n}(p_1,...,p_n) \\\\\n",
    "\\end{bmatrix}\n",
    "$$\n",
    "\n",
    "### Anwendung auf den Bierschaum\n",
    "\n",
    "Im Falle des Bierschaumes gilt $p_1 = a, p_2 = b$ und\n",
    "\n",
    "$$ f(a,b,t) = b\\cdot e^{a \\cdot t}. $$\n",
    "\n",
    "Das nichtlineare Gleichungssystem, das gelöst werden muss lautet also\n",
    "\n",
    "$$ \n",
    "\\boldsymbol{0} = F(a,b) = \n",
    "\\begin{bmatrix}\n",
    "\\frac{\\partial G}{\\partial a} (a,b) \\\\\n",
    "\\frac{\\partial G}{\\partial b} (a,b) \n",
    "\\end{bmatrix} = \n",
    "\\begin{bmatrix}\n",
    "-\\frac{2}{m}\\sum_{i=1}^m (V_i - b \\cdot e^{a \\cdot t_i})\\cdot  t_i \\cdot b \\cdot e^{a \\cdot t_i} \\\\\n",
    "-\\frac{2}{m}\\sum_{i=1}^m (V_i - b \\cdot e^{a \\cdot t_i}) \\cdot e^{a \\cdot t_i}\n",
    "\\end{bmatrix}\n",
    "$$\n",
    "\n",
    "### Aufgabe 1: Das nichtlineare Gleichungssystem\n",
    "\n",
    "Schreiben Sie eine Matlab-Funktion, die die nichtlineare Gleichung $F$ für beliebige Parameter $\\mathbf{p}=[a,b]^T \\in \\mathbb{R}^2$ und Messwerte $t \\in \\mathbb{R}^m$, $V \\in \\mathbb{R}^m$ auswertet:"
   ]
  },
  {
   "cell_type": "code",
   "execution_count": 1,
   "metadata": {},
   "outputs": [
    {
     "name": "stdout",
     "output_type": "stream",
     "text": [
      "Created file '/home/jan/shares/Modellbildung-und-Simulation/content/04_nichtlineare_gleichungen/F.m'.\n"
     ]
    }
   ],
   "source": [
    "%%file F.m\n",
    "function e = F(p,t,V)\n",
    "% define the nonlinear system of equations that need to be solved within the least squares fit\n",
    "% of the beer froth experiment\n",
    "%\n",
    "% p = [a,b]' is a vector of the model parameters\n",
    "%\n",
    "% t and V are vectors containing the experimental data\n",
    "\n",
    "% PUT YOUR CODE HERE"
   ]
  },
  {
   "cell_type": "markdown",
   "metadata": {},
   "source": [
    "## Das Newton-Verfahren\n",
    "\n",
    "Aus der Vorlesung kennen Sie das Newton-Verfahren zum Lösen nichtlinearer Gleichungssysteme. Angefangen mit einem Startwert $\\mathbf{p}^{(0)}$ muss in jeder Iteration ein lineares Gleichungssystem gelöst werden:\n",
    "\n",
    "$$\n",
    "\\begin{align}\n",
    " J_F(\\mathbf{p}^{(i)}) \\Delta \\mathbf{p}^{(i+1)} &= - F(\\mathbf{p}^{(i)}), \\notag \\\\\n",
    " \\mathbf{p}^{(i+1)} &= \\mathbf{p}^{(i)} + \\Delta \\mathbf{p}^{(i+1)}, \\notag\n",
    "\\end{align}\n",
    "$$\n",
    "\n",
    "$i=1,2,3,...$\n",
    "\n",
    "Um die Jacobi-Matrix $J_F(\\mathbf{p}^{(i)})$ in jeder Iteration zu bestimmen, müssen wir die partiellen Ableitungen von $F$ anch $p_1 = a$ und $p_2=b$ ausrechnen. Theoretisch kann man das in unserem Fall noch analytisch machen. Einfacher ist es aber, die Jacobi-Matrix mittels finiter Differenzen zu approximieren. Dadurch verlieren wir zwar an Genauigkeit. Aber wir können unser Verfahren so auch auf komplexere Modellgleichungen anwenden, die sich nicht mehr so einfach ableiten lassen.\n",
    "\n",
    "### Aufgabe 2: Approximation der Jacobi-Matrix\n",
    "\n",
    "Schreiben Sie eine Matlab-Funktion, die die Jacobimatrix $J_F(\\mathbf{x})$ für eine beliebige Funktion $F:\\mathbb{R}^n \\to \\mathbb{R}^m$ mit finiten Differenzen approximiert:"
   ]
  },
  {
   "cell_type": "code",
   "execution_count": 2,
   "metadata": {},
   "outputs": [
    {
     "name": "stdout",
     "output_type": "stream",
     "text": [
      "Created file '/mnt/c/Users/jan/Documents/Vorlesungen/Modellbildung-und-Simulation/content/04_nichtlineare_gleichungen/jacobian.m'.\n"
     ]
    }
   ],
   "source": [
    "%%file jacobian.m\n",
    "function J = jacobian(F,x)\n",
    "% J = jacobian(F,x) returns the (m x n) Jacobian matrix of F evaluated at x\n",
    "%\n",
    "%   |  dF1/dx1 ... dF1/dxn |\n",
    "%   |     .           .    |\n",
    "%   |  dFm/dx1 ... dFm/dxn |\n",
    "%\n",
    "% It uses finite difference approximations. x must be a (n,1)-column vector and F must be a function\n",
    "% taking an (n,1)-vector as an input. m is deduced from F.\n",
    "\n",
    "% PUT YOUR CODE HERE"
   ]
  },
  {
   "cell_type": "markdown",
   "metadata": {},
   "source": [
    "Mit dem folgenden unit test können Sie ihre Funktion testen:"
   ]
  },
  {
   "cell_type": "code",
   "execution_count": null,
   "metadata": {},
   "outputs": [],
   "source": [
    "moxunit_runtests test_jacobian"
   ]
  },
  {
   "cell_type": "markdown",
   "metadata": {},
   "source": [
    "Es gilt `F(p,t,V)` $= J_G(\\mathbf{p})$ mit\n",
    "\n",
    "$$\n",
    "G(\\mathbf{p}) = \\frac{1}{m} \\sum_{i=1}^m (y_i - f(\\mathbf{p},t_i))^2.\n",
    "$$\n",
    "\n",
    "Einerseits haben Sie in Aufgabe 1 eine Funktion geschrieben, die `F` berechnet, andererseits können Sie mit ihrer Funktion aus Aufgabe 2 die Jacobi-Matrix $J_G(\\mathbf{p})\\in \\mathbb{R}^{1 \\times n}$ mit finiten Differenzen approximieren. Vergleichen Sie die beiden Ergebnisse für verschiedene $\\mathbf{p}$. In welcher Größenordung befindet sich in etwa der relative Fehler der Funktion `jacobian` für ihr Problem? "
   ]
  },
  {
   "cell_type": "markdown",
   "metadata": {},
   "source": [
    "### Aufgabe 3: Parameterbestimmung\n",
    "\n",
    "Schreiben Sie eine Matlab-Funktion, die das Newton-Verfahren implementiert. Verwenden Sie dazu ihre Funktion `jacobian` aus Aufgabe 2."
   ]
  },
  {
   "cell_type": "code",
   "execution_count": 5,
   "metadata": {},
   "outputs": [
    {
     "name": "stdout",
     "output_type": "stream",
     "text": [
      "Created file '/mnt/c/Users/jan/Documents/Vorlesungen/Modellbildung-und-Simulation/content/04_nichtlineare_gleichungen/newton.m'.\n"
     ]
    }
   ],
   "source": [
    "%%file newton.m\n",
    "function z = newton(func,z0,tol,maxit)\n",
    "% z = newton(F,z0,tol,maxit) solves the nonlinear system 0=func(z)\n",
    "%\n",
    "% inputs:\n",
    "%   func    a handle to the nonlinear function\n",
    "%   z0      initial guess for the Newton method\n",
    "%   atol    absolute tolerance\n",
    "%   maxit   maximum number of Newton iterations\n",
    "\n",
    "% YOUR CODE HERE"
   ]
  },
  {
   "cell_type": "markdown",
   "metadata": {},
   "source": [
    "Mit dem folgenden unit test können Sie ihre Funktion testen:"
   ]
  },
  {
   "cell_type": "code",
   "execution_count": null,
   "metadata": {},
   "outputs": [],
   "source": [
    "moxunit_runtests test_newton"
   ]
  },
  {
   "cell_type": "markdown",
   "metadata": {},
   "source": [
    " - Wenden Sie das Newton-Verfahren auf die Funkton `func = @(p) F(p,t,V)` an um das ursprüngliche nichtlineare Gleichungssystem zu lösen. Wählen Sie angemessene Werte für die Toleranz und die maximale Anzahl an Iterationen. Wie lauten die Parameter $a$ und $b$ ihrer Modellfunktion? \n",
    " - Vergleichen Sie Ihr Ergebnis mit dem Ergebnis der Matlab-Funktion `fzero`.\n",
    " - Erstellen Sie ein Plot mit den Messwerten, sowie der kalibrierten Modellfunktion $V(t) = b \\cdot e^{a \\cdot t}$.\n",
    " - Wie lautet die Halbwertzeit des Bierschaumes?"
   ]
  },
  {
   "cell_type": "code",
   "execution_count": 53,
   "metadata": {},
   "outputs": [],
   "source": [
    "% SPACE FOR SOLUTION\n"
   ]
  },
  {
   "cell_type": "markdown",
   "metadata": {},
   "source": [
    "## Optimierungsverfahren\n",
    "\n",
    "Grundlage der Methode der kleinsten Quadrate ist ein Minimierungsproblem. Wir haben gesehen, dass sich das Minimum einer Funktion $G: \\mathbb{R}^n \\to \\mathbb{R}$ bestimmen lässt, in dem das nichtlineare Gleichungssystem \n",
    "\n",
    "$$\n",
    "  \\boldsymbol{0} = J_G(\\mathbf{p})^T = \n",
    "  \\begin{bmatrix}  \n",
    "  \\frac{\\partial G}{\\partial p_1}(\\mathbf{p}) \\\\\n",
    "  \\vdots \\\\\n",
    "  \\frac{\\partial G}{\\partial p_n}(\\mathbf{p})\n",
    "  \\end{bmatrix}\n",
    "$$\n",
    "\n",
    "mit dem Newton-Verfahren nach $\\mathbf{p}$ gelöst wird. Die Iterationsvorschrift lautet\n",
    "\n",
    "$$\n",
    "\\begin{align}\n",
    "J_{J_G}(\\mathbf{p}^{(i)}) \\Delta \\mathbf{p}^{(i+1)} &= - J_G(\\mathbf{p}^{(i)})^T \\notag \\\\\n",
    "\\mathbf{p}^{(i+1)} &= \\mathbf{p}^{(i)} + \\Delta \\mathbf{p}^{(i)}, \\notag\n",
    "\\end{align}\n",
    "$$\n",
    "\n",
    "$i=1,2,3,...$ Hierbei ist $J_G(\\mathbf{p}^{(i)})^T \\in \\mathbb{R}^n$ die Jacobimatrix von $G$. Die Jacobimatrix von $J_G(\\mathbf{p}^{(i)})^T$ wiederum ist $J_{J_G}(\\mathbf{p}^{(i)}) \\in \\mathbb{R}^{n \\times n}$. Sie wird auch als *Hessematrix von $G$* an der Stelle $\\mathbf{p}^{(i)}$ bezeichnet und beinhaltet die zweiten Ableitung der Funktion $G$:\n",
    "\n",
    "$$\n",
    "Hess_G(\\mathbf{p}) = J_{J_G}(\\mathbf{p}) =\n",
    "\\begin{bmatrix}\n",
    "\\frac{\\partial}{\\partial p_0} \\frac{\\partial G}{\\partial p_0}(\\mathbf{p}) & \\cdots & \\frac{\\partial}{\\partial p_n} \\frac{\\partial G}{\\partial p_0}(\\mathbf{p}) \\\\\n",
    "\\vdots & \\ddots & \\vdots \\\\\n",
    "\\frac{\\partial}{\\partial p_0} \\frac{\\partial G}{\\partial p_n}(\\mathbf{p}) & \\cdots & \\frac{\\partial}{\\partial p_n} \\frac{\\partial G}{\\partial p_n}(\\mathbf{p})\n",
    "\\end{bmatrix}\n",
    "$$\n",
    "\n",
    "Zusammenfassend kann ein Minimierungsproblem also gelöst werden, indem es auf ein nichtlineares Gleichungssystem zurückgeführt wird. Dieses wiederum kann mit Hilfe des Newtonverfahren gelöst werden. In jeder Iteration des Newtonverfahrens muss ein lineares Gleichungssystem gelöst werden.\n",
    "\n",
    "### Aufgabe 4: Algorithmus zur Minimierung einer Funktion\n",
    "\n",
    "Schreiben Sie eine neue Funktion `minimize(func,x0,tol,maxit)` auf Grundlage ihrer Implementierung für das Newtonverfahren, die eine beliebige Funktion `func`$: \\mathbb{R}^n \\to \\mathbb{R}$ minimiert. Verwenden Sie ihre Funktion `jacobian` um die Hessematrix sowie die rechte Seite in jedem Funktionsaufruf zu konstruieren.\n",
    "\n",
    " - Lösen Sie das ursprüngliche Minimierungsproblem mit ihrer neuen Funktion und vergleichen Sie das Ergebnis mit ihrem Ergebnis aus Aufgabe 3 sowie dem Resultat der Matlab-Funktion `fminsearch`.\n",
    " - Wo sind die Grenzen ihres Algorithmus? Gibt es mögliche Fehlerquelen, die Nutzer ihrer Funktion beachten sollten?"
   ]
  },
  {
   "cell_type": "code",
   "execution_count": 54,
   "metadata": {},
   "outputs": [
    {
     "name": "stdout",
     "output_type": "stream",
     "text": [
      "Created file '/mnt/c/Users/jan/Documents/Vorlesungen/Modellbildung-und-Simulation/content/04_nichtlineare_gleichungen/minimize.m'.\n"
     ]
    }
   ],
   "source": [
    "%%file minimize.m\n",
    "\n",
    "%SPACE FOR SOLUTION"
   ]
  },
  {
   "cell_type": "code",
   "execution_count": 55,
   "metadata": {},
   "outputs": [],
   "source": [
    "% SPACE FOR SCRIPT SOLUTION\n"
   ]
  },
  {
   "cell_type": "markdown",
   "metadata": {},
   "source": [
    "## Literatur\n",
    "\n",
    " - Leike, A. (2002). [Demonstration of the Exponential Decay Law Using Beer Froth](https://www.tf.uni-kiel.de/matwis/amat/iss/kap_2/articles/beer_article.pdf); *European Journal of Physics, 23, 21-26.*\n",
    " - Theißen, H. (2009). [Mythos Bierschaumzerfall - Ein Analogon für den radioaktiven Zerfall?](http://www.phydid.de/index.php/phydid/article/download/87/85); *PhyDid A - Physik und Didaktik in Schule und Hochschule, 2(9), 49 - 57.*"
   ]
  }
 ],
 "metadata": {
  "kernelspec": {
   "display_name": "Octave",
   "language": "octave",
   "name": "octave"
  },
  "language_info": {
   "file_extension": ".m",
   "help_links": [
    {
     "text": "GNU Octave",
     "url": "https://www.gnu.org/software/octave/support.html"
    },
    {
     "text": "Octave Kernel",
     "url": "https://github.com/Calysto/octave_kernel"
    },
    {
     "text": "MetaKernel Magics",
     "url": "https://metakernel.readthedocs.io/en/latest/source/README.html"
    }
   ],
   "mimetype": "text/x-octave",
   "name": "octave",
   "version": "4.2.2"
  }
 },
 "nbformat": 4,
 "nbformat_minor": 2
}
