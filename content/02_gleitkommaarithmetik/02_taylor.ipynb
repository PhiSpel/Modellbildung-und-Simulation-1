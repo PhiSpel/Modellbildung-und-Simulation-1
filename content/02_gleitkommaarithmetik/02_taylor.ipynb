{
 "cells": [
  {
   "cell_type": "markdown",
   "id": "9cf7e052-fcb7-4b1d-aa7f-0e672c52dd1a",
   "metadata": {},
   "source": [
    "```{panels}\n",
    "Voraussetzungen\n",
    "^^^\n",
    "- MATLAB Grundkenntnisse\n",
    "---\n",
    "Lernziele\n",
    "^^^\n",
    "- Einblick in die Nutzung von Taylorpolynomen\n",
    "````"
   ]
  },
  {
   "cell_type": "markdown",
   "id": "072ec368-4dba-408c-a523-e09f611f8673",
   "metadata": {},
   "source": [
    "# Taylorpolynome in Taschenrechnern\n",
    "\n",
    "Um Funktionen wie $\\sin(x)$, $\\cos(x)$ oder $\\ln(x)$ zu berechnen, können Sie einen Trick nutzen: Sie approximieren die Funktion als zusammengesetztes Polynom. Dieses Polynom ist nicht etwa ein beliebiges, experimentell bestimmtes Polynom, sondern ein Taylorpolynom. Diese ergeben sich aus einer \"nur\" endlich berechneten Taylorreihe. Die Taylorreihe kann jede glatte Funktion darstellen als\n",
    "\n",
    "$$f(x) = \\sum_{n=0}^{\\infty}\\frac{f^{(n)}(x_0)}{n!}(x-x_0)^n$$\n",
    "\n",
    ", mit $x_0$ dem *Entwicklungspunkt* der Reihe. Das Taylor*polynom* ist also\n",
    "\n",
    "$$f(x) \\approx T_{f,x_0}(x) = \\sum_{n=0}^{N}\\frac{f^{(n)}(x_0)}{n!}(x-x_0)^n$$\n",
    "\n",
    "Der durch den sogenannten *Abbruch bei $N$* gemachte Fehler ist nahe an $x_0$ noch überschaubar, kann aber bei größeren Abständen schnell sehr groß werden. Er lässt sich schätzen, in dieser Übung wollen wir aber einfach ein \"Gespür\" für die Genauigkeit der Taylorreihe erhalten. Nehmen wir dazu die Funktion $\\sin(\\varphi)$.\n",
    "\n",
    "```{admonition} Hinweis\n",
    "Anstelle der Approximation durch Taylorpolynome nutzen Taschenrechner den [CORDIC Algorithmus](https://de.wikipedia.org/wiki/CORDIC), der noch besser funktioniert. Den wollen wir hier einmal beiseite lassen und uns vorstellen, dass Taylorpolynome state-of-the-art sind.\n",
    "```\n",
    "\n",
    "## $\\sin(\\varphi)$ für kleine Winkel\n",
    "\n",
    "In den Ingenieurswissenschaften ist häufig die Rede von der *Kleinwinkelnäherung* mit $\\sin(\\varphi) \\approx \\varphi$. Dies folgt daher, dass das Erste Taylorpolynom um $\\varphi_0 = 0$ den $\\sin(\\varphi)$ bis zu Winkeln von $5°$ (etwa $0.087$ Radiant) sehr gut annähert:\n",
    "\n",
    "$$\\begin{align}\n",
    "T_{f,0}(\\varphi) &= \\sum_{n=0}^{1}\\frac{f^{(n)}(0)}{n!}(x-0)^n\\\\\n",
    "&= \\frac{f^{(0)}(0)}{0!}(\\varphi)^0 + \\frac{f^{(1)}(0)}{1!}(\\varphi)^1\\\\\n",
    "&= \\frac{\\sin(0)}{1}1 + \\frac{\\cos(0)}{1}\\varphi\\\\\n",
    "&= \\varphi\n",
    "\\end{align}$$\n",
    "\n",
    "Berechnen Sie die maximale Abweichung der Kleinwinkelnäherung auf dem Intervall $\\varphi = [0,0.1]$ mit einer Auflösung von 100 Punkten."
   ]
  },
  {
   "cell_type": "code",
   "execution_count": null,
   "id": "a58040c5-2fd9-4b0d-9d7f-4506989a31fd",
   "metadata": {},
   "outputs": [],
   "source": [
    "phispan = ...\n",
    "T_1     = ...\n",
    "error   = ... % error throughout the interval\n",
    "maxerror= ... % maximum error across interval\n",
    "plot(phispan, T_1, phispan, sin(phispan), phispan, error)"
   ]
  },
  {
   "cell_type": "markdown",
   "id": "35bc9390-5b6b-4345-a10b-a846ae9e8890",
   "metadata": {
    "tags": []
   },
   "source": [
    "## $\\sin(\\varphi)$ mit Taylorreihen höherer Ordnungen\n",
    "\n",
    "Vergleichen Sie nun Ihre Lösung mit der 3-ten und 5-ten Taylorreihe ($N = 3$ und $N = 5$) auf dem Intervall $\\varphi = [0,\\pi/6]$.\n",
    "\n",
    "```{admonition} Hinweis\n",
    "Da $f^{(n)}(\\varphi) = \\pm\\sin(\\varphi)$ für gerade $n$ und $\\sin(0)=0$, sind erst einmal nur ungerade Reihenglieder für uns interessant.\n",
    "```"
   ]
  },
  {
   "cell_type": "code",
   "execution_count": null,
   "id": "c7d8d2cc-3d50-42a9-bdc1-ecd1d6e8b1c1",
   "metadata": {},
   "outputs": [],
   "source": [
    "phispan    = ...\n",
    "T_1        = ...\n",
    "error_1    = T_1 - sin(phispan);\n",
    "maxerror_1 = ...\n",
    "T_3        = ...\n",
    "error_3    = T_3 - sin(phispan);\n",
    "maxerror_3 = ...\n",
    "T_5        = ...\n",
    "error_5    = T_5 - sin(phispan);\n",
    "maxerror_5 = ...\n",
    "plot(phispan, T_1, phispan, T_3, phispan, T_5, phispan, sin(phispan), phispan, error_1, phispan, error_3, phispan, error_5)"
   ]
  },
  {
   "cell_type": "markdown",
   "id": "3677ee23-8f00-4854-90cd-b3d71171617c",
   "metadata": {},
   "source": [
    "## Ermittlung der notwendigen Entwicklungsgrade\n",
    "\n",
    "Nun wollen wir $\\sin(\\varphi)$ für das gesamte Intervall $\\varphi = [0,\\pi/2]$ also $0$ bis $90°$ mithilfe von Polynomen berechnen können. Wir wissen, dass Taschenrechner 10 Nachkommastellen ausgeben. Das machen wir uns zunutze, wenn wir die absolute Toleranz angeben."
   ]
  },
  {
   "cell_type": "code",
   "execution_count": null,
   "id": "746691fa-1076-4b76-a2aa-52457c7c1f47",
   "metadata": {},
   "outputs": [],
   "source": [
    "atol      = ...\n",
    "n         = 0;\n",
    "phispan   = ...\n",
    "T_0       = ...\n",
    "\n",
    "while ...\n",
    "    n      = n+1;\n",
    "    T_next = ...\n",
    "    T_n    = ...\n",
    "    ...\n",
    "end\n",
    "\n",
    "maxerror\n",
    "plot(phispan, T_n, phispan, sin(phispan))\n",
    "legend(['T_', num2str(n)],'MATLAB-sin')"
   ]
  },
  {
   "cell_type": "markdown",
   "id": "b65d10ce-a047-4c27-9ee3-77a41af1e8ac",
   "metadata": {},
   "source": [
    "```{image} images/T_15.png\n",
    ":alt: Name of image\n",
    ":width: 800px\n",
    ":align: center\n",
    "```\n",
    "\n",
    "## Effizienz vs. Rechenaufwand - Alternative mit Stützstellen\n",
    "\n",
    "Ermitteln Sie mit Stift und Papier die Anzahl von Rechenoperationen pro Funktionsaufruf bei einer Approximation des Sinus der von Ihnen ermittelten Taylorreihe, sowie den Speicherbedarf für Ihre $N$ Faktoren (sind es $N$...?).\n",
    "\n",
    "Um den Grad des Polynoms etwas unten zu halten, modifizieren Sie Ihr Skript so, dass die Berechnung jeweils zwischen den Stützstellen durchgeführt wird, die Ihnen bereits bekannt sind: $\\sin(0),\\sin(30°),\\sin(45°),\\sin(60°),\\sin(90°)$."
   ]
  },
  {
   "cell_type": "code",
   "execution_count": null,
   "id": "6b016373-92e3-4fce-b502-c874521e03fd",
   "metadata": {},
   "outputs": [],
   "source": [
    "%% your code here"
   ]
  },
  {
   "cell_type": "markdown",
   "id": "daf96826-8d5a-44c1-926e-8c5d1662a52e",
   "metadata": {},
   "source": [
    "```{image} images/T_bits.png\n",
    ":alt: Name of image\n",
    ":width: 800px\n",
    ":align: center\n",
    "```\n",
    "\n",
    "Vergleichen Sie zuletzt noch einmal den Rechen- und Speicheraufwand der beiden Methoden.\n",
    "\n",
    "```{admonition} Hinweis\n",
    "[Hier](https://share.streamlit.io/joergbrech/truncated-taylor-series/main) finden Sie einen sehr anschaulichen Demonstrator der Taylor-Approximation zum \"Herumspielen\".\n",
    "```"
   ]
  },
  {
   "cell_type": "markdown",
   "id": "ff868bed-74e0-47d9-905e-0e19bb69d3d6",
   "metadata": {},
   "source": [
    "**Herzlichen Glückwunsch!** Sie haben geschafft, die Sinusfunktion **und** die Cosinusfunktion auf 10 Nachkommastellen genau zu berechnen, indem Sie im Speicher Ihres Taschenrechners lediglich einige Stützstellen, die Faktoren der Polynome sowie die Rechenvorschrift für die Symmetrien der Kreisfunktionen einspeicher."
   ]
  }
 ],
 "metadata": {
  "kernelspec": {
   "display_name": "Octave",
   "language": "octave",
   "name": "octave"
  },
  "language_info": {
   "file_extension": ".m",
   "help_links": [
    {
     "text": "GNU Octave",
     "url": "https://www.gnu.org/software/octave/support.html"
    },
    {
     "text": "Octave Kernel",
     "url": "https://github.com/Calysto/octave_kernel"
    },
    {
     "text": "MetaKernel Magics",
     "url": "https://metakernel.readthedocs.io/en/latest/source/README.html"
    }
   ],
   "mimetype": "text/x-octave",
   "name": "octave",
   "version": "5.2.0"
  }
 },
 "nbformat": 4,
 "nbformat_minor": 5
}
