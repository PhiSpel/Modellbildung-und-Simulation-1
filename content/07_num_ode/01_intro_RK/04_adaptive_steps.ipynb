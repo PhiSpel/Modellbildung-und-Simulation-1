{
 "cells": [
  {
   "cell_type": "markdown",
   "id": "eabe9236-0f3c-464e-b943-ea34952e2fce",
   "metadata": {},
   "source": [
    "````{panels}\n",
    "Voraussetzungen\n",
    "^^^\n",
    "- Runge-Kutta-Verfahren zur numerischen Integration von gewöhnlichen Differentialgleichungen\n",
    "---\n",
    "\n",
    "Lernziele\n",
    "^^^\n",
    "- Grundkenntnisse der adaptive Schrittweitensteuerung\n",
    "````"
   ]
  },
  {
   "cell_type": "markdown",
   "id": "18c89dfd-b8e1-4e82-b275-8f91080b3097",
   "metadata": {},
   "source": [
    "# Adaptive Schrittweitensteuerung\n",
    "\n",
    "ODE-Lösungsroutinen nutzen *adaptive Schrittweitensteuerungen*, um an sensiblen Stellen der Lösung möglichst nicht zu divergieren, und um an weniger sensiblen Stellen den Rechenaufwand gering zu halten. Aufbauend auf den Kapiteln zu Runge-Kutta-Verfahren sind zwei Verfahren naheliegend (es gibt mehr):\n",
    "\n",
    "1. Halbierung der Schrittweite und testen auf Konvergenz - \"Lohnt es sich noch, die Schrittweite zu verkleinern?\"\n",
    "2. Vergleich zweier Verfahren unterschiedlicher Ordnung - \"Ist mein aktuelles Verfahren mit der aktuellen Schrittweite schon gut genug?\""
   ]
  },
  {
   "cell_type": "markdown",
   "id": "7cbbeab5-c2af-469e-9bc0-e08f5655746a",
   "metadata": {},
   "source": [
    "## \"Lohnt es sich noch, die Schrittweite zu verkleinern?\"\n",
    "\n"
   ]
  },
  {
   "cell_type": "markdown",
   "id": "1f025026-e117-418a-8216-befc3e6e8938",
   "metadata": {},
   "source": [
    "## \"Ist mein aktuelles Verfahren mit der aktuellen Schrittweite schon gut genug?\"\n",
    "\n"
   ]
  }
 ],
 "metadata": {
  "kernelspec": {
   "display_name": "Octave",
   "language": "octave",
   "name": "octave"
  },
  "language_info": {
   "name": ""
  }
 },
 "nbformat": 4,
 "nbformat_minor": 5
}
