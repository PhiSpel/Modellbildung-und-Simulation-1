{
 "cells": [
  {
   "cell_type": "markdown",
   "id": "eabe9236-0f3c-464e-b943-ea34952e2fce",
   "metadata": {},
   "source": [
    "````{panels}\n",
    "Voraussetzungen\n",
    "^^^\n",
    "- Runge-Kutta-Verfahren zur numerischen Integration von gewöhnlichen Differentialgleichungen\n",
    "---\n",
    "\n",
    "Lernziele\n",
    "^^^\n",
    "- Grundkenntnisse der adaptive Schrittweitensteuerung\n",
    "````"
   ]
  },
  {
   "cell_type": "markdown",
   "id": "18c89dfd-b8e1-4e82-b275-8f91080b3097",
   "metadata": {},
   "source": [
    "(adaptive_steps)=\n",
    "# Adaptive Schrittweitensteuerung\n",
    "\n",
    "ODE-Lösungsroutinen nutzen *adaptive Schrittweitensteuerungen*, um an sensiblen Stellen der Lösung möglichst nicht zu divergieren, und um an weniger sensiblen Stellen den Rechenaufwand gering zu halten. Aufbauend auf den Kapiteln zu Runge-Kutta-Verfahren ist naheliegend, die Schrittweite zu halbieren und zu testen, ob Konvergenz erreicht wurde. Anders gesagt:\n",
    "\n",
    "## \"Lohnt es sich noch, die Schrittweite zu verkleinern?\"**"
   ]
  },
  {
   "cell_type": "markdown",
   "id": "7cbbeab5-c2af-469e-9bc0-e08f5655746a",
   "metadata": {},
   "source": [
    "Wir wissen, dass mit einer kleineren Schrittweite $h$ ein genaueres Ergebnis für $y_{i+1}$ zu erwarten ist. Beim Expliziten Eulerverfahren hat der Gesamtfehler eine Größenordnung $\\mathcal{O}(h)$, also halbiert sich der Fehler bei Halbierung der Schrittweite. Das können wir nutzen, um zu prüfen, ob die bisherige Schrittweite klein genug war.\n",
    "\n",
    "Implementieren Sie eine adaptive Schrittweitensteuerung indem Sie die Schrittweite halbieren bis die Lösung hinreichend konvergiert."
   ]
  },
  {
   "cell_type": "code",
   "execution_count": null,
   "id": "f27b02cc-ed75-4bd4-b652-0fb384cdd90e",
   "metadata": {},
   "outputs": [],
   "source": [
    "% your code here\n",
    "\n",
    "function ydot = dgl(y,d)\n",
    "    ydot = -y/sqrt(d^2-y^2);\n",
    "end\n",
    "\n",
    "d     = 1;\n",
    "y0    = 0.999*d;\n",
    "xmax  = 10;\n",
    "i     = 1;\n",
    "h0    = 0.5;\n",
    "x     = 0;\n",
    "rtol  = 1e-5;\n",
    "hmin  = 1e-5;\n",
    "\n",
    "y(1)  = y0;\n",
    "while x < xmax\n",
    "    ...\n",
    "    y_alt    = ...\n",
    "    while ...\n",
    "        h     = h/2;\n",
    "        y_neu = ...\n",
    "        err   = ...\n",
    "        y_alt = y_neu;\n",
    "    end\n",
    "    x        = x + h;\n",
    "    xspan(i) = x;\n",
    "    y(i)     = y_neu;\n",
    "end\n",
    "\n",
    "plot(xspan,y)"
   ]
  },
  {
   "cell_type": "markdown",
   "id": "882b6741-c1b1-43b9-957b-1e55ab3fa0c2",
   "metadata": {},
   "source": [
    "## \"Ist die Ordnung meines Verfahrens ausreichend?\"\n",
    "\n",
    "Verfahren wie das [Dormand-Prince Verfahren](https://en.wikipedia.org/wiki/Dormand%E2%80%93Prince_method), das in `ode45` implementiert ist, fragen stattdessen \"Ist die Ordnung meines Verfahrens ausreichend?\", indem sie zwei Lösungen berechnet und durch den Vergleich den Fehler schätzt."
   ]
  }
 ],
 "metadata": {
  "kernelspec": {
   "display_name": "Python 3 (ipykernel)",
   "language": "python",
   "name": "python3"
  },
  "language_info": {
   "codemirror_mode": {
    "name": "ipython",
    "version": 3
   },
   "file_extension": ".py",
   "mimetype": "text/x-python",
   "name": "python",
   "nbconvert_exporter": "python",
   "pygments_lexer": "ipython3",
   "version": "3.9.5"
  }
 },
 "nbformat": 4,
 "nbformat_minor": 5
}
