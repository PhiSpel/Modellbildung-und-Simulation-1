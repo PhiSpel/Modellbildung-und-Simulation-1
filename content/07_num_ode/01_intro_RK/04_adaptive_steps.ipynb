{
 "cells": [
  {
   "cell_type": "markdown",
   "id": "eabe9236-0f3c-464e-b943-ea34952e2fce",
   "metadata": {},
   "source": [
    "````{panels}\n",
    "Voraussetzungen\n",
    "^^^\n",
    "- Runge-Kutta-Verfahren zur numerischen Integration von gewöhnlichen Differentialgleichungen\n",
    "---\n",
    "\n",
    "Lernziele\n",
    "^^^\n",
    "- Grundkenntnisse der adaptive Schrittweitensteuerung\n",
    "````"
   ]
  },
  {
   "cell_type": "markdown",
   "id": "18c89dfd-b8e1-4e82-b275-8f91080b3097",
   "metadata": {},
   "source": [
    "# Adaptive Schrittweitensteuerung\n",
    "\n",
    "ODE-Lösungsroutinen nutzen *adaptive Schrittweitensteuerungen*, um an sensiblen Stellen der Lösung möglichst nicht zu divergieren, und um an weniger sensiblen Stellen den Rechenaufwand gering zu halten. Aufbauend auf den Kapiteln zu Runge-Kutta-Verfahren sind zwei Verfahren naheliegend (es gibt mehr):\n",
    "\n",
    "1. Halbierung der Schrittweite und testen auf Konvergenz - \"Lohnt es sich noch, die Schrittweite zu verkleinern?\"\n",
    "2. Vergleich zweier Verfahren unterschiedlicher Ordnung - \"Ist mein aktuelles Verfahren mit der aktuellen Schrittweite schon gut genug?\""
   ]
  },
  {
   "cell_type": "markdown",
   "id": "7cbbeab5-c2af-469e-9bc0-e08f5655746a",
   "metadata": {},
   "source": [
    "## 1. \"Lohnt es sich noch, die Schrittweite zu verkleinern?\"\n",
    "\n",
    "Wir wissen, dass mit einer kleineren Schrittweite $h$ ein genaueres Ergebnis für $y_{i+1}$ zu erwarten ist. Bei Verfahren 2. Ordnung wird mit einer halbierten Schrittweite ein geviertelter Fehler einhergehen. Das können wir nutzen, um zu prüfen, ob die bisherige Schrittweite klein genug war.\n",
    "\n",
    "Nutzen Sie Ihren Code mit dem expliziten Eulerverfahren aus {ref}(integration_rk) und implementieren Sie eine adaptive Schrittweitensteuerung über Halbierung der Schrittweite und testen auf Konvergenz."
   ]
  },
  {
   "cell_type": "code",
   "execution_count": null,
   "id": "f27b02cc-ed75-4bd4-b652-0fb384cdd90e",
   "metadata": {},
   "outputs": [],
   "source": [
    "% your code here\n",
    "\n",
    "d     = 0.999;\n",
    "y0    = d;\n",
    "xmax  = 10;\n",
    "i     = 1;\n",
    "h     = 0.1;\n",
    "while x < tmax\n",
    "    err      = 1;\n",
    "    y_alt    = y_neu;\n",
    "    while err > rtol\n",
    "        h     = h/2;\n",
    "        y_neu = y_alt + dgl(y(i-1),d);\n",
    "        err   = abs(y_neu - y_alt)/abs(y_neu);\n",
    "    end\n",
    "    x        = x + h;\n",
    "    xspan(i) = x;\n",
    "    y(i)     = y_neu;\n",
    "    i        = i + 1;\n",
    "end\n",
    "\n",
    "plot(xspan,y)\n",
    "\n",
    "function ydot = dgl(y,d)\n",
    "    ydot = -y/sqrt(d^2-y^2);\n",
    "end"
   ]
  },
  {
   "cell_type": "markdown",
   "id": "1f025026-e117-418a-8216-befc3e6e8938",
   "metadata": {},
   "source": [
    "## \"Ist mein aktuelles Verfahren mit der aktuellen Schrittweite schon gut genug?\"\n",
    "\n",
    "Anstatt das Verfahren mit sich selber zu vergleichen, verwenden Routinen wie `ode45` einen Vergleich von Verfahren unterschiedlicher Ordnung miteinander (hier 4. und 5. Ordnung).\n",
    "\n",
    "Ändern Sie Ihren Code so ab, dass Sie "
   ]
  }
 ],
 "metadata": {
  "kernelspec": {
   "display_name": "Octave",
   "language": "octave",
   "name": "octave"
  },
  "language_info": {
   "name": ""
  }
 },
 "nbformat": 4,
 "nbformat_minor": 5
}
