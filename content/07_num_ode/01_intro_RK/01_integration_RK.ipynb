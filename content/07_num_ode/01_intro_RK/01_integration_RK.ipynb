{
 "cells": [
  {
   "cell_type": "markdown",
   "id": "80a29e11-5caa-4505-827a-94a33dd2b55c",
   "metadata": {},
   "source": [
    "````{panels}\n",
    "Voraussetzungen\n",
    "^^^\n",
    "- Schwingungen\n",
    "- Numerische Integration analytischer Funktionen\n",
    "---\n",
    "\n",
    "Lernziele\n",
    "^^^\n",
    "- Explizite Integrationsverfahren von gewöhnlichen Differentialgleichungen\n",
    "````"
   ]
  },
  {
   "cell_type": "markdown",
   "id": "5b207cff",
   "metadata": {
    "tags": []
   },
   "source": [
    "(integration_rk)=\n",
    "# Integration von ODEs mit expliziten Verfahren\n",
    "\n",
    "Gewöhnliche Differentialgleichungen (Ordinary Differential Equations, **ODE**s) können oft nicht analytisch gelöst werden.\n",
    "\n",
    "Während die harmonische Schwingungsgleichung\n",
    "\n",
    "$$\\ddot x + \\omega_0^2\\cdot x = 0$$\n",
    "\n",
    "eine analytische Lösung besitzt, hat das Inverse Tangentenproblem (auch Traktrix genannt)\n",
    "\n",
    "$$y' \\cdot \\sqrt{d^2-y^2} = - y$$\n",
    "\n",
    "schon keine klare analytische Lösung mehr. In der Praxis begegnen uns viele Fälle, in denen sich zwar eine Differentialgleichung aufstellen, aber nicht analytisch lösen lässt."
   ]
  },
  {
   "cell_type": "markdown",
   "id": "81c11dcb",
   "metadata": {
    "tags": []
   },
   "source": [
    "## Explizite Formulierungen\n",
    "\n",
    "Die Traktrix können wir nach $y'$ umformen zu\n",
    "\n",
    "$$y'(x,y(x)) = - \\frac{y(x)}{\\sqrt{d^2-y^2(x)}}.$$\n",
    "\n",
    "Hier sprechen wir nicht mehr von $y'(x,y(x))$, sondern von $f(x,y(x))$. Wenn wir die ODE in der Form\n",
    "\n",
    "$$y'(x) = f(x,y(x))$$\n",
    "\n",
    "schreiben, sprechen wir von einer **expliziten Formulierung**. Diese Form ist besonders interessant für uns, denn wir können unsere Kenntnisse aus der numerischen Integration auf sie anwenden. Das ist besonders hilfreich, wenn wir die Funktion, wie die Traktrix, nicht analytisch integrieren können.\n",
    "\n",
    "Wie die numerische Integration bekannter Funktionen können wir $f(x,y(x)$ integrieren, indem wir das Teilintervall $[x_i,x_{i+1}]$ integrieren:\n",
    "\n",
    "$$\\int_{x_i}^{x_{i+1}}f(x,y(x))dx \\approx y_{i+1} - y_i$$\n",
    "\n",
    "Durch Umstellen nach $y_{i+1}$ erhalten wir nach jedem Teilintervall einen neuen Funktionswert für $y$:\n",
    "\n",
    "$$y_{i+1} = y_i + \\int_{x_i}^{x_{i+1}} f(x,y(x))dx$$\n",
    "\n",
    "Für die Schrittweise Intgration führen wir außerdem ein\n",
    "\n",
    "$$h = x_{i+1} - x_i.$$"
   ]
  },
  {
   "cell_type": "markdown",
   "id": "760549d4-ef3b-4501-99ff-8f8e38b26c1c",
   "metadata": {},
   "source": [
    "## Aufgabe 1: Linke Rechteckregel\n",
    "\n",
    "Für die Integration bekannter Funktionen entspricht die linke Rechteckregel einem Rechteck unter dem Punkt $x_i$:\n",
    "\n",
    "```{image} images/quadratur_rechteck_x.png\n",
    ":alt: Name of image\n",
    ":width: 400px\n",
    ":align: center\n",
    "```\n",
    "\n",
    "Bei der Integration einer ODE entspricht die linke Rechteckregel dem Vektorpfeil (der Ableitung) im Punkt $(x_i,y_i)$:\n",
    "\n",
    "```{image} images/quadratur_rechteck_xdot.png\n",
    ":alt: Name of image\n",
    ":width: 600px\n",
    ":align: center\n",
    "```\n",
    "\n",
    "Wenden Sie die linke Rechteckregel\n",
    "\n",
    "$$\\int_{x_i}^{x_{i+1}}f(x,y(x)) dx \\approx h \\cdot f(x_i,y_i)$$\n",
    "\n",
    "auf die Traktrix an.\n",
    "\n",
    "Was passiert bei $x=0$? Wie können Sie dem Problem ausweichen?\n",
    "\n",
    "```{admonition} Hinweis\n",
    "Dieses Vorgehen entspricht dem **expliziten Eulerverfahren**, das in {ref}`euler_stability` weiter dikutiert wird. Die rechte Rechteckregel entspricht dem **impliziten Eulerverfahren**, das in {ref}`integration_implicit` behandelt wird.\n",
    "```"
   ]
  },
  {
   "cell_type": "code",
   "execution_count": null,
   "id": "78585f47",
   "metadata": {
    "tags": []
   },
   "outputs": [],
   "source": [
    "% your code here\n",
    "y0    = 1;\n",
    "n     = 20; % number of timesteps\n",
    "tmax  = 10;\n",
    "tspan = linspace(0,tmax,n);\n",
    "y     = zeros(n);\n",
    "for i = 1:n\n",
    "    t    = tspan(i);\n",
    "    y(i) = ...\n",
    "end\n",
    "\n",
    "plot(tspan,y)"
   ]
  },
  {
   "cell_type": "markdown",
   "id": "41f8110c-6aee-4b3a-9bde-6d0ef25e5761",
   "metadata": {
    "tags": []
   },
   "source": [
    "## Mehrstufige Verfahren\n",
    "\n",
    "## Aufgabe 2: Mittelpunktregel\n",
    "\n",
    "Um eine größere Genauigkeit zu erreichen, wenden Sie die Mittelpunktregel an.\n",
    "\n",
    "$$\\int_{x_i}^{x_{i+1}}f\\left(x,y(x)\\right)dx \\approx h \\cdot f\\left(x_{i+\\frac{1}{2}},y\\left(x_i\\right)\\right)$$\n",
    "\n",
    "```{image} images/quadratur_mittelpunkt_x.png\n",
    ":alt: Name of image\n",
    ":width: 400px\n",
    ":align: center\n",
    "```\n",
    "\n",
    "Hieraus ergibt sich für die schrittweise Integration\n",
    "\n",
    "$$y_{i+1} \\approx y_i + h \\cdot f\\left(\\frac{x_i+x_{i+1}}{2},y\\left(x_i\\right)\\right).$$\n",
    "\n",
    "```{image} images/quadratur_mittelpunkt_xdot.png\n",
    ":alt: Name of image\n",
    ":width: 600px\n",
    ":align: center\n",
    "```\n",
    "\n",
    "```{admonition} Hinweis\n",
    "Kopieren Sie Ihren Code in die neue Codebox oder auf Ihrem Rechner in eine neue Datei, um die Lösungen der verschiedenen Verfahren später vergleichen zu können.\n",
    "```"
   ]
  },
  {
   "cell_type": "code",
   "execution_count": null,
   "id": "d902f10a-7ef9-49de-a2b9-9e36b5f6b8ed",
   "metadata": {
    "tags": []
   },
   "outputs": [],
   "source": [
    "% your code here"
   ]
  },
  {
   "cell_type": "markdown",
   "id": "00bdff83-3e8c-4322-9bad-57357f3255e5",
   "metadata": {},
   "source": [
    "Streng genommen können Sie für die Approximation nicht $y(x_i)$ verwenden, sondern müssen $y\\left(x_{i+1/2}\\right)$ schätzen. Verwenden Sie dazu die linke Rechteckregel von oben:\n",
    "\n",
    "$$y\\left(x_{i+\\frac{1}{2}}\\right) = y_{i+\\frac{1}{2}} = y_i + \\frac{h}{2} f(x_i,y_i)$$\n",
    "\n",
    "Wir führen zur besseren Übersicht $K_1$ für die linke und $K_2$ für die mittlere Stützstelle ein und kommen zu:\n",
    "\n",
    "$$K_1 := f(x_i,y_i)$$\n",
    "$$K_2 := f\\left(x_i+\\frac{1}{2}h,y_i + \\frac{h}{2} K_1\\right)$$\n",
    "$$y_{i+1} \\approx y_i + h \\cdot K_2$$\n",
    "\n",
    "Übernehmen Sie die verbesserte Stützstelle $K_2$ in Ihrem Code. In der Abbildung sehen Sie, wie sich die verbesserte Ableitung auswirkt. Die kleinen blauen Pfeile beschreiben die Ableitung $f(x,y(x))$ an ausgewählten Stellen im Raum ausgewertet (da die ODE von der Zeit *und* dem Funktionswert abhängen kann).\n",
    "\n",
    "```{image} images/vectorfield_animated_traktrix_RK2.gif\n",
    ":alt: Name of image\n",
    ":width: 800px\n",
    ":align: center\n",
    "```\n",
    "\n",
    "```{admonition} Hinweis\n",
    "Dieses Vorgehen entspricht dem **Runge-Kutta-Verfahren 2. Ordnung**. Für die Kosinus-Funktion (also die Integration der Sinus-Funktion klappt das Verfahren sogar noch besser:\n",
    "```\n",
    "\n",
    "```{image} images/vectorfield_animated_cos_RK2.gif\n",
    ":alt: Name of image\n",
    ":width: 800px\n",
    ":align: center\n",
    "```"
   ]
  },
  {
   "cell_type": "code",
   "execution_count": null,
   "id": "6ef32bfe-32b0-4d9e-8128-401ae89cb3e9",
   "metadata": {},
   "outputs": [],
   "source": [
    "% your code here"
   ]
  },
  {
   "cell_type": "markdown",
   "id": "1a6f8214",
   "metadata": {},
   "source": [
    "## Anwendung auf höherstufige Verfahren\n",
    "\n",
    "Formulieren wir die Simpsonregel\n",
    "\n",
    "$$\\int_{x_i}^{x_{i+1}} f(x,y(x)) dx \\approx \\frac{x_{i+1} - x_i}{6}\\left(f(x_i,y_i)+4 f\\left(x_{i+\\frac{1}{2}},y_i\\right)+f(x_{i+1},y_i)\\right)$$\n",
    "\n",
    "um zu\n",
    "\n",
    "$$y_{i+1} \\approx y_i + h \\cdot \\left(\\frac{1}{6} \\cdot f\\left(x_i,y_i\\right) + \\frac{4}{6} \\cdot f\\left(x_i+\\frac{1}{2}h,y_i\\right) + \\frac{1}{6} \\cdot f\\left(x_i+h,y_i\\right)\\right).$$\n",
    "\n",
    "Außerdem benennen wir die drei verwendeten Stufenwerte als $K_1, K_2, K_3$, also\n",
    "\n",
    "$$\\begin{align}K_1 &= f\\left(x_i,y_i\\right)\\\\ K_2 &= f\\left(x_i+\\frac{1}{2}h,y_i\\right)\\\\ K_3 &= f\\left(x_i+h,y_i\\right)\\end{align}$$"
   ]
  },
  {
   "cell_type": "markdown",
   "id": "9ea1518a-713f-43a8-b2e6-8290a525543d",
   "metadata": {},
   "source": [
    "Bisher haben wir angenommen, dass wir $y_i$ auch für die mittlere Stützstelle $K_2 = f\\left(x_i+\\frac{1}{2}h,y_i\\right)$ und die rechte Stützstelle $K_3 = f\\left(x_i+h,y_i\\right)$ verwenden können. Das können wir aber noch besser. $K_2$ approximieren wir einfach mit der linken Rechteckregel (und setzen $K_1$ ein):\n",
    "\n",
    "$$K_2 = f\\left(x_i+\\frac{1}{2}h,y_i + \\frac{h}{2}\\cdot f(y_i,x_i)\\right) = f\\left(x_i+\\frac{1}{2}h,y_i + h\\cdot\\frac{1}{2}K_1\\right).$$\n",
    "\n",
    "Für $K_3$ verwenden wir zusätzlich auch $K_2$ als Stützstelle:\n",
    "\n",
    "$$\\begin{align} & \\\\ & \\end{align}\n",
    "K_3 = f\\left(x_i + h, y_i + h \\cdot \\left(-1 \\cdot K_1 + 2 \\cdot K_2 \\right)\\right).$$\n",
    "\n",
    "Setzen wir das zurück in die Simpsonregel ein, ergibt sich das Runge-Kutta-Verfahren der Ordnung 3:\n",
    "\n",
    "$$y_{i+1} = y_i + h \\cdot \\left(\\frac{1}{6}K_1 + \\frac{4}{6}K_2 + \\frac{1}{6}K_3\\right)$$\n",
    "\n",
    "In der Abbildung sehen Sie, wie die einzelnen Faktoren das Ergebnis für eine ergeben. Da die Auswertungsstelle für $K_3$ unschön ist, finden Sie darunter auch die Aufstellung der Faktoren für eine Kosinus-Funktion."
   ]
  },
  {
   "cell_type": "markdown",
   "id": "e7d2da52-5d6e-41d3-ab7d-2360e5ab9ffd",
   "metadata": {},
   "source": [
    "```{image} images/vectorfield_animated_traktrix.gif\n",
    ":alt: Name of image\n",
    ":width: 800px\n",
    ":align: center\n",
    "```\n",
    "\n",
    "```{image} images/vectorfield_animated_cos.gif\n",
    ":alt: Name of image\n",
    ":width: 800px\n",
    ":align: center\n",
    "```\n",
    "\n",
    "```{admonition} Hinweis\n",
    "Verwechseln Sie nicht die mehr*stufigen* Verfahren mit Mehr*schritt*verfahren. Letztere verwenden zusätzlich zu $y_i$ auch vorherige Auswertungen $y_{i-c\\cdot h}$.\n",
    "```"
   ]
  },
  {
   "cell_type": "markdown",
   "id": "fb230b1c",
   "metadata": {},
   "source": [
    "## Aufgabe 3: Implementierung des Runge-Kutta-Verfahrens 3. Ordnung\n",
    "\n",
    "Passen Sie Ihren Code so an, dass zur Lösung anstelle des expliziten Eulerverfahrens das RK-Verfahren 3. Ordnung verwendet wird."
   ]
  },
  {
   "cell_type": "code",
   "execution_count": null,
   "id": "e183d65d",
   "metadata": {},
   "outputs": [],
   "source": [
    "% your code here"
   ]
  },
  {
   "cell_type": "markdown",
   "id": "4c0f431f-e66e-4187-9a1e-b3e9eaf147b7",
   "metadata": {},
   "source": [
    "## Aufgabe 4: Ordnungen der Verfahren\n",
    "\n",
    "Die Ordnung $\\mathcal{O(h)}$ gibt an, wie sich ein Fehler bei Verkleinerung der Schrittweite ändern. Ein Verfahren 2. Ordnung, $\\mathcal{O}(h^2)$ hat also bei Halbierung der Schrittweite nur noch ein Viertel des Fehlers.\n",
    "\n",
    "Ermitteln Sie nun **experimentell** die Ordnungen der von Ihnen entwickelten Verfahren anhand der Traktrix:\n",
    "\n",
    "- explizites Eulerverfahren (Linke Rechteckregel)\n",
    "- Mittelpunktregel ohne Schätzung von $y_{i+\\frac{1}{2}}$\n",
    "- Runge-Kutta-Verfahren 2. Ordnung (Mittelpunktregel mit Schätzung von $y_{i+\\frac{1}{2}}$\n",
    "- Runge-Kutta-Verfahren 3. Ordnung (Simpsonregel)"
   ]
  },
  {
   "cell_type": "code",
   "execution_count": null,
   "id": "732fb09b-54ab-41f0-b8bd-9a58066408c2",
   "metadata": {},
   "outputs": [],
   "source": [
    "% your code here"
   ]
  }
 ],
 "metadata": {
  "kernelspec": {
   "display_name": "Octave",
   "language": "octave",
   "name": "octave"
  },
  "language_info": {
   "file_extension": ".m",
   "help_links": [
    {
     "text": "GNU Octave",
     "url": "https://www.gnu.org/software/octave/support.html"
    },
    {
     "text": "Octave Kernel",
     "url": "https://github.com/Calysto/octave_kernel"
    },
    {
     "text": "MetaKernel Magics",
     "url": "https://metakernel.readthedocs.io/en/latest/source/README.html"
    }
   ],
   "mimetype": "text/x-octave",
   "name": "octave",
   "version": "5.2.0"
  }
 },
 "nbformat": 4,
 "nbformat_minor": 5
}
