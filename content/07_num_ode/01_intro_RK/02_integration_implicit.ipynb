{
 "cells": [
  {
   "cell_type": "markdown",
   "id": "4e2b907b-19e9-4f9c-84ee-c7529d31e173",
   "metadata": {},
   "source": [
    "````{panels}\n",
    "Voraussetzungen\n",
    "^^^\n",
    "- Traktrix\n",
    "- Explizite Integrationsverfahren von gewöhnlichen Differentialgleichungen\n",
    "---\n",
    "\n",
    "Lernziele\n",
    "^^^\n",
    "- Implizite Integrationsverfahren von gewöhnlichen Differentialgleichungen\n",
    "````"
   ]
  },
  {
   "cell_type": "markdown",
   "id": "b16180e7-497d-4c0f-b7a2-0a98fc0262b9",
   "metadata": {},
   "source": [
    "(integration_implicit)=\n",
    "# Integration von ODEs mit impliziten Verfahren\n",
    "\n",
    "Wir wollen in diesem Kapitel wieder die Traktrix\n",
    "\n",
    "$$f(x,y(x)) = y'(x) = - \\frac{y}{\\sqrt{d^2-y^2(x)}}$$\n",
    "\n",
    "lösen, diesmal mit impliziten Verfahren."
   ]
  },
  {
   "cell_type": "markdown",
   "id": "43dc0039-6577-49cb-a644-ece01a2981c7",
   "metadata": {},
   "source": [
    "## Aufgabe 1: Die rechte Rechteckregel\n",
    "\n",
    "Die rechte Rechteckregel lautet\n",
    "\n",
    "$$\\int_{x_i}^{x_{i+1}}f(x,y(x))dx \\approx h \\cdot f(x_{i+1},y_{i+1}).$$\n",
    "\n",
    "Daraus leiten wir für die ODE ab:\n",
    "\n",
    "$$y_{i+1} \\approx y_i + h \\cdot f(x_{i+1},y_{i+1})$$\n",
    "\n",
    "Diese Gleichung können wir nach $0$ umstellen, wodurch wir anstelle der ODE ein Nullstellenproblem für jeden Schritt lösen müssen:\n",
    "\n",
    "$$0 = - y_{i+1} + y_i + h \\cdot f(x_{i+1},y_{i+1}) := g(y_{i+1})$$\n",
    "\n",
    "Die Nullstelle der Funktion $g(y_{i+1})$ ist also unser gesuchter nächster Schritt.\n",
    "\n",
    "`````{admonition} Hinweis\n",
    "Dieses Vorgehen entspricht dem **impliziten Eulerverfahren**, das in {ref}`euler_stability` weiter dikutiert wird.\n",
    "\n",
    "````{admonition} Vergleich mit der numerischen Integration skalarer Funktionen\n",
    ":class: dropdown\n",
    "Auch die impliziten Verfahren lassen sich mit der Integration algebraischer Funktionen vergleichen. Für die Integration einer bekannten Funktion $f(x)$:\n",
    "\n",
    "```{image} images/quadratur_rechteck_rechts_x.png\n",
    ":alt: Name of image\n",
    ":width: 500px\n",
    ":align: center\n",
    "```\n",
    "\n",
    "Und für die Integration einer Funktion $f(x,y)=y'$:\n",
    "\n",
    "```{image} images/quadratur_rechteck_rechts_xdot.png\n",
    ":alt: Name of image\n",
    ":width: 500px\n",
    ":align: center\n",
    "```\n",
    "\n",
    "````\n",
    "`````\n",
    "\n",
    "Implementieren Sie das implizite Eulerverfahren für die Traktrix, indem Sie für jeden Zeitschritt eine.\n",
    "\n",
    "```{admonition} Tipp\n",
    ":class: tip\n",
    "Eine MATLAB-Routine zum Finden von Nullstellen, `fzero` kennen Sie bereits aus {ref}`newton_aufgaben`.\n",
    "```"
   ]
  },
  {
   "cell_type": "code",
   "execution_count": null,
   "id": "21333c42-674e-4a15-9f03-3f28b57387f4",
   "metadata": {},
   "outputs": [],
   "source": [
    "% your code here\n",
    "y0    = 1;\n",
    "n     = 20; % number of timesteps\n",
    "tmax  = 10;\n",
    "tspan = linspace(0,tmax,n);\n",
    "y     = zeros(n);\n",
    "y(1)  = y0;\n",
    "for i = 2:n\n",
    "    t    = tspan(i);\n",
    "    y(i) = fzero(...);\n",
    "end\n",
    "\n",
    "plot(tspan,y)"
   ]
  },
  {
   "cell_type": "markdown",
   "id": "55a81fba-6d33-49c5-9f28-bfb077c3641b",
   "metadata": {},
   "source": [
    "## Aufgabe 2: Die bessere Trapezregel (implizit gelöst)\n",
    "\n",
    "In {ref}`centroidal_integration` haben Sie die linke Rechteckregel genutzt, um Ihre Werte für die Stützstelle der Mittelpunktsregel zu schätzen, und sind bei einem Runge-Kutta-Verfahren 2. Ordnung gelandet. Anstelle dessen, lösen Sie die Mittelpunktsregel wie in Aufgabe 1 implizit.\n",
    "\n",
    "```{admonition} Hinweis\n",
    "Zur Erinnerung die Mittelpunktsregel:\n",
    "\n",
    "$$\\int_{x_i}^{x_{i+1}}f(x,y(x))dx \\approx \\frac{1}{2}h \\cdot \\left(f(x_i,y_i) + f(x_{i+1},y_{i+1})\\right)$$\n",
    "```"
   ]
  },
  {
   "cell_type": "code",
   "execution_count": null,
   "id": "08621ddd-3ba2-4c1d-8aa2-c65845c54fba",
   "metadata": {
    "tags": []
   },
   "outputs": [],
   "source": [
    "% your code here"
   ]
  }
 ],
 "metadata": {
  "kernelspec": {
   "display_name": "Octave",
   "language": "octave",
   "name": "octave"
  },
  "language_info": {
   "file_extension": ".m",
   "help_links": [
    {
     "text": "GNU Octave",
     "url": "https://www.gnu.org/software/octave/support.html"
    },
    {
     "text": "Octave Kernel",
     "url": "https://github.com/Calysto/octave_kernel"
    },
    {
     "text": "MetaKernel Magics",
     "url": "https://metakernel.readthedocs.io/en/latest/source/README.html"
    }
   ],
   "mimetype": "text/x-octave",
   "name": "octave",
   "version": "5.2.0"
  }
 },
 "nbformat": 4,
 "nbformat_minor": 5
}
