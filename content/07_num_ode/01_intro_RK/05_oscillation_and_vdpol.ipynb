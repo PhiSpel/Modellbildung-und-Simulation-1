{
 "cells": [
  {
   "cell_type": "markdown",
   "id": "50e6c578-0f93-42db-b41a-b35635089a34",
   "metadata": {},
   "source": [
    "````{panels}\n",
    "Voraussetzungen\n",
    "^^^\n",
    "- Runge-Kutta-Verfahren zur numerischen Integration von gewöhnlichen Differentialgleichungen\n",
    "---\n",
    "\n",
    "Lernziele\n",
    "^^^\n",
    "- Lösen von mehrdimensionalen gewöhnlichen Differentialgleichungen\n",
    "````"
   ]
  },
  {
   "cell_type": "markdown",
   "id": "bdfbdc33-c101-4796-890a-6d342f11c3c1",
   "metadata": {},
   "source": [
    "# Systeme von ODEs\n",
    "\n",
    "## Aufgabe 1: Schwingung eines Pendels\n",
    "\n",
    "Die Schwingungsgleichung eines Pendels haben Sie bereits in {ref}`harmonic_oscillation` mit `ode45` gelöst. Implementieren Sie nun eines Ihrer Verfahren aus {ref}`integration_rk` und {ref}`integration_implicit` zum Lösen der von Ihnen hergeleiteten Differentialgleichung. Dazu muss Ihr Code auch mit Systemen von ODEs umgehen können."
   ]
  },
  {
   "cell_type": "code",
   "execution_count": null,
   "id": "9d6c37e0-ef93-4692-aafb-d681f9f6ccc1",
   "metadata": {},
   "outputs": [],
   "source": [
    "%your code here"
   ]
  },
  {
   "cell_type": "markdown",
   "id": "3e43c3c9-3c52-4773-8bc8-3ca5db83c888",
   "metadata": {},
   "source": [
    "## Aufgabe 2: Die van-der-Pol Gleichung\n",
    "\n",
    "Die van-der-Pol Gleichung lautet\n",
    "\n",
    "$$\\ddot{x} - \\varepsilon(1-x^2)\\dot{x} + x = 0$$\n",
    "\n",
    "Analog zu dem Fadenpendel kann $x$ als ein Winkel beziehungsweise eine Auslenkung interpretiert werden. Die van-der-Pol Gleichung stellt ein besonderes Problem für numerische Verfahren dar. Testen Sie anhand dieser Gleichung Ihre Lösungsverfahren und plotten Sie Ihr Ergebnis. Nehmen Sie auch die Dauern Ihrer Verfahren auf. Ihre Lösung könnte beispielsweise so aussehen:\n",
    "\n",
    "```{image} images/vdP_comparison_1.png\n",
    ":alt: Name of image\n",
    ":width: 400px\n",
    ":align: center\n",
    "```\n",
    "\n",
    "```{image} images/vdP_comparison_2.png\n",
    ":alt: Name of image\n",
    ":width: 400px\n",
    ":align: center\n",
    "```"
   ]
  },
  {
   "cell_type": "code",
   "execution_count": null,
   "id": "25bbf6e4-8a83-4862-94da-7fbb1e6b7132",
   "metadata": {},
   "outputs": [],
   "source": [
    "%your code here"
   ]
  },
  {
   "cell_type": "markdown",
   "id": "807a70e9-667a-418e-ad0f-da5fa52084fa",
   "metadata": {},
   "source": [
    "## Aufgabe 3: Die inhomogene van-der-Pol Gleichung\n",
    "\n",
    "Ein schwingfähiges System kann periodisch angeregt werden. Das ist besonders interessant für Resonanzfälle, die gewünscht oder unerwünscht sein können. Für eine periodisch angeregte van-der-Pol Schwingung lautet die Gleichung\n",
    "\n",
    "$$\\ddot{x} - \\varepsilon(1-x^2)\\dot{x} + x = A \\cos(\\omega t + \\varphi_0).$$"
   ]
  }
 ],
 "metadata": {
  "kernelspec": {
   "display_name": "Octave",
   "language": "octave",
   "name": "octave"
  },
  "language_info": {
   "file_extension": ".m",
   "help_links": [
    {
     "text": "GNU Octave",
     "url": "https://www.gnu.org/software/octave/support.html"
    },
    {
     "text": "Octave Kernel",
     "url": "https://github.com/Calysto/octave_kernel"
    },
    {
     "text": "MetaKernel Magics",
     "url": "https://metakernel.readthedocs.io/en/latest/source/README.html"
    }
   ],
   "mimetype": "text/x-octave",
   "name": "octave",
   "version": "5.2.0"
  }
 },
 "nbformat": 4,
 "nbformat_minor": 5
}
