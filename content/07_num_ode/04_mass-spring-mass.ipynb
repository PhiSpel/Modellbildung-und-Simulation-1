{
 "cells": [
  {
   "cell_type": "markdown",
   "id": "6b717163",
   "metadata": {},
   "source": [
    "# Rutschendes Masse-Feder-Masse System\n",
    "\n",
    "Vor einer Wand ruhen zwei gleiche Körper mit jeweils der Masse m auf einem glatten, d.h. reibungsfreien Boden. Zwischen den Körpern befindet sich eine Feder mit Federkonstante $c$, die durch einen Faden um die Strecke $\\Delta s$ zusammengedrückt wird. Zur Zeit $t=0$ wird der Faden durchgeschnitten.\n",
    "\n",
    "```{image} images/mass-spring-mass.png\n",
    ":alt: Mass-Spring-Mass Description\n",
    ":width: 800px\n",
    ":align: center\n",
    "```"
   ]
  },
  {
   "cell_type": "markdown",
   "id": "5668793b",
   "metadata": {},
   "source": [
    "## Aufgabe 1: Physikalische Intuition\n",
    "\n",
    "- Zu welcher Zeit $t_A$ löst sich der Körper 1 von der Wand und wie groß ist dabei die Schwerpunktsgeschwindigkeit $v_S$?\n",
    "- Wie groß ist vermutlich die maximale Federdehnung $s_\\text{max}$ der anschließenden Schwingung?"
   ]
  },
  {
   "cell_type": "markdown",
   "id": "0dba399d",
   "metadata": {},
   "source": [
    "## Aufgabe 2: Berechnung der Bewegung\n",
    "\n",
    "- Die Zeit $t_A$ durch Analyse einer Schwingungsbewegung allgemein gelöst werden. Danach nutzen Sie den Energieerhaltungssatz.\n",
    "- Teil (b) aus Aufgabe 1: Wie groß ist der Schwerpunktsanteil, wie groß der Relativanteil an der Bewegungsenergie?"
   ]
  },
  {
   "cell_type": "markdown",
   "id": "d918dae6",
   "metadata": {},
   "source": [
    "## Aufgabe 3: Lösung als ODE\n",
    "\n",
    "Stellen Sie nun die ODE des Systems auf. Nutzen Sie zur Animation Ihrer Ergebnisse die unten stehenden Skripte."
   ]
  },
  {
   "cell_type": "markdown",
   "id": "9d00544e",
   "metadata": {},
   "source": [
    "**MATLAB Animation**\n",
    "\n",
    "Inklusive GIF-Export zum Vergleich verschiedener Szenarien."
   ]
  },
  {
   "cell_type": "code",
   "execution_count": null,
   "id": "b49c54ca",
   "metadata": {
    "tags": [
     "hide_input"
    ]
   },
   "outputs": [],
   "source": [
    "function plotboxes(t,q,q0)\n",
    "    filename = 'boxes_animated.gif';\n",
    "    gifeverynth = 5;\n",
    "    ploteverynth = 1;\n",
    "\n",
    "    h = figure(1);\n",
    "    boxdim = 1;\n",
    "\n",
    "    ax = axes(h);\n",
    "    set(ax,'xlim',[0 (max(q(:,2)+3*boxdim))])\n",
    "    line(xlim, [0 0],'Color','black')\n",
    "    axis equal\n",
    "\n",
    "    box1 = [0 0; boxdim 0; boxdim boxdim; 0 boxdim] ;\n",
    "    box2 = [0 0; boxdim 0; boxdim boxdim; 0 boxdim] + [(q0(2)+boxdim) 0];\n",
    "\n",
    "    for i = 1:length(t)\n",
    "        if mod(i-1,ploteverynth)==0\n",
    "            if i > 1\n",
    "                delete(p1);\n",
    "                delete(p2);\n",
    "                delete(spring);\n",
    "            end\n",
    "            P1 = box1+[q(i,1) 0];\n",
    "            P2 = box2+[q(i,2) 0];\n",
    "            if i == 1\n",
    "                string = line([P1(3,1) P2(4,1)], [P1(3,2) P2(4,2)],'Color','red','Linestyle',':','Linewidth',2);\n",
    "            end\n",
    "            spring = line([P1(3,1) P2(4,1)], [P1(3,2) P2(4,2)]/2,'Color','black','Linestyle','-','Linewidth',2);\n",
    "            p1 = patch(P1(:,1),P1(:,2),'r');\n",
    "            p2 = patch(P2(:,1),P2(:,2),'r');\n",
    "            title(['t = ',num2str(t(i))])\n",
    "            drawnow\n",
    "        end\n",
    "        if q(i,3)<1e-3 && q(i,4)<1e-3 && q(i,1)>0\n",
    "            title(['t = ',num2str(t(i)),', stopped plot due no further movement'])\n",
    "            frame = getframe(h); \n",
    "            im = frame2im(frame); \n",
    "            [imind,cm] = rgb2ind(im,256);\n",
    "            imwrite(imind,cm,filename,'gif','DelayTime',2,'WriteMode','append');\n",
    "            break\n",
    "        end\n",
    "        if mod(i-1,gifeverynth)==0\n",
    "            % Capture the plot as an image \n",
    "            frame = getframe(h); \n",
    "            im = frame2im(frame); \n",
    "            [imind,cm] = rgb2ind(im,256); \n",
    "            % Write to the GIF File \n",
    "            if i == 1\n",
    "                imwrite(imind,cm,filename,'gif','DelayTime',2,'Loopcount',inf)\n",
    "            else\n",
    "                imwrite(imind,cm,filename,'gif','DelayTime',0.1,'WriteMode','append');\n",
    "            end\n",
    "        end\n",
    "        if i == 1\n",
    "            pause(1)\n",
    "            delete(string);\n",
    "        end\n",
    "    end\n",
    "\n",
    "    figure(2)\n",
    "    plot(t,q(:,1),t,q(:,2))\n",
    "    title('movements of boxes 1 and 2')\n",
    "    legend('box 1','box 2')\n",
    "    xlabel('time')\n",
    "    ylabel('x')\n",
    "\n",
    "end"
   ]
  },
  {
   "cell_type": "markdown",
   "id": "d963fee6",
   "metadata": {},
   "source": [
    "**OCTAVE Animation**\n",
    "\n",
    "```{admonition} Hinweis\n",
    "Sollte das Schreiben der GIF-Datei sehr lange dauern, setzen Sie im Code `gifeverynth = 0` oder sehr hoch.\n",
    "```"
   ]
  },
  {
   "cell_type": "code",
   "execution_count": null,
   "id": "ae7a9579",
   "metadata": {
    "tags": [
     "hide_input"
    ]
   },
   "outputs": [],
   "source": [
    "function plotboxes_OCTAVE(t,q,q0)\n",
    "    %graphics_toolkit (gnuplot)\n",
    "    filename = 'boxes_animated.gif';\n",
    "    gifeverynth = 20;\n",
    "    ploteverynth = 5;\n",
    "\n",
    "    h = figure(1);\n",
    "    boxdim = 1;\n",
    "\n",
    "    ax = axes(h);\n",
    "    set(ax,'xlim',[0 (max(q(:,2)+3*boxdim))])\n",
    "    axis equal\n",
    "\n",
    "    box1 = [0 0; boxdim 0; boxdim boxdim; 0 boxdim] ;\n",
    "    box2 = [0 0; boxdim 0; boxdim boxdim; 0 boxdim] + [(q0(2)+boxdim) 0];\n",
    "\n",
    "    for i = 1:length(t)\n",
    "        if mod(i-1,ploteverynth)==0\n",
    "            if i > 1\n",
    "                delete(p1);\n",
    "                delete(p2);\n",
    "                delete(spring);\n",
    "            end\n",
    "            P1 = box1+[q(i,1) 0];\n",
    "            P2 = box2+[q(i,2) 0];\n",
    "            if i == 1\n",
    "                string = line([P1(3,1) P2(4,1)], [P1(3,2) P2(4,2)],'Color','red','Linestyle',':','Linewidth',2);\n",
    "            end\n",
    "            spring = line([P1(3,1) P2(4,1)], [P1(3,2) P2(4,2)]/2,'Color','black','Linestyle','-','Linewidth',2);\n",
    "            p1 = patch(P1(:,1),P1(:,2),'r');\n",
    "            p2 = patch(P2(:,1),P2(:,2),'r');\n",
    "            title(['t = ',num2str(t(i))])\n",
    "            drawnow\n",
    "        end\n",
    "        if q(i,3)<1e-3 && q(i,4)<1e-3 && q(i,1)>0\n",
    "            title(['t = ',num2str(t(i)),', stopped plot due no further movement'])\n",
    "            break\n",
    "        end\n",
    "        if gifeverynth > 0 && mod(i-1,gifeverynth)==0\n",
    "            % Capture the plot as an image \n",
    "            frame = getframe(h); \n",
    "            im = frame2im(frame); \n",
    "            [imind,cm] = rgb2ind(im); \n",
    "            % Write to the GIF File \n",
    "            if i == 1\n",
    "                imwrite(imind,cm,filename,'gif', 'Loopcount',inf,'Quality',10)%ind,cm\n",
    "            else\n",
    "                if i == gifeverynth\n",
    "                    imwrite(imind,cm,filename,'gif','DelayTime',1,'WriteMode','append','Quality',10);\n",
    "                else\n",
    "                    imwrite(imind,cm,filename,'gif','DelayTime',0.1,'WriteMode','append','Quality',10);\n",
    "                end\n",
    "            end\n",
    "        end\n",
    "        if i == 1\n",
    "            pause(1)\n",
    "            delete(string);\n",
    "        else\n",
    "            pause(0.01)\n",
    "        end\n",
    "    end\n",
    "\n",
    "    figure(2)\n",
    "    plot(t,q(:,1),t,q(:,2))\n",
    "    title('movements of boxes 1 and 2')\n",
    "    legend('box 1','box 2')\n",
    "    xlabel('time')\n",
    "    ylabel('x')\n",
    "\n",
    "end"
   ]
  },
  {
   "cell_type": "markdown",
   "id": "d8c53953",
   "metadata": {},
   "source": [
    "Ihr Ergebnis könnte beispielsweise so aussehen ($l_0 = 1 \\,\\text{m}$, $c = 50 \\,\\frac{\\text{N}}{\\text{m}}$, $x_2(t=0) = 0.5 \\,\\text{m}$, $m_1 = m_2 = 2 \\,\\text{kg}$):\n",
    "\n",
    "```{image} images/boxes_animated_std.gif\n",
    ":alt: Mass-Spring-Mass Animated Standard GIF\n",
    ":width: 600px\n",
    ":align: center\n",
    "```\n",
    "\n",
    "```{image} images/boxes_animated_std.png\n",
    ":alt: Mass-Spring-Mass Animated Standard Plot\n",
    ":width: 600px\n",
    ":align: center\n",
    "```\n",
    "\n",
    "Bei unterschiedlichen Massen sieht das Verhalten etwas anders aus (hier: $m_1 = 4 \\,\\text{kg}, m_2 = 2 \\,\\text{kg}$):\n",
    "\n",
    "```{image} images/boxes_animated_massdiff.gif\n",
    ":alt: Mass-Spring-Mass Animated Different Masses GIF\n",
    ":width: 600px\n",
    ":align: center\n",
    "```\n",
    "\n",
    "```{image} images/boxes_animated_massdiff.png\n",
    ":alt: Mass-Spring-Mass Animated Different Masses Plot\n",
    ":width: 600px\n",
    ":align: center\n",
    "```"
   ]
  },
  {
   "cell_type": "markdown",
   "id": "bb4cdfea",
   "metadata": {},
   "source": [
    "## Aufgabe 4\n",
    "\n",
    "- Erweitern Sie nun Ihre ODE Funktion so, dass Sie auch einen Reibungskoeffizienten mit einbeziehen können.\n",
    "- Bedenken Sie, wovon die Reibkraft abhängt, wie und wann sie wirkt.\n",
    "- Setzen Sie sinnvolle Abbruchbedingungen, um Oszillationen mit sehr geringer Bewegung zu vermeiden.\n",
    "\n",
    "Für $\\mu = 0.05$ und $m_1 = m_2 = 2 \\,\\text{kg}$ schwingt das System so:\n",
    "\n",
    "```{image} images/boxes_animated_friction.gif\n",
    ":alt: Mass-Spring-Mass Friciton GIF\n",
    ":width: 600px\n",
    ":align: center\n",
    "```\n",
    "\n",
    "```{image} images/boxes_animated_friction.png\n",
    ":alt: Mass-Spring-Mass Animatex Friciton Plot\n",
    ":width: 600px\n",
    ":align: center\n",
    "```"
   ]
  }
 ],
 "metadata": {
  "kernelspec": {
   "display_name": "Octave",
   "language": "octave",
   "name": "octave"
  },
  "language_info": {
   "file_extension": ".m",
   "help_links": [
    {
     "text": "GNU Octave",
     "url": "https://www.gnu.org/software/octave/support.html"
    },
    {
     "text": "Octave Kernel",
     "url": "https://github.com/Calysto/octave_kernel"
    },
    {
     "text": "MetaKernel Magics",
     "url": "https://metakernel.readthedocs.io/en/latest/source/README.html"
    }
   ],
   "mimetype": "text/x-octave",
   "name": "octave",
   "version": "6.2.0"
  }
 },
 "nbformat": 4,
 "nbformat_minor": 5
}
