{
 "cells": [
  {
   "cell_type": "markdown",
   "id": "4ec176c9",
   "metadata": {},
   "source": [
    "(content:references:highline_dynamic)=\n",
    "# Modellierung einer Highline - Zeitliche Auflösung\n",
    "\n",
    "Sie kennen dieses Modell einer Highline bereits aus dem Kapitel zu linearen Gleichungen. Alle wichtigen Informationen finden Sie unter [](content:references:highline_static), genauer [](content:references:model_description:balance_of_forces)."
   ]
  },
  {
   "cell_type": "markdown",
   "id": "1175c27e",
   "metadata": {},
   "source": [
    "## Neu: Die dynamische Simulation\n",
    "\n",
    "Anstatt einen stationären Lastfall zu betrachten und so die Gleichung zu $S \\tilde{\\mathbf{z}} =\\mathbf{b}$ zu vereinfachen, betrachten wir weiterhin die oben stehende Gleichung inklusive der Dämpfungsmatrix $\\mathbf{D}$."
   ]
  },
  {
   "cell_type": "markdown",
   "id": "0437ccf0",
   "metadata": {},
   "source": [
    "## Aufgabe 1\n",
    "\n",
    "Lösen Sie die Differentialgleichung mit der Matlab–Routine `ode45` auf einem Zeitinterval von 90 Sekunden. Als externte Kraft Fext soll zunächst nur die Schwerkraft auf die Brückenknoten wirken. Verwenden Sie $\\mathbf{z}(0)=\\mathbf{\\dot{z}}(0)=0$ als Anfangsbedingungen. Zunächst nehmen wir $\\mathbf{F}_{ext} = \\text{const.} = \\mathbf{F}_g$ an.\n",
    "\n",
    "### Tipps:\n",
    "\n",
    "- Bringen Sie die DGL auf die Form\n",
    "\n",
    "$$\\mathbf{\\dot{q}}=F(t,\\mathbf{q})\\text{, mit } \\mathbf{q} = \\left[ \\begin{array}{c} \\mathbf{q}_0 \\\\ \\mathbf{q}_1 \\end{array} \\right] := \\left[ \\begin{array}{c} \\mathbf{z} \\\\ \\mathbf{\\dot{z}} \\end{array} \\right] \\in \\mathbb{R}^{4N}$$\n",
    "\n",
    "mit einer geeigneten Funktion $F:\\mathbb{R}^{4N}\\to\\mathbb{R}^{4N}$\n",
    "- Mit Ihrem Paramter `L` und den Ausgaben `[t,q]` aus `ode45` können Sie die hinterlegte Funktion `animate_bridge(L,t,q)` nutzen, um sich eine Animation Ihrer Simulation anzeigen zu lassen. Keine Sorge: In dieser Teilaufgabe darf die Auslenkung der Brücke noch unrealistisch hoch sein.\n",
    "- Holen Sie sich Inspiration aus den vorherigen Aufgaben, insbesondere Simulation eines Raketenstarts."
   ]
  },
  {
   "cell_type": "code",
   "execution_count": null,
   "id": "5ea5bc47",
   "metadata": {
    "tags": []
   },
   "outputs": [],
   "source": [
    "% space for the solution\n",
    "\n",
    "% S = ...\n",
    "% M = ...\n",
    "% K = ...\n",
    "% D = ...\n",
    "% F = ...\n",
    "\n",
    "% z = ...\n",
    "% q = ...\n",
    "% tspan = ...\n",
    "% y0 = ...\n",
    "\n",
    "%highlineode = ...\n",
    "\n",
    "[t,q] = ode45(highlineode,tspan,y0);"
   ]
  },
  {
   "cell_type": "markdown",
   "id": "128e3072",
   "metadata": {},
   "source": [
    "```{admonition} Hinweis\n",
    "Die Animation kann nicht interaktiv auf dieser Seite laufen. Laden Sie sich die Dateien herunter und rechnen Sie lokal auf Ihrem Computer.\n",
    "```"
   ]
  },
  {
   "cell_type": "code",
   "execution_count": null,
   "id": "baf3b422",
   "metadata": {
    "tags": [
     "hide_input"
    ]
   },
   "outputs": [],
   "source": [
    "function animate_bridge(L,t,q,pedestrians)\n",
    "\n",
    "dt = 0.2;                % time step size for animation\n",
    "Ta = min(t);             % start time\n",
    "Te = max(t);             % end time\n",
    "\n",
    "N = floor(size(q,2)/4);  % get number of mass points from q\n",
    "n = 2*N;\n",
    "\n",
    "timestep=0;\n",
    "for ti=Ta:dt:Te\n",
    "    timestep = timestep + 1;\n",
    "    \n",
    "    %get current displacement (interp1 is too slow)\n",
    "    [~,i]=min(abs(t-ti));\n",
    "    qi = q(i,:);\n",
    "    \n",
    "    %position of mass points = initial position + displacement\n",
    "    positions_x = qi(1:2:n)+L*linspace(1/(N+1),1-1/(N+1),N);\n",
    "    positions_y = qi(2:2:n);\n",
    "    \n",
    "    % x and y values of the bridge nodes\n",
    "    Xvalues=[0 positions_x L];\n",
    "    Yvalues=[0 positions_y 0];\n",
    "    \n",
    "    if nargin>3\n",
    "        % positions of the pedestrians\n",
    "        posx = pedestrians.positions(ti);\n",
    "        posy = interp1(Xvalues,Yvalues,posx);\n",
    "    end\n",
    "    \n",
    "    %% plot the animation of the bridge with pedestrians\n",
    "    cla;\n",
    "    hold on\n",
    "    plot(Xvalues,Yvalues,'kx');\n",
    "    if nargin>3\n",
    "        scatter(posx,posy,50,'fill');\n",
    "    end\n",
    "    axis equal\n",
    "    box on\n",
    "    ylim([-10,2]);\n",
    "    xlim([0,L]);\n",
    "    title(['t = ',num2str(ti,'%1.2f'),' s'])\n",
    "    xlabel('horizontal direction [m]')\n",
    "    ylabel('vertical direction [m]')\n",
    "    \n",
    "    drawnow\n",
    "end"
   ]
  },
  {
   "cell_type": "code",
   "execution_count": null,
   "id": "f57fbb5a",
   "metadata": {
    "tags": []
   },
   "outputs": [],
   "source": [
    "% plot the displacement of the slackline based on the solution vector z as well as the length of the slackline L\n",
    "% (the function animate_bridge is provided for you, you do not need to implement this)\n",
    "animate_bridge(L,t,q)"
   ]
  },
  {
   "cell_type": "markdown",
   "id": "253b868d",
   "metadata": {},
   "source": [
    "## Aufgabe 2\n",
    "\n",
    "Modifizieren Sie Ihr Skript, so dass zusätzlich zur Schwerkraft $\\mathbf{F}_g$ eine Anregung durch Wind $\\mathbf{F}_w$ sowie eine Anregung $\\mathbf{F}_p$ durch den Highliner modeliert wird, also\n",
    "\n",
    "$$\\mathbf{F}_{ext}(t) = \\mathbf{F}_g + \\mathbf{F}_w(t) + \\mathbf{F}_p(t).$$\n",
    "\n",
    "Simple Modelle für den Highliner und den Wind sind für Sie in `wind.m` und `highliner.m` hinterlegt. Diese können Sie mit den Befehlen"
   ]
  },
  {
   "cell_type": "code",
   "execution_count": null,
   "id": "926ff9f1",
   "metadata": {
    "tags": [
     "hide_input"
    ]
   },
   "outputs": [],
   "source": [
    "classdef pedestrians < handle\n",
    "    % pedestrians is an object to create the excitation caused by\n",
    "    % pedestrians on a hanging bridge.\n",
    "    properties\n",
    "        N;                      % no. of nodes of the bridge (i.e. mass points)\n",
    "        L;                      % length of the bridge [m]\n",
    "        weights;                % weights of the pedestrians\n",
    "        velocity  = 1.7988;     % velocity of the pedestrians [m/s]\n",
    "        frequency = 0.2863;     % frequency of pedestrians passing a point on the bridge [1/s]\n",
    "    end\n",
    "    methods\n",
    "        %% constructor (creates the object)\n",
    "        function p = pedestrians(N,L)\n",
    "            p.weights=75 + 20*randn(1000,1); % random weights with mean=70kg, std = 20 kg\n",
    "            p.N = N;\n",
    "            p.L = L;\n",
    "        end % constructor\n",
    "        %% excitation function\n",
    "        function F = excitation(obj,t)\n",
    "            \n",
    "            % allocate output vector\n",
    "            F=zeros(2*obj.N,1);\n",
    "            \n",
    "            %length of a bridge segment between two nodes\n",
    "            seglen = obj.L/(obj.N+1);\n",
    "            \n",
    "            %distance of two pedestrians\n",
    "            dx = obj.velocity/obj.frequency;\n",
    "            \n",
    "            %position of the pedestrians\n",
    "            x=obj.velocity*t:-dx:0;\n",
    "            \n",
    "            %restrict positions and weights to the bridge\n",
    "            weight=obj.weights(x<=obj.L);\n",
    "            x=x(x<=obj.L);\n",
    "            \n",
    "            for i=1:length(x)\n",
    "                %find the two nearest nodes to the i-th pedestrians\n",
    "                N0=floor(x(i)/seglen);\n",
    "                N1=ceil(x(i)/seglen);\n",
    "                \n",
    "                %distribute the weight of the i-th pedestrian to the two\n",
    "                %nearest nodes\n",
    "                a=(x(i)-N0*seglen)/seglen;\n",
    "                if N0>0 && N0<obj.N+1\n",
    "                    F(2*N0)=-(1-a)*weight(i)*9.81;\n",
    "                end\n",
    "                if N1>0 && N1<obj.N+1\n",
    "                    F(2*N1)=-a*weight(i)*9.81;\n",
    "                end\n",
    "            end\n",
    "        end %excitation function\n",
    "        %% positions(t) returns the horizontal positions of the pedestrians\n",
    "        function x = positions(obj,t)\n",
    "            \n",
    "            %distance of two pedestrians\n",
    "            dx = obj.velocity/obj.frequency;\n",
    "            \n",
    "            %position of the pedestrians\n",
    "            x=obj.velocity*t:-dx:0;\n",
    "            \n",
    "            %restrict positions to the bridge\n",
    "            x=x(x<obj.L);\n",
    "        end %positions\n",
    "    end% methods\n",
    "end"
   ]
  },
  {
   "cell_type": "code",
   "execution_count": null,
   "id": "c9485a12",
   "metadata": {
    "tags": [
     "hide_input"
    ]
   },
   "outputs": [],
   "source": [
    "classdef wind < handle\n",
    "    % pedestrians is an object to create the excitation caused by\n",
    "    % pedestrians on a hanging bridge.\n",
    "    properties\n",
    "        amplitude = 12;         % amplitude of the nodal forces due to wind [N]\n",
    "        frequency = 5.39506;    % frequency of the nodal forces due to wind [1/s]\n",
    "        weights;                % nodal weights for the force evaluation\n",
    "    end\n",
    "    methods\n",
    "        %% constructor (creates the object)\n",
    "        function w = wind(N)\n",
    "            w.weights = (1-linspace(-1,1,2*N).^2)';\n",
    "        end % constructor\n",
    "        %% excitation function\n",
    "        function F = excitation(obj,t)\n",
    "            \n",
    "            F=obj.amplitude*obj.weights*sin(obj.frequency*t);\n",
    "            \n",
    "        end %excitation function\n",
    "    end% methods\n",
    "end"
   ]
  },
  {
   "cell_type": "code",
   "execution_count": null,
   "id": "efac43f6",
   "metadata": {
    "tags": []
   },
   "outputs": [],
   "source": [
    "storm = wind(N);\n",
    "highliner = pedestrians(N,L);"
   ]
  },
  {
   "cell_type": "markdown",
   "id": "7d0dc72c",
   "metadata": {},
   "source": [
    "initialisieren. Achten Sie dazu auf die korrekte Belegung von `N` und `L`. Anschließend erhalten Sie $\\mathbf{F}_w(t)$ und $\\mathbf{F}_p(t)$ über die Ausdrücke\n",
    "\n",
    "$\\mathbf{F}_w(t) = $`storm.excitation(t)`,\n",
    "\n",
    "$\\mathbf{F}_p(t) = $`highliner.excitation(t)`.\n",
    "\n",
    "```{admonition} Hinweis\n",
    "Sollten Sie offline in Octave arbeiten, speichern Sie `wind.m` und `pedestrians.m` in separaten Dateien.\n",
    "```\n",
    "\n",
    "Simulieren Sie die Brücke für einen Zeitraum von 180 Sekunden. Erstellen Sie eine Animation mit dem Befehl"
   ]
  },
  {
   "cell_type": "code",
   "execution_count": null,
   "id": "99357946",
   "metadata": {
    "tags": []
   },
   "outputs": [],
   "source": [
    "animate_bridge(L,t,q, highliner)"
   ]
  },
  {
   "cell_type": "markdown",
   "id": "7b597f02",
   "metadata": {},
   "source": [
    "## Aufgabe 3\n",
    "\n",
    "Modifizieren Sie Ihr Skript, so dass es die folgenden Plots erstellt:\n",
    "\n",
    "- Ein Plot, der die Verschiebung der Brückenmitte über die Zeit darstellt.\n",
    "- Ein Plot, der die Beschleunigungen der Brückenmitte über die Zeit darstellt.\n",
    "\n",
    "Gibt es eine einfache Maßnahme, mit der für die gegebene Anregung $\\mathbf{F}_{ext}$ die Schwingungsamplitude\n",
    "der Brückenmitte verringert werden kann? Belegen Sie Ihre Antwort möglichst mit Simulationsergebnissen. Wie gut lässt sich Ihre Maßnahme in der Praxis umsetzen?"
   ]
  }
 ],
 "metadata": {
  "kernelspec": {
   "display_name": "Octave",
   "language": "octave",
   "name": "octave"
  },
  "language_info": {
   "file_extension": ".m",
   "help_links": [
    {
     "text": "GNU Octave",
     "url": "https://www.gnu.org/software/octave/support.html"
    },
    {
     "text": "Octave Kernel",
     "url": "https://github.com/Calysto/octave_kernel"
    },
    {
     "text": "MetaKernel Magics",
     "url": "https://metakernel.readthedocs.io/en/latest/source/README.html"
    }
   ],
   "mimetype": "text/x-octave",
   "name": "octave",
   "version": "6.2.0"
  }
 },
 "nbformat": 4,
 "nbformat_minor": 5
}
