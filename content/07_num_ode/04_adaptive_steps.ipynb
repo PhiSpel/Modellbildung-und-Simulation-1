{
 "cells": [
  {
   "cell_type": "markdown",
   "id": "18c89dfd-b8e1-4e82-b275-8f91080b3097",
   "metadata": {},
   "source": [
    "# Adaptive Schrittweitensteuerung\n",
    "\n",
    "ODE-Lösungsroutinen nutzen *adaptive Schrittweitensteuerungen*, um an sensiblen Stellen der Lösung möglichst nicht zu divergieren, und um an weniger sensiblen Stellen den Rechenaufwand gering zu halten. Hierzu "
   ]
  }
 ],
 "metadata": {
  "kernelspec": {
   "display_name": "Octave",
   "language": "octave",
   "name": "octave"
  },
  "language_info": {
   "name": ""
  }
 },
 "nbformat": 4,
 "nbformat_minor": 5
}
