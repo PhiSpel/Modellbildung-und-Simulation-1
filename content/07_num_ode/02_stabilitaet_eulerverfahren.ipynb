{
 "cells": [
  {
   "cell_type": "markdown",
   "metadata": {},
   "source": [
    "# Stabilität Eulerverfahren\n",
    "\n",
    "Bestimmte DGL lassen sich mit impliziten Verfahren besser lösen als mit expliziten Verfahren. Diese DGL bezeichnen wir als **steif**.\n",
    "\n",
    "Das liegt vor allem an der hohen Lipschitzkonstante, die für explizite Verfahren eine sehr kleine Schrittweite bedeutet $\\left(h<\\frac{2}{\\lambda}\\right)$."
   ]
  },
  {
   "cell_type": "markdown",
   "metadata": {},
   "source": [
    "## Stabilität für die Dahlquist-Gleichung\n",
    "\n",
    "Um ein Gefühl dafür zu bekommen, wann eine DGL steif ist, und wie das die Performanz der expliziten Löser beeinflusst, schauen wir uns die Dahlquist-Gleichung, also die DGL der Form $y'=-λy,λ>0,y_0=1$ mit der exakten Lösung $y(t)=e^{(-λt)}$, an und variieren den Faktor λ sowie die Schrittweite h."
   ]
  },
  {
   "cell_type": "code",
   "execution_count": null,
   "metadata": {},
   "outputs": [],
   "source": [
    "%% implicit vs explicit Euler method\n",
    "\n",
    "clear\n",
    "\n",
    "y0 = 1;\n",
    "tspan = [0,2];\n",
    "lambda_selection = [0.1, 1, 4, 10, 16];\n",
    "\n",
    "% parameters for graphical output\n",
    "p = 1;\n",
    "m = length(lambda_selection);\n",
    "\n",
    "% Schrittweite fuer implizite Loesung\n",
    "h_i = 0.1;\n",
    "\n",
    "\n",
    "for lambda = lambda_selection\n",
    "\n",
    "    %% varying iteration steps for explicit solution depending on Lipschitz constant\n",
    "    Lip = 2/abs(lambda);\n",
    "    h_selection = [0.5 * Lip, 1.01 * Lip];\n",
    "    n = length(h_selection);\n",
    "    \n",
    "    %% explicit ODE\n",
    "    f = @(t,y) -lambda * y;\n",
    "\n",
    "    for h = h_selection\n",
    "        \n",
    "        %% solving with explicit Euler method\n",
    "        if h > 0.5\n",
    "            h = 0.5;\n",
    "        end\n",
    "        t = tspan(1):h:tspan(2);\n",
    "        y_e = zeros(size(t));\n",
    "        y_e(1) = y0;\n",
    "        for i = 2:length(t)\n",
    "            y_e(i) = y_e(i-1) + h * f(t(i-1),y_e(i-1));\n",
    "        end\n",
    "\n",
    "        %% solving with implicit Euler method\n",
    "        t_i = tspan(1):h_i:tspan(2);\n",
    "        y_i=zeros(size(t_i));\n",
    "        y_i(1)=y0;\n",
    "        for i = 2:length(t_i)\n",
    "            y_i(i) = y_i(i-1) / (1+h_i*lambda);\n",
    "        end\n",
    "\n",
    "        %% graphical output\n",
    "        subplot(m,n,p);\n",
    "        plot(t_i,y_i,'x-',t,y_e,'x-',t,exp(-lambda*t));\n",
    "        if lambda > 0\n",
    "            ylim([0 1])\n",
    "        end\n",
    "        xlim([0 2])\n",
    "        title(sprintf('lambda = %.1f, h = %.3f', lambda, h))\n",
    "        p = p + 1;\n",
    "        \n",
    "    end\n",
    "end"
   ]
  },
  {
   "cell_type": "markdown",
   "metadata": {},
   "source": [
    "<figure>\n",
    "  <img src=\"images/dahlquist.png\" width=\"700\"/>\n",
    "  <figcaption></figcaption>\n",
    "</figure>"
   ]
  },
  {
   "cell_type": "markdown",
   "metadata": {},
   "source": [
    "Variieren Sie nun die Parameterauswahl in `lambda_selection` und `h_selection`.\n",
    "\n",
    "- Wie ändert sich die Lösung?\n",
    "- Warum ist `h_selection = [0.5 * Lip, 1.01 * Lip];` abhängig von `lambda` gewählt? Was passiert, wenn `h` unabhängig von `lambda` gewählt wird? Was, wenn `h` für das explizite Verfahren nur minimal kleiner als $\\frac{2}{|\\lambda|}$ ist?\n",
    "- Wann ist das explizite Verfahren nicht mehr hilfreich? Wie 'steif' sieht die zugehörige Funktion aus?"
   ]
  },
  {
   "cell_type": "markdown",
   "metadata": {},
   "source": [
    "## Stabilität für andere Gleichungen\n",
    "\n",
    "Ein weiteres klassisches Stabilitätsproblem ist die inhomogene Prothero-Robinson-Gleichung mit $y'=-λ(y-g)+g',λ>0,y_0=1$. $g(t)$ ist eine glatte Funktion.\n",
    "\n",
    "- Weisen Sie nach, dass $y(t)=g(t)+e^{(-λt)} (y_0-g_0)$ die exakte Lösung der DGL ist."
   ]
  },
  {
   "cell_type": "markdown",
   "metadata": {},
   "source": [
    "Da $e^{(-λt)}$ für $λ≫1$ schnell gegen 0 geht, sollte die Lösung schnell gegen $g(t)$ konvergieren.\n",
    "\n",
    "Für $g(t) = const.$ lautet die DGL $y' = -\\lambda (y - g)$ mit der Lösung $y(t) = g + e^{(-λt)}$, die gegen $g$ konvergiert. Diese lässt sich leicht für das implizite Eulerverfahren umformen zu $y_{k+1} = \\frac{y_k + h\\lambda g}{1+h\\lambda}$."
   ]
  },
  {
   "cell_type": "code",
   "execution_count": null,
   "metadata": {},
   "outputs": [],
   "source": [
    "%% implicit vs explicit Euler method\n",
    "\n",
    "clear\n",
    "\n",
    "y0 = 1;\n",
    "tspan = [0,4];\n",
    "lambda_selection = [0.1, 2, 4, 10, 16];\n",
    "g = @(t) 4;\n",
    "g0 = g(0);\n",
    "\n",
    "% parameters for graphical output\n",
    "p = 1;\n",
    "m = length(lambda_selection);\n",
    "\n",
    "% iteration steps for implicit solution\n",
    "h_i = 0.1;\n",
    "\n",
    "\n",
    "for lambda = lambda_selection\n",
    "\n",
    "    %% varying iteration steps for explicit solution depending on Lipschitz constant\n",
    "    Lip = 2/abs(lambda);\n",
    "    h_selection = [0.5 * Lip, 0.9 * Lip, 1.1 * Lip];\n",
    "    n = length(h_selection);\n",
    "    \n",
    "    %% explicit ODE, calculating g' with finite difference\n",
    "    f = @(t,y) - lambda* (y - g(t)) + (g(t+h_i)-g(t-h_i))/(2*h_i);\n",
    "\n",
    "    for h = h_selection\n",
    "        \n",
    "        %% solving with explicit Euler method\n",
    "        t = tspan(1):h:tspan(2);\n",
    "        y_e = zeros(size(t));\n",
    "        y_e(1) = y0;\n",
    "        for i = 2:length(t)\n",
    "            y_e(i) = y_e(i-1) + h * f(t(i-1),y_e(i-1));\n",
    "        end\n",
    "\n",
    "        %% solving with implicit Euler method\n",
    "        t_i = tspan(1):h_i:tspan(2);\n",
    "        y_i=zeros(size(t_i));\n",
    "        y_i(1)=y0;\n",
    "        for i = 2:length(t_i)\n",
    "            y_i(i) = ( y_i(i-1) + h_i*lambda*g(t_i(i))) / (1+h_i*lambda);\n",
    "        end\n",
    "\n",
    "        %% graphical output\n",
    "        subplot(m,n,p);\n",
    "        plot(t_i,y_i,'x-',t,y_e,'x-',t_i, g(t_i) + exp(-lambda*t_i)*(y0-g0));\n",
    "        %xlim([0 tspan(2)])\n",
    "        %ylim([-4 4])\n",
    "        title(sprintf('lambda = %.1f, h = %.3f', lambda, h))\n",
    "        p = p + 1;\n",
    "        \n",
    "    end\n",
    "end"
   ]
  },
  {
   "cell_type": "markdown",
   "metadata": {},
   "source": [
    "<figure>\n",
    "  <img src=\"images/prothero.png\" width=\"700\"/>\n",
    "  <figcaption></figcaption>\n",
    "</figure>"
   ]
  },
  {
   "cell_type": "markdown",
   "metadata": {},
   "source": [
    "- Variieren Sie nun `g`. Können Sie $g(t) = 4 t^2$ implementieren und die DGL lösen?"
   ]
  }
 ],
 "metadata": {
  "kernelspec": {
   "display_name": "Octave",
   "language": "octave",
   "name": "octave"
  },
  "language_info": {
   "file_extension": ".m",
   "help_links": [
    {
     "text": "GNU Octave",
     "url": "https://www.gnu.org/software/octave/support.html"
    },
    {
     "text": "Octave Kernel",
     "url": "https://github.com/Calysto/octave_kernel"
    },
    {
     "text": "MetaKernel Magics",
     "url": "https://metakernel.readthedocs.io/en/latest/source/README.html"
    }
   ],
   "mimetype": "text/x-octave",
   "name": "octave",
   "version": "5.2.0"
  }
 },
 "nbformat": 4,
 "nbformat_minor": 4
}
