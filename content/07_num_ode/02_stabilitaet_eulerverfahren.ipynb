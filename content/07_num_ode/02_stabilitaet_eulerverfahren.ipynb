{
 "cells": [
  {
   "cell_type": "markdown",
   "metadata": {},
   "source": [
    "# Stabilität Eulerverfahren\n",
    "\n",
    "Aus der Vorlesung ist bekannt, dass sich bestimmte DGL mit impliziten Verfahren besser lösen lassen als mit expliziten Verfahren, und dass wir diese DGL als **steif** bezeichnen.\n",
    "\n",
    "Außerdem haben wir gelernt, dass das vor allem an der hohen Lipschitzkonstante liegt, die für explizite Verfahren eine sehr kleine Schrittweite bedeutet $\\left(h<\\frac{2}{\\lambda}\\right)$."
   ]
  },
  {
   "cell_type": "markdown",
   "metadata": {},
   "source": [
    "## Stabilität für die Dahlquist-Gleichung\n",
    "\n",
    "Um ein Gefühl dafür zu bekommen, wann eine DGL steif ist, und wie das die Performanz der expliziten Löser beeinflusst, schauen wir uns die Dahlquist-Gleichung, also die DGL der Form $y'=-λy,λ>0,y_0=1$ mit der exakten Lösung $y(t)=e^{(-λt)}$, an und variieren den Faktor λ sowie die Schrittweite h."
   ]
  },
  {
   "cell_type": "code",
   "execution_count": null,
   "metadata": {
    "tags": [
     "hide_input"
    ]
   },
   "outputs": [],
   "source": [
    "%% file dahlquist.m\n",
    "%% Implizites vs. Explizites Eulerverfahren\n",
    "\n",
    "clearvars\n",
    "\n",
    "y0 = 1;\n",
    "tspan = [0,2];\n",
    "lambda_selection = [0.1, 1, 4, 10, 16];\n",
    "\n",
    "% Parameter fuer die graphische Ausgabe\n",
    "p = 1;\n",
    "m = length(lambda_selection);\n",
    "\n",
    "% Schrittweite fuer implizite Loesung\n",
    "h_i = 0.1;\n",
    "\n",
    "\n",
    "for lambda = lambda_selection\n",
    "\n",
    "    %% Variation der Schrittweite fuer explizite Loesung\n",
    "    h_selection = [0.5 * 2/abs(lambda), 1.01 * 2/abs(lambda)];\n",
    "    n = length(h_selection);\n",
    "    \n",
    "    %% Explizite Form der DGL\n",
    "    f = @(t,y) -lambda * y;\n",
    "\n",
    "    for h = h_selection\n",
    "        \n",
    "        %% Loesung mit explizitem Eulerverfahren\n",
    "        if h > 0.5\n",
    "            h = 0.5;\n",
    "        end\n",
    "        t = tspan(1):h:tspan(2);\n",
    "        y_e = zeros(size(t));\n",
    "        y_e(1) = y0;\n",
    "        for i = 2:length(t)\n",
    "            y_e(i) = y_e(i-1) + h * f(t(i-1),y_e(i-1));\n",
    "        end\n",
    "\n",
    "        %% Loesung mit implizitem Eulerverfahren\n",
    "        t_i = tspan(1):h_i:tspan(2);\n",
    "        y_i=zeros(size(t_i));\n",
    "        y_i(1)=y0;\n",
    "        for i = 2:length(t_i)\n",
    "            y_i(i) = y_i(i-1) / (1+h_i*lambda);\n",
    "        end\n",
    "\n",
    "        %% Graphische Ausgabe\n",
    "        subplot(m,n,p);\n",
    "        plot(t_i,y_i,'x-',t,y_e,'x-',t,exp(-lambda*t));\n",
    "        if lambda > 0\n",
    "            ylim([0 1])\n",
    "        end\n",
    "        xlim([0 2])\n",
    "        title(sprintf('lambda = %.1f, h = %.3f', lambda, h))\n",
    "        p = p + 1;\n",
    "        \n",
    "    end\n",
    "end"
   ]
  },
  {
   "cell_type": "markdown",
   "metadata": {},
   "source": [
    "### Aufgabe\n",
    "\n",
    "Variieren Sie nun die Parameterauswahl in `lambda_selection` und `h_selection`.\n",
    "\n",
    "- Wie ändert sich die Lösung?\n",
    "- Was passiert, wenn `h` unabhängig von `lambda` gewählt wird? Was, wenn `h` für das explizite Verfahren ganz knapp kleiner als $\\frac{2}{|\\lambda|}$ ist?\n",
    "- Wann ist das explizite Verfahren nicht mehr hilfreich? Wie 'steif' sieht die zugehörige Funktion aus?"
   ]
  },
  {
   "cell_type": "markdown",
   "metadata": {},
   "source": [
    "## Stabilität für andere Gleichungen\n",
    "\n",
    "Ein weiteres klassisches Stabilitätsproblem ist die inhomogene Prothero-Robinson-Gleichung mit $y'=-λ(y-g)+g',λ>0,y_0=1$. $g(t)$ ist eine glatte Funktion. Die exakte Lösung ist $y(t)=g(t)+e^{(-λt)} (y_0-g_0)$. Da $e^{(-λt)}$ für $λ≫1$ schnell gegen 0 geht, sollte die Lösung schnell gegen g(t) konvergieren."
   ]
  },
  {
   "cell_type": "markdown",
   "metadata": {},
   "source": [
    "Für $g(t) = const.$ lautet die DGL $y' = -\\lambda (y - g)$ mit der Lösung $y(t) = g + e^{(-λt)}$, die gegen $g$ konvergiert. Diese lässt sich leicht für das implizite Eulerverfahren umformen zu $y_{k+1} = \\frac{y_k + h\\lambda g}{1+h\\lambda}$."
   ]
  },
  {
   "cell_type": "code",
   "execution_count": null,
   "metadata": {},
   "outputs": [],
   "source": [
    "%% file prothero.m\n",
    "%% Implizites vs. Explizites Eulerverfahren\n",
    "\n",
    "clearvars\n",
    "\n",
    "y0 = 1;\n",
    "tspan = [0,4];\n",
    "lambda_selection = [0.1, 2, 4, 10, 16];\n",
    "g = @(t) 4;\n",
    "g0 = g(0);\n",
    "\n",
    "% Parameter fuer die graphische Ausgabe\n",
    "p = 1;\n",
    "m = length(lambda_selection);\n",
    "\n",
    "% Schrittweite fuer implizite Loesung\n",
    "h_i = 0.1;\n",
    "\n",
    "\n",
    "for lambda = lambda_selection\n",
    "\n",
    "    %% Variation der Schrittweite fuer explizite Loesung\n",
    "    h_lim = 2/abs(lambda);\n",
    "    h_selection = [0.5 * h_lim, 0.9 * h_lim, 1.1 * h_lim];\n",
    "    n = length(h_selection);\n",
    "    \n",
    "    %% Explizite Form der DGL mit g nach finiter Differenz abgeleitet\n",
    "    f = @(t,y) - lambda* (y - g(t)) + (g(t+h_i)-g(t-h_i))/(2*h_i);\n",
    "\n",
    "    for h = h_selection\n",
    "        \n",
    "        %% Loesung mit explizitem Eulerverfahren\n",
    "        t = tspan(1):h:tspan(2);\n",
    "        y_e = zeros(size(t));\n",
    "        y_e(1) = y0;\n",
    "        for i = 2:length(t)\n",
    "            y_e(i) = y_e(i-1) + h * f(t(i-1),y_e(i-1));\n",
    "        end\n",
    "\n",
    "        %% Loesung mit implizitem Eulerverfahren\n",
    "        t_i = tspan(1):h_i:tspan(2);\n",
    "        y_i=zeros(size(t_i));\n",
    "        y_i(1)=y0;\n",
    "        for i = 2:length(t_i)\n",
    "            y_i(i) = ( y_i(i-1) + h_i*lambda*g(t_i(i))) / (1+h_i*lambda);\n",
    "        end\n",
    "\n",
    "        %% Graphische Ausgabe\n",
    "        subplot(m,n,p);\n",
    "        plot(t_i,y_i,'x-',t,y_e,'x-',t_i, g(t_i) + exp(-lambda*t_i)*(y0-g0));\n",
    "        %xlim([0 tspan(2)])\n",
    "        %ylim([-4 4])\n",
    "        title(sprintf('lambda = %.1f, h = %.3f', lambda, h))\n",
    "        p = p + 1;\n",
    "        \n",
    "    end\n",
    "end"
   ]
  },
  {
   "cell_type": "markdown",
   "metadata": {},
   "source": [
    "### Aufgabe\n",
    "\n",
    "Variieren Sie nun `g`. Können Sie $g(t) = 4 t^2$ implementieren?"
   ]
  }
 ],
 "metadata": {
  "kernelspec": {
   "display_name": "Octave",
   "language": "octave",
   "name": "octave"
  },
  "language_info": {
   "file_extension": ".m",
   "help_links": [
    {
     "text": "GNU Octave",
     "url": "https://www.gnu.org/software/octave/support.html"
    },
    {
     "text": "Octave Kernel",
     "url": "https://github.com/Calysto/octave_kernel"
    },
    {
     "text": "MetaKernel Magics",
     "url": "https://metakernel.readthedocs.io/en/latest/source/README.html"
    }
   ],
   "mimetype": "text/x-octave",
   "name": "octave",
   "version": "5.2.0"
  }
 },
 "nbformat": 4,
 "nbformat_minor": 4
}
