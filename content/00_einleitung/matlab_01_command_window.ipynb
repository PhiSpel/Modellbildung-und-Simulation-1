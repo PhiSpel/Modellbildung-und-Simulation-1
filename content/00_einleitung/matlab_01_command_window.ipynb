{
 "cells": [
  {
   "cell_type": "markdown",
   "metadata": {
    "slideshow": {
     "slide_type": "subslide"
    }
   },
   "source": [
    "# Command Window\n",
    "\n",
    "Im *Command Window* gibt man, wie der Name schon sagt, Befehle ein. Diese werden unmittelbar nach dem *Prompt* ```>>``` eingetippt. \n",
    "\n",
    "## Erste Befehle\n",
    "\n",
    "Gibt man zum Beispiel ```a=5``` ein, erscheint ein feedback, dass die Variable ```a``` erstellt wurde, und sie den Wert ```5``` zugewiesen bekommen hat.\n"
   ]
  },
  {
   "cell_type": "code",
   "execution_count": 1,
   "metadata": {},
   "outputs": [
    {
     "name": "stdout",
     "output_type": "stream",
     "text": [
      "a =  5\n"
     ]
    }
   ],
   "source": [
    "a = 5"
   ]
  },
  {
   "cell_type": "markdown",
   "metadata": {
    "slideshow": {
     "slide_type": "slide"
    }
   },
   "source": [
    "MATLAB gibt nach Eingabe eines Kommandos immer eine Rückmeldung, in diesem Fall wird die Variable noch einmal ausgegeben. Diese Rückmeldung kann mit Hilfe des Semikolons unterdrückt werden:"
   ]
  },
  {
   "cell_type": "code",
   "execution_count": 2,
   "metadata": {},
   "outputs": [],
   "source": [
    "b = 2*pi;"
   ]
  },
  {
   "cell_type": "markdown",
   "metadata": {},
   "source": [
    "Beide Variablen sind nun im Workspace hinterlegt, und können für weitere Berechnungen benutzt werden. Ich kann mir zum Beispiel den Wert von ```b``` ausgeben lassen,"
   ]
  },
  {
   "cell_type": "code",
   "execution_count": 3,
   "metadata": {},
   "outputs": [
    {
     "name": "stdout",
     "output_type": "stream",
     "text": [
      "b =  6.2832\n"
     ]
    }
   ],
   "source": [
    "b"
   ]
  },
  {
   "cell_type": "markdown",
   "metadata": {},
   "source": [
    "oder einfache Rechenoperationen ausführen:"
   ]
  },
  {
   "cell_type": "code",
   "execution_count": 6,
   "metadata": {},
   "outputs": [
    {
     "name": "stdout",
     "output_type": "stream",
     "text": [
      "ans =  1.25664 + 0.38268i\n"
     ]
    }
   ],
   "source": [
    "b/a + 1i*sin(pi/8)"
   ]
  },
  {
   "cell_type": "markdown",
   "metadata": {},
   "source": [
    "Das Ergebnis der Rechnung wird unter dem Variablennamen ```ans``` im Workspace hinterlegt. Ich kann dem Ergebnis explizit einen Variablennamen, hier ```c``` zuordnen:"
   ]
  },
  {
   "cell_type": "code",
   "execution_count": 9,
   "metadata": {},
   "outputs": [
    {
     "name": "stdout",
     "output_type": "stream",
     "text": [
      "c =  1.25664 + 0.38268i\n"
     ]
    }
   ],
   "source": [
    "c = b/a + 1i*sin(pi/8)"
   ]
  },
  {
   "cell_type": "markdown",
   "metadata": {},
   "source": [
    "Wenn ich möchte, kann ich die Ausgabe des Ergebnisses unterdrücken, indem ich die Zeile mit einem Semikolon beende:"
   ]
  },
  {
   "cell_type": "code",
   "execution_count": 6,
   "metadata": {},
   "outputs": [],
   "source": [
    "d = exp(b/a - i*sin(pi/8));"
   ]
  },
  {
   "cell_type": "markdown",
   "metadata": {},
   "source": [
    "Einige wichtige Punkte konnten wir bisher beobachten:\n",
    "\n",
    "* Variablenzuweisungen passieren von links nach rechts: Was rechts vom Gleichheitszeichen steht, wird der Variablen die links vom Gleichheitszeichen steht zugeordnet. Wenn es diese Variable nicht gibt, wird sie im Workspace hinterlegt.\n",
    "* Matlab bietet eine Vielzahl von mathematischen Funktionen an, die regelmäßig gebraucht werden, wie z.B. die Exponentialfunktion ```exp``` oder das Rechnen mit komplexen Zahlen. Dabei können sowohl `1i`, `1j` als auch `i` und `j` als Symbole für die komplexe Einheit verwendet werden. Die letzten beiden Varianten sind aber potentiell gefährlich, da es auch valide Variablennamen sind und es so zu Verwechslungen kommen kann.\n",
    "* Alle Variablen werden im Workspace hinterlegt und können anschließend für weitere Berechnungen verwendent werden.\n",
    "* In Matlab werden die skalaren Datentypen (```integer```, ```double```, ```float```, ...) nicht explizit angegeben, wie man es von Sprachen wie C oder C++ vielleicht gewöhnt ist. Auch wenn die Variablen ```a``` ganzzahlig ist, geht Matlab standardmäßig von ```double``` aus. Der Typ einer Variable lässt sich in Matlab durch die Funktion ```class()``` ausgeben lassen:"
   ]
  },
  {
   "cell_type": "code",
   "execution_count": 7,
   "metadata": {},
   "outputs": [
    {
     "name": "stdout",
     "output_type": "stream",
     "text": [
      "ans = double\n"
     ]
    }
   ],
   "source": [
    "class(a)"
   ]
  },
  {
   "cell_type": "markdown",
   "metadata": {},
   "source": [
    "Unter Umständen kann es sinnvoll sein, nochmal mit einem frischen *Workspace* zu starten. Der Inhalt des Workspace lässt sich mit dem Befehl `clear` leeren."
   ]
  },
  {
   "cell_type": "markdown",
   "metadata": {},
   "source": [
    "## Vektoren und Matrizen\n",
    "\n",
    "Matlab ist ein Kofferwort aus **Mat**rix-**Lab**oratory. Der Name impliziert schon, dass es sich ideal dazu eignet mit Matrizen und Vektoren zu arbeiten. Dabei wird nicht zwischen den beiden unterschieden: Ein Zeilenvektor mit $n$ Einträgen ist einfach eine Matrix aus $\\mathbb{R}^{1 \\times n}$, während ein Spaltenvektor mit $n$ Einträgen eine Matrix aus $\\mathbb{R}^{n \\times 1}$ ist.\n",
    "\n",
    "In Matlab werden Matrizen mit eckigen Klammern geschrieben, ein Semikolon beendet eine Zeile:"
   ]
  },
  {
   "cell_type": "code",
   "execution_count": 8,
   "metadata": {},
   "outputs": [
    {
     "name": "stdout",
     "output_type": "stream",
     "text": [
      "e =\n",
      "\n",
      "   1   2   3   4   5\n",
      "\n",
      "f =\n",
      "\n",
      "   1\n",
      "   2\n",
      "   3\n",
      "   4\n",
      "   5\n",
      "\n"
     ]
    }
   ],
   "source": [
    "e = [1, 2, 3, 4, 5] % ein Zeilenvektor\n",
    "f = [1; 2; 3; 4; 5] % ein Spaltenvektor"
   ]
  },
  {
   "cell_type": "markdown",
   "metadata": {
    "slideshow": {
     "slide_type": "slide"
    }
   },
   "source": [
    "## Produkte von Vektoren und Matrizen\n",
    "\n",
    "Beim Produkt zweier Vektoren $\\mathbf{e}$ und $\\mathbf{f}$ (byw. Matrixprodukt zweier Matrizen) ist stets darauf zu achten, dass die Dimensionen zueinander passen! Kann ich die eben erstellten Vektoren $e$ und $f$ miteinander multiplizieren?"
   ]
  },
  {
   "cell_type": "code",
   "execution_count": 9,
   "metadata": {},
   "outputs": [
    {
     "name": "stdout",
     "output_type": "stream",
     "text": [
      "ans =  55\n"
     ]
    }
   ],
   "source": [
    "e*f"
   ]
  },
  {
   "cell_type": "markdown",
   "metadata": {},
   "source": [
    "Aha, bei Multiplikation eines $(1,n)$-dimensionalen Vektors $\\mathbf{e}$ mit einem $(n,1)$-dimensionalen Vektor $\\mathbf{f}$ erhalte ich eine Zahl, bzw. eine $(1,1)$-dimensionale Matrix mit nur einem Eintrag. Wir erhalten das **Skalarprodukt**\n",
    "\n",
    "$$ \\mathbf{e} \\cdot \\mathbf{f} = \\sum_{i=1}^n e_i \\cdot f_i. $$"
   ]
  },
  {
   "cell_type": "code",
   "execution_count": 10,
   "metadata": {},
   "outputs": [
    {
     "name": "stdout",
     "output_type": "stream",
     "text": [
      "ans =\n",
      "\n",
      "    1    2    3    4    5\n",
      "    2    4    6    8   10\n",
      "    3    6    9   12   15\n",
      "    4    8   12   16   20\n",
      "    5   10   15   20   25\n",
      "\n"
     ]
    }
   ],
   "source": [
    "f*e"
   ]
  },
  {
   "cell_type": "markdown",
   "metadata": {},
   "source": [
    "Die Multiplikation eines $(n,1)$-dimensionalen Vektors $\\mathbf{f}$ mit einem (1,n)-dimensionalen Vektor $\\mathbf{e}$ liefert mit also eine $(n,n)$-dimensionale Matrix. Es handelt sich um das **diadische Produkt**\n",
    "\n",
    "$$ A = \\mathbf{f} \\cdot \\mathbf{e}, \\hskip0.5cm A_{ij} = f_i \\cdot e_j $$\n",
    "\n",
    "Wie sieht es mit den folgenden Matrizen aus?"
   ]
  },
  {
   "cell_type": "code",
   "execution_count": 11,
   "metadata": {},
   "outputs": [
    {
     "name": "stdout",
     "output_type": "stream",
     "text": [
      "error: operator *: nonconformant arguments (op1 is 3x1, op2 is 3x1)\n"
     ]
    }
   ],
   "source": [
    "g = [1; 1; 1];\n",
    "h = [2; 2; 2];\n",
    "g*h"
   ]
  },
  {
   "cell_type": "markdown",
   "metadata": {},
   "source": [
    "Nein! Es klappt nicht. Die Fehlermeldung gibt schon Auskunft darüber wieso, die Dimensionen der Matrizen passen nicht zusammen. \n",
    "\n",
    "*Hinweis:* Hier ist der Wortlaut der Octave-Fehlermeldung zusehen. Matlab gibt an dieser Stelle die folgende Fehlermeldung wieder:\n",
    "\n",
    "```\n",
    "Error using  * \n",
    "Incorrect dimensions for matrix multiplication. Check that the number of columns in\n",
    "the first matrix matches the number of rows in the second matrix. To perform\n",
    "elementwise multiplication, use '.*'.\n",
    "```\n",
    "\n",
    "Wir behelfen uns eines Tricks: Ein nachgestelltes Apostroph gibt die transponierte Matrix aus:"
   ]
  },
  {
   "cell_type": "code",
   "execution_count": 12,
   "metadata": {},
   "outputs": [
    {
     "name": "stdout",
     "output_type": "stream",
     "text": [
      "g =\n",
      "\n",
      "   1\n",
      "   1\n",
      "   1\n",
      "\n"
     ]
    }
   ],
   "source": [
    "g"
   ]
  },
  {
   "cell_type": "code",
   "execution_count": 13,
   "metadata": {},
   "outputs": [
    {
     "name": "stdout",
     "output_type": "stream",
     "text": [
      "ans =\n",
      "\n",
      "   3   1\n",
      "\n"
     ]
    }
   ],
   "source": [
    "size(g)"
   ]
  },
  {
   "cell_type": "code",
   "execution_count": 14,
   "metadata": {},
   "outputs": [
    {
     "name": "stdout",
     "output_type": "stream",
     "text": [
      "ans =\n",
      "\n",
      "   1   1   1\n",
      "\n"
     ]
    }
   ],
   "source": [
    "g'"
   ]
  },
  {
   "cell_type": "code",
   "execution_count": 15,
   "metadata": {},
   "outputs": [
    {
     "name": "stdout",
     "output_type": "stream",
     "text": [
      "ans =\n",
      "\n",
      "   1   3\n",
      "\n"
     ]
    }
   ],
   "source": [
    "size(g')"
   ]
  },
  {
   "cell_type": "markdown",
   "metadata": {},
   "source": [
    "Das Skalarprodukt von $\\mathbf{g}$ mit $\\mathbf{h}$ können wir also doch ausrechnen:"
   ]
  },
  {
   "cell_type": "code",
   "execution_count": 16,
   "metadata": {},
   "outputs": [
    {
     "name": "stdout",
     "output_type": "stream",
     "text": [
      "ans =  6\n"
     ]
    }
   ],
   "source": [
    "g'*h"
   ]
  },
  {
   "cell_type": "markdown",
   "metadata": {},
   "source": [
    "Sehr häufig ist es nützlich Operationen komponentenweise auszuführen. Nehmen wir zum Beispiel an, in einer kleinen Arbeitsgruppe arbeiten fünf Personen. Zwei Mitarbeiter haben Vollzeitstellen, d.h. 39.5 Stunden pro Woche, einer hat eine halbe Stelle und zwei studentische Hilfskräfte unterstützen jeweils mit acht Stunden pro Woche. Die wöchentliche Arbeitszeit der Mitarbeiter hinterlegen wir in einem Vektor"
   ]
  },
  {
   "cell_type": "code",
   "execution_count": 17,
   "metadata": {},
   "outputs": [],
   "source": [
    "weekly_hours = [39.5, 19.5, 39.5, 8, 8];"
   ]
  },
  {
   "cell_type": "markdown",
   "metadata": {},
   "source": [
    "Die stündlichen Bruttokosten der Mitarbeiterstellen in € schreiben wir ebenfalls in einen Vektor:"
   ]
  },
  {
   "cell_type": "code",
   "execution_count": 18,
   "metadata": {},
   "outputs": [],
   "source": [
    "costPerHour_brutto_euro = [57.5, 57.5, 40, 15, 15];"
   ]
  },
  {
   "cell_type": "markdown",
   "metadata": {},
   "source": [
    "Wenn ich wissen möchte, wieviel die Mitarbeiter jeweils pro Woche kosten, muss ich die Vektoren komponentenweise miteinander multiplizieren. Das erreiche ich in Matlab, indem ich vor dem ```*```-Operator einen Punkt voranstelle, es ist also eine *punktweise* Operation, und keine Matrixmultiplikation:"
   ]
  },
  {
   "cell_type": "code",
   "execution_count": 19,
   "metadata": {},
   "outputs": [
    {
     "name": "stdout",
     "output_type": "stream",
     "text": [
      "ans =\n",
      "\n",
      "   2271.25   1121.25   1580.00    120.00    120.00\n",
      "\n"
     ]
    }
   ],
   "source": [
    "weekly_hours.*costPerHour_brutto_euro"
   ]
  },
  {
   "cell_type": "markdown",
   "metadata": {},
   "source": [
    "**Quiz:** Wie berechne ich die Gesamtkosten aller Mitarbeiter pro Woche mit nur einer Zeile in Matlab? *Hinweis: Das Ergebnis lautet 5212.5 €.*"
   ]
  },
  {
   "cell_type": "code",
   "execution_count": 20,
   "metadata": {
    "slideshow": {
     "slide_type": "fragment"
    }
   },
   "outputs": [],
   "source": [
    "% calculate weekly total cost\n"
   ]
  },
  {
   "cell_type": "markdown",
   "metadata": {},
   "source": [
    "## Spezielle Matrizen\n",
    "\n",
    "Malab hat einige Befehle um spezielle Matrizen zu erstellen. Einige der wichtigsten sind:"
   ]
  },
  {
   "cell_type": "code",
   "execution_count": 21,
   "metadata": {},
   "outputs": [],
   "source": [
    "A1 = eye(2);     % 2,2-Einheitsmatrix\n",
    "A2 = ones(3,2);  % 3,2-Matrix gefuellt mit 1\n",
    "A3 = zeros(2,4); % 2,4-Matrix gefuellt mit 0\n",
    "A4 = rand(2);    % 2,2-Matrix mit gleichverteilten Zufallszahlen von 0 bis 1\n",
    "A5 = randn(4);   % 4,4-Matrix mit normalverteilten Zufallszahlen um 0 und Standardabweichung 1"
   ]
  },
  {
   "cell_type": "markdown",
   "metadata": {},
   "source": [
    "## Funktionen komponentenweise ausführen\n",
    "\n",
    "Viele der mathematischen Funktionen, wie `sin`, `cos`, `exp`, `sqrt` etc., können auch direkt auf Vektoren und Matrizen angewandt werden. Sie werden dann komponentenweise ausgeführt:"
   ]
  },
  {
   "cell_type": "code",
   "execution_count": 22,
   "metadata": {},
   "outputs": [
    {
     "name": "stdout",
     "output_type": "stream",
     "text": [
      "A4 =\n",
      "\n",
      "   0.902136   0.075642\n",
      "   0.686556   0.399885\n",
      "\n",
      "Die Wurzel der Elemente von A4:\n",
      "ans =\n",
      "\n",
      "   0.94981   0.27503\n",
      "   0.82859   0.63236\n",
      "\n"
     ]
    }
   ],
   "source": [
    "A4\n",
    "disp('Die Wurzel der Elemente von A4:')\n",
    "sqrt(A4)"
   ]
  },
  {
   "cell_type": "markdown",
   "metadata": {},
   "source": [
    "Nehmen wir zum Beispiel an, wir haben $n$ Vektoren $\\mathbf{v}_i = (x_i, y_i, z_i)$, $i=1,...,n$. Wenn wir die $x$-, $y$-, und $z$-Komponenten der Vektoren als `X`, `Y` und `Z` speichern, können wir in nur einer Zeile den Betrag der Vektoren berechnen:"
   ]
  },
  {
   "cell_type": "code",
   "execution_count": 23,
   "metadata": {},
   "outputs": [
    {
     "name": "stdout",
     "output_type": "stream",
     "text": [
      "ans =\n",
      "\n",
      "   3.13487\n",
      "   0.99205\n",
      "   2.25956\n",
      "   2.85939\n",
      "   0.52927\n",
      "   0.90552\n",
      "   1.28791\n",
      "   1.30450\n",
      "   1.13228\n",
      "   1.93397\n",
      "   0.84716\n",
      "   1.47221\n",
      "   0.69851\n",
      "   1.66239\n",
      "   1.29021\n",
      "   2.01736\n",
      "   2.24273\n",
      "   1.51946\n",
      "   0.78813\n",
      "   2.42039\n",
      "\n"
     ]
    }
   ],
   "source": [
    "n=20;\n",
    "X = randn(n,1);\n",
    "Y = randn(n,1);\n",
    "Z = randn(n,1);\n",
    "% calculate magnitude of vectors\n",
    "sqrt(X.^2 + Y.^2 + Z.^2)"
   ]
  },
  {
   "cell_type": "markdown",
   "metadata": {},
   "source": [
    "**Zusatzfrage:** Wozu dienen die Punkte in der Vorschrift `sqrt(X.^2 + Y.^2 + Z.^2)`?"
   ]
  },
  {
   "cell_type": "markdown",
   "metadata": {},
   "source": [
    "## Concatenation und Slicing\n",
    "\n",
    "Oft kann es sinnvoll sein, einzelne Vektoren oder Matrizen zu größeren zusammenzufügen. Das nennt man *Concatenation*. Die zuvor erstellten Matrizen `X`, `Y`, `Z` sind schließlich nicht unabhängig von einander, sie bezeichnen die Komponenten von $n$ Vektoren $v_i$. Um dies zu verdeutlichen können wir eine $(n,3)$-Matrix erstellen, dessen Zeilen die jeweiligen Vektoren $v_i$ sind, und die Spalten die jeweiligen Komponenten `X`, `Y` und `Z`:"
   ]
  },
  {
   "cell_type": "code",
   "execution_count": 24,
   "metadata": {},
   "outputs": [
    {
     "name": "stdout",
     "output_type": "stream",
     "text": [
      "V =\n",
      "\n",
      "  -3.019795   0.434514   0.720747\n",
      "  -0.265533   0.097343  -0.950886\n",
      "   0.894989   1.914294   0.800064\n",
      "  -2.697906   0.300665   0.898349\n",
      "  -0.083736   0.400069   0.336239\n",
      "  -0.357997  -0.675456  -0.485356\n",
      "  -0.696160  -1.005352   0.404150\n",
      "  -0.614755  -1.149692   0.044734\n",
      "  -0.771785   0.724196   0.402418\n",
      "  -1.436569  -0.637793   1.126824\n",
      "   0.144118  -0.373410  -0.746646\n",
      "  -0.329917  -0.430427   1.368680\n",
      "   0.513278  -0.395825  -0.260358\n",
      "   1.464365  -0.444932  -0.649004\n",
      "   1.129131   0.456939   0.425324\n",
      "  -1.874085   0.379074  -0.643297\n",
      "   1.613523  -1.536201   0.257822\n",
      "  -1.110248   1.028797   0.133014\n",
      "   0.542083   0.251091   0.514044\n",
      "   0.964465   1.681427   1.449456\n",
      "\n"
     ]
    }
   ],
   "source": [
    "V = [X,Y,Z]"
   ]
  },
  {
   "cell_type": "markdown",
   "metadata": {},
   "source": [
    "Wie bei Matrixprodukten müssen wir auf die richtige Dimension achten. Was passiert genau bei folgendem Befehl?"
   ]
  },
  {
   "cell_type": "code",
   "execution_count": 25,
   "metadata": {},
   "outputs": [
    {
     "name": "stdout",
     "output_type": "stream",
     "text": [
      "error: vertical dimensions mismatch (20x2 vs 20x1)\n"
     ]
    }
   ],
   "source": [
    "V = [X,Y;Z]"
   ]
  },
  {
   "cell_type": "markdown",
   "metadata": {},
   "source": [
    "*Concatenation* ist also das Zusammenfügen von Matrizen. Der gezielte Zugriff auf Subblöcken aus einer Matrix wird als *Slicing* bezeichnet. In Matlab wird dazu der `:`-Operator verwendet. Mit folgenden Befehlen erhält man die ersten fünf Zeilen der Matrix `V`:"
   ]
  },
  {
   "cell_type": "code",
   "execution_count": 26,
   "metadata": {},
   "outputs": [
    {
     "name": "stdout",
     "output_type": "stream",
     "text": [
      "ans =\n",
      "\n",
      "  -3.019795   0.434514   0.720747\n",
      "  -0.265533   0.097343  -0.950886\n",
      "   0.894989   1.914294   0.800064\n",
      "  -2.697906   0.300665   0.898349\n",
      "  -0.083736   0.400069   0.336239\n",
      "\n"
     ]
    }
   ],
   "source": [
    "V(1:5,:)"
   ]
  },
  {
   "cell_type": "markdown",
   "metadata": {},
   "source": [
    "Im Gegensatz zu C/C++, fangen wir bei Matlab immer bei 1 an zu zählen, und nicht bei 0. Der Doppelpunkt nach dem Komma gibt Auskunft darüber, dass alle Spalten ausgegeben werden sollen. Wenn nur die ersten beiden Spalten ausgegeben werden sollen kann man `V(1:5,1:2)` eingeben.\n",
    "\n",
    "Alle Vektoren, bis auf die ersten 15 erhalten wir mit Hilfe des Wortes `end`, das für die Größe der jeweiligen Dimension steht:"
   ]
  },
  {
   "cell_type": "code",
   "execution_count": 27,
   "metadata": {},
   "outputs": [
    {
     "name": "stdout",
     "output_type": "stream",
     "text": [
      "ans =\n",
      "\n",
      "  -1.87409   0.37907  -0.64330\n",
      "   1.61352  -1.53620   0.25782\n",
      "  -1.11025   1.02880   0.13301\n",
      "   0.54208   0.25109   0.51404\n",
      "   0.96446   1.68143   1.44946\n",
      "\n"
     ]
    }
   ],
   "source": [
    "V(16:end,:)"
   ]
  },
  {
   "cell_type": "markdown",
   "metadata": {},
   "source": [
    "Ich kann mir auch jeden zweiten Vektor ausgeben lassen, indem ich eine ganzzahlige Schrittweite mit angebe:"
   ]
  },
  {
   "cell_type": "code",
   "execution_count": 28,
   "metadata": {},
   "outputs": [
    {
     "name": "stdout",
     "output_type": "stream",
     "text": [
      "ans =\n",
      "\n",
      "  -3.019795   0.434514   0.720747\n",
      "   0.894989   1.914294   0.800064\n",
      "  -0.083736   0.400069   0.336239\n",
      "  -0.696160  -1.005352   0.404150\n",
      "  -0.771785   0.724196   0.402418\n",
      "   0.144118  -0.373410  -0.746646\n",
      "   0.513278  -0.395825  -0.260358\n",
      "   1.129131   0.456939   0.425324\n",
      "   1.613523  -1.536201   0.257822\n",
      "   0.542083   0.251091   0.514044\n",
      "\n"
     ]
    }
   ],
   "source": [
    "V(1:2:end,:)"
   ]
  },
  {
   "cell_type": "markdown",
   "metadata": {},
   "source": [
    "Die Schrittweite kann auch negativ gewählt werden:"
   ]
  },
  {
   "cell_type": "code",
   "execution_count": 29,
   "metadata": {},
   "outputs": [
    {
     "name": "stdout",
     "output_type": "stream",
     "text": [
      "ans =\n",
      "\n",
      "   0.964465   1.681427   1.449456\n",
      "   0.542083   0.251091   0.514044\n",
      "  -1.110248   1.028797   0.133014\n",
      "   1.613523  -1.536201   0.257822\n",
      "  -1.874085   0.379074  -0.643297\n",
      "   1.129131   0.456939   0.425324\n",
      "   1.464365  -0.444932  -0.649004\n",
      "   0.513278  -0.395825  -0.260358\n",
      "  -0.329917  -0.430427   1.368680\n",
      "   0.144118  -0.373410  -0.746646\n",
      "  -1.436569  -0.637793   1.126824\n",
      "  -0.771785   0.724196   0.402418\n",
      "  -0.614755  -1.149692   0.044734\n",
      "  -0.696160  -1.005352   0.404150\n",
      "  -0.357997  -0.675456  -0.485356\n",
      "  -0.083736   0.400069   0.336239\n",
      "  -2.697906   0.300665   0.898349\n",
      "   0.894989   1.914294   0.800064\n",
      "  -0.265533   0.097343  -0.950886\n",
      "  -3.019795   0.434514   0.720747\n",
      "\n"
     ]
    }
   ],
   "source": [
    "V(end:-1:1,:)"
   ]
  },
  {
   "cell_type": "markdown",
   "metadata": {},
   "source": [
    "**Zusatzfrage:** Wie kann ich mir die letzten fünf Zeilen einer Matrix ausgeben lassen, ohne explizit die Größe der Matrix zu kennen?"
   ]
  },
  {
   "cell_type": "code",
   "execution_count": 30,
   "metadata": {},
   "outputs": [],
   "source": [
    "% get last 5 elements of V\n"
   ]
  },
  {
   "cell_type": "markdown",
   "metadata": {},
   "source": [
    "## Logische Indizierung\n",
    "\n",
    "Der folgende Befehl liefert Auskunft darüber, welche Elemente der Matrix `X` größer oder gleich null sind:"
   ]
  },
  {
   "cell_type": "code",
   "execution_count": 31,
   "metadata": {},
   "outputs": [
    {
     "name": "stdout",
     "output_type": "stream",
     "text": [
      "ans =\n",
      "\n",
      "  0\n",
      "  0\n",
      "  1\n",
      "  0\n",
      "  0\n",
      "  0\n",
      "  0\n",
      "  0\n",
      "  0\n",
      "  0\n",
      "  1\n",
      "  0\n",
      "  1\n",
      "  1\n",
      "  1\n",
      "  0\n",
      "  1\n",
      "  0\n",
      "  1\n",
      "  1\n",
      "\n"
     ]
    }
   ],
   "source": [
    "X>=0"
   ]
  },
  {
   "cell_type": "markdown",
   "metadata": {},
   "source": [
    "Das Ergebnis ist wieder eine Matrix, dessen Einträge entweder 1 sind, falls der jeweilige Eintrag in `X` größer oder gleich null ist, oder 0 wenn der jeweilige Eintrag kleiner als null ist. Matlab speichert diese Werte nicht als `double`, sondern als `logical`-, d.h. boolsche Werte ab. Wir können dem Ergebnis der Abfrage wieder einen Namen geben:"
   ]
  },
  {
   "cell_type": "code",
   "execution_count": 32,
   "metadata": {},
   "outputs": [
    {
     "name": "stdout",
     "output_type": "stream",
     "text": [
      "ans = logical\n"
     ]
    }
   ],
   "source": [
    "Xpos = X>0;\n",
    "class(Xpos)"
   ]
  },
  {
   "cell_type": "markdown",
   "metadata": {},
   "source": [
    "Um nun alle Vektoren (Zeilen in `V`) zu erhalten, deren $x$-Komponente größer oder gleich null ist, kann diese `logical`-Matrix direkt als Zeilenindex verwenden."
   ]
  },
  {
   "cell_type": "code",
   "execution_count": 33,
   "metadata": {},
   "outputs": [
    {
     "name": "stdout",
     "output_type": "stream",
     "text": [
      "ans =\n",
      "\n",
      "   0.89499   1.91429   0.80006\n",
      "   0.14412  -0.37341  -0.74665\n",
      "   0.51328  -0.39583  -0.26036\n",
      "   1.46436  -0.44493  -0.64900\n",
      "   1.12913   0.45694   0.42532\n",
      "   1.61352  -1.53620   0.25782\n",
      "   0.54208   0.25109   0.51404\n",
      "   0.96446   1.68143   1.44946\n",
      "\n"
     ]
    }
   ],
   "source": [
    "V(Xpos,:)"
   ]
  },
  {
   "cell_type": "markdown",
   "metadata": {},
   "source": [
    "**Zusatzfrage:** Was macht der folgende Befehl?"
   ]
  },
  {
   "cell_type": "code",
   "execution_count": 34,
   "metadata": {},
   "outputs": [
    {
     "name": "stdout",
     "output_type": "stream",
     "text": [
      "ans =\n",
      "\n",
      "  -0.357997  -0.675456  -0.485356\n",
      "  -0.696160  -1.005352   0.404150\n",
      "  -0.614755  -1.149692   0.044734\n",
      "  -1.436569  -0.637793   1.126824\n",
      "   0.144118  -0.373410  -0.746646\n",
      "  -0.329917  -0.430427   1.368680\n",
      "   0.513278  -0.395825  -0.260358\n",
      "   1.464365  -0.444932  -0.649004\n",
      "   1.613523  -1.536201   0.257822\n",
      "\n"
     ]
    }
   ],
   "source": [
    "V(V(:,2)<0,:)"
   ]
  },
  {
   "cell_type": "markdown",
   "metadata": {},
   "source": [
    "**Zusatzfrage:** Wie erhalte ich mit nur einem Befehl alle Vektoren, deren Betrag kleiner als 1 ist?"
   ]
  },
  {
   "cell_type": "code",
   "execution_count": 35,
   "metadata": {},
   "outputs": [],
   "source": [
    "% get all rows with a magnitude < 1\n"
   ]
  },
  {
   "cell_type": "markdown",
   "metadata": {},
   "source": [
    "Denken Sie daran, dass Gleichheit zweier Variablen mit `==` abgefragt wird!"
   ]
  },
  {
   "cell_type": "markdown",
   "metadata": {
    "slideshow": {
     "slide_type": "slide"
    }
   },
   "source": [
    "## Gleichungssysteme lösen\n",
    "\n",
    "Natürlich bietet Matlab auch viele weitere Funktionen rund um Matrizen und Vektoren um uns das Leben zu erleichtern. So kann ein Gleichungssytem $A\\cdot \\mathbf{x} = \\mathbf{b}$ einfach und effizient mit dem sogenannten **backslash**-Operator gelöst werden."
   ]
  },
  {
   "cell_type": "code",
   "execution_count": 36,
   "metadata": {},
   "outputs": [
    {
     "name": "stdout",
     "output_type": "stream",
     "text": [
      "x =\n",
      "\n",
      "  -3.3333e-02\n",
      "   6.6667e-02\n",
      "  -1.4456e-18\n",
      "\n"
     ]
    }
   ],
   "source": [
    "A=[1,2,3;4,5,-6;7,8,9];\n",
    "b=[0.1,0.2,0.3]';\n",
    "x = A\\b                     % x = inv(A)*b"
   ]
  },
  {
   "cell_type": "markdown",
   "metadata": {},
   "source": [
    "Also ist Matlab ein Taschenrechner? Ja, genau! Aber ein ziemlich cooler, mit extrem vielen Funktionen und der Möglichkeit beliebig viele Variablen als Matrizen im Zwischenspeicher vorzuhalten.\n",
    "\n",
    "Matlab ist aber auch noch mehr, nämlich eine [Turing-vollständige Computersprache](http://lmgtfy.com/?q=turing+complete+progamming+language). Die Mächtigkeit von Matlab kommt erst zur Geltung, wenn wir anfangen Skripte und Funktionen zu schreiben."
   ]
  }
 ],
 "metadata": {
  "celltoolbar": "Slideshow",
  "kernelspec": {
   "display_name": "Octave",
   "language": "octave",
   "name": "octave"
  },
  "language_info": {
   "file_extension": ".m",
   "help_links": [
    {
     "text": "GNU Octave",
     "url": "https://www.gnu.org/software/octave/support.html"
    },
    {
     "text": "Octave Kernel",
     "url": "https://github.com/Calysto/octave_kernel"
    },
    {
     "text": "MetaKernel Magics",
     "url": "https://github.com/calysto/metakernel/blob/master/metakernel/magics/README.md"
    }
   ],
   "mimetype": "text/x-octave",
   "name": "octave",
   "version": "4.2.2"
  },
  "livereveal": {
   "start_slideshow_at": "selected",
   "theme": "black",
   "transition": "convex"
  }
 },
 "nbformat": 4,
 "nbformat_minor": 2
}
