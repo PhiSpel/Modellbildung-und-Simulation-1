{
 "cells": [
  {
   "cell_type": "markdown",
   "metadata": {},
   "source": [
    "# Matlab Getting Started\n",
    "\n",
    "Dieses Online-Tutorial basiert auf [GNU Octave](https://www.gnu.org/software/octave/), einer frei-verfügbaren Matlab-Alternative, das in den allermeisten Fällen Matlab Befehle korrekt interpretieren kann. Alle Beispiele die Sie hier finden werden, können Sie sowohl mit Octave als auch mit Matlab ausführen."
   ]
  },
  {
   "cell_type": "markdown",
   "metadata": {},
   "source": [
    "### Erstellen einfacher Graphen\n",
    "\n",
    "Die folgenden beiden Zeilen erstellen einen Vektor $t$, der das Intervall $[0,2\\pi]$ an 25 äquidistanten Punkten enthält und einen Vektor $y$, der an diesen Punkten die Funktion $y=sin(t)$ auswertet."
   ]
  },
  {
   "cell_type": "code",
   "execution_count": 1,
   "metadata": {},
   "outputs": [],
   "source": [
    "t = linspace(0,2*pi,25);\n",
    "y = sin(t);"
   ]
  },
  {
   "cell_type": "markdown",
   "metadata": {},
   "source": [
    "Wir schauen uns mal die ersten 5 Elemente der beiden Vektoren an. Wenn ein Matlab-Befehl ohne Semikolon geschrieben wird, wird das Ergebnis des Befehles ausgegeben."
   ]
  },
  {
   "cell_type": "code",
   "execution_count": 2,
   "metadata": {},
   "outputs": [
    {
     "name": "stdout",
     "output_type": "stream",
     "text": [
      "ans =\n",
      "\n",
      "   0.00000   0.26180   0.52360   0.78540   1.04720\n",
      "\n",
      "ans =\n",
      "\n",
      "   0.00000   0.25882   0.50000   0.70711   0.86603\n",
      "\n"
     ]
    }
   ],
   "source": [
    "t(1:5)\n",
    "y(1:5)"
   ]
  },
  {
   "cell_type": "markdown",
   "metadata": {},
   "source": [
    "Nun wollen wir eine grafische Darstellung mit dem Befehl `plot` erzeugen. Wir wählen den Vektor $t$ für die x-Werte und den Vektor $y$ für die y-Werte. "
   ]
  },
  {
   "cell_type": "code",
   "execution_count": 3,
   "metadata": {},
   "outputs": [
    {
     "data": {
      "image/png": "[encoded data removed]",
      "text/plain": [
       "<IPython.core.display.Image object>"
      ]
     },
     "metadata": {},
     "output_type": "display_data"
    }
   ],
   "source": [
    "plot(t,y);"
   ]
  },
  {
   "cell_type": "markdown",
   "metadata": {},
   "source": [
    "Einfache Funktionen blablabla"
   ]
  },
  {
   "cell_type": "code",
   "execution_count": 9,
   "metadata": {},
   "outputs": [
    {
     "name": "stdout",
     "output_type": "stream",
     "text": [
      "Created file '/mnt/d/documents/modellbildung-und-simulation/content/features/fibonacci.m'.\n"
     ]
    }
   ],
   "source": [
    "%%file fibonacci.m\n",
    "\n",
    "function n = fibonacci(n)\n",
    "\n",
    "if n<3\n",
    "    n = 1;\n",
    "else\n",
    "    n = fibonacci(n-1) + fibonacci(n-2);\n",
    "end\n",
    "    "
   ]
  },
  {
   "cell_type": "code",
   "execution_count": 10,
   "metadata": {},
   "outputs": [
    {
     "name": "stdout",
     "output_type": "stream",
     "text": [
      "ans =  1\n",
      "ans =  1\n",
      "ans =  2\n",
      "ans =  3\n",
      "ans =  5\n",
      "ans =  8\n",
      "ans =  13\n",
      "ans =  21\n",
      "ans =  34\n",
      "ans =  55\n"
     ]
    }
   ],
   "source": [
    "for i = 1:10\n",
    "    fibonacci(i)\n",
    "end"
   ]
  }
 ],
 "metadata": {
  "kernelspec": {
   "display_name": "Octave",
   "language": "octave",
   "name": "octave"
  },
  "language_info": {
   "file_extension": ".m",
   "help_links": [
    {
     "text": "GNU Octave",
     "url": "https://www.gnu.org/software/octave/support.html"
    },
    {
     "text": "Octave Kernel",
     "url": "https://github.com/Calysto/octave_kernel"
    },
    {
     "text": "MetaKernel Magics",
     "url": "https://github.com/calysto/metakernel/blob/master/metakernel/magics/README.md"
    }
   ],
   "mimetype": "text/x-octave",
   "name": "octave",
   "version": "4.2.2"
  }
 },
 "nbformat": 4,
 "nbformat_minor": 2
}
