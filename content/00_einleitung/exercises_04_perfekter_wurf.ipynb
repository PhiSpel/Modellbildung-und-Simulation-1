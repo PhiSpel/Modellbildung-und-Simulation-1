{
 "cells": [
  {
   "cell_type": "markdown",
   "metadata": {},
   "source": [
    "# Der perfekte Wurf"
   ]
  },
  {
   "cell_type": "markdown",
   "metadata": {},
   "source": [
    "Man könnte annehmen, dass das (erfolgreiche) Werfen eines Freiwurfs für alle hochbezahlten Basketballstars eine reine Formalität ist. Erstaunlicherweise ist dem nicht so! Während der deutsche NBA Star Dirk Nowitzki in der Saison 2008/09 laut NBA Media Ventures (2009) immerhin eine Trefferquote von 89% hatte, gibt es andere NBA Superstars, die in dieser Hinsicht weniger erfolgreich sind. Ein prominentes Beispiel ist Shaquille O’Neal, der am Ende der Saison 2008/09 gerade einmal eine Trefferquote von 59% hatte, in seiner gesamten Karriere sogar nur eine Quote von 52.4%. Er ist kein Einzelfall: Fast ein Drittel der NBA-Spieler haben beim Freiwurf eine Trefferquote von weniger als 75%. Für uns stellt sich die Frage: Woher kommen diese Unterschiede und ist es eventuell möglich ein Modell zu erstellen, das den ’perfekten Wurf’ wiedergibt?"
   ]
  },
  {
   "cell_type": "markdown",
   "metadata": {},
   "source": [
    "## Modellbeschreibung\n",
    "In Abbildung 1 sind die Messungen eines aufgezeichneten Wurfes dargestellt. Der Ball geht ins Netz, wobei er knapp die Hände von Spieler B streift. Die Größe des Balles wird hier vernachlässigt und das Problem wird nur in zwei Dimensionen betrachtet. Der Ball vollführt eine geradlinige Bewegung in horizantler Richtung und eine gleichförmig beschleunigte Bewegung in vertikaler Richtung. Das Koordinatensystem kann frei gewählt werden, hier wird der Ursprung an die Position des werfenden Spielers auf Bodenhöhe gelegt. Dabei soll die $x$-Achse in Richtung des Baseketballkorbes und die $y$-Achse nach oben zeigen."
   ]
  },
  {
   "cell_type": "markdown",
   "metadata": {},
   "source": [
    "### Aufstellen der Bewegungsgleichung\n",
    "Die Bewegungsgleichungen in $x$- und $y$-Richtung können leicht für die gegebene Bewegung hergeleitet werden:\n",
    "\n",
    "In $x$-Richtung wird der Ball nicht beschleunigt, er beseitzt aber eine Anfangsgeschwindigkeit in $x$-Richtung $v_x$. Wegen der Wahl des Ursprungs gilt außerdem $x(t=0)=0$.\n",
    "\n",
    " \\begin{align}\n",
    "  \\ddot{x}(t)&= 0 \\notag \\\\\n",
    "  \\dot{x}(t) &= \\underbrace{\\dot{x}(t=0)}_{:=v_x} + \\int_{0}^t \\ddot{x}(\\tau)\\mathrm{d}\\tau = v_x \\notag \\\\\n",
    "  x(t)       &= \\underbrace{x(t=0)}_{=0} + \\int_{0}^t \\dot{x}(\\tau) \\mathrm{d}\\tau = v_x \\cdot t \\notag\n",
    " \\end{align}\n",
    " \n",
    "Für die vertikale Bewegung gilt mit der Erdbeschleunigung $g = 9,81 \\;\\mathrm{m/s^2}$, der Anfangsgeschwindigkeit in $y$-Richtung $v_y$ und der Abwurfhöhe $h_A$:\n",
    " \n",
    " \\begin{align}\n",
    "  \\ddot{y}(t)&=-g \\notag \\\\\n",
    "  \\dot{y}(t) &= \\underbrace{\\dot{y}(t=0)}_{:=v_y} + \\int_0^t \\ddot{y}(\\tau) \\mathrm{d}\\tau = v_y - g \\cdot t \\notag \\\\\n",
    "  y(t)       &= \\underbrace{y(t=0)}_{=h_A} + \\int_0^t \\dot{y}(\\tau) \\mathrm{d}\\tau = h_A + \\int_0^t v_y - g \\cdot \\tau \\mathrm{d}\\tau \\notag \\\\\n",
    "             &= h_A + v_y \\cdot t - \\frac{1}{2} g t^2\n",
    " \\end{align}"
   ]
  },
  {
   "cell_type": "markdown",
   "metadata": {},
   "source": [
    "Mittels einfacher Trigonometrie können $x(t)$ und $y(t)$ als Funktionen des Abwurfwinkels $\\alpha$ und des Betrags $v_a$ ausgedrückt werden.\n",
    " \n",
    " \\begin{align}\n",
    "  & v_A \\cdot \\cos(\\alpha) = v_x \\notag \\\\\n",
    "  & v_A \\cdot \\sin(\\alpha) = v_y \\notag \\\\\n",
    "  \\\\\n",
    "  \\Rightarrow \\hskip1em & x(t) = v_A \\cdot \\cos(\\alpha) \\cdot t \\label{eq:xtime} \\\\\n",
    "                        & y(t) = h_A + v_A \\cdot \\sin(\\alpha) \\cdot t - \\frac{1}{1} g t^2 \\label{eq:ytime}\n",
    " \\end{align}"
   ]
  },
  {
   "cell_type": "markdown",
   "metadata": {},
   "source": []
  }
 ],
 "metadata": {
  "kernelspec": {
   "display_name": "Octave",
   "language": "octave",
   "name": "octave"
  },
  "language_info": {
   "file_extension": ".m",
   "help_links": [
    {
     "text": "GNU Octave",
     "url": "https://www.gnu.org/software/octave/support.html"
    },
    {
     "text": "Octave Kernel",
     "url": "https://github.com/Calysto/octave_kernel"
    },
    {
     "text": "MetaKernel Magics",
     "url": "https://metakernel.readthedocs.io/en/latest/source/README.html"
    }
   ],
   "mimetype": "text/x-octave",
   "name": "octave",
   "version": "4.2.2"
  }
 },
 "nbformat": 4,
 "nbformat_minor": 4
}
