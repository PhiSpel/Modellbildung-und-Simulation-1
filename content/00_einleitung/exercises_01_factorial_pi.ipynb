{
 "cells": [
  {
   "cell_type": "markdown",
   "metadata": {
    "slideshow": {
     "slide_type": "slide"
    }
   },
   "source": [
    "# 1. Machen Sie sich vertraut mit Matlab\n"
   ]
  },
  {
   "cell_type": "markdown",
   "metadata": {
    "slideshow": {
     "slide_type": "slide"
    }
   },
   "source": [
    "Lesen Sie sich die Kapitel [*Verwendung dieses Buches*](/Modellbildung-und-Simulation/00_einleitung/usage) und [*Erste Schritte in Matlab*](/Modellbildung-und-Simulation/00_einleitung/matlab_00_first_steps) durch. Können Sie die folgenden Fragen beantworten?\n",
    "\n",
    "1. Beschreiben Sie die Funktionalität des *Command Window*, *Editor* und *Workspace* in Matlab.\n",
    "1. Was ist der Unterschied zwischen einer Funktion und einem Skript?\n",
    "2. Was verbirgt sich hinter dem Wort *scope*?\n",
    "3. Was ist ein *function handle*?\n",
    "4. Aus welchen Gründen sollte ich for-Schleifen vermeiden?\n",
    "3. Was ist das Grundprinzip hinter dem *Bisektionsverfahren*?\n",
    "3. Wie kann ich die Operationen `*` bzw. `^` elementweise ausführen?\n",
    "3. Warum sollte ich reelle Zahlen nie mit `==` auf Gleichheit prüfen?\n",
    "3. Was bedeutet logische Indizierung?\n",
    "3. Wie kann ich eine Matrix transponieren?\n",
    "3. Warum sollte ich strings nie mit `==` auf Gleichheit prüfen?\n",
    "3. Nennen Sie ein Tool zur Versionskontrolle.\n",
    "4. Was bewirkt der Befehl `hold on`?"
   ]
  },
  {
   "cell_type": "markdown",
   "metadata": {
    "slideshow": {
     "slide_type": "slide"
    }
   },
   "source": [
    "# 2. Binominialkoeffizienten\n",
    "\n",
    "**To Do** siehe Handout"
   ]
  },
  {
   "cell_type": "code",
   "execution_count": 9,
   "metadata": {},
   "outputs": [],
   "source": [
    "%% fac.m\n",
    "% calculate the factorial of an integer n\n",
    "function z = fac(n)\n",
    "    if n==0\n",
    "        z=1;\n",
    "    else\n",
    "        z=n*fac(n-1);\n",
    "    end\n",
    "end"
   ]
  },
  {
   "cell_type": "code",
   "execution_count": 10,
   "metadata": {},
   "outputs": [
    {
     "name": "stdout",
     "output_type": "stream",
     "text": [
      "ans =  10\n"
     ]
    }
   ],
   "source": [
    "n=5;\n",
    "k=3;\n",
    "fac(n)/(fac(k)*fac(n-k))"
   ]
  },
  {
   "cell_type": "markdown",
   "metadata": {
    "slideshow": {
     "slide_type": "slide"
    }
   },
   "source": [
    "# 3. Rundungsfehler\n",
    "\n",
    "**To Do** siehe Handout"
   ]
  },
  {
   "cell_type": "code",
   "execution_count": 11,
   "metadata": {},
   "outputs": [],
   "source": [
    "max_iter=30;            % Anzahl der Iterationen\n",
    "z = zeros(max_iter,1);  % Initialisiere Vektor für z aus Effizienzgründen\n",
    "err = zeros(max_iter,1);% Initialisiere Vektor für err aus Effizienzgründen\n",
    "\n",
    "z(1)=2*sqrt(2);         %Anfangswerte\n",
    "err(1)=abs(pi-z(1))/pi;\n",
    "\n",
    "for n=1:max_iter-1\n",
    "    z(n+1)=2^(n+1.5)*sqrt(1-sqrt(1-4^(-n-1)*z(n)^2));\n",
    "    err(n+1)=abs(pi-z(n+1))/pi;\n",
    "end"
   ]
  },
  {
   "cell_type": "markdown",
   "metadata": {
    "slideshow": {
     "slide_type": "subslide"
    }
   },
   "source": [
    "Logarithmische Darstellung des Fehlers"
   ]
  },
  {
   "cell_type": "code",
   "execution_count": 8,
   "metadata": {},
   "outputs": [
    {
     "data": {
      "image/png": "[encoded data removed]",
      "text/plain": [
       "<IPython.core.display.Image object>"
      ]
     },
     "metadata": {},
     "output_type": "display_data"
    }
   ],
   "source": [
    "semilogy(err)\n",
    "title('Logarithmus des Fehlers')\n",
    "xlabel('Iteration')\n",
    "ylabel('error')\n",
    "set(gca, 'ygrid', 'on')"
   ]
  }
 ],
 "metadata": {
  "kernelspec": {
   "display_name": "Octave",
   "language": "octave",
   "name": "octave"
  },
  "language_info": {
   "file_extension": ".m",
   "help_links": [
    {
     "text": "GNU Octave",
     "url": "https://www.gnu.org/software/octave/support.html"
    },
    {
     "text": "Octave Kernel",
     "url": "https://github.com/Calysto/octave_kernel"
    },
    {
     "text": "MetaKernel Magics",
     "url": "https://github.com/calysto/metakernel/blob/master/metakernel/magics/README.md"
    }
   ],
   "mimetype": "text/x-octave",
   "name": "octave",
   "version": "4.2.2"
  }
 },
 "nbformat": 4,
 "nbformat_minor": 2
}
