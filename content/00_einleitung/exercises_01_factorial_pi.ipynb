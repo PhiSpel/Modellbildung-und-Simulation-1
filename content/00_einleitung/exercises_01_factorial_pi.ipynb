{
 "cells": [
  {
   "cell_type": "markdown",
   "metadata": {
    "slideshow": {
     "slide_type": "slide"
    }
   },
   "source": [
    "## To aufräum\n"
   ]
  },
  {
   "cell_type": "markdown",
   "metadata": {
    "slideshow": {
     "slide_type": "slide"
    }
   },
   "source": [
    "Hier vllt Liste von Fragen, von denen ich erwarte, dass die Studenten sie beantworten können?\n",
    "\n",
    "1. Beschreibe die Funktionalität des *Command Window*, *Editor* und *Workspace* in Matlab.\n",
    "1. Was ist der Unterschied zwischen einer Funktion und einem Skript?\n",
    "2. Was verbirgt sich hinter dem Wort *scope*?\n",
    "3. Was ist ein *function handle*?\n",
    "4. Aus welchem Grund sollte ich for-Schleifen vermeiden?\n",
    "\n",
    "* Funktionen werden normalerweise in einem eigenen m-file gespeichert, siehe das Handout zur Matlab Einführung.\n",
    "\n",
    "* Kurze Funktionen (Einzeiler) können in Variablen, so genannten 'function handles' abgespeichert werden."
   ]
  },
  {
   "cell_type": "code",
   "execution_count": 25,
   "metadata": {},
   "outputs": [
    {
     "name": "stdout",
     "output_type": "stream",
     "text": [
      "ans =  4\n",
      "ans =\n",
      "\n",
      "    4    9\n",
      "   16   25\n",
      "\n"
     ]
    }
   ],
   "source": [
    "% Die Unbekannten Größen einer function handle\n",
    "% werden mit dem @-Symbol deklariert.\n",
    "meineFunktion = @(x)  x.^2;\n",
    "\n",
    "meineFunktion(2)\n",
    "meineFunktion([2,3;4,5])"
   ]
  },
  {
   "cell_type": "markdown",
   "metadata": {
    "slideshow": {
     "slide_type": "slide"
    }
   },
   "source": [
    "### Binominialkoeffizienten\n",
    "\n",
    "siehe Handout"
   ]
  },
  {
   "cell_type": "code",
   "execution_count": 26,
   "metadata": {},
   "outputs": [],
   "source": [
    "%% fac.m\n",
    "% calculate the factorial of an integer n\n",
    "function z = fac(n)\n",
    "    if n==0\n",
    "        z=1;\n",
    "    else\n",
    "        z=n*fac(n-1);\n",
    "    end\n",
    "end"
   ]
  },
  {
   "cell_type": "code",
   "execution_count": 27,
   "metadata": {},
   "outputs": [
    {
     "name": "stdout",
     "output_type": "stream",
     "text": [
      "ans =  10\n"
     ]
    }
   ],
   "source": [
    "n=5;\n",
    "k=3;\n",
    "fac(5)/(fac(k)*fac(n-k))"
   ]
  },
  {
   "cell_type": "markdown",
   "metadata": {
    "slideshow": {
     "slide_type": "slide"
    }
   },
   "source": [
    "### Programmierübung 2: Rundungsfehler \n",
    "\n",
    "siehe Handout"
   ]
  },
  {
   "cell_type": "code",
   "execution_count": 28,
   "metadata": {},
   "outputs": [],
   "source": [
    "max_iter=30;            % Anzahl der Iterationen\n",
    "z = zeros(max_iter,1);  % Initialisiere Vektor für z aus Effizienzgründen\n",
    "err = zeros(max_iter,1);% Initialisiere Vektor für err aus Effizienzgründen\n",
    "\n",
    "z(1)=2*sqrt(2);         %Anfangswerte\n",
    "err(1)=abs(pi-z(1))/pi;\n",
    "\n",
    "for n=1:max_iter-1\n",
    "    z(n+1)=2^(n+1.5)*sqrt(1-sqrt(1-4^(-n-1)*z(n)^2));\n",
    "    err(n+1)=abs(pi-z(n+1))/pi;\n",
    "end"
   ]
  },
  {
   "cell_type": "markdown",
   "metadata": {
    "slideshow": {
     "slide_type": "subslide"
    }
   },
   "source": [
    "Logarithmische Darstellung des Fehlers"
   ]
  },
  {
   "cell_type": "code",
   "execution_count": 29,
   "metadata": {},
   "outputs": [
    {
     "data": {
      "image/png": "[encoded data removed]",
      "text/plain": [
       "<IPython.core.display.Image object>"
      ]
     },
     "metadata": {},
     "output_type": "display_data"
    }
   ],
   "source": [
    "plot(log(err))\n",
    "title('Logarithmus des Fehlers')\n",
    "xlabel('Iteration')\n",
    "ylabel('log(error)')"
   ]
  },
  {
   "cell_type": "code",
   "execution_count": null,
   "metadata": {},
   "outputs": [],
   "source": []
  },
  {
   "cell_type": "code",
   "execution_count": null,
   "metadata": {},
   "outputs": [],
   "source": []
  }
 ],
 "metadata": {
  "kernelspec": {
   "display_name": "Octave",
   "language": "octave",
   "name": "octave"
  },
  "language_info": {
   "file_extension": ".m",
   "help_links": [
    {
     "text": "GNU Octave",
     "url": "https://www.gnu.org/software/octave/support.html"
    },
    {
     "text": "Octave Kernel",
     "url": "https://github.com/Calysto/octave_kernel"
    },
    {
     "text": "MetaKernel Magics",
     "url": "https://github.com/calysto/metakernel/blob/master/metakernel/magics/README.md"
    }
   ],
   "mimetype": "text/x-octave",
   "name": "octave",
   "version": "4.2.2"
  }
 },
 "nbformat": 4,
 "nbformat_minor": 2
}
