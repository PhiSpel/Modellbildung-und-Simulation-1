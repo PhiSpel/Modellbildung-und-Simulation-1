{
 "cells": [
  {
   "cell_type": "markdown",
   "metadata": {
    "slideshow": {
     "slide_type": "slide"
    }
   },
   "source": [
    "# 1. Machen Sie sich vertraut mit Matlab\n"
   ]
  },
  {
   "cell_type": "markdown",
   "metadata": {
    "slideshow": {
     "slide_type": "slide"
    }
   },
   "source": [
    "Lesen Sie sich die Kapitel [*Verwendung dieses Buches*](/Modellbildung-und-Simulation/00_einleitung/usage) und [*Erste Schritte in Matlab*](/Modellbildung-und-Simulation/00_einleitung/matlab_00_first_steps) durch. Können Sie die folgenden Fragen beantworten?\n",
    "\n",
    "1. Beschreiben Sie die Funktionalität des *Command Window*, *Editor* und *Workspace* in Matlab.\n",
    "1. Was ist der Unterschied zwischen einer Funktion und einem Skript?\n",
    "2. Was verbirgt sich hinter dem Wort *scope*?\n",
    "3. Was ist ein *function handle*?\n",
    "4. Aus welchen Gründen sollte ich for-Schleifen vermeiden?\n",
    "3. Was ist das Grundprinzip hinter dem *Bisektionsverfahren*?\n",
    "3. Wie kann ich die Operationen `*` bzw. `^` elementweise ausführen?\n",
    "3. Warum sollte ich reelle Zahlen nie mit `==` auf Gleichheit prüfen?\n",
    "3. Was bedeutet logische Indizierung?\n",
    "3. Wie kann ich eine Matrix transponieren?\n",
    "3. Warum sollte ich strings nie mit `==` auf Gleichheit prüfen?\n",
    "3. Nennen Sie ein Tool zur Versionskontrolle.\n",
    "4. Was bewirkt der Befehl `hold on`?"
   ]
  },
  {
   "cell_type": "markdown",
   "metadata": {
    "slideshow": {
     "slide_type": "slide"
    }
   },
   "source": [
    "# 2. Binomialkoeffizienten\n",
    "\n",
    "Erstellen Sie ein Programm für die Berechnung der Binomialkoeffizienten\n",
    "\n",
    "$$ \\left( \\begin{array}{c} n \\\\ k \\end{array} \\right) = \\frac{n!}{k! \\cdot (n-k)!}, $$\n",
    "\n",
    "wobei $n$ und $k$ ganze Zahlen mit $n \\geq k \\geq 0$ sind.\n",
    "\n",
    "**Hinweise**: "
   ]
  },
  {
   "cell_type": "markdown",
   "metadata": {},
   "source": [
    " - Schreiben Sie eine Funktion, die die Fakultät berechnet:"
   ]
  },
  {
   "cell_type": "code",
   "execution_count": 1,
   "metadata": {},
   "outputs": [
    {
     "name": "stdout",
     "output_type": "stream",
     "text": [
      "Created file '/home/jan/shares/Modellbildung-und-Simulation/content/00_einleitung/fac.m'.\n"
     ]
    }
   ],
   "source": [
    "%%file fac.m\n",
    "% calculate the factorial of an integer n\n",
    "function z = fac(n)\n",
    "    \n",
    "    % test for non ingeger numbers\n",
    "    if any( abs(n - floor(n)) > 1e-12 )\n",
    "        error(\"Input n must be integer.\")\n",
    "    end\n",
    "    \n",
    "    % test for nonnegative numbers\n",
    "    if any( n<0 )\n",
    "        error(\"Input n must be nonnegative.\")\n",
    "    end\n",
    "    \n",
    "    % initialize output to 1\n",
    "    z = ones(size(n));\n",
    "    \n",
    "    % check if any entry in n is larger than 1. If not,\n",
    "    % the initialized z is the correct answer and we are \n",
    "    % done\n",
    "    n_greater_one = n>1;\n",
    "    if ~any(n_greater_one)\n",
    "        return\n",
    "    end\n",
    "    \n",
    "    % recursively call the factorial function for those entries,\n",
    "    % that are still greater than one.\n",
    "    z(n_greater_one) = n(n_greater_one).*fac(n(n_greater_one)-1);\n",
    "end"
   ]
  },
  {
   "cell_type": "markdown",
   "metadata": {},
   "source": [
    "- Testen Sie die Funktionalität mit der bereitgestellten *test suite* `test_fac.m`, siehe unten. Es reicht zunächst, dass die ersten drei der unit tests erfolgreich sind. **Challenge:** Schaffen Sie es, alle sechs unit tests zu erfüllen?"
   ]
  },
  {
   "cell_type": "code",
   "execution_count": 2,
   "metadata": {},
   "outputs": [
    {
     "name": "stdout",
     "output_type": "stream",
     "text": [
      "suite: 6 tests\n",
      "......\n",
      "--------------------------------------------------\n",
      "\n",
      "OK (passed=6)\n",
      "ans = 1\n"
     ]
    }
   ],
   "source": [
    "% test the fac function\n",
    "moxunit_runtests test_fac.m"
   ]
  },
  {
   "cell_type": "markdown",
   "metadata": {},
   "source": [
    " - Schreiben Sie nun die Funktion, die den Binominialkoeffizienten berechnet. Verwenden Sie Ihre neue Funktion zur Berechnung der Fakultät."
   ]
  },
  {
   "cell_type": "code",
   "execution_count": 3,
   "metadata": {},
   "outputs": [
    {
     "name": "stdout",
     "output_type": "stream",
     "text": [
      "Created file '/home/jan/shares/Modellbildung-und-Simulation/content/00_einleitung/binomial_coefficient.m'.\n"
     ]
    }
   ],
   "source": [
    "%%file binomial_coefficient.m\n",
    "function c = binomial_coefficient(n,k)\n",
    "    % ADD CODE HERE\n",
    "end"
   ]
  },
  {
   "cell_type": "markdown",
   "metadata": {},
   "source": [
    " - Testen Sie die Funktionsweise Ihrer neuen Funktion (diesmal ohne explizit einen unit test zu verwenden):"
   ]
  },
  {
   "cell_type": "code",
   "execution_count": 4,
   "metadata": {},
   "outputs": [],
   "source": [
    "% run some quick tests without explicitly using a unit test\n",
    "binomial_coefficient( 5, 3) % expected value: 10\n",
    "binomial_coefficient(49, 6) % expected value: 13983816\n",
    "binomial_coefficient(10,10) % expected value: 1"
   ]
  },
  {
   "cell_type": "markdown",
   "metadata": {},
   "source": [
    "- Haben Sie Ideen, wie sie die Anzahl nötiger Rechenoperationen verringern können?"
   ]
  },
  {
   "cell_type": "markdown",
   "metadata": {
    "slideshow": {
     "slide_type": "slide"
    }
   },
   "source": [
    "# 3. Rundungsfehler\n",
    "\n",
    "MATLAB bzw. Octave steht für die Auflösung reeller Zahlen die Menge der sogenannten Maschinenzahlen zur Verfügung. Diese haben eine endliche Genauigkeit, welche Sie sich mit dem Befehl"
   ]
  },
  {
   "cell_type": "code",
   "execution_count": 5,
   "metadata": {},
   "outputs": [
    {
     "name": "stdout",
     "output_type": "stream",
     "text": [
      "ans =    2.2204e-16\n"
     ]
    }
   ],
   "source": [
    "eps"
   ]
  },
  {
   "cell_type": "markdown",
   "metadata": {},
   "source": [
    "ausgeben lassen können. Bei der Eingabe einer reellen Zahl wird intern eine Maschinenzahl verwendet, die nicht zwangsweise mit dem tatsächlich eingegebenen Wert übereinstimmt. Es entsteht also ein (kleiner) Rundungsfehler im Rahmen der Maschinengenauigkeit.\n",
    "\n",
    "François Viète hat 1593 als erster ane analytische Gleichung für die Kreiszahl $\\pi$ veröffentlicht. Zu diesem Zeitpunkt gab es zwar bereits einige Ansätze $\\pi$ zu approximieren, aber seine Darstellung als unendliches Produkt\n",
    "\n",
    "$$\n",
    "\\begin{align}\n",
    "a_1 &= \\frac{1}{2}\\sqrt{2}, \\\\\n",
    "a_n &= \\frac{1}{2}\\sqrt{2+2a_{n-1}}, \\text{ für } n \\geq 2 \n",
    "\\end{align}\n",
    "$$\n",
    "\n",
    "$$ \\Rightarrow \\frac{2}{\\pi} = \\lim_{n \\to \\infty} a_i = a_1 \\cdot a_2 \\cdot a_3 \\cdot ... = \\left( \\frac{1}{2}\\sqrt{2} \\right) \\cdot \\left( \\frac{1}{2}\\sqrt{2+\\sqrt{2}} \\right) \\cdot \\left( \\frac{1}{2}\\sqrt{2+\\sqrt{2 + \\sqrt{2}}} \\right) \\cdot ... $$\n",
    "\n",
    "war neu. Die Produktformel lässt sich äquivalent als eine Folge schreiben:\n",
    "\n",
    "$$ \n",
    "\\begin{align}\n",
    "z_0 &= 2, \\notag \\\\\n",
    "z_n &= 2^{n+\\frac{1}{2}}\\sqrt{1-\\sqrt{1-4^{-n}z_{n-1}^2}}, \\text{ für } n = 1, 2, 3, ... \n",
    "\\end{align}\n",
    "$$\n",
    "\n",
    "Die Folge konvergiert für $n \\to \\infty$ gegen $\\pi$:\n",
    "\n",
    "$$ \\lim_{n \\to \\infty} z_n = \\pi. $$"
   ]
  },
  {
   "cell_type": "markdown",
   "metadata": {},
   "source": [
    "Herr Viète konnte damals noch nichts von Computern und den inherent eingebauten Rundungsfehlern wissen. Leider ist gerade seine Folge anfällig für Fehlerfortplanzung, d.h. kleine Rundungsfehler in jedem Iterationsschritt verstärken sich.\n",
    "\n",
    "Schreiben Sie ein kleines Matlabskript, das diese Fehlerfortplanzung demonstriert. Berechnen Sie dazu für $n=1,2,3,...,20$ jeweils die Folgeglieder $z_n$. Berechnen Sie für jedes $z_n$ den relativen Fehler\n",
    "\n",
    "$$ r_n = \\frac{|\\pi - z_n|}{\\pi}. $$\n",
    "\n",
    "Erstellen Sie einen Plot in dem der Logarithmus des relativen Fehlers in Abhängigkeit der Iterationszahl $n$ dargestellt ist. Wie verhält sich der Fehler für kleine beziehungsweise große $n$?"
   ]
  },
  {
   "cell_type": "code",
   "execution_count": 6,
   "metadata": {},
   "outputs": [
    {
     "data": {
      "image/png": "[encoded data removed]",
      "text/plain": [
       "<IPython.core.display.Image object>"
      ]
     },
     "metadata": {},
     "output_type": "display_data"
    }
   ],
   "source": [
    "% demonstrate numerical error propagation using Viète's formula for approximating pi\n",
    "\n",
    "n_max = 20;\n",
    "\n",
    "z   = zeros(1, n_max+1);\n",
    "err = zeros(1, n_max+1);\n",
    "\n",
    "error_func  = @(z) abs(z - pi)/pi;\n",
    "\n",
    "z(1)   = 2;\n",
    "err(1) = error_func(z(1));\n",
    "\n",
    "for n=1:n_max\n",
    "    z(n+1)   = 2^(n+0.5)*sqrt(1-sqrt(1-4^(-n)*z(n)^2));\n",
    "    err(n+1) = error_func(z(n+1));\n",
    "end\n",
    "\n",
    "semilogy(1:n_max+1,err)\n"
   ]
  }
 ],
 "metadata": {
  "kernelspec": {
   "display_name": "Octave",
   "language": "octave",
   "name": "octave"
  },
  "language_info": {
   "file_extension": ".m",
   "help_links": [
    {
     "text": "GNU Octave",
     "url": "https://www.gnu.org/software/octave/support.html"
    },
    {
     "text": "Octave Kernel",
     "url": "https://github.com/Calysto/octave_kernel"
    },
    {
     "text": "MetaKernel Magics",
     "url": "https://github.com/calysto/metakernel/blob/master/metakernel/magics/README.md"
    }
   ],
   "mimetype": "text/x-octave",
   "name": "octave",
   "version": "4.2.2"
  }
 },
 "nbformat": 4,
 "nbformat_minor": 2
}
