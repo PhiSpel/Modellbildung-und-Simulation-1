{
 "cells": [
  {
   "cell_type": "markdown",
   "metadata": {
    "scrolled": true,
    "slideshow": {
     "slide_type": "slide"
    }
   },
   "source": [
    "# Erste Schritte in Matlab\n",
    "\n",
    "[Matlab](https://de.wikipedia.org/wiki/Matlab) ist eine interpretierte Skriptsprache, die insbesondere für numerische Berechnungen, Modellbildung und Simulation verwendet wird. Interpretierte Skriptsprachen zeichnen sich dadurch aus, dass sie von speziellen Computerprogrammen, sogenannten *Interpreter*, direkt interpretiert und ausgeführt werden. Im Kontrast dazu stehen Sprachen wie C/C++, die zunächst von einem Compiler in eine maschinenlesbare Datei übersetzt werden müssen.\n",
    "\n",
    "<img src=\"../images/Matlab_Logo.png\" alt=\"Drawing\" style=\"width: 200px;\"/>\n",
    "\n",
    "Die Sprache wird von [The Mathworks Inc.](https://de.wikipedia.org/wiki/The_MathWorks) entwickelt. Dieses Unternehmen vertreibt kommerziell die gleichnamige Entwicklungsumgebung und den gleichnamigen Interpreter.\n",
    "\n",
    "## Matlab Alternativen\n",
    "\n",
    "Matlab ist nicht kostengünstig. Es gibt aber frei verfügbare Alternative. Zum Beispiel gibt es die kostenfreien Matlab-Klone [Octave](http://www.octave.org) oder [Scilab](http://www.scilab.org). Octave- bzw. Scilab-Skripte sind weitestgehend mit Matlab kompatibel. An einigen Stellen dieses Online-Lehrbuchs tauchen Textboxen mit Matlab-Code auf, der sich interaktiv ausführen lässt. Die Umsetzung basiert auf einen Octave-Kern, der im Hintergrund auf einer virtuellen Maschine läuft. [Hier](https://en.wikibooks.org/wiki/MATLAB_Programming/Differences_between_Octave_and_MATLAB) finden Sie eine Liste syntaktischer Unterschiede zwischen Octave und Matlab.\n",
    "\n",
    "Neben Octave und Matlab gibt es eine Vielzahl weiterer Skriptsprachen, die man ebenso verwenden könnte, die drei am weitesten verbreiteten Sprachen aus dem Bereich wissenschaftlichen Rechnen sind wahrscheinlich \n",
    " * [Python](https://www.python.org/) - Extrem vielseitige und weitverbreitete Sprache, [jeder sollte irgendwann mal Python lernen](https://hackernoon.com/10-reasons-to-learn-python-in-2018-f473dc35e2ee).\n",
    " * [R](https://www.r-project.org/) - Insbesondere für statistische Anwendungen geeignet\n",
    " * [Julia]() - Best of R and Matlab, streng genommen keine interpretierte Sprache, es kommt ein sogenannter *Just-In-Time-Compiler* zum Einsatz und wirbt mit höherer Performanz.\n",
    " \n",
    "\n",
    "Warum soll ich also das kostenpflichtige Matlab verwenden, wenn es soviel kostenfreie Alternativen gibt? Zugegeben, viele Argumente fallen mir nicht ein. Es gibt dennoch ein paar sehr gute Gründe Matlab zu benutzen: \n",
    "1. Es ist eine ausgereifte, vielseitige robuste und einfach zu erlernende Skriptsprache, mit der man in sehr kurzer Zeit komplexe Modelle erstellen kann.\n",
    "2. Die Benutzerumgebung liefert viele praktische Werkzeuge wie Profiler oder Debugging Tools.\n",
    "2. Studenten erhalten in der Regel kostenfrei Zugang zu einer Campuslizenz.\n",
    "\n",
    "## Installation\n",
    "\n",
    "Es gibt verschiedene Wege mit Matlab zu arbeiten.\n",
    "\n",
    " * **Installation des Software-Pakets**: Das ist mit Sicherheit der sinnvollste Weg, wenn man viel mit Matlab arbeitet. Für Studenten der Hochschule Bonn-Rhein-Sieg wird [hier](https://www.h-brs.de/de/emt/matlab) beschrieben, wie man Matlab installiert und über die Campuslizenz aktiviert. Am Fachbereich 3 der Hochschule Bonn-Rhein-Sieg ist auf allen Computern der Räume B107 und B114 Matlab bereits installiert.\n",
    " * **Matlab Online**: Inzwischen gibt es eine [browser-basierte Version von Matlab](https://matlab.mathworks.com/), die ohne Installation funktioniert. Hierfür muss man sich nur über sein MathWorks Account einloggen und dort eine valide Lizenz hinterlegt haben.\n",
    " * **Matlab Mobile**: Es gibt eine [App von MathWorks](https://play.google.com/store/apps/details?id=com.mathworks.matlabmobile&hl=de), die sich anfühlt wie Matlab. Kommandos werden übers Internet zu einem Server geschickt, dort ausgeführt und das Ergebnis wird auf dem Smartphone angezeigt."
   ]
  },
  {
   "cell_type": "markdown",
   "metadata": {
    "slideshow": {
     "slide_type": "subslide"
    }
   },
   "source": [
    " \n",
    "# Basics\n",
    "\n",
    "In diesem Lehrbuch geht es hauptsächlich um Methodik, und weniger um die Computersprache in der die Algorithmen umgesetzt werden. Es ist also nicht Ziel, das drölfmillionste Tutorial für Matlab zur Verfügung zu stellen. Hierfür gibt es bereits viele sehr gute Anlaufstellen:\n",
    "\n",
    "* [https://matlabacademy.mathworks.com/](https://matlabacademy.mathworks.com/)\n",
    "* [http://www.mathworks.com/videos/](http://www.mathworks.com/videos/)\n",
    "* [http://www.mathworks.de/academia/student_center/tutorials](http://www.mathworks.de/academia/student_center/tutorials)\n",
    "* [http://www.mathworks.com/academia/courseware](http://www.mathworks.com/academia/courseware)\n",
    "* [http://www.mathworks.de/matlabcentral/fileexchange/](http://www.mathworks.de/matlabcentral/fileexchange/)\n",
    "* [let me google that for you...](http://lmgtfy.com/?q=matlab+tutorial+beginner)\n",
    "\n",
    "\n",
    "Genauso hilft immer ein Blick in die Dokumentation. Nichtsdestotrotz sollen hier die absoluten Basics einmal beschrieben werden. Die wichtigsten Fenster von Matlab werden am Anfang das *Command Window*, der *Editor* und der *Workspace* sein. \n",
    "\n",
    "<img src=\"../images/matlabonline.PNG\" alt=\"Drawing\" style=\"width: 1200px;\"/>\n",
    "\n",
    "## Einfache Befehle\n",
    "\n",
    "Im *Command Window* gibt man, wie der Name schon sagt, Befehle ein. Diese werden unmittelbar nach dem *Prompt* ```>>``` eingetippt. Gibt man zum Beispiel ```a=5``` ein, erscheint ein feedback, dass die Variable ```a``` erstellt wurde, und sie den Wert ```5``` zugewiesen bekommen hat.\n"
   ]
  },
  {
   "cell_type": "code",
   "execution_count": 1,
   "metadata": {},
   "outputs": [
    {
     "name": "stdout",
     "output_type": "stream",
     "text": [
      "a =  5\n"
     ]
    }
   ],
   "source": [
    "a=5"
   ]
  },
  {
   "cell_type": "markdown",
   "metadata": {
    "slideshow": {
     "slide_type": "slide"
    }
   },
   "source": [
    "MATLAB gibt nach Eingabe eines Kommandos immer eine Rückmeldung, in diesem Fall wird die Variable noch einmal ausgegeben. Diese Rückmeldung kann mit Hilfe des Semikolons unterdrückt werden:"
   ]
  },
  {
   "cell_type": "code",
   "execution_count": 2,
   "metadata": {},
   "outputs": [],
   "source": [
    "b=2*pi;"
   ]
  },
  {
   "cell_type": "markdown",
   "metadata": {},
   "source": [
    "Beide Variablen sind nun im Workspace hinterlegt, und können für weitere Berechnungen benutzt werden. Ich kann mir zum Beispiel den Wert von ```b``` ausgeben lassen,"
   ]
  },
  {
   "cell_type": "code",
   "execution_count": 3,
   "metadata": {},
   "outputs": [
    {
     "name": "stdout",
     "output_type": "stream",
     "text": [
      "b =  6.2832\n"
     ]
    }
   ],
   "source": [
    "b"
   ]
  },
  {
   "cell_type": "markdown",
   "metadata": {},
   "source": [
    "oder einfache Rechenoperationen ausführen:"
   ]
  },
  {
   "cell_type": "code",
   "execution_count": 7,
   "metadata": {},
   "outputs": [
    {
     "name": "stdout",
     "output_type": "stream",
     "text": [
      "ans =  1.25664 + 0.38268i\n"
     ]
    }
   ],
   "source": [
    "b/a + i*sin(pi/8)"
   ]
  },
  {
   "cell_type": "markdown",
   "metadata": {},
   "source": [
    "Das Ergebnis der Rechnung wird unter dem Variablennamen ```ans``` im Workspace hinterlegt. Ich kann dem Ergebnis explizit einen Variablennamen, hier ```c``` zuordnen:"
   ]
  },
  {
   "cell_type": "code",
   "execution_count": 9,
   "metadata": {},
   "outputs": [
    {
     "name": "stdout",
     "output_type": "stream",
     "text": [
      "c =  1.25664 + 0.38268i\n"
     ]
    }
   ],
   "source": [
    "c = b/a + i*sin(pi/8)"
   ]
  },
  {
   "cell_type": "markdown",
   "metadata": {},
   "source": [
    "Wenn ich möchte, kann ich die Ausgabe des Ergebnisses unterdrücken, indem ich die Zeile mit einem Semikolon beende:"
   ]
  },
  {
   "cell_type": "code",
   "execution_count": 16,
   "metadata": {},
   "outputs": [],
   "source": [
    "d = exp(b/a - i*sin(pi/8));"
   ]
  },
  {
   "cell_type": "markdown",
   "metadata": {},
   "source": [
    "Einige wichtige Punkte konnten wir bisher beobachten:\n",
    "\n",
    "* Variablenzuweisungen passieren von links nach rechts: Was rechts vom Gleichheitszeichen steht, wird der Variablen die links vom Gleichheitszeichen steht zugeordnet. Wenn es diese Variable nicht gibt, wird sie im Workspace hinterlegt.\n",
    "* Matlab bietet eine Vielzahl von mathematischen Funktionen an, die regelmäßig gebraucht werden, wie z.B. die Exponentialfunktion ```exp``` oder das Rechnen mit komplexen Zahlen.\n",
    "* Alle Variablen werden im Workspace hinterlegt und können anschließend für weitere Berechnungen verwendent werden.\n",
    "* In Matlab werden die skalaren Datentypen (```integer```, ```double```, ```float```, ...) nicht explizit angegeben, wie man es von Sprachen wie C oder C++ vielleicht gewöhnt ist. Auch wenn die Variable ```a``` ganzzahlig ist, geht Matlab standardmäßig von ```double``` aus. Der Typ einer Variable lässt sich in Matlab durch die Funktion ```class()``` ausgeben lassen:"
   ]
  },
  {
   "cell_type": "code",
   "execution_count": 17,
   "metadata": {},
   "outputs": [
    {
     "name": "stdout",
     "output_type": "stream",
     "text": [
      "ans = double\n"
     ]
    }
   ],
   "source": [
    "class(a)"
   ]
  },
  {
   "cell_type": "markdown",
   "metadata": {},
   "source": [
    "## Vektoren und Matrizen\n",
    "\n",
    "Matlab ist ein Kofferwort aus **Mat**rix-**Lab**oratory. Der Name impliziert schon, dass es sich ideal dazu eignet mit Matrizen und Vektoren zu arbeiten. Dabei wird nicht zwischen den beiden unterschieden: Ein Zeilenvektor mit $n$ Einträgen ist einfach eine Matrix aus $\\mathbb{R}^{1 \\times n}$, während ein Spaltenvektor mit $n$ Einträgen eine Matrix aus $\\mathbb{R}^{n \\times 1}$ ist.\n",
    "\n",
    "In Matlab werden Matrizen mit eckigen Klammern geschrieben, ein Semikolon beendet eine Zeile:"
   ]
  },
  {
   "cell_type": "code",
   "execution_count": 18,
   "metadata": {},
   "outputs": [
    {
     "name": "stdout",
     "output_type": "stream",
     "text": [
      "e =\n",
      "\n",
      "   1   2   3   4   5\n",
      "\n",
      "f =\n",
      "\n",
      "   1\n",
      "   2\n",
      "   3\n",
      "   4\n",
      "   5\n",
      "\n"
     ]
    }
   ],
   "source": [
    "e=[1 2 3 4 5] % ein Zeilenvektor\n",
    "f=[1;2;3;4;5] % ein Spaltenvektor"
   ]
  },
  {
   "cell_type": "markdown",
   "metadata": {
    "slideshow": {
     "slide_type": "slide"
    }
   },
   "source": [
    "Beim Produkt zweier Vektoren $\\mathbf{e}$ und $\\mathbf{f}$ (byw. Matrixprodukt zweier Matrizen) ist stets darauf zu achten, dass die Dimensionen zueinander passen! Kann ich die eben erstellten Vektoren $e$ und $f$ miteinander multiplizieren?"
   ]
  },
  {
   "cell_type": "code",
   "execution_count": 19,
   "metadata": {},
   "outputs": [
    {
     "name": "stdout",
     "output_type": "stream",
     "text": [
      "ans =  55\n"
     ]
    }
   ],
   "source": [
    "e*f"
   ]
  },
  {
   "cell_type": "markdown",
   "metadata": {},
   "source": [
    "Aha, bei Multiplikation eines $(1,n)$-dimensionalen Vektors $\\mathbf{e}$ mit einem $(n,1)$-dimensionalen Vektor $\\mathbf{f}$ erhalte ich eine Zahl, bzw. eine $(1,1)$-dimensionale Matrix mit nur einem Eintrag. Wir erhalten das **Skalarprodukt**\n",
    "\n",
    "$$ \\mathbf{e} \\cdot \\mathbf{f} = \\sum_{i=1}^n e_i \\cdot f_i. $$"
   ]
  },
  {
   "cell_type": "code",
   "execution_count": 20,
   "metadata": {},
   "outputs": [
    {
     "name": "stdout",
     "output_type": "stream",
     "text": [
      "ans =\n",
      "\n",
      "    1    2    3    4    5\n",
      "    2    4    6    8   10\n",
      "    3    6    9   12   15\n",
      "    4    8   12   16   20\n",
      "    5   10   15   20   25\n",
      "\n"
     ]
    }
   ],
   "source": [
    "f*e"
   ]
  },
  {
   "cell_type": "markdown",
   "metadata": {},
   "source": [
    "Die Multiplikation eines $(n,1)$-dimensionalen Vektors $\\mathbf{f}$ mit einem (1,n)-dimensionalen Vektor $\\mathbf{e}$ liefert mit also eine $(n,n)$-dimensionale Matrix. Es handelt sich um das **diadische Produkt**\n",
    "\n",
    "$$ A = \\mathbf{f} \\cdot \\mathbf{e}, \\hskip0.5cm A_{ij} = f_i \\cdot e_j $$\n",
    "\n",
    "Wie sieht es mit den folgenden Matrizen aus?"
   ]
  },
  {
   "cell_type": "code",
   "execution_count": 26,
   "metadata": {},
   "outputs": [
    {
     "name": "stdout",
     "output_type": "stream",
     "text": [
      "error: operator *: nonconformant arguments (op1 is 3x1, op2 is 3x1)\n"
     ]
    }
   ],
   "source": [
    "g = [1; 1; 1];\n",
    "h = [2; 2; 2];\n",
    "g*h"
   ]
  },
  {
   "cell_type": "markdown",
   "metadata": {},
   "source": [
    "Nein! Es klappt nicht. Die Fehlermeldung gibt schon Auskunft darüber wieso, die Dimensionen der Matrizen passen nicht zusammen. \n",
    "\n",
    "*Hinweis:* Hier ist der Wortlaut der Octave-Fehlermeldung zusehen. Matlab gibt an dieser Stelle die folgende Fehlermeldung wieder:\n",
    "\n",
    "```\n",
    "Error using  * \n",
    "Incorrect dimensions for matrix multiplication. Check that the number of columns in\n",
    "the first matrix matches the number of rows in the second matrix. To perform\n",
    "elementwise multiplication, use '.*'.\n",
    "```\n",
    "\n",
    "Wir behelfen uns eines Tricks: Ein nachgestelltes Apostroph gibt die transponierte Matrix aus:"
   ]
  },
  {
   "cell_type": "code",
   "execution_count": 30,
   "metadata": {},
   "outputs": [
    {
     "name": "stdout",
     "output_type": "stream",
     "text": [
      "ans =\n",
      "\n",
      "   3   1\n",
      "\n"
     ]
    }
   ],
   "source": [
    "size(g)"
   ]
  },
  {
   "cell_type": "code",
   "execution_count": 31,
   "metadata": {},
   "outputs": [
    {
     "name": "stdout",
     "output_type": "stream",
     "text": [
      "ans =\n",
      "\n",
      "   1   1   1\n",
      "\n"
     ]
    }
   ],
   "source": [
    "g'"
   ]
  },
  {
   "cell_type": "code",
   "execution_count": 32,
   "metadata": {},
   "outputs": [
    {
     "name": "stdout",
     "output_type": "stream",
     "text": [
      "ans =\n",
      "\n",
      "   1   3\n",
      "\n"
     ]
    }
   ],
   "source": [
    "size(g')"
   ]
  },
  {
   "cell_type": "markdown",
   "metadata": {},
   "source": [
    "Das Skalarprodukt von $\\mathbf{g}$ mit $\\mathbf{h}$ können wir also doch ausrechnen:"
   ]
  },
  {
   "cell_type": "code",
   "execution_count": 33,
   "metadata": {},
   "outputs": [
    {
     "name": "stdout",
     "output_type": "stream",
     "text": [
      "ans =  6\n"
     ]
    }
   ],
   "source": [
    "g'*h"
   ]
  },
  {
   "cell_type": "markdown",
   "metadata": {},
   "source": [
    "Sehr häufig ist es nützlich Operationen komponentenweise auszuführen. Nehmen wir zum Beispiel an, in einer kleinen Arbeitsgruppe arbeiten fünft Personen. Zwei Mitarbeiter haben Vollzeitstellen, d.h. 39.5 Stunden pro Woche, einer hat eine halbe Stelle und zwei studentische Hilfskräfte unterstützen jeweils mit acht Stunden pro Woche.. Die wöchentliche Arbeitszeit der Mitarbeiter hinterlegen wir in einem Vektor"
   ]
  },
  {
   "cell_type": "code",
   "execution_count": 38,
   "metadata": {},
   "outputs": [],
   "source": [
    "weekly_hours = [39.5, 19.5, 39.5, 8, 8];"
   ]
  },
  {
   "cell_type": "markdown",
   "metadata": {},
   "source": [
    "Die stündlichen Bruttokosten der Mitarbeiterstellen in € schreiben wir ebenfalls in einen Vektor:"
   ]
  },
  {
   "cell_type": "code",
   "execution_count": 39,
   "metadata": {},
   "outputs": [],
   "source": [
    "costPerHour_brutto_euro = [57.5, 57.5, 40, 15, 15];"
   ]
  },
  {
   "cell_type": "markdown",
   "metadata": {},
   "source": [
    "Wenn ich wissen möchte, wieviel die Mitarbeiter jeweils pro Woche kosten, muss ich die Vektoren komponentenweise miteinander multiplizieren. Das erreiche ich in Matlab, indem ich vor dem ```*```-Operator einen Punkt voranstelle, es ist also eine *punktweise* Operation, und keine Matrixmultiplikation:"
   ]
  },
  {
   "cell_type": "code",
   "execution_count": 43,
   "metadata": {},
   "outputs": [
    {
     "name": "stdout",
     "output_type": "stream",
     "text": [
      "ans =\n",
      "\n",
      "   2271.25   1121.25   1580.00    120.00    120.00\n",
      "\n"
     ]
    }
   ],
   "source": [
    "weekly_hours.*costPerHour_brutto_euro"
   ]
  },
  {
   "cell_type": "markdown",
   "metadata": {},
   "source": [
    "**Quiz:** Wie berechne ich die Gesamtkosten aller Mitarbeiter pro Woche mit nur einer Zeile in Matlab? *Hinweis: Das Ergebnis lautet 5212.5 €.*"
   ]
  },
  {
   "cell_type": "code",
   "execution_count": null,
   "metadata": {
    "slideshow": {
     "slide_type": "fragment"
    }
   },
   "outputs": [],
   "source": []
  },
  {
   "cell_type": "markdown",
   "metadata": {},
   "source": [
    "Malab hat einige Befehle um spezielle Matrizen zu erstellen. Einige der wichtigsten sind:"
   ]
  },
  {
   "cell_type": "code",
   "execution_count": 1,
   "metadata": {},
   "outputs": [],
   "source": [
    "eye(2);     % 2,2-Einheitsmatrix\n",
    "ones(3,2);  % 3,2-Matrix gefuellt mit 1\n",
    "zeros(2,4); % 2,4-Matrix gefuellt mit 0\n",
    "rand(2);    % 2,2-Matrix mit gleichverteilten Zufallszahlen von 0 bis 1\n",
    "randn(4);   % 4,4-Matrix mit normalverteilten Zufallszahlen um 0 und Standardabweichung 1"
   ]
  },
  {
   "cell_type": "markdown",
   "metadata": {
    "slideshow": {
     "slide_type": "slide"
    }
   },
   "source": [
    "Das Gleichungssytem $A\\cdot \\mathbf{x} = \\mathbf{b}$ wird mit dem sogenannten **backslash**-Operator gelöst."
   ]
  },
  {
   "cell_type": "code",
   "execution_count": null,
   "metadata": {},
   "outputs": [
    {
     "name": "stdout",
     "output_type": "stream",
     "text": [
      "\n",
      "x =\n",
      "\n",
      "   -0.0333\n",
      "    0.0667\n",
      "   -0.0000\n",
      "\n"
     ]
    }
   ],
   "source": [
    "A=[1,2,3;4,5,-6;7,8,9];\n",
    "b=[0.1,0.2,0.3]';\n",
    "x = A\\b                     % x = inv(A)*b"
   ]
  },
  {
   "cell_type": "markdown",
   "metadata": {},
   "source": [
    "To Do: Matrix concatenation, slicing. Unerschied function und Skript, auf scope eingehen und Beispiele bringen"
   ]
  },
  {
   "cell_type": "code",
   "execution_count": 34,
   "metadata": {},
   "outputs": [
    {
     "name": "stdout",
     "output_type": "stream",
     "text": [
      "error: 'A' undefined near line 1 column 4\n"
     ]
    }
   ],
   "source": [
    "B=[A, b;b', 1];"
   ]
  },
  {
   "cell_type": "markdown",
   "metadata": {
    "slideshow": {
     "slide_type": "slide"
    }
   },
   "source": [
    "## Skripte schreiben\n",
    "\n",
    "Das %-Zeichen läutet in MATLAB einen Kommentar ein.\n",
    "\n",
    "* Wie in *ALLEN* Programmiersprachen gilt in MATLAB: ** Kommentieren Sie ihren Code! **"
   ]
  },
  {
   "cell_type": "markdown",
   "metadata": {
    "slideshow": {
     "slide_type": "slide"
    }
   },
   "source": [
    "Wie in anderen Programmiersprachen können in MATLAB auch Schleifen verwendet werden. Die Syntax für eine for-Schleife ist"
   ]
  },
  {
   "cell_type": "code",
   "execution_count": 3,
   "metadata": {
    "collapsed": true
   },
   "outputs": [],
   "source": [
    "for i=1:5\n",
    "    f(i)=2^i;\n",
    "end"
   ]
  },
  {
   "cell_type": "markdown",
   "metadata": {},
   "source": [
    "Dabei wird der Vektor f automatisch in jedem Schleifendurchlauf um ein Element erweitert. Es ist zu beachten, dass in MATLAB auf das erste Element eines Vektors mit dem Index 1 zugegriffen wird. Weitere Schleifentypen sind in der Hilfe nachzulesen."
   ]
  },
  {
   "cell_type": "code",
   "execution_count": 7,
   "metadata": {},
   "outputs": [
    {
     "name": "stdout",
     "output_type": "stream",
     "text": [
      "\n",
      "x =\n",
      "\n",
      "    -5    -4    -3    -2    -1     0     1     2     3     4     5\n",
      "\n"
     ]
    },
    {
     "data": {
      "image/png": "[encoded data removed]",
      "text/plain": [
       "<IPython.core.display.Image object>"
      ]
     },
     "metadata": {},
     "output_type": "display_data"
    }
   ],
   "source": [
    "x=linspace(-5,5,11);   % Ein Vektor mit Werten von -5 bis 5\n",
    "y=x.^2;                % Ein Vektor y mit den zugehörigen Funktionswerten \n",
    "\n",
    "plot(x,y);             % Erstellen einer grafischen Darstellung\n",
    "title('Mein erster plot')\n",
    "xlabel('X-Achsenbeschriftung')\n",
    "ylabel('Y-Achsenbeschriftung')"
   ]
  },
  {
   "cell_type": "markdown",
   "metadata": {
    "slideshow": {
     "slide_type": "slide"
    }
   },
   "source": [
    "## Funktionen schreiben\n",
    "\n",
    "* Funktionen werden normalerweise in einem eigenen m-file gespeichert, siehe das Handout zur Matlab Einführung.\n",
    "\n",
    "* Kurze Funktionen (Einzeiler) können in Variablen, so genannten 'function handles' abgespeichert werden."
   ]
  },
  {
   "cell_type": "code",
   "execution_count": 8,
   "metadata": {},
   "outputs": [
    {
     "name": "stdout",
     "output_type": "stream",
     "text": [
      "\n",
      "ans =\n",
      "\n",
      "     4\n",
      "\n",
      "\n",
      "ans =\n",
      "\n",
      "     4     9\n",
      "    16    25\n",
      "\n"
     ]
    }
   ],
   "source": [
    "% Die Unbekannten Größen einer function handle\n",
    "% werden mit dem @-Symbol deklariert.\n",
    "meineFunktion = @(x)  x.^2;\n",
    "\n",
    "meineFunktion(2)\n",
    "meineFunktion([2,3;4,5])"
   ]
  },
  {
   "cell_type": "markdown",
   "metadata": {
    "slideshow": {
     "slide_type": "slide"
    }
   },
   "source": [
    "# Binominialkoeffizienten\n",
    "\n",
    "siehe Handout"
   ]
  },
  {
   "cell_type": "code",
   "execution_count": 35,
   "metadata": {},
   "outputs": [],
   "source": [
    "%% fac.m\n",
    "% calculate the factorial of an integer n\n",
    "function z = fac(n)\n",
    "    if n==0\n",
    "        z=1;\n",
    "    else\n",
    "        z=n*fac(n-1);\n",
    "    end\n",
    "end"
   ]
  },
  {
   "cell_type": "code",
   "execution_count": 36,
   "metadata": {},
   "outputs": [
    {
     "name": "stdout",
     "output_type": "stream",
     "text": [
      "ans =  10\n"
     ]
    }
   ],
   "source": [
    "n=5;\n",
    "k=3;\n",
    "fac(5)/(fac(k)*fac(n-k))"
   ]
  },
  {
   "cell_type": "markdown",
   "metadata": {
    "slideshow": {
     "slide_type": "slide"
    }
   },
   "source": [
    "# Programmierübung 2: Rundungsfehler \n",
    "\n",
    "siehe Handout"
   ]
  },
  {
   "cell_type": "code",
   "execution_count": 37,
   "metadata": {},
   "outputs": [],
   "source": [
    "max_iter=30;            % Anzahl der Iterationen\n",
    "z = zeros(max_iter,1);  % Initialisiere Vektor für z aus Effizienzgründen\n",
    "err = zeros(max_iter,1);% Initialisiere Vektor für err aus Effizienzgründen\n",
    "\n",
    "z(1)=2*sqrt(2);         %Anfangswerte\n",
    "err(1)=abs(pi-z(1))/pi;\n",
    "\n",
    "for n=1:max_iter-1\n",
    "    z(n+1)=2^(n+1.5)*sqrt(1-sqrt(1-4^(-n-1)*z(n)^2));\n",
    "    err(n+1)=abs(pi-z(n+1))/pi;\n",
    "end"
   ]
  },
  {
   "cell_type": "markdown",
   "metadata": {
    "slideshow": {
     "slide_type": "subslide"
    }
   },
   "source": [
    "Logarithmische Darstellung des Fehlers"
   ]
  },
  {
   "cell_type": "code",
   "execution_count": 6,
   "metadata": {},
   "outputs": [
    {
     "data": {
      "image/png": "[encoded data removed]",
      "text/plain": [
       "<IPython.core.display.Image object>"
      ]
     },
     "metadata": {},
     "output_type": "display_data"
    }
   ],
   "source": [
    "plot(log(err))\n",
    "title('Logarithmus des Fehlers')\n",
    "xlabel('Iteration')\n",
    "ylabel('log(error)')"
   ]
  }
 ],
 "metadata": {
  "celltoolbar": "Slideshow",
  "kernelspec": {
   "display_name": "Octave",
   "language": "octave",
   "name": "octave"
  },
  "language_info": {
   "file_extension": ".m",
   "help_links": [
    {
     "text": "GNU Octave",
     "url": "https://www.gnu.org/software/octave/support.html"
    },
    {
     "text": "Octave Kernel",
     "url": "https://github.com/Calysto/octave_kernel"
    },
    {
     "text": "MetaKernel Magics",
     "url": "https://github.com/calysto/metakernel/blob/master/metakernel/magics/README.md"
    }
   ],
   "mimetype": "text/x-octave",
   "name": "octave",
   "version": "4.2.2"
  },
  "livereveal": {
   "start_slideshow_at": "selected",
   "theme": "black",
   "transition": "convex"
  }
 },
 "nbformat": 4,
 "nbformat_minor": 2
}
