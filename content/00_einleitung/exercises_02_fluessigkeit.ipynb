{
 "cells": [
  {
   "cell_type": "markdown",
   "metadata": {},
   "source": [
    "# Flüssigkeit im Boden\n",
    "\n",
    "Erstellen Sie ein Programm in dem das Versickern einer Flüssigkeit im Boden in 2D modelliert wird. Legen Sie dazu eine Matrix an, die einen Bodenausschnitt mit **beliebiger** Breite $w$ und Tiefe $d$ darstellt. Die Oberfläche des Bodens sei im Bereich $[\\frac{w}{4},\\frac{3w}{4}]$ mit Flüssigkeit benetzt. \n",
    "\n",
    "![](../images/fluessigkeit.png)\n",
    "\n",
    "Die Flüssigkeit dringt mit einer Wahrscheinlichkeit $p$ (Bodenparameter) senkrecht in die nächste Lage des Bodens ein. Zusätzlich kann es passieren, dass die Flüssigkeit in diagonal versetzte Bodenelemente eindringt, jeweils mit der Wahrscheinlichkeit $\\frac{p}{2}$. Als Modellvereinfachung gehen Sie davon aus, dass jede Zelle entweder Flüssigkeit enthält oder nicht, d.h. der Zustand jeder Zelle ist binär."
   ]
  },
  {
   "cell_type": "markdown",
   "metadata": {},
   "source": [
    "## Aufgabe 1 - Parametrierung des Bodenmodells\n",
    "\n",
    "Schreiben Sie eine Matlab Funktion, die diesen Prozess simuliert:"
   ]
  },
  {
   "cell_type": "code",
   "execution_count": 1,
   "metadata": {},
   "outputs": [
    {
     "name": "stdout",
     "output_type": "stream",
     "text": [
      "Created file '/data/work/H_BRS/Modellbildung-und-Simulation/content/00_einleitung/groundwater_sim'.\n"
     ]
    }
   ],
   "source": [
    "%%file groundwater_sim.m\n",
    "function num_wetted_cells = groundwater_sim(width, depth, probability)\n",
    "% simulate diffusion of groundwater using cellular automata.\n",
    "%\n",
    "% The ground is modelled as a rectangular 2D-grid of size \n",
    "%   width x depth. \n",
    "% Fluid from the surface propagates to cells below according\n",
    "% to a certain probability. Initially, the central half of the \n",
    "% surface is covered by fluid\n",
    "%\n",
    "% Inputs:\n",
    "%   - width:       The width of the regular 2D grid\n",
    "%   - depth:       The depth of the regulear 2D grid\n",
    "%   - probability: The diffusion probability into lower cells\n",
    "%\n",
    "% Outputs:\n",
    "%   - num_wetted_cells: The number of wetted cells in the lowest layer\n",
    "\n",
    "end"
   ]
  },
  {
   "cell_type": "markdown",
   "metadata": {},
   "source": [
    "**Tipp:** \n",
    " - Für die Visualisierung können Sie zum Beispiel die Funktion `spy` oder `imagesc` verwenden.\n",
    " - Die Ränder der Bodenmatrix sind gesondert zu behandeln.\n",
    "\n",
    "Parametrieren Sie den Bodenparameter $p$ so, dass über 1000 Simulationen gemittelt circa drei Zellen am unteren Ende befeuchtet sind. Berechnen Sie dann Mittelwert und Standardabweichung. Verwenden Sie hierfür konkret $B=80$ und $T=80$. Schreiben Sie dazu ein Matlab-Skript, dass die Funktion `groundwater_sim` verwendet."
   ]
  },
  {
   "cell_type": "markdown",
   "metadata": {},
   "source": [
    "## Aufgabe 2 - Unregelmäßigkeiten im Boden\n",
    "\n",
    "Reale Böden sind in der Regel sehr unregelmäßig strukturiert, so dass Flüssigkeiten an verschiedenen Punkten auch unterschiedlich gut in den Boden eindringen können. Gehen Sie nun davon aus, dass der Boden zu einem Anteil von `absorbing_material` aus zufällig verteiltem Material besteht, welches Flüssigkeit absorbieren kann. Modifizieren ihr Programm aus Aufgabe 1 so, dass diese Unregelmäßigkeit des Bodens zusätzlich berücksichtigt wird.\n",
    "\n",
    "Geben Sie $p$ vor und variieren Sie `absorbing_material` ausgehend von 10%. Wie groß muss der Anteil *mindestens* sein, damit über 1000 Simulationen gemittelt weniger als eine Zelle am unteren Ende des Bodensegments von Flüssigkeit erreicht wird ($B=250$ und $T=250$)?"
   ]
  },
  {
   "cell_type": "markdown",
   "metadata": {},
   "source": [
    "## Aufgabe 3 - Einfluss der Tiefe\n",
    "\n",
    "In größerer Tiefe ist das Bodenmaterial stärker verdichtet als nahe der Oberfläche. Erweitern Sie ihr Programm aus Aufgabe 2 so, dass sich die Flüssigkeit bei zunehmender Tiefe schlechter durch den Boden bewegt. Führen Sie einen Parameter `depth_influence` ein, um die Stärke dieses Effektes zu regulieren."
   ]
  },
  {
   "cell_type": "markdown",
   "metadata": {},
   "source": [
    "## Aufgabe 4 - Gesteigerter Realismus\n",
    "\n",
    "Überlegen Sie sich einen weiteren Einflussparameter mit dem der Prozess des Versickerns realistischer simuliert werden kann und modifizieren Sie ihr Programm aus Aufgabe 3 entsprechend. In welchen Grenzen kann man diesen Parameter sinnvoll wählen?"
   ]
  }
 ],
 "metadata": {
  "kernelspec": {
   "display_name": "Octave",
   "language": "octave",
   "name": "octave"
  },
  "language_info": {
   "file_extension": ".m",
   "help_links": [
    {
     "text": "GNU Octave",
     "url": "https://www.gnu.org/software/octave/support.html"
    },
    {
     "text": "Octave Kernel",
     "url": "https://github.com/Calysto/octave_kernel"
    },
    {
     "text": "MetaKernel Magics",
     "url": "https://github.com/calysto/metakernel/blob/master/metakernel/magics/README.md"
    }
   ],
   "mimetype": "text/x-octave",
   "name": "octave",
   "version": "4.2.2"
  }
 },
 "nbformat": 4,
 "nbformat_minor": 2
}
