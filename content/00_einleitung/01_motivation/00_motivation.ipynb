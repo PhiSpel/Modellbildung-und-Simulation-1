{
 "cells": [
  {
   "cell_type": "markdown",
   "metadata": {},
   "source": [
    "# Motivation zur Benutzung dieses Buches\n",
    "\n",
    "Modellbildung und Simulation verbindet eine Vielzahl von Disziplinen, von grundlegender Mathematik über numerische Lösungsalgorithmen und Computernumerik hin zu der Syntax verschiedener Programmiersprachen. Dabei fällt es manchmal schwer, den Überblick zu behalten. Dieses Übungsbuch soll dabei helfen, die Modellbildung und Simulation durch ihre Schichten hindurch zu durchdringen und sie (be-)greifbar zu machen."
   ]
  },
  {
   "cell_type": "markdown",
   "metadata": {},
   "source": [
    "# Das Stauproblem\n",
    "\n",
    "Als Beispiel hierfür nehmen wir uns eine sogenannte Extremwertaufgabe vor. Diese spielen in der Praxis oft eine große Rolle."
   ]
  },
  {
   "cell_type": "markdown",
   "metadata": {},
   "source": [
    "## Aufgabenstellung\n",
    "\n",
    "Angenommen das Schweizer Verkehrsministerium macht eine Anfrage an Sie, die bestehenden Tempolimits Ihrer Autobahnen\n",
    "zu überprüfen, unter dem konkreten Aspekt:\n",
    "\n",
    "_\"Wie können möglichst viele Fahrzeuge eine Engstelle, z.B. einen Tunnel passieren?\"_\n",
    "\n",
    "Nun ist Ihre Expertenmeinung gefragt!"
   ]
  },
  {
   "cell_type": "markdown",
   "metadata": {},
   "source": [
    "## Parameterauswahl\n",
    "\n",
    "Um diese Frage beantworten zu können, brauchen wir ein Modell. Aber welche *Größen* kommen dabei in Betracht? Zum Beispiel können wir uns fokussieren auf\n",
    "\n",
    "- Länge und Geschwindigkeit der Fahrzeuge\n",
    "- Zusammensetzung der Fahrzeugarten (PKW vs. LKW)\n",
    "- Anzahl der Fahrspuren, Zu und Abfahrten\n",
    "- Sichtverhältnisse, Fahrbahnbeschaffenheit\n",
    "- (Sicherheits -)Abstand zwischen den Fahrzeugen\n",
    "- ...und potentiell einige mehr."
   ]
  },
  {
   "cell_type": "markdown",
   "metadata": {},
   "source": [
    "## Modellreduktion\n",
    "\n",
    "*Wie können alle Parameter in diesem Modell berücksichtigt werden?*\n",
    "\n",
    "Das ist gar nicht unbedingt nötig, da ein Modell die\n",
    "Natur aufs Nötig(st)e reduziert Wir vereinfachen daher weiter auf ein mathematisch behandelbares Optimierungsproblem unter den Annahmen\n",
    "\n",
    "- die Fahrbahn sei einspurig\n",
    "- alle Fahrzeuge seien PKWs gleicher Länge\n",
    "- alle Fahrzeuge fahren mit der gleichen Geschwindigkeit\n",
    "- alle Fahrer halten den gleichen Sicherheitsabstand ein\n",
    "\n",
    "_(Ist für einen langen Tunnel in den Alpen nicht mal allzu unrealistisch...)_\n",
    "\n",
    "```{admonition} MERKE\n",
    "MERKE: Dies entspricht dem ersten Schritt im Lösungsschema von Extremwertaufgaben: \"Vereinfachtes Modell der Natur erstellen\"\n",
    "```"
   ]
  },
  {
   "cell_type": "markdown",
   "metadata": {},
   "source": [
    "## Mathematische Formulierung der Fragestellung\n",
    "\n",
    "Was wir uns eigentlich fragen, ist: _Was ist besser...?_\n",
    "\n",
    "1. Hohes Tempo = Großer Sicherheitsabstand\n",
    "\n",
    "```{image} images/highv_highs.png\n",
    ":alt: \"high v high s\"\n",
    ":width: 800px\n",
    ":align: center\n",
    "```\n",
    "\n",
    "oder\n",
    "\n",
    "2. Niedriges Tempo Kleiner Sicherheitsabstand\n",
    "\n",
    "```{image} images/lowv_lows.png\n",
    ":alt: \"low v low s\"\n",
    ":width: 800px\n",
    ":align: center\n",
    "```\n",
    "\n",
    "Um eine mathematische Funktion für unser Tunnel Modell aufstellen zu können, müssen wir nur noch etwas konkreter fragen\n",
    "\n",
    "_Bei welcher Geschwindigkeit ist der Verkehrsfluss F [Fzg./h]' d.h. die Anzahl der passierenden Fahrzeuge pro Stunde, am größten?_\n",
    "\n",
    "Da wir das Modell bereits genügend vereinfacht haben, bleiben nur drei Variablen:\n",
    "\n",
    "1. Geschwindigkeit $v$\n",
    "2. Abstand $s$\n",
    "3. Länge $L$\n",
    "\n",
    "```{image} images/trafficvariables.png\n",
    ":alt: \"traffic variables\"\n",
    ":width: 800px\n",
    ":align: center\n",
    "```\n",
    "\n",
    "Diese können wir in eine mathematische Funktion überführen.\n",
    "\n",
    "$$F = F(v,s,L) = \\frac{1000 v}{L+s}, F>0$$\n",
    "\n",
    "```{admonition} MERKE\n",
    "Dies entspricht dem zweiten Schritt im Schema zur Lösung von Extremwertaufgaben: \"Die Ermittlung der Zielfunktion\"\n",
    "```"
   ]
  },
  {
   "cell_type": "markdown",
   "metadata": {},
   "source": [
    "## Einschub: Definition und Sätze zu Extremwerten\n",
    "\n",
    "*Definition*: Ein _lokales Maximum (Minimum)_ ist der Wert der Funktion $f$ an einer Stelle $x_0$, wenn in einer $\\varepsilon$ Umgebung von $x_0$ die Funktion keine größeren (kleineren) Werte annimmt.\n",
    "\n",
    "*Notwendige Bedingung für ein lokales Extremum:* Die differenzierbare Funktion $f$ besitzt in $x_0$ eine waagerechte Tangente, d.h. $f'(x_0)=0$.\n",
    "\n",
    "*Hinreichende Bedingung für ein lokales Extremum:* Gilt für die mindestens zweimal differenzierbare Funktion $f$\n",
    "\n",
    "1. $f'(x_0)=0$ und $f''(x_0)<0$, dann hat $f$ dort ein _lokales Maximum_.\n",
    "2. $f'(x_0)=0$ und $f''(x_0)>0$, dann hat $f$ dort ein _lokales Minimum_."
   ]
  },
  {
   "cell_type": "markdown",
   "metadata": {},
   "source": [
    "## Konstruktion von Nebenbedingungen\n",
    "\n",
    "Um die Gleichung besser lösen zu können, können wir _Nebenbedingungen_ konstruieren, welche die Variablen in Beziehung zueinander setzen:\n",
    "\n",
    "1. Lege die Fahrzeuglänge $L$ als Konstante fest, z.B. $L=4.5 m$.\n",
    "2. Für den Sicherheitsabstand kennen wir aus der Fahrschule die Faustregeln\n",
    "- \"Bremsweg-Regel\" $s = s(v) = \\frac{v}{10}\\cdot\\frac{v}{10} = \\frac{v^2}{100}$\n",
    "- \"Tacho-Halbe-Regel\" $s = s(v) = \\frac{v}{2}$\n",
    "\n",
    "Mithilfe der \"Bremsweg-Regel\" und der Konstanten Fahrzeuglänge vereinfachen wir die Funktion zu\n",
    "\n",
    "$$\\max{F(v) = \\frac{1000v}{4.5 + \\frac{v^2}{100}}}, v\\in[0,\\infty)$$\n",
    "\n",
    "```{admonition} MERKE\n",
    "Dies entspricht dem dritten Schritt im Lösungsschema:\n",
    "\"Eliminierung von Variablen durch Nebenbedingungen\"\n",
    "```"
   ]
  },
  {
   "cell_type": "markdown",
   "metadata": {},
   "source": [
    "## Mathematische Lösung des Modells\n",
    "\n",
    "Für die Gleichung setzen wir also $F' = 0$ und $F'' < 0$:\n",
    "\n",
    "$$\n",
    "\\begin{align}\n",
    "F'(v) = \\frac{(4.5 + \\frac{v^2}{100})\\cdot 1000 - 1000 v \\frac{2v}{100}}{(4.5 + \\frac{v^2}{100})^2} &= 0\\\\\n",
    "\\rightarrow 4500 - 10 v^2 &= 0\\\\\n",
    "\\rightarrow v_{1/2} &= \\pm \\sqrt{450} = \\pm 21.21\n",
    "\\end{align}\n",
    "$$\n",
    "\n",
    "Prüfung mit $F''(v_{1/2})$ zeigt, dass für $v_1 = +21.21$ ein lokales Maximum vorliegt.\n",
    "\n",
    "```{admonition} MERKE\n",
    "Dies entspricht dem vierten Schritt im Lösungsschema: \"Bestimmung der lokalen Extremstellen\"\n",
    "```\n",
    "\n",
    "Es bleiben noch zwei letzte Tests:\n",
    "\n",
    "1. Liegt die oben errechnete Lösung im Definitionsbereich von $F$? $\\rightarrow$ JA!\n",
    "2. Am Rand des Definitionsbereichs könnten noch (globale) \"Randextrama\" liegen. Ist dies hier der Fall? $\\rightarrow$ NEIN!\n",
    "\n",
    "Das Ganze geht auch ganz einfach in Octave:"
   ]
  },
  {
   "cell_type": "code",
   "execution_count": 6,
   "metadata": {},
   "outputs": [
    {
     "name": "stdout",
     "output_type": "stream",
     "text": [
      "x = 21.213\n"
     ]
    }
   ],
   "source": [
    "F = @(V) -(1000*V)./(4.5 + (V.^2)/100); % set F as negative to be able to use minimise function\n",
    "x = fminbnd (F, 0, 200)"
   ]
  },
  {
   "cell_type": "markdown",
   "metadata": {},
   "source": [
    "```{admonition} MERKE\n",
    "Dies entspricht dem vierten Schritt im Lösungsschema: \"Gültigkeits und Randstellen Prüfung\"\n",
    "```\n",
    "\n",
    "Damit erhalten wir die *Lösung*: Bei $v=21.21 \\frac{km}{h}$ wird ein maximaler Fahrzeugdurchsatz von $F(21.21 km/h) = 2357 \\frac{Fahrzeuge}{h}$ erreicht."
   ]
  },
  {
   "cell_type": "markdown",
   "metadata": {},
   "source": [
    "## Ingenieurs-Know-How\n",
    "\n",
    "Bevor wir die Ergebnisse an das Schweizer Verkehrsministerium übergeben, müssen wir zuletzt noch fragen: _Als wie realistisch schätzen wir diese Lösung ein?_\n",
    "\n",
    "Dazu variieren wir die Faustformel für den Sicherheitsabstand zur \"Tacho-Halbe-Regel\". Daraus ergibt sich\n",
    "\n",
    "$$F(v) = \\frac{1000 v}{4.5 + \\frac{v}{2}}$$\n",
    "\n",
    "$$F'(v) = \\frac{\\left(4.5 + \\frac{v}{2}\\right)\\cdot 1000 - 1000 v \\cdot \\frac{1}{2}}{\\left(4.5 + \\frac{v}{2}\\right)^2} = 0 \\rightarrow 4500 = 0$$\n",
    "\n",
    "$F$ hat also keine _lokalen Extrema_. Die Überprüfung der Randstellen liefert\n",
    "\n",
    "1. $F(0)=0$\n",
    "2. $\\lim_{v\\to\\infty}{F(v)}=\\lim_{v\\to\\infty}{\\frac{1000v}{4.5 + \\frac{v}{2}}} \\to 2000$"
   ]
  },
  {
   "cell_type": "code",
   "execution_count": 7,
   "metadata": {},
   "outputs": [
    {
     "data": {
      "image/png": "[encoded data removed]",
      "text/plain": [
       "<IPython.core.display.Image object>"
      ]
     },
     "metadata": {},
     "output_type": "display_data"
    }
   ],
   "source": [
    "% graphische Darstellung von F(v) für beide Abstandsmodelle\n",
    "graphics_toolkit(\"gnuplot\")\n",
    "\n",
    "vmax = 200;\n",
    "dv = 1;\n",
    "v = linspace(0,vmax,vmax*dv);\n",
    "L = 4.5;\n",
    "s_bremsweg = (v.^2)/100;\n",
    "F_bremsweg = (1000*v)./(L + s_bremsweg);\n",
    "s_tachohalbe = v/2;\n",
    "F_tachohalbe = (1000*v)./(L + s_tachohalbe);\n",
    "\n",
    "plot(v,F_bremsweg,v,F_tachohalbe)\n",
    "\n",
    "h = legend (\"Bremsweg-Modell\", \"Tacho-Halbe-Modell\");\n",
    "legend (h, \"location\", \"northeast\");"
   ]
  },
  {
   "cell_type": "markdown",
   "metadata": {},
   "source": [
    "Die Modelle liefern also sehr unterschiedliche Ergebnisse, mit denen wir noch nicht voll zufrieden sein können. Daraus ergibt sich die Frage:\n",
    "\n",
    "_Können wir einfachen Mitteln zu einer deutlich realistischeren Beschreibung des Problems kommen?_\n",
    "\n",
    "Die Antwort: Ja, durch etwas mehr Gehirnschmalz\n",
    "und Einsatz von ein wenig mehr Physik."
   ]
  },
  {
   "cell_type": "markdown",
   "metadata": {},
   "source": [
    "## Verbesserung des Modells\n",
    "\n",
    "1. Mehr Physik\\\n",
    "Tatsächlich besteht der Anhalteweg u.a. aus dem Reaktionsweg und dem Bremsweg. Letzterer kann mit dem realen Beschleunigungsgesetz genauer berechnet werden: $s_B = \\frac{v^2}{2a}$ (Verzögerung $a$ = _negative Beschleunigung_!)\n",
    "\n",
    "2. Mehr Gehirnschmalz\\\n",
    "Bisher wird beim Sicherheitsabstand so getan, als ob im Bremsfall der Vorfahrende instantan von $v$ auf $0$ stoppt. Dessen Bremsweg $s_{VF} = \\frac{v^2}{2a_{VF}}$ wird in der Fahrpraxis oft vom eigenen Bremsweg abgezogen.\n",
    "\n",
    "```{image} images/Bremsvorgang.svg\n",
    ":alt: \"Quelle: Wikipedia\"\n",
    ":width: 800px\n",
    ":align: center\n",
    "```\n",
    "\n",
    "Wenn man beides berücksichtigt, ergibt sich mit Hilfe der Reaktionszeit $t_R$ und der Verzögerung $a$ als neuer Sicherheitsabstand $s$ ($v$ muss in unserem Fall von $km/h$ auf $m/s$ umgerechnet werden:\n",
    "\n",
    "$$s = s(v,a_{selbst},a_{VF},t_R)=\\frac{v}{3.6}\\cdot t_R + \\frac{\\left(\\frac{v}{3.6}\\right)^2}{2\\cdot a_{selbst}} - \\frac{\\left(\\frac{v}{3.6}\\right)^2}{2\\cdot a_{VF}}$$\n",
    "\n",
    "Wieder müssen wir mit Nebenbedingungen (hier: Konstanten) das Problem vereinfachen:\n",
    "\n",
    "1. $t_R=1s$\n",
    "2. $a=30 m/s^2$"
   ]
  },
  {
   "cell_type": "code",
   "execution_count": 26,
   "metadata": {},
   "outputs": [
    {
     "name": "stdout",
     "output_type": "stream",
     "text": [
      "maxF = 2460.8\n",
      "bestv = 71\n"
     ]
    },
    {
     "data": {
      "image/png": "[encoded data removed]",
      "text/plain": [
       "<IPython.core.display.Image object>"
      ]
     },
     "metadata": {},
     "output_type": "display_data"
    }
   ],
   "source": [
    "% graphische Darstellung von F(v) für die drei Abstandsmodelle\n",
    "graphics_toolkit(\"gnuplot\")\n",
    "\n",
    "vmax = 200;\n",
    "dv = 1;\n",
    "v = linspace(0,vmax,vmax*dv);\n",
    "L = 4.5;\n",
    "s_bremsweg = (v.^2)/100;\n",
    "F_bremsweg = (1000*v)./(L + s_bremsweg);\n",
    "s_tachohalbe = v/2;\n",
    "F_tachohalbe = (1000*v)./(L + s_tachohalbe);\n",
    "\n",
    "t_R = 1;\n",
    "a_selbst = 6;\n",
    "a_VF = 7;\n",
    "s_physik = v/3.6*t_R + (v/3.6).^2/(2*a_selbst) - (v/3.6).^2/(2*a_VF);\n",
    "F_physik = (1000*v)./(L + s_physik);\n",
    "\n",
    "[maxF,bestv] = max(F_physik);\n",
    "maxF\n",
    "bestv = bestv/dv\n",
    "\n",
    "plot(v,F_bremsweg,v,F_tachohalbe,v,F_physik)\n",
    "\n",
    "h = legend (\"Bremsweg-Modell\", \"Tacho-Halbe-Modell\", \"Physikalisches Modell\");\n",
    "legend (h, \"location\", \"northeast\");"
   ]
  },
  {
   "cell_type": "markdown",
   "metadata": {},
   "source": [
    "## Zusammenfassung\n",
    "\n",
    "Das Lösen von solchen Extremwertaufgaben besteht also aus fünf Schritten, die wir alle hier kennengelernt haben:\n",
    "\n",
    "1. Vereinfachtes Modell der Natur erstellen\n",
    "2. Die Ermittlung der Zielfunktion\n",
    "3. Eliminierung von Variablen durch Nebenbedingungen\n",
    "4. Bestimmung der lokalen Extremstellen\n",
    "5. Gültigkeits- und Randstellen-Prüfung\n",
    "\n",
    "Außerdem haben wir eine wichtige Lektion gelernt:\n",
    "\n",
    "***Für eine gute Simulation ist ein Bewusstsein für die Modellannahmen entscheident.***"
   ]
  },
  {
   "cell_type": "markdown",
   "metadata": {},
   "source": [
    "## Ausblick: Simulation mit finiten Volumen\n",
    "\n",
    "Im letzten Kapitel dieses Übungsbuches werden wir lernen partielle Differentialgleichungen (PDEs) zu lösen. Damit können wir auch unser Verkehrsmodell wesentlich realistischer Lösen."
   ]
  },
  {
   "cell_type": "code",
   "execution_count": 8,
   "metadata": {
    "tags": [
     "hide_input"
    ]
   },
   "outputs": [
    {
     "name": "stdout",
     "output_type": "stream",
     "text": [
      "Number of successful steps: 179\n",
      "Number of failed attempts:  56\n",
      "Number of function calls:   1411\n",
      "Elapsed time is 3.86436 seconds.\n",
      "nt = 180\n"
     ]
    }
   ],
   "source": [
    "%-- mit FV WENO-Verfahren 3. Ordnung\n",
    "clear all\n",
    "%--\n",
    "global u_max rho_max rho_krit c\n",
    "u_max = 50; % 180 km/h\n",
    "rho_max = 1/6; % 1 Auto auf 6 m\n",
    "rho_krit = 1/100; \n",
    "c = u_max/log(rho_krit/rho_max);\n",
    "global x dx n\n",
    "n = 100; dx = 100000/n;\n",
    "x = linspace(dx/2, 100000-dx/2, n); %-- Zellenmittelpunkte\n",
    "\n",
    "%-- Options for initial situation\n",
    "%-- Stauauflösung\n",
    "y0 = 0.1*exp(-1.0e-6*(x-10000).^2); tspan = [0, 6000];\n",
    "%-- Ampel gruen\n",
    "%y0 = 0*x; ff = find(x < 50000); y0(ff)=1/6; tspan = [0, 900];\n",
    "%-- Ampel rot\n",
    "%y0 = 0*x+1/100; ff = find(x > 70000); y0(ff)=1/6; tspan = [0, 1400];\n",
    "\n",
    "%-- Integrator\n",
    "tol = 1.0e-4;\n",
    "options=odeset('Stats','on','RelTol',tol,'AbsTol',tol);\n",
    "% graphical output does not work in Octave, download the file and include\n",
    "%\"'OutputFcn'%,@plot_sol\" in odeset()\n",
    "tic\n",
    "[t,y] = ode45(@dgl,tspan,y0,options);\n",
    "toc\n",
    "nt = length(t)\n",
    "\n",
    "function dy = dgl(t,y)\n",
    "    global x dx n\n",
    "    %--\n",
    "    nord = 3;\n",
    "    rho = y'; % Zellenmittelwerte 1,..,n als Zeilenvektor\n",
    "    [rhoL,rhoR]=mc_extrapol(rho);  % rho auf x_1/2 bzw. x_n+1/2 extrapolieren\n",
    "    rho = [rhoL,rho,rhoR];\n",
    "    [rho_m,rho_p]=mc_recover_pcweno(rho,nord);  % Werte auf Zellgrenzen interpolieren\n",
    "    u_m = uvonrho(rho_m); u_p = uvonrho(rho_p); \n",
    "    q_m = u_m.*rho_m; q_p = u_p.*rho_p; \n",
    "    lam_m = eigen(rho_m,u_m); lam_p = eigen(rho_p,u_p);\n",
    "    f_r = 0;\n",
    "    for i=1:n+1  % durchlaufe alle Zellgrenzen, der Fluss auf Grenze i heißt f_r\n",
    "        f_l = f_r;\n",
    "        lambda = max(lam_m(i),lam_p(i)); \n",
    "        f_r = 0.5*( q_m(i)+q_p(i) - lambda*( rho_p(i)-rho_m(i) ) );\n",
    "        if (i==1) f_r=0; end %-- linke RB\n",
    "        if (i==n+1 && f_r > 1/3)\n",
    "            f_r = 1/3;\n",
    "        end\n",
    "        if (i>1)\n",
    "          dy(i-1,1) = -(f_r-f_l)/dx;\n",
    "        end\n",
    "    end\n",
    "endfunction\n",
    "\n",
    "function status=plot_sol(t,y,flag)\n",
    "    global x dx n\n",
    "    global line_rho line_u\n",
    "    %--\n",
    "    if strcmp(flag,'done') \n",
    "        status=0; hold off; return; \n",
    "    end\n",
    "    rho = y(:,end); u = uvonrho(rho);\n",
    "    if strcmp(flag,'init')\n",
    "    %   subplot(1,2,1)\n",
    "       axis([x(1), x(n), -0.1, 170]);\n",
    "       line_rho = line(x, rho*1000,   'Color','red');\n",
    "       line_u   = line(x, u  ,   'Color','blue');\n",
    "    else\n",
    "        tt = t(end);\n",
    "       set(line_rho,'ydata',rho*1000);\n",
    "       set(line_u  ,'ydata',u);\n",
    "    end\n",
    "    status=0;\n",
    "    legend('1000*\\rho','u');\n",
    "    pause(0.1);\n",
    "    drawnow\n",
    "endfunction\n",
    "\n",
    "function u = uvonrho(rho)\n",
    "    global u_max rho_max rho_krit c\n",
    "    %--\n",
    "    u = 0*rho+u_max;\n",
    "    ff = find(rho > rho_krit); u(ff) = c*log(rho(ff)/rho_max);\n",
    "    ff = find(rho > rho_max);  u(ff)=0;\n",
    "endfunction\n",
    "\n",
    "function lam = eigen(rho,u)\n",
    "    global u_max rho_max rho_krit c\n",
    "    %--\n",
    "    lam = u;\n",
    "    ff = find((rho > rho_krit)&(rho < rho_max)); lam(ff) = lam(ff)+c;\n",
    "    lam=abs(lam);\n",
    "endfunction\n",
    "\n",
    "function [yL,yR]=mc_extrapol(y)\n",
    "    %-- Extrapoliere Zellenmittel y der Länge n auf Zellgrenze i=1/2 (=yL) und i=n+1/2 (=yR),\n",
    "    n = length(y);\n",
    "    yR = (3*y(n)-y(n-1))/2; yL=(3*y(1)-y(2))/2; %-- lineare Extrap.\n",
    "endfunction\n",
    "\n",
    "function [yL,yR]=mc_recover_pcweno(y,nord)\n",
    "    %-- Interpoliere Zellenmittelwerte y_i auf Zellgrenzen y_i+1/2\n",
    "    %-- y enthält y_1/2, y_1,...,y_nx,y_nx+1/2\n",
    "    %-- yL enthaelt  y_1/2^-,...,y_nx+1/2^-\n",
    "    %-- yR enthaelt  y_1/2^+,...,y_nx+1/2^+\n",
    "    n = length(y);\n",
    "    i = 1:n-1; ip1=2:n; im1=[1,1:n-2]; ip2=[3:n,n]; \n",
    "    %-- nx = 1 \n",
    "    if n==3\n",
    "        yL = [y(1),y(3)]; yR = yL;\n",
    "        return\n",
    "    end\n",
    "    %-- Extrapolation vom Rand in die Mitte auf -dx/2 bzw. (n+1)*dx\n",
    "      yL_save = y(1); yR_save = y(n);\n",
    "      y(1) = 2*y(1) - y(2); y(n) = 2*y(n) - y(n-1);\n",
    "    %---- nord = 1\n",
    "    yR = y(ip1); yL = y(i);   \n",
    "    if nord==2\n",
    "      sL = y(ip1)-y(i); sR = y(ip2)-y(ip1);  \n",
    "      r = sL./sR;\n",
    "      yR = y(ip1) - 0.5*limiter(r).*sR;\n",
    "    %--\n",
    "      sR = sL; sL = y(i)-y(im1); \n",
    "      r = sL./sR;\n",
    "      yL = y(i) + 0.5*limiter(r).*sR;\n",
    "    %-- Randkorrektur\n",
    "      yL(1) = yL_save; yR(n-1) = yR_save;\n",
    "      yR(1) = yL_save; yL(n-1) = yR_save; \n",
    "    elseif nord==3\n",
    "      ep = 1.0e-6; p = 0.6; \n",
    "      uL = y(ip1)-y(i); uC = y(ip2)-2*y(ip1)+y(i); uR = y(ip2)-y(ip1); uCC = y(ip2)-y(i);\n",
    "      ISL = uL.^2; ISC = 13/3*uC.^2 +0.25*uCC.^2; ISR = uR.^2;\n",
    "      aL = 0.25*(1./(ep+ISL)).^p; aC = 0.5*(1./(ep+ISC)).^p; aR = 0.25*(1./(ep+ISR)).^p;\n",
    "      suma = max(aL+aC+aR,eps);  wL = aL./suma; wC = aC./suma; wR = aR./suma;\n",
    "      weights = [0.5*wL + 5/12*wC; 0.5*wL+2/3*wC+1.5*wR ;  -wC/12-0.5*wR];\n",
    "      yR = y(i).*weights(1,:) + y(ip1).*weights(2,:) +y(ip2).*weights(3,:);\n",
    "    %--\n",
    "      uR = uL; uL = y(i)-y(im1); uC = y(ip1)-2*y(i)+y(im1); uCC = y(ip1)-y(im1);\n",
    "      ISL = uL.^2; ISC = 13/3*uC.^2 +0.25*uCC.^2; ISR = uR.^2;\n",
    "      aL = 0.25*(1./(ep+ISL)).^p; aC = 0.5*(1./(ep+ISC)).^p; aR = 0.25*(1./(ep+ISR)).^p;\n",
    "      suma = max(aL+aC+aR,eps);  wL = aL./suma; wC = aC./suma; wR = aR./suma;\n",
    "      weights = [weights; -0.5*wL-wC/12; 1.5*wL+2/3*wC+0.5*wR; 5/12*wC+0.5*wR];\n",
    "      yL = y(im1).*weights(4,:) + y(i).*weights(5,:) + y(ip1).*weights(6,:);\n",
    "    %-- Randkorrektur\n",
    "      yL(1) = yL_save; yR(n-1) = yR_save;\n",
    "      yR(1) = yL_save; yL(n-1) = yR_save; \n",
    "    end\n",
    "endfunction\n",
    "\n",
    "function s = limiter(r)\n",
    "  r = min(5,max(0,r));\n",
    "  s = (r.^2+r)./(r.^2+1);  % van Albada\n",
    "endfunction"
   ]
  },
  {
   "cell_type": "code",
   "execution_count": 5,
   "metadata": {
    "tags": [
     "hide_input"
    ]
   },
   "outputs": [
    {
     "name": "stdout",
     "output_type": "stream",
     "text": [
      "warning: legend: plot data is empty; setting key labels has no effect\n",
      "warning: called from\n",
      "    __gnuplot_legend__ at line 437 column 9\n",
      "    legend at line 198 column 37\n",
      "\n"
     ]
    },
    {
     "data": {
      "image/png": "[encoded data removed]",
      "text/plain": [
       "<IPython.core.display.Image object>"
      ]
     },
     "metadata": {},
     "output_type": "display_data"
    }
   ],
   "source": [
    "graphics_toolkit(\"gnuplot\")\n",
    "plot(y)"
   ]
  },
  {
   "cell_type": "markdown",
   "metadata": {},
   "source": [
    "### Graphische Darstellung\n",
    "\n",
    "Leider funktioniert die dynamische graphische Darstellung in Octave nicht. Stattdessen können Sie den unten stehenden Code herunterladen und in MATLAB ausführen."
   ]
  },
  {
   "cell_type": "code",
   "execution_count": null,
   "metadata": {
    "tags": [
     "hide_input"
    ]
   },
   "outputs": [],
   "source": [
    "function autobahn\n",
    "%-- mit FV WENO-Verfahren 3. Ordnung\n",
    "clear all\n",
    "%--\n",
    "global u_max rho_max rho_krit c\n",
    "u_max = 50; % 180 km/h\n",
    "rho_max = 1/6; % 1 Auto auf 6 m\n",
    "rho_krit = 1/100; \n",
    "c = u_max/log(rho_krit/rho_max);\n",
    "global x dx n\n",
    "n = 100; dx = 100000/n;\n",
    "x = linspace(dx/2, 100000-dx/2, n); %-- Zellenmittelpunkte\n",
    "%-- Steuauflösung\n",
    "y0 = 0.1*exp(-1.0e-6*(x-10000).^2); tspan = [0, 6000];\n",
    "%-- Ampel gruen\n",
    "%y0 = 0*x; ff = find(x < 50000); y0(ff)=1/6; tspan = [0, 900];\n",
    "%-- Ampel rot\n",
    "%y0 = 0*x+1/100; ff = find(x > 70000); y0(ff)=1/6; tspan = [0, 1400];\n",
    "%-- Integrator\n",
    "tol = 1.0e-4;\n",
    "options=odeset('Stats','on','RelTol',tol,'AbsTol',tol,'OutputFcn',@plot_sol);\n",
    "tic\n",
    "[t,y] = ode45(@dgl,tspan,y0,options);\n",
    "toc\n",
    "nt = length(t)\n",
    "\n",
    "function dy = dgl(t,y)\n",
    "global x dx n\n",
    "%--\n",
    "nord = 3;\n",
    "rho = y'; % Zellenmittelwerte 1,..,n als Zeilenvektor\n",
    "[rhoL,rhoR]=mc_extrapol(rho);  % rho auf x_1/2 bzw. x_n+1/2 extrapolieren\n",
    "rho = [rhoL,rho,rhoR];\n",
    "[rho_m,rho_p]=mc_recover_pcweno(rho,nord);  % Werte auf Zellgrenzen interpolieren\n",
    "u_m = uvonrho(rho_m); u_p = uvonrho(rho_p); \n",
    "q_m = u_m.*rho_m; q_p = u_p.*rho_p; \n",
    "lam_m = eigen(rho_m,u_m); lam_p = eigen(rho_p,u_p);\n",
    "f_r = 0;\n",
    "for i=1:n+1  % durchlaufe alle Zellgrenzen, der Fluss auf Grenze i heißt f_r\n",
    "    f_l = f_r;\n",
    "    lambda = max(lam_m(i),lam_p(i)); \n",
    "    f_r = 0.5*( q_m(i)+q_p(i) - lambda*( rho_p(i)-rho_m(i) ) );\n",
    "    if (i==1) f_r=0; end %-- linke RB\n",
    "    if (i==n+1 && f_r > 1/3)\n",
    "        f_r = 1/3;\n",
    "    end\n",
    "    if (i>1)\n",
    "      dy(i-1,1) = -(f_r-f_l)/dx;\n",
    "    end\n",
    "end\n",
    "\n",
    "function status=plot_sol(t,y,flag)\n",
    "global x dx n\n",
    "global line_rho line_u\n",
    "%--\n",
    "if strcmp(flag,'done') \n",
    "    status=0; hold off; return; \n",
    "end\n",
    "rho = y(:,end); u = uvonrho(rho);\n",
    "if strcmp(flag,'init')\n",
    "%   subplot(1,2,1)\n",
    "   axis([x(1), x(n), -0.1, 170]);\n",
    "   line_rho = line(x, rho*1000,   'Color','red');\n",
    "   line_u   = line(x, u  ,   'Color','blue');\n",
    "else\n",
    "    tt = t(end);\n",
    "   set(line_rho,'ydata',rho*1000);\n",
    "   set(line_u  ,'ydata',u);\n",
    "end\n",
    "status=0;\n",
    "legend('1000*\\rho','u');\n",
    "pause(0.1);\n",
    "drawnow\n",
    "\n",
    "function u = uvonrho(rho)\n",
    "global u_max rho_max rho_krit c\n",
    "%--\n",
    "u = 0*rho+u_max;\n",
    "ff = find(rho > rho_krit); u(ff) = c*log(rho(ff)/rho_max);\n",
    "ff = find(rho > rho_max);  u(ff)=0;\n",
    "\n",
    "function lam = eigen(rho,u)\n",
    "global u_max rho_max rho_krit c\n",
    "%--\n",
    "lam = u;\n",
    "ff = find((rho > rho_krit)&(rho < rho_max)); lam(ff) = lam(ff)+c;\n",
    "lam=abs(lam);\n",
    "\n",
    "function [yL,yR]=mc_extrapol(y)\n",
    "%-- Extrapoliere Zellenmittel y der Länge n auf Zellgrenze i=1/2 (=yL) und i=n+1/2 (=yR),\n",
    "n = length(y);\n",
    "yR = (3*y(n)-y(n-1))/2; yL=(3*y(1)-y(2))/2; %-- lineare Extrap.\n",
    "\n",
    "function [yL,yR]=mc_recover_pcweno(y,nord)\n",
    "%-- Interpoliere Zellenmittelwerte y_i auf Zellgrenzen y_i+1/2\n",
    "%-- y enthält y_1/2, y_1,...,y_nx,y_nx+1/2\n",
    "%-- yL enthaelt  y_1/2^-,...,y_nx+1/2^-\n",
    "%-- yR enthaelt  y_1/2^+,...,y_nx+1/2^+\n",
    "n = length(y);\n",
    "i = 1:n-1; ip1=2:n; im1=[1,1:n-2]; ip2=[3:n,n]; \n",
    "%-- nx = 1 \n",
    "if n==3\n",
    "    yL = [y(1),y(3)]; yR = yL;\n",
    "    return\n",
    "end\n",
    "%-- Extrapolation vom Rand in die Mitte auf -dx/2 bzw. (n+1)*dx\n",
    "  yL_save = y(1); yR_save = y(n);\n",
    "  y(1) = 2*y(1) - y(2); y(n) = 2*y(n) - y(n-1);\n",
    "%---- nord = 1\n",
    "yR = y(ip1); yL = y(i);   \n",
    "if nord==2\n",
    "  sL = y(ip1)-y(i); sR = y(ip2)-y(ip1);  \n",
    "  r = sL./sR;\n",
    "  yR = y(ip1) - 0.5*limiter(r).*sR;\n",
    "%--\n",
    "  sR = sL; sL = y(i)-y(im1); \n",
    "  r = sL./sR;\n",
    "  yL = y(i) + 0.5*limiter(r).*sR;\n",
    "%-- Randkorrektur\n",
    "  yL(1) = yL_save; yR(n-1) = yR_save;\n",
    "  yR(1) = yL_save; yL(n-1) = yR_save; \n",
    "elseif nord==3\n",
    "  ep = 1.0e-6; p = 0.6; \n",
    "  uL = y(ip1)-y(i); uC = y(ip2)-2*y(ip1)+y(i); uR = y(ip2)-y(ip1); uCC = y(ip2)-y(i);\n",
    "  ISL = uL.^2; ISC = 13/3*uC.^2 +0.25*uCC.^2; ISR = uR.^2;\n",
    "  aL = 0.25*(1./(ep+ISL)).^p; aC = 0.5*(1./(ep+ISC)).^p; aR = 0.25*(1./(ep+ISR)).^p;\n",
    "  suma = max(aL+aC+aR,eps);  wL = aL./suma; wC = aC./suma; wR = aR./suma;\n",
    "  weights = [0.5*wL + 5/12*wC; 0.5*wL+2/3*wC+1.5*wR ;  -wC/12-0.5*wR];\n",
    "  yR = y(i).*weights(1,:) + y(ip1).*weights(2,:) +y(ip2).*weights(3,:);\n",
    "%--\n",
    "  uR = uL; uL = y(i)-y(im1); uC = y(ip1)-2*y(i)+y(im1); uCC = y(ip1)-y(im1);\n",
    "  ISL = uL.^2; ISC = 13/3*uC.^2 +0.25*uCC.^2; ISR = uR.^2;\n",
    "  aL = 0.25*(1./(ep+ISL)).^p; aC = 0.5*(1./(ep+ISC)).^p; aR = 0.25*(1./(ep+ISR)).^p;\n",
    "  suma = max(aL+aC+aR,eps);  wL = aL./suma; wC = aC./suma; wR = aR./suma;\n",
    "  weights = [weights; -0.5*wL-wC/12; 1.5*wL+2/3*wC+0.5*wR; 5/12*wC+0.5*wR];\n",
    "  yL = y(im1).*weights(4,:) + y(i).*weights(5,:) + y(ip1).*weights(6,:);\n",
    "%-- Randkorrektur\n",
    "  yL(1) = yL_save; yR(n-1) = yR_save;\n",
    "  yR(1) = yL_save; yL(n-1) = yR_save; \n",
    "end\n",
    "\n",
    "function s = limiter(r)\n",
    "  r = min(5,max(0,r));\n",
    "  s = (r.^2+r)./(r.^2+1);  % van Albada"
   ]
  }
 ],
 "metadata": {
  "kernelspec": {
   "display_name": "Octave",
   "language": "octave",
   "name": "octave"
  },
  "language_info": {
   "file_extension": ".m",
   "help_links": [
    {
     "text": "GNU Octave",
     "url": "https://www.gnu.org/software/octave/support.html"
    },
    {
     "text": "Octave Kernel",
     "url": "https://github.com/Calysto/octave_kernel"
    },
    {
     "text": "MetaKernel Magics",
     "url": "https://metakernel.readthedocs.io/en/latest/source/README.html"
    }
   ],
   "mimetype": "text/x-octave",
   "name": "octave",
   "version": "6.2.0"
  }
 },
 "nbformat": 4,
 "nbformat_minor": 4
}
