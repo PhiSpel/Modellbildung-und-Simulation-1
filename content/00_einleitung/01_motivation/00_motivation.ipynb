{
 "cells": [
  {
   "cell_type": "markdown",
   "metadata": {},
   "source": [
    "(content:references:intro:traffic)=\n",
    "# Das Stauproblem - Motivation zur Benutzung dieses Buches\n",
    "\n",
    "Modellbildung und Simulation verbindet eine Vielzahl von Disziplinen, von grundlegender Mathematik über numerische Lösungsalgorithmen und Computernumerik hin zu der Syntax verschiedener Programmiersprachen. Dabei fällt es manchmal schwer, den Überblick zu behalten. Dieses Übungsbuch soll dabei helfen, die Modellbildung und Simulation durch ihre Schichten hindurch zu durchdringen und sie (be-)greifbar zu machen.\n",
    "\n",
    "Als Beispiel hierfür nehmen wir uns eine Extremwertaufgabe vor. Diese spielen in der Praxis oft eine große Rolle."
   ]
  },
  {
   "cell_type": "markdown",
   "metadata": {},
   "source": [
    "## Aufgabenstellung\n",
    "\n",
    "Angenommen das Schweizer Verkehrsministerium macht eine Anfrage an Sie, die bestehenden Tempolimits Ihrer Autobahnen\n",
    "zu überprüfen, unter dem konkreten Aspekt:\n",
    "\n",
    "***\"Wie können möglichst viele Fahrzeuge eine Engstelle, z.B. einen Tunnel passieren?\"***\n",
    "\n",
    "```{image} images/tunnel-pixabay.jpg\n",
    ":alt: \"high v high s\"\n",
    ":width: 800px\n",
    ":align: center\n",
    "```\n",
    "<div style=\"text-align: right\"><a href=\"https://pixabay.com/de/photos/tunnel-verkehr-stau-miniatur-ampel-3518875/\" > [torstensimon], via Creative Commons CC0 </a></div>\n",
    "\n",
    "Nun ist Ihre Expertenmeinung gefragt!"
   ]
  },
  {
   "cell_type": "markdown",
   "metadata": {},
   "source": [
    "## Extremwertaufgaben in fünf Akten\n",
    "\n",
    "### 1. Parameterauswahl und Modellreduktion\n",
    "\n",
    "Um diese Frage beantworten zu können, brauchen wir ein Modell. Aber welche *Größen* kommen dabei in Betracht? Zum Beispiel können wir uns fokussieren auf\n",
    "\n",
    "- Länge und Geschwindigkeit der Fahrzeuge\n",
    "- Zusammensetzung der Fahrzeugarten (PKW vs. LKW)\n",
    "- Anzahl der Fahrspuren, Zu und Abfahrten\n",
    "- Sichtverhältnisse, Fahrbahnbeschaffenheit\n",
    "- (Sicherheits -)Abstand zwischen den Fahrzeugen\n",
    "- ...und potentiell einige mehr.\n",
    "\n",
    "Hierbei kommt die Frage auf: *Wie können alle Parameter in diesem Modell berücksichtigt werden?*\n",
    "\n",
    "Das ist gar nicht unbedingt nötig, da ein Modell die\n",
    "Natur aufs Nötig(st)e reduziert Wir vereinfachen daher weiter auf ein mathematisch behandelbares Optimierungsproblem unter den Annahmen\n",
    "\n",
    "- die Fahrbahn sei einspurig\n",
    "- alle Fahrzeuge seien PKWs gleicher Länge\n",
    "- alle Fahrzeuge fahren mit der gleichen Geschwindigkeit\n",
    "- alle Fahrer halten den gleichen Sicherheitsabstand ein\n",
    "\n",
    "_Das ist für einen langen Tunnel in den Alpen nicht mal allzu unrealistisch..._\n",
    "\n",
    "```{admonition} Hinweis\n",
    "Dies entspricht dem **ersten Schritt** im Lösungsschema von Extremwertaufgaben: \"Vereinfachtes Modell der Natur erstellen\"\n",
    "```"
   ]
  },
  {
   "cell_type": "markdown",
   "metadata": {},
   "source": [
    "### 2. Mathematische Formulierung der Fragestellung\n",
    "\n",
    "Was wir uns eigentlich fragen, ist: _Was ist besser...?_\n",
    "\n",
    "1. Hohes Tempo = Großer Sicherheitsabstand\n",
    "\n",
    "```{image} images/highv_highs.png\n",
    ":alt: \"high v high s\"\n",
    ":width: 800px\n",
    ":align: center\n",
    "```\n",
    "\n",
    "oder\n",
    "\n",
    "2. Niedriges Tempo Kleiner Sicherheitsabstand\n",
    "\n",
    "```{image} images/lowv_lows.png\n",
    ":alt: \"low v low s\"\n",
    ":width: 800px\n",
    ":align: center\n",
    "```\n",
    "\n",
    "Um eine mathematische Funktion für unser Tunnel Modell aufstellen zu können, müssen wir nur noch etwas konkreter fragen,\n",
    "\n",
    "***\"Bei welcher Geschwindigkeit ist der Verkehrsfluss $F \\left[\\frac{\\text{Fahrzeuge}}{\\text{h}}\\right]$, d.h. die Anzahl der passierenden Fahrzeuge pro Stunde, am größten?\"***\n",
    "\n",
    "Da wir das Modell bereits genügend vereinfacht haben, bleiben nur drei Variablen:\n",
    "\n",
    "1. Geschwindigkeit $v \\,\\text{[m/s]}$\n",
    "2. Abstand der Fahrzeuge $s \\,\\text{[m]}$\n",
    "3. Fahrzeuglänge $L \\,\\text{[m]}$\n",
    "\n",
    "```{image} images/trafficvariables.png\n",
    ":alt: \"traffic variables\"\n",
    ":width: 800px\n",
    ":align: center\n",
    "```\n",
    "\n",
    "Diese können wir in eine mathematische Funktion für den Verkehrsfluss (in SI-Einheiten) überführen.\n",
    "\n",
    "$$F = F(v,s,L) = \\frac{v}{L+s}, F>0, F = \\left[\\frac{\\text{Fahrzeuge}}{\\text{s}}\\right]$$\n",
    "\n",
    "```{admonition} Hinweis\n",
    "Dies entspricht dem **zweiten Schritt** im Schema zur Lösung von Extremwertaufgaben: \"Die Ermittlung der Zielfunktion\"\n",
    "```"
   ]
  },
  {
   "cell_type": "markdown",
   "metadata": {},
   "source": [
    "### 3. Konstruktion von Nebenbedingungen\n",
    "\n",
    "Um die Gleichung besser lösen zu können, können wir _Nebenbedingungen_ konstruieren, welche die Variablen in Beziehung zueinander setzen:\n",
    "\n",
    "1. Lege die Fahrzeuglänge $L$ als Konstante fest, z.B. $L=4.5 \\text{ m}$.\n",
    "2. Für den Sicherheitsabstand kennen wir aus der Fahrschule die Faustregeln\n",
    "- \"Bremsweg-Regel\" $s(v) = \\frac{v}{10} \\cdot \\frac{v}{10} = \\frac{v^2}{100}$\n",
    "- \"Tacho-Halbe-Regel\" $s(v) = \\frac{v}{2}$\n",
    "\n",
    "Diese Regeln sind Faustregeln, bei denen die Einheiten als umgeformt angenommen werden. Daher formulieren wir sie in SI-Einheiten um:\n",
    "\n",
    "- \"Bremsweg-Regel\" $s\\left(v\\,\\left[\\frac{\\text{m}}{\\text{s}}\\right]\\right) = \\frac{(v\\cdot 3.6\\,\\text{s})^2}{100\\,\\text{m}}$\n",
    "- \"Tacho-Halbe-Regel\" $s\\left(v\\,\\left[\\frac{\\text{m}}{\\text{s}}\\right]\\right) = \\frac{v\\cdot 3.6\\,\\text{s}}{2}$\n",
    "\n",
    "[//]: # (So müssen wir nur hinterher $F$ auf die Einheit $\\left[\\frac{\\text{Fahrzeuge}}{\\text{h}}\\right]$ umrechnen.)\n",
    "\n",
    "Mithilfe der \"Bremsweg-Regel\" und der konstanten Fahrzeuglänge vereinfachen wir die Funktion zu\n",
    "\n",
    "$$\\max{F(v)} = \\frac{v}{4.5\\,\\text{m} + \\frac{(v\\cdot 3.6\\,\\text{s})^2}{100}}, v\\in[0,\\infty)$$\n",
    "\n",
    "```{admonition} Hinweis\n",
    "Dies entspricht dem **dritten Schritt** im Lösungsschema: \"Eliminierung von Variablen durch Nebenbedingungen\"\n",
    "```"
   ]
  },
  {
   "cell_type": "markdown",
   "metadata": {},
   "source": [
    "### 4. Mathematische Lösung des Modells\n",
    "\n",
    "``` {admonition} Einschub: Definition und Sätze zu Extremwerten\n",
    "\n",
    "*Definition*: Ein _lokales Maximum (Minimum)_ ist der Wert der Funktion $f$ an einer Stelle $x_0$, wenn in einer $\\varepsilon$ Umgebung von $x_0$ die Funktion keine größeren (kleineren) Werte annimmt.\n",
    "\n",
    "*Notwendige Bedingung für ein lokales Extremum:* Die differenzierbare Funktion $f$ besitzt in $x_0$ eine waagerechte Tangente, d.h. $f'(x_0)=0$.\n",
    "\n",
    "*Hinreichende Bedingung für ein lokales Extremum:* Gilt für die mindestens zweimal differenzierbare Funktion $f$\n",
    "\n",
    "1. $f'(x_0)=0$ und $f''(x_0)<0$, dann hat $f$ dort ein _lokales Maximum_.\n",
    "2. $f'(x_0)=0$ und $f''(x_0)>0$, dann hat $f$ dort ein _lokales Minimum_.\n",
    "```\n",
    "\n",
    "Für die Gleichung setzen wir also $F' = 0$ und $F'' < 0$. $F'$ erhalten wir mit der Quotientenregel:\n",
    "\n",
    "$$\n",
    "\\begin{align}\n",
    "F'(v) = \\frac{\\left(4.5\\,\\text{m} + \\frac{(v\\cdot 3.6\\,\\text{s})^2}{100\\,\\text{m}}\\right) - v \\cdot \\frac{2\\cdot v\\cdot (3.6\\,\\text{s})^2}{100\\,\\text{m}}}{\\left(4.5\\,\\text{m} + \\frac{(v\\cdot 3.6\\,\\text{s})^2}{100\\,\\text{m}}\\right)^2} &= 0 \\\\\n",
    "\\rightarrow 4.5 \\,\\text{m} - \\frac{(3.6\\,\\text{s})^2}{100\\,\\text{m}} v^2 &= 0 \\\\\n",
    "\\rightarrow v_{1/2} &= \\pm \\sqrt{\\frac{450\\,\\text{m}^2}{(3.6\\,\\text{s})^2}} = \\pm 5.89 \\,\\frac{\\text{m}}{\\text{s}}\n",
    "\\end{align}\n",
    "$$\n",
    "\n",
    "Prüfung mit $F''(v_1)$ ($v_2$ liegt außerhalb des Definitionsbereichs) zeigt, dass für $v_1 = +5.89\\,\\frac{\\text{m}}{\\text{s}} = +21.21 \\,\\frac{\\text{km}}{\\text{h}}$ ein lokales Maximum vorliegt.\n",
    "\n",
    "```{admonition} Hinweis\n",
    "Dies entspricht dem **vierten Schritt** im Lösungsschema: \"Bestimmung der lokalen Extremstellen\"\n",
    "```"
   ]
  },
  {
   "cell_type": "markdown",
   "metadata": {},
   "source": [
    "### 5. Prüfung der Gültigkeit und Randstellen\n",
    "\n",
    "Es bleiben noch zwei letzte Tests:\n",
    "\n",
    "1. Liegt die oben errechnete Lösung im Definitionsbereich von $F$? $\\rightarrow$ JA!\n",
    "2. Am Rand des Definitionsbereichs könnten noch (globale) \"Randextrama\" liegen. Ist dies hier der Fall? $\\rightarrow$ NEIN!\n",
    "\n",
    "Das Ganze geht auch ganz einfach in Octave:"
   ]
  },
  {
   "cell_type": "code",
   "execution_count": 3,
   "metadata": {},
   "outputs": [
    {
     "name": "stdout",
     "output_type": "stream",
     "text": [
      "x = 5.8926\n",
      "Fmax = 0.6547\n"
     ]
    }
   ],
   "source": [
    "F = @(V) -(V)./(4.5 + ((V*3.6).^2)/100); % set F as negative to be able to use minimize function\n",
    "x = fminbnd (F, 0, 200)\n",
    "Fmax = -F(x)"
   ]
  },
  {
   "cell_type": "markdown",
   "metadata": {},
   "source": [
    "```{admonition} Hinweis\n",
    "Dies entspricht dem **fünften Schritt** im Lösungsschema: \"Gültigkeits- und Randstellen Prüfung\"\n",
    "```\n",
    "\n",
    "Damit erhalten wir die **Lösung**: Bei $v=21.21 \\frac{\\text{km}}{\\text{h}}$ wird ein maximaler Fahrzeugdurchsatz von $F\\left(21.21 \\frac{\\text{km}}{\\text{h}}\\right) = 0.6547 \\frac{\\text{Fahrzeuge}}{\\text{s}} = 2357 \\frac{\\text{Fahrzeuge}}{\\text{h}}$ erreicht."
   ]
  },
  {
   "cell_type": "markdown",
   "metadata": {},
   "source": [
    "## Ingenieurs-Know-How\n",
    "\n",
    "Bevor wir die Ergebnisse an das Schweizer Verkehrsministerium übergeben, müssen wir zuletzt noch fragen: **Als wie realistisch schätzen wir diese Lösung ein?**\n",
    "\n",
    "Dazu variieren wir die Faustformel für den Sicherheitsabstand zur \"Tacho-Halbe-Regel\". Daraus ergibt sich\n",
    "\n",
    "$$F(v) = \\frac{v}{4.5\\,\\text{m} + \\frac{v\\cdot 3.6 \\,\\text{s}}{2}}$$\n",
    "\n",
    "$$F'(v) = \\frac{\\left(4.5\\,\\text{m} + \\frac{v\\cdot 3.6 \\,\\text{s}}{2}\\right) - v \\cdot \\frac{3.6 \\,\\text{s}}{2}}{\\left(4.5\\,\\text{m} + \\frac{v\\cdot 3.6 \\,\\text{s}}{2}\\right)^2} = 0 \\rightarrow 4.5\\,\\text{m} = 0$$\n",
    "\n",
    "$F$ hat also keine _lokalen Extrema_. Die Überprüfung der Randstellen liefert\n",
    "\n",
    "1. $F(0)=0$\n",
    "2. $\\lim_{v\\to\\infty}{F(v)}=\\lim_{v\\to\\infty}{\\frac{v}{4.5\\,\\text{m} + \\frac{v\\cdot 3.6 \\,\\text{s}}{2}}} \\to 0.555 \\frac{\\text{Fahrzeuge}}{\\text{s}} = 2000 \\frac{\\text{Fahrzeuge}}{\\text{h}}$"
   ]
  },
  {
   "cell_type": "code",
   "execution_count": 5,
   "metadata": {
    "tags": [
     "hide_input"
    ]
   },
   "outputs": [
    {
     "data": {
      "image/png": "[encoded data removed]",
      "text/plain": [
       "<IPython.core.display.Image object>"
      ]
     },
     "metadata": {},
     "output_type": "display_data"
    }
   ],
   "source": [
    "% graphische Darstellung von F(v) für beide Abstandsmodelle\n",
    "graphics_toolkit(\"gnuplot\")\n",
    "\n",
    "vmax = 200;\n",
    "dv = 1;\n",
    "v = linspace(0,vmax,vmax*dv);\n",
    "L = 4.5;\n",
    "s_bremsweg = (v.^2)/100;\n",
    "F_bremsweg = (1000*v)./(L + s_bremsweg);\n",
    "s_tachohalbe = v/2;\n",
    "F_tachohalbe = (1000*v)./(L + s_tachohalbe);\n",
    "\n",
    "plot(v,F_bremsweg,v,F_tachohalbe)\n",
    "xlabel (\"Geschwindigkeit [km/h]\");\n",
    "ylabel (\"Fahrzeugdurchsatz [Fahrzeuge/h]\");\n",
    "\n",
    "h = legend (\"Bremsweg-Modell\", \"Tacho-Halbe-Modell\");\n",
    "legend (h, \"location\", \"northeast\");"
   ]
  },
  {
   "cell_type": "markdown",
   "metadata": {},
   "source": [
    "Die Modelle liefern also sehr unterschiedliche Ergebnisse, mit denen wir noch nicht voll zufrieden sein können. Daraus ergibt sich die Frage:\n",
    "\n",
    "***Können wir einfachen Mitteln zu einer deutlich realistischeren Beschreibung des Problems kommen?***\n",
    "\n",
    "Die Antwort: Ja, durch etwas mehr Gehirnschmalz und Einsatz von ein wenig mehr Physik."
   ]
  },
  {
   "cell_type": "markdown",
   "metadata": {},
   "source": [
    "### Verbesserung des Modells\n",
    "\n",
    "1. **Mehr Physik**\\\n",
    "Tatsächlich besteht der Anhalteweg u.a. aus dem Reaktionsweg und dem Bremsweg. Letzterer kann mit dem realen Beschleunigungsgesetz genauer berechnet werden: $s_\\text{B} = \\frac{v^2}{2\\cdot a}$ (Verzögerung $a$ = _negative Beschleunigung_!)\n",
    "\n",
    "2. **Mehr Gehirnschmalz**\\\n",
    "Bisher wird beim Sicherheitsabstand so getan, als ob im Bremsfall der Vorfahrende instantan von $v$ auf $0 \\,\\frac{\\text{m}}{\\text{s}}$ stoppt. Dessen Bremsweg $s_{\\text{VF}} = \\frac{v^2}{2\\cdot a_{\\text{VF}}}$ wird in der Fahrpraxis oft vom eigenen Bremsweg abgezogen.\n",
    "\n",
    "```{image} images/Bremsvorgang.svg\n",
    ":alt: \"Quelle: Wikipedia\"\n",
    ":width: 600px\n",
    ":align: center\n",
    "```\n",
    "<div style=\"text-align: right\"><a href=\"https://upload.wikimedia.org/wikipedia/commons/b/b8/Bremsvorgang.svg\" > [CC BY-SA 3.0], via Wikimedia Commons </a></div>\n",
    "\n",
    "Wenn man beides berücksichtigt, ergibt sich mit Hilfe der Reaktionszeit $t_\\text{R}$ und der Verzögerung $a$ als neuer Sicherheitsabstand $s$:\n",
    "$$s = s(v,a_{\\text{selbst}},a_{\\text{VF}},t_\\text{R})=v\\cdot t_\\text{R} + \\frac{v^2}{2\\cdot a_{\\text{selbst}}} - \\frac{v^2}{2\\cdot a_{\\text{VF}}}$$\n",
    "\n",
    "Wieder müssen wir mit Nebenbedingungen (hier: Konstanten) das Problem vereinfachen:\n",
    "\n",
    "1. $t_\\text{R}=1 \\text{ s}$\n",
    "2. $a=30 \\,\\frac{\\text{m}}{\\text{s}^2}$"
   ]
  },
  {
   "cell_type": "code",
   "execution_count": 2,
   "metadata": {
    "tags": [
     "hide_input"
    ]
   },
   "outputs": [
    {
     "name": "stdout",
     "output_type": "stream",
     "text": [
      "maxF = 0.6836\n",
      "bestv = 20\n"
     ]
    },
    {
     "data": {
      "image/png": "[encoded data removed]",
      "text/plain": [
       "<IPython.core.display.Image object>"
      ]
     },
     "metadata": {},
     "output_type": "display_data"
    }
   ],
   "source": [
    "% graphische Darstellung von F(v) für die drei Abstandsmodelle\n",
    "graphics_toolkit(\"gnuplot\")\n",
    "\n",
    "vmax = 200/3.6;\n",
    "dv = 1;\n",
    "v = linspace(0,vmax,vmax*dv);\n",
    "L = 4.5;\n",
    "s_bremsweg = ((v*3.6).^2)/100;\n",
    "F_bremsweg = v./(L + s_bremsweg);\n",
    "s_tachohalbe = v*3.6/2;\n",
    "F_tachohalbe = v./(L + s_tachohalbe);\n",
    "\n",
    "t_R = 1;\n",
    "a_selbst = 6;\n",
    "a_VF = 7;\n",
    "s_physik = v*t_R + v.^2/(2*a_selbst) - v.^2/(2*a_VF);\n",
    "F_physik = v./(L + s_physik);\n",
    "\n",
    "[maxF,bestv] = max(F_physik);\n",
    "maxF\n",
    "bestv = bestv/dv\n",
    "\n",
    "plot(v,F_bremsweg,v,F_tachohalbe,v,F_physik)\n",
    "xlabel (\"Geschwindigkeit [km/h]\");\n",
    "ylabel (\"Fahrzeugdurchsatz [Fahrzeuge/h]\");\n",
    "\n",
    "h = legend (\"Bremsweg-Modell\", \"Tacho-Halbe-Modell\", \"Physikalisches Modell\");\n",
    "legend (h, \"location\", \"northeast\");"
   ]
  },
  {
   "cell_type": "markdown",
   "metadata": {},
   "source": [
    "Also wird bei $20\\,\\frac{\\text{m}}{\\text{s}} = 72 \\,\\frac{\\text{km}}{\\text{h}}$ der maximale Fahrzeugdurchsatz $F\\left(v = 71 \\,\\frac{\\text{km}}{\\text{h}}\\right) = 0.6836 \\,\\frac{\\text{Fahrzeuge}}{\\text{s}} = 2461 \\,\\frac{\\text{Fahrzeuge}}{\\text{h}}$ erreicht."
   ]
  },
  {
   "cell_type": "markdown",
   "metadata": {},
   "source": [
    "## Zusammenfassung\n",
    "\n",
    "Das neue Modell kommt den tatsächlichen Tempolimits schon recht nahe. Damit könnte man dem Schweizer Verkehrsministerium durchaus Rat geben!\n",
    "\n",
    "Das Lösen von solchen Extremwertaufgaben besteht also aus fünf Schritten, die wir alle hier kennengelernt haben:\n",
    "\n",
    "1. Vereinfachtes Modell der Natur erstellen\n",
    "2. Die Ermittlung der Zielfunktion\n",
    "3. Eliminierung von Variablen durch Nebenbedingungen\n",
    "4. Bestimmung der lokalen Extremstellen\n",
    "5. Gültigkeits- und Randstellen-Prüfung\n",
    "\n",
    "Außerdem haben wir eine wichtige Lektion gelernt:\n",
    "\n",
    "***Für eine gute Simulation ist ein Bewusstsein für die Modellannahmen entscheident.***\n",
    "\n",
    "## Ausblick\n",
    "In dieser Lösung sind natürlich einige Modellannahmen getroffen worden, die der Realität nicht standhalten, wie variierende Abstände und riskante Fahrweisen.\n",
    "\n",
    "Ein sehr bekanntes Modell zur Verkehrssimulation ist das **Nagel-Schreckenberg-Modell**. Damit können Phänomene wie der \"Stau-aus-dem-nichts\" oder Knotennetze mit Kreuzungen und Ampelschaltungen einfach simuliert werden. Ein Beispiel dafür finden Sie in [](content:exercises:naschr) wieder.\n",
    "\n",
    "Eine weitere Möglichkeit, Verkehr zu simulieren, ist mit **Partiellen Differentialgleichungen**. Diese lernen Sie in [](content:references:PDEs:traffic) kennen."
   ]
  }
 ],
 "metadata": {
  "kernelspec": {
   "display_name": "Octave",
   "language": "octave",
   "name": "octave"
  },
  "language_info": {
   "file_extension": ".m",
   "help_links": [
    {
     "text": "GNU Octave",
     "url": "https://www.gnu.org/software/octave/support.html"
    },
    {
     "text": "Octave Kernel",
     "url": "https://github.com/Calysto/octave_kernel"
    },
    {
     "text": "MetaKernel Magics",
     "url": "https://metakernel.readthedocs.io/en/latest/source/README.html"
    }
   ],
   "mimetype": "text/x-octave",
   "name": "octave",
   "version": "6.2.0"
  }
 },
 "nbformat": 4,
 "nbformat_minor": 4
}
