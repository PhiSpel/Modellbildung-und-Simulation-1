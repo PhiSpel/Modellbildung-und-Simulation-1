{
 "cells": [
  {
   "cell_type": "markdown",
   "metadata": {},
   "source": [
    "# Matlab Best Practices\n",
    "\n",
    "Wie so oft gibt es viele Wege die zum Ziel führen, so ist es auch bei der Programmierung. Hier sollen einige Programmierrichtlinien aufgelistet werden, die sich bewährt haben. Die meisten davon lassen sich allgemein auf alle Programmiersprachen anwenden, einige wenige sind Matlab-spezifisch.\n",
    "\n",
    "## Unkommentierter bzw. nicht-dokumentierter Code ist schlechter Code\n",
    "\n",
    "TO DO\n",
    "\n",
    "## Sprechende Variablennamen\n",
    "\n",
    "To Do (Beispiel)\n",
    "\n",
    "## Wiederholten Code vermeiden\n",
    "\n",
    "To Do\n",
    "\n",
    "## Das Rad nicht neu erfinden\n",
    "\n",
    "To Do\n",
    "\n",
    "## Lange Skripte und Funktionen vermeiden\n",
    "\n",
    "To Do\n",
    "\n",
    "## Funktionen über Skripte bevorzugen\n",
    "\n",
    "To Do (Beispiel Fehlerquelle scope?)\n",
    "\n",
    "## Performance: Matlab Vektorisierung ausnutzen\n",
    "\n",
    "To Do (Beispiel, kurze Erklärung von SIMD)\n",
    "\n",
    "## Kein übermäßiger Gebrauch von if-then-else Anweisungen\n",
    "\n",
    "To Do"
   ]
  },
  {
   "cell_type": "code",
   "execution_count": null,
   "metadata": {},
   "outputs": [],
   "source": []
  }
 ],
 "metadata": {
  "kernelspec": {
   "display_name": "Octave",
   "language": "octave",
   "name": "octave"
  },
  "language_info": {
   "file_extension": ".m",
   "help_links": [
    {
     "text": "GNU Octave",
     "url": "https://www.gnu.org/software/octave/support.html"
    },
    {
     "text": "Octave Kernel",
     "url": "https://github.com/Calysto/octave_kernel"
    },
    {
     "text": "MetaKernel Magics",
     "url": "https://github.com/calysto/metakernel/blob/master/metakernel/magics/README.md"
    }
   ],
   "mimetype": "text/x-octave",
   "name": "octave",
   "version": "4.2.2"
  }
 },
 "nbformat": 4,
 "nbformat_minor": 2
}
