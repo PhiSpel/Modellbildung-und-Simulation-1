{
 "cells": [
  {
   "cell_type": "markdown",
   "metadata": {},
   "source": [
    "# Modellierung einer Highline\n",
    "\n",
    "<iframe width=\"560\" height=\"315\" src=\"https://www.youtube.com/embed/V3CdJEXZH_w?start=50\" frameborder=\"0\" allow=\"accelerometer; autoplay; encrypted-media; gyroscope; picture-in-picture\" allowfullscreen></iframe>\n",
    "\n",
    "Mittels einer Reihenschaltung von Federdämpfer-Systemen lässt sich ein einfaches zweidimensionales Modell einer Highline erstellen.\n",
    "\n",
    "## Modellbeschreibung\n",
    "\n",
    "![](../images/bridge.png)\n",
    "\n",
    "Die Highline wird als eine Kette von $N$ Massepunkten modelliert, die jeweils mit Feder- und Dämpferelementen in horizontaler und vertikaler Richtung miteinader verbunden sind. "
   ]
  },
  {
   "cell_type": "markdown",
   "metadata": {},
   "source": [
    "### Kräftebilanzierung\n",
    "\n",
    "Gehen Sie von einem *\"Urzustand\"* aus, in dem alle Massepunkte auf einer Linie liegen. Durch die Schwerkraft und dem Einwirken äußerer Kräfte entstehen Verschiebungen $$ \\mathbf{z}_i = \\begin{bmatrix} x_i(t) \\\\ y_i(t) \\end{bmatrix} $$ der Massepunkte weg von diesem Urzustand. Die Verschiebungen der Ankerpunkte seien konstant Null,\n",
    "$$ \\mathbf{z}_{0}=\\mathbf{z}_{N+1}=\\begin{bmatrix} 0 \\\\ 0 \\end{bmatrix}.$$\n",
    "\n",
    "Angenommen jeder Massepunkt hat die Masse $m$ und die Federdämpferelemente haben die Steifigkeiten $k$ und Dämpfungskoeffizienten $d$. Durch Freischneiden und Kraftbilanzierung lassen sich für alle Massepunkte die Bewegungsgleichungen aufstellen. Sei $\\mathbf{F}_{i,\\text{ext}} \\in \\mathbb{R}^2$ die externe Kraft, die auf den Massepunkt mit Index $i$ wirkt. Dann gilt\n",
    "\n",
    "$$\n",
    "\\begin{align}\n",
    " m \\ddot{\\mathbf{z}}_0 &= 0 \\notag \\\\\n",
    " m \\ddot{\\mathbf{z}}_1 &= -k \\mathbf{z}_1 - d \\dot{\\mathbf{z}}_1 -k(\\mathbf{z}_1-\\mathbf{z}_2) - d(\\dot{\\mathbf{z}}_1-\\dot{\\mathbf{z}}_2) + \\mathbf{F}_{1,\\text{ext}} \\notag \\\\\n",
    " &= -2k \\mathbf{z}_1 + k \\mathbf{z}_2 -2d\\dot{\\mathbf{z}}_1 + d \\mathbf{z}_2 + \\mathbf{F}_{1,\\text{ext}} \\notag  \\\\\n",
    " m \\ddot{\\mathbf{z}}_i &= k(\\mathbf{z}_{i-1}-\\mathbf{z}_{i}) + d(\\dot{\\mathbf{z}}_{i-1} - \\dot{\\mathbf{z}}_{i}) - k(\\mathbf{z}_{i}-\\mathbf{z}_{i+1}) - d(\\dot{\\mathbf{z}}_{i} -\\dot{\\mathbf{z}}_{i+1}) + \\mathbf{F}_{i,\\text{ext}} \\notag \\\\\n",
    " &= -2k \\mathbf{z}_i + k \\mathbf{z}_{i-1} + k\\mathbf{z}_{i+1} -2d\\dot{\\mathbf{z}}_i + d \\mathbf{z}_{i-1} + d \\mathbf{z}_{i+1}+ \\mathbf{F}_{i,\\text{ext}}, \\hskip4em \\text{für } i=2,...,N-1 \\notag \\\\\n",
    " m \\ddot{\\mathbf{z}}_N &= -k \\mathbf{z}_N - d \\dot{\\mathbf{z}}_N + k(\\mathbf{z}_{N-1}-\\mathbf{z}_N) + d(\\dot{\\mathbf{z}}_{N-1}-\\dot{\\mathbf{z}}_N) + \\mathbf{F}_{N,\\text{ext}} \\notag \\\\\n",
    " &= -2k \\mathbf{z}_n + k \\mathbf{z}_{N-1} -2d\\dot{\\mathbf{z}}_n + d \\mathbf{z}_{N-1} + \\mathbf{F}_{N,\\text{ext}} \\notag  \\\\\n",
    " m \\ddot{\\mathbf{z}}_{N+1} &= 0 \\notag\n",
    "\\end{align}\n",
    "$$\n",
    "\n",
    "Diese Gleichungen lassen sich in eine kompaktere Matrixschreibweise bringen. Dazu führen wir folgende Bezeichungen ein:\n",
    "\n",
    "$$ \\mathbf{z}=\\left[ \\begin{array}{c} \\mathbf{z}_1 \\\\ \\vdots \\\\ \\mathbf{z}_N \\end{array} \\right] \\in \\mathbb{R}^{2N}, \\quad \\mathbf{F}_{\\text{ext}} = \\left[ \\begin{array}{c} \\mathbf{F}_{1,\\text{ext}} \\\\ \\vdots \\\\ \\mathbf{F}_{N,\\text{ext}} \\end{array} \\right] \\in \\mathbb{R}^{2N}, \\quad M = \\left[ \\begin{array}{cccc} m & 0 & \\cdots & 0 \\\\ 0 & m & \\ddots & \\vdots \\\\ \\vdots & \\ddots & \\ddots & 0 \\\\ 0 & \\cdots & 0 & m \\end{array} \\right] \\in \\mathbb{R}^{2N \\times 2N} \\quad \\text{und} $$                                                                                                                                                                                                  \n",
    "\n",
    "$$S = \\left[ \\begin{array}{rrrrrrr}\n",
    "2 & 0 & -1 & 0 & \\cdots & \\cdots & 0  \\\\\n",
    "0 & 2 & 0 & -1 & \\ddots &  & \\vdots \\\\\n",
    "-1 & 0 & 2 & 0 & \\ddots & \\ddots & \\vdots \\\\\n",
    "0 & -1 & 0 & 2 & \\ddots & \\ddots & 0 \\\\\n",
    "\\vdots & \\ddots & \\ddots & \\ddots  & \\ddots & \\ddots & -1 \\\\\n",
    "\\vdots & & \\ddots & \\ddots  & \\ddots & \\ddots & 0 \\\\\n",
    "0 & \\cdots & \\cdots & 0 & -1 & 0 & 2\n",
    "\\end{array}  \\right] \\in \\mathbb{R}^{2N \\times 2N}.$$\n",
    "\n",
    "$M$ ist die *Massematrix*, $K = k \\cdot S$ die *Steifigkeitsmatrix* und $D=d \\cdot S$ die *Dämpfungsmatrix* des gekoppelten Systems. Die oben bereits hergeleiteten Bewegungsgleichungen nehmen die bekannte Form eines gedämpften, angetriebenen harmonischen Oszillators\n",
    "\n",
    "$$M \\ddot{\\mathbf{z}} + D\\dot{\\mathbf{z}} + K \\mathbf{z} = \\mathbf{F}_{\\text{ext}}$$\n",
    "\n",
    "an, nur dass die Koeffizienten $M, D$ und $K$ nun matrixwertig sind und die unbekannte Verschiebungsfunktion $\\mathbf{z}(t)$ vektorwertig mit $2N$ Einträgen ist: Ein Eintrag pro Raumrichtung und Massepunkt der Highline."
   ]
  },
  {
   "cell_type": "markdown",
   "metadata": {},
   "source": [
    "### Ein stationärer Lastfall\n",
    "\n",
    "Es soll zunächst der stationäre Lastfall untersucht werden, bei dem nur die Schwerkraft auf die Highline wirkt, d.h. Sie gehen von einer konstanten Kraft\n",
    "$\\mathbf{F}_{i,\\text{ext}}=\\left[ \\begin{array}{c} 0 \\\\ -m g \\end{array} \\right]$\n",
    "mit $g=9.81\\;\\textrm{m}/\\textrm{s}^2$ sowie $\\ddot{\\mathbf{z}}=\\dot{\\mathbf{z}}=0$ aus. Die Differentialgleichung vereinfacht sich zu einem linearen Gleichungssystem\n",
    "\n",
    "$$K \\mathbf{z} = \\mathbf{F}_{\\text{ext}}.$$\n",
    "\n",
    "Bei einer Highlinelänge von $L=50\\;\\textrm{m}$, einem Gesamtgewicht von $m_{\\text{ges}}=3.15\\;\\textrm{kg}$, sowie einer Gesamtsteifigkeit von $k_{\\text{ges}}=1455\\;\\textrm{N}/\\textrm{m}$ ergeben sich für die Einzelmassen und Einzelsteifigkeiten\n",
    "\n",
    "$$ m = \\frac{m_{\\text{ges}}}{N} \\quad \\text{ und } \\quad k = N \\cdot k_{\\text{ges}}.$$\n",
    "\n",
    "Mit $\\mathbf{b} = \\left[ \\begin{array}{ccccccc} 0 & 1 & 0 & 1 & \\cdots & 0 & 1 \\end{array} \\right]^T \\in \\mathbb{R}^{2N}$\n",
    "lässt sich das lineare Gleichungssystem schreiben als\n",
    "\n",
    "$$\n",
    "\\begin{align}\n",
    " &K \\mathbf{z} = \\mathbf{F}_{\\text{ext}} \\notag \\\\\n",
    " \\Leftrightarrow \\quad&k \\cdot S \\mathbf{z} = -m \\cdot g \\cdot \\mathbf{b} \\notag \\\\\n",
    " \\Leftrightarrow \\quad&N \\cdot k_{\\text{ges}} S \\mathbf{z} = - \\frac{m_{\\text{ges}}\\cdot g}{N} \\mathbf{b} \\notag \\\\\n",
    " \\Leftrightarrow \\quad&S \\underbrace{\\left( - \\frac{N^2 \\cdot k_{\\text{ges}}}{m_{\\text{ges}}\\cdot g} \\mathbf{z}\\right)}_{:= \\tilde{\\mathbf{z}}} = \\mathbf{b} \\notag\n",
    "\\end{align}\n",
    "$$\n",
    "\n",
    "Demnach lassen sich die Verschiebungen der Massepunkte im stationären Lastfall berechnen, indem das lineare Gleichungssytem\n",
    "\n",
    "$$S \\tilde{\\mathbf{z}} =\\mathbf{b}$$\n",
    "\n",
    "gelöst wird. Die Verschiebungen $\\mathbf{z}$ erhält man aus der Lösung $\\tilde{\\mathbf{z}}$ des Gleichunssystemes mittels\n",
    "\n",
    "$$\\mathbf{z} = - \\frac{m_{\\text{ges}}\\cdot g}{N^2 \\cdot k_{\\text{ges}}} \\tilde{\\mathbf{z}}.$$"
   ]
  },
  {
   "cell_type": "markdown",
   "metadata": {},
   "source": [
    "## Aufgabe 1 - Durchhang der Highline ohne Zusatzgewicht\n",
    "\n",
    "Lösen Sie das Gleichungssystem $$S \\tilde{\\mathbf{z}} = \\mathbf{b} $$ mit $S \\in \\mathbb{R}^{2N \\times 2n}$ und $\\mathbf{b} \\in \\mathbb{R}^{2N}$ für $N = 10, 100, 1000$ mit Hilfe des backslash-Operators `S\\b` und berechnen Sie anschließend die Verschiebung der Massepunkte $\\mathbf{z}$.\n",
    "\n",
    " - Wie stark hängt die Highline an der tiefsten Stelle durch?\n",
    " - Wie hoch muss die Auflösung $N$ ihrer Ansicht nach mindestens sein, um dem Ergebnis vertrauen zu können? Begründen Sie ihre Antwort mit konkreten Zahlen!\n",
    "\n",
    "## Aufgabe 2 - Dünnbesetzte Matrizen\n",
    "\n",
    "Die Matrix $S$ enthält viele Einträge die Null sind. Diese verbrauchen erstens unnötig viel Speicher, und zweitens werden bei vielen Algorithmen oft unnötige Rechenoperationen mit diesen Einträgen ausgeführt, was den Rechenaufwand insbesondere bei sehr großen Auflösungen erhöht. Mit der folgenden Anweisung können Sie die Matrix in einem Speicherformat für dünnbesetzte Matrizen erzeugt, in dem nur die von Null verschiedenen Einträge zusammen mit ihren jeweiligen Indizes gespeichert werden."
   ]
  },
  {
   "cell_type": "code",
   "execution_count": null,
   "metadata": {},
   "outputs": [],
   "source": [
    "% preallocate vectors for the row and column indices and the values for the nonzero entries\n",
    "nnz = 2*N + 2*(2*N-2);\n",
    "row    = zeros(nnz,1);\n",
    "column = zeros(nnz,1);\n",
    "value  = zeros(nnz,1);\n",
    "\n",
    "j=0; % counter for the nonzeros, j goes from 0 to nnz-1\n",
    "for i=1:2*N\n",
    "    % for each row...\n",
    "    \n",
    "    % save diagonal entry\n",
    "    j=j+1;  row(j)=i;  column(j)=i; value(j)=2;\n",
    "    \n",
    "    % save left off-diagonal entry\n",
    "    if(i>2)\n",
    "        j=j+1;  row(j)=i;  column(j)=i-2; value(j)=-1;\n",
    "    end\n",
    "    \n",
    "    % save right off-diagonal entry\n",
    "    if(i<2*N-1)\n",
    "        j=j+1; row(j)=i; column(j)=i+2; value(j)=-1;\n",
    "    end\n",
    "end\n",
    "\n",
    "% create sparse matrix from the vectors row, column, value\n",
    "S=sparse(row, column, value, 2*N, 2*N);"
   ]
  },
  {
   "cell_type": "markdown",
   "metadata": {},
   "source": [
    "Für viele Algorithmen, wie etwa dem LU-Verfahren, sind in Matlab spezielle Implementierungen für dünnbesetzte Matrizen hinterlegt. Wie wirkt sich das dünnbesetzte Speicherformat auf die Rechenzeit aus?\n",
    "\n",
    " - Erstellen Sie ein Balkendiagramm, dass die Rechenzeiten für die Lösung des Gleichungssystems jeweils für die vollbesestzte sowie dünnbesetzte Matrixformatierung und $N = 10, 100, 1000$ darstellt (Insgesamt also sechs Rechnungen).\n",
    "\n",
    "**Tipp:** Verwenden Sie die Matlabbefehle `tic` und `toc` für die Zeitmessung.\n",
    "\n",
    "## Aufgabe 3 - Iterative Gleichungssystemlöser\n",
    "\n",
    "Iterative Verfahren testen (cgs, bicgstab, eventuell selbstimplementiertes GJ)? Rechenzeit, Anzahl Iterationen, Vorkonditionierung, `S\\b` vs. `K\\F` (weil $K \\mathbf{z} = \\mathbf{F}_{\\text{ext}}$ schlechtere Kondition hat als $\\mathbf{S} \\tilde{\\mathbf{z}} = \\mathbf{b}$).\n",
    "\n",
    "## Aufgabe 4 - Simulation des Slackliners\n",
    "\n",
    "In einer sogenannten *quasistatischen* Simulation wird ein zeitabhängiger Prozess so simuliert, dass in jedem Zeitschritt ein stationärer Zustand berechnet wird. So wird die Dynamik (z.B. Oszillation der Slackline) vernachlässigt, was die Berechnung deutlich vereinfacht.\n",
    "\n",
    "Simulieren Sie, wie ein Slackliner die Highline von links nach rechts traversiert. Berechnen Sie dazu die statische Verschiebung der Slackline für unterschiedliche Positionen des Slackliners entlang der Highline. Gehen Sie von einem Gewicht von 70 kg aus.\n",
    "\n",
    "  - Treffen Sie eine angemessene Wahl für\n",
    "    - die räumliche Auflösung $N$ der Slackline, sowie der zeitlichen Auflösung des Traversierens; \n",
    "    - das Lösungsverfahren für das lineare Gleichungssystem;\n",
    "    - das Speicherformat der Matrix\n",
    "    und begründen Sie Ihre Antwort.\n",
    "  - Plotten sie den Durchhang der Slackline in vertikale Richtung am Ort des Slackliners über die jeweilige Position des Slackliners in horizontaler Richtung (Orts-\"Zeit\"-Diagramm der Füße des Slackliners)."
   ]
  }
 ],
 "metadata": {
  "kernelspec": {
   "display_name": "Octave",
   "language": "octave",
   "name": "octave"
  },
  "language_info": {
   "file_extension": ".m",
   "help_links": [
    {
     "text": "GNU Octave",
     "url": "https://www.gnu.org/software/octave/support.html"
    },
    {
     "text": "Octave Kernel",
     "url": "https://github.com/Calysto/octave_kernel"
    },
    {
     "text": "MetaKernel Magics",
     "url": "https://github.com/calysto/metakernel/blob/master/metakernel/magics/README.md"
    }
   ],
   "mimetype": "text/x-octave",
   "name": "octave",
   "version": "4.2.2"
  }
 },
 "nbformat": 4,
 "nbformat_minor": 2
}
