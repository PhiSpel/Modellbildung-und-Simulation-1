{
 "cells": [
  {
   "cell_type": "markdown",
   "id": "e9182a7f",
   "metadata": {},
   "source": [
    "# 1. Messwerte importieren, plotten und bearbeiten\n",
    "\n",
    "In dieser Übung importieren Sie Messwerte eines Schreib- und Lesevorgangs von Datenträgern. Diese Daten werden anschließend geplottet und weiterverarbeitet.\n",
    "\n",
    "## Situation\n",
    "\n",
    "In einem Betrieb wurde die Datenübertragung zweier Speichergeräte gemessen. Dabei wurden eine Minute lang Schreib- und Lesevorgänge im 100ms-Abstand aufgezeichnet.\n",
    "Die im txt-Format vorliegenden Messdaten sollen nun zum Vergleich der Geräte ausgewertet werden.\n",
    "\n",
    "```{admonition} Hinweis\n",
    "Eine Video mit der geführten Lösung finden Sie immer unten auf der Seite.\n",
    "```"
   ]
  },
  {
   "cell_type": "markdown",
   "id": "5889eaf8",
   "metadata": {},
   "source": [
    "## 1. Datenimport\n",
    "\n",
    "Importieren Sie die Messdaten mit dem Befehl `importdata`. Legen Sie für die jeweiligen Schreib- und Lesemessungen eigene Variablen, z.B. `Write_1` und `Write_2`, `Read_1` und `Read_2`, an."
   ]
  },
  {
   "cell_type": "code",
   "execution_count": null,
   "id": "8cb04c1b",
   "metadata": {},
   "outputs": [],
   "source": [
    "Write_1 = importdata(‘Dateiname.txt‘);"
   ]
  },
  {
   "cell_type": "markdown",
   "id": "3705e790",
   "metadata": {},
   "source": [
    "```{admonition} Hinweis\n",
    "**Wenn Sie online arbeiten:** Die Dateien sind in einem Unterordner `files` dieser Seite abgelegt. Sie können auf die Dateien z.B. mit `files/Transferdata_Read_1.txt` zugreifen. Die anderen Dateien heißen `Transferdata_Read_2.txt`, `Transferdata_Write_1.txt` und `Transferdata_Write_2.txt`.\n",
    "\n",
    "**Wenn Sie offline arbeiten:** Kopieren Sie die Datei mit den Messdaten in den Ordner, in denen sich auch Ihr aktives m-file befindet.\n",
    "\n",
    "<a href=\"files/Transferdata_Read_1.txt\" download>Transferdata_Read_1.txt</a>\n",
    "\n",
    "<a href=\"files/Transferdata_Read_2.txt\" download>Transferdata_Read_2.txt</a>\n",
    "\n",
    "<a href=\"files/Transferdata_Write_1.txt\" download>Transferdata_Write_1.txt</a>\n",
    "\n",
    "<a href=\"files/Transferdata_Write_2.txt\" download>Transferdata_Write_2.txt</a>\n",
    "```"
   ]
  },
  {
   "cell_type": "markdown",
   "id": "348c129f",
   "metadata": {},
   "source": [
    "## 2. Erste Datenauswertung\n",
    "\n",
    "Wie viele Messwerte sind jeweils vorhanden? Prüfen Sie die Anzahl mit den Befehlen `length` bzw. `size`. Was ist der Unterschied?"
   ]
  },
  {
   "cell_type": "code",
   "execution_count": null,
   "id": "7dbb17bd",
   "metadata": {},
   "outputs": [],
   "source": [
    "length(Variablenname)\n",
    "size(Variablenname)"
   ]
  },
  {
   "cell_type": "markdown",
   "id": "3cfd4ef4",
   "metadata": {},
   "source": [
    "Welchen Wert haben die Übertragungsraten bei $t = 10s$?"
   ]
  },
  {
   "cell_type": "code",
   "execution_count": null,
   "id": "a8e5d1bf",
   "metadata": {},
   "outputs": [],
   "source": [
    "Variablenname(Zeitpunkt)"
   ]
  },
  {
   "cell_type": "markdown",
   "id": "73a6f99f",
   "metadata": {},
   "source": [
    "Welchen Werte haben die Übertragungsraten von $t=10s$ bis $t=11s$?"
   ]
  },
  {
   "cell_type": "code",
   "execution_count": null,
   "id": "1f11f53e",
   "metadata": {},
   "outputs": [],
   "source": [
    "Variablenname(Von:Bis)"
   ]
  },
  {
   "cell_type": "markdown",
   "id": "66f3f71c",
   "metadata": {},
   "source": [
    "## 3. Visualisierung der Daten\n",
    "\n",
    "Lassen Sie sich die Daten als Graph mithilfe des `plot`-Befehls anzeigen.\n",
    "Erzeugen Sie anschließend ein Raster im Hintergrund mittels `grid on`."
   ]
  },
  {
   "cell_type": "code",
   "execution_count": null,
   "id": "c75734eb",
   "metadata": {},
   "outputs": [],
   "source": [
    "plot(Variablenname)"
   ]
  },
  {
   "cell_type": "markdown",
   "id": "7084b031",
   "metadata": {},
   "source": [
    "Mit `hold off` und `hold on` vor bzw. nach dem `plot`-Befehl können mehrere Plots in einem Fenster angezeigt werden. Lassen Sie alle 4 Messungen in einem Fenster darstellen.\n",
    "\n",
    "Ergänzen Sie abschließend eine Legende, Überschrift sowie Achsenbeschriftungen für x- und y-Achse."
   ]
  },
  {
   "cell_type": "code",
   "execution_count": null,
   "id": "e6a01ab6",
   "metadata": {},
   "outputs": [],
   "source": [
    "legend(‘Name1‘,‘Name2‘)\n",
    "title(‘Überschrift‘)\n",
    "xlabel(‘Achsenname‘)"
   ]
  },
  {
   "cell_type": "markdown",
   "id": "31591a99",
   "metadata": {},
   "source": [
    "## 4. Weitere Datenauswertung\n",
    "\n",
    "Ermitteln Sie jeweils die größten Messwerte sowie die Mittelwerte."
   ]
  },
  {
   "cell_type": "code",
   "execution_count": null,
   "id": "8d4b0c1f",
   "metadata": {},
   "outputs": [],
   "source": [
    "max(Variablenname)\n",
    "mean(Variablenname)"
   ]
  },
  {
   "cell_type": "markdown",
   "id": "21dab241",
   "metadata": {},
   "source": [
    "Die `max`-Funktion kann neben dem Maximalwert auch dessen Index (=Zeitpunkt) zurückgeben. Wann wurden jeweils die größten Werte gemessen?"
   ]
  },
  {
   "cell_type": "code",
   "execution_count": null,
   "id": "a24c85ce",
   "metadata": {},
   "outputs": [],
   "source": [
    "[Wert, Index] = max(Variablenname)"
   ]
  },
  {
   "cell_type": "markdown",
   "id": "e6b27e0a",
   "metadata": {},
   "source": [
    "## 5. Gruppierung und Auswertung der Daten mittels Matrix\n",
    "\n",
    "Gruppieren Sie die Messwerte (=Vektoren) spaltenweise in einer gemeinsamen Matrix."
   ]
  },
  {
   "cell_type": "code",
   "execution_count": null,
   "id": "1399fc21",
   "metadata": {},
   "outputs": [],
   "source": [
    "M = [Variable1, Variable2, Variable3, Variable4]"
   ]
  },
  {
   "cell_type": "markdown",
   "id": "f8b4c06c",
   "metadata": {},
   "source": [
    "Welche Werte geben die `mean`- und `max`-Funktionen zurück, wenn Sie sie auf die neu erzeugte Matrix anwenden?"
   ]
  },
  {
   "cell_type": "markdown",
   "id": "c02b7cd5",
   "metadata": {},
   "source": [
    "## 6. Plotten von Matrizen\n",
    "\n",
    "Wenden Sie den `plot`-Befehl auf die Matrix an. Was sehen Sie?\n",
    "\n",
    "Plotten Sie nun nur die Spalten, in welchen Sie die Schreibvorgänge abgespeichert haben.\n",
    "\n",
    "```{admonition} Hinweis\n",
    "Der Zugriff auf bestimmte Matrix-Werte erfolgt ähnlich wie in Aufgabe 2:\n",
    "```"
   ]
  },
  {
   "cell_type": "code",
   "execution_count": null,
   "id": "1f1b2a8a",
   "metadata": {},
   "outputs": [],
   "source": [
    "M(2,4)    % Zeigt Element aus Zeile 2, Spalte 4 an.\n",
    "M(1:3,4)  % Zeigt Elemente von Zeile 1 bis 3 aus Spalte \n",
    "          % 4 an (=Vektor).\n",
    "M(:,4)    % Zeigt Elemente aus allen Zeilen der 4.\n",
    "          % Spalte an (=Vektor).\n",
    "M(1:2,:)  % Zeigt Elemente aus allen Spalten der Zeilen\n",
    "          % 1 bis 2 an (=Matrix)."
   ]
  },
  {
   "cell_type": "markdown",
   "id": "460dbfa7",
   "metadata": {},
   "source": [
    "## 7. Subplots\n",
    "\n",
    "Eine alternative Möglichkeit, mehrere Plots gleichzeitig anzuzeigen, sind Subplots.\n",
    "Dabei können in einem Fenster zwei separate `plot`-Befehle angezeigt werden.\n",
    "Vor jedem `plot` muss MATLAB mittels `subplot` mitgeteilt werden, wo der Plot angezeigt werden soll.\n",
    "\n",
    "Zeigen Sie auf diese Weise die Schreib- und Lesevorgänge durch Plotten der Matrix getrennt in 2 Subplots an."
   ]
  },
  {
   "cell_type": "code",
   "execution_count": null,
   "id": "fc21e72d",
   "metadata": {},
   "outputs": [],
   "source": [
    "subplot(2,1,1)\n",
    "plot(Variable1)\n",
    "title(‘Überschrift1‘)\n",
    "\n",
    "subplot(2,1,2)\n",
    "plot(Variable2)\n",
    "title(‘Überschrift2‘)"
   ]
  },
  {
   "cell_type": "markdown",
   "id": "9941169b",
   "metadata": {},
   "source": [
    "## 8. Abschließende Datenauswertung"
   ]
  },
  {
   "cell_type": "markdown",
   "id": "5cd90491",
   "metadata": {},
   "source": [
    "Solange die Dimensionen stimmen, können Vektoren und Matrizen in MATLAB natürlich auch miteinander verrechnet werden."
   ]
  },
  {
   "cell_type": "code",
   "execution_count": null,
   "id": "b547ec69",
   "metadata": {},
   "outputs": [],
   "source": [
    "% Beispiel: M ist 4x6-Matrix\n",
    "M(1:3,1) - M(2:4,5)\n",
    "% Subtrahiert Elemente aus Zeile 2 bis 4 der 5. Spalte von % den Elementen aus Zeile 1 bis 3 der 1. Spalte. Ergebnis % ist ein Vektor."
   ]
  },
  {
   "cell_type": "markdown",
   "id": "5279a6c8",
   "metadata": {},
   "source": [
    "Berechnen Sie so durch Auswertung der Matrix die Differenzen der Schreib- und Lesegeschwindigkeiten und plotten Sie diese.\n",
    "\n",
    "Prüfen Sie abschließend, mittels einer if-Abfrage, welches Gerät jeweils schneller schreiben bzw. lesen kann. Lassen Sie sich das Ergebnis mittels „sprintf“ ausgeben."
   ]
  },
  {
   "cell_type": "code",
   "execution_count": null,
   "id": "111d71b2",
   "metadata": {},
   "outputs": [],
   "source": [
    "if a>b\n",
    "    sprintf(‘a ist größer als b.‘)\n",
    "elseif a<b\n",
    "    sprintf(‘a ist kleiner als b.‘)\n",
    "else\n",
    "    sprintf(‘a ist genau so groß wie b.‘)\n",
    "end"
   ]
  },
  {
   "cell_type": "markdown",
   "id": "28a8e821",
   "metadata": {},
   "source": [
    "## 9. Bonusaufgabe: Gleitender Mittelwert"
   ]
  },
  {
   "cell_type": "markdown",
   "id": "06e03b95",
   "metadata": {},
   "source": [
    "Für Datenauswertungen sind oft gleitende Mittelwerte interessant, z.B. _„wie oft hat es in den letzten Wochen jeweils durchschnittlich geregnet?“_.\n",
    "Berechnen Sie für die Messvorgänge gleitende Mittelwerte über jeweils 10 Messpunkte (= 1 Sekunde) und plotten Sie diese.\n",
    "\n",
    "```{admonition} Hinweis\n",
    "Der folgende Code speichert die jeweiligen Spaltensummen einer Matrix in der Variablen x (=Vektor) ab.\n",
    "Ein gleitender Mittelwert kann durch ähnliches Vorgehen berechnet werden.\n",
    "```"
   ]
  },
  {
   "cell_type": "code",
   "execution_count": null,
   "id": "57917512",
   "metadata": {},
   "outputs": [],
   "source": [
    "% M ist 3x10 Matrix\n",
    "for i = 1:10\n",
    "     % Schleife läuft mit der Variablen “i” 10x durch\n",
    "     % i == 1,2,3,...,10\n",
    "     x(i) = sum(M(:,i));\n",
    "end"
   ]
  },
  {
   "cell_type": "markdown",
   "id": "40093d63",
   "metadata": {},
   "source": [
    "## Lösung\n",
    "\n",
    "<iframe width=\"560\" height=\"315\" src=\"https://www.youtube.com/embed/OtiOBUquclM\" frameborder=\"0\" allow=\"accelerometer; autoplay; encrypted-media; gyroscope; picture-in-picture\" allowfullscreen></iframe>"
   ]
  }
 ],
 "metadata": {
  "kernelspec": {
   "display_name": "Octave",
   "language": "octave",
   "name": "octave"
  },
  "language_info": {
   "file_extension": ".m",
   "help_links": [
    {
     "text": "GNU Octave",
     "url": "https://www.gnu.org/software/octave/support.html"
    },
    {
     "text": "Octave Kernel",
     "url": "https://github.com/Calysto/octave_kernel"
    },
    {
     "text": "MetaKernel Magics",
     "url": "https://metakernel.readthedocs.io/en/latest/source/README.html"
    }
   ],
   "mimetype": "text/x-octave",
   "name": "octave",
   "version": "6.2.0"
  }
 },
 "nbformat": 4,
 "nbformat_minor": 5
}
