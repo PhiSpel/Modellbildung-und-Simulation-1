{
 "cells": [
  {
   "cell_type": "markdown",
   "id": "881426df",
   "metadata": {},
   "source": [
    "# 4. Flächenberechnung und Newtonverfahren (1D)\n",
    "\n",
    "Aufgabe dieser Übung ist es, die optimale Flächennutzung von Solarpanelen für ein kreisförmiges Dach zu berechnen.\n",
    "\n",
    "Es stehen zwei Module zur Auswahl. Die Berechnung erfolgt mittels dem eindimensionalen Newtonverfahren.\n",
    "\n",
    "## Situation\n",
    "\n"
   ]
  }
 ],
 "metadata": {
  "kernelspec": {
   "display_name": "Octave",
   "language": "octave",
   "name": "octave"
  },
  "language_info": {
   "file_extension": ".m",
   "help_links": [
    {
     "text": "GNU Octave",
     "url": "https://www.gnu.org/software/octave/support.html"
    },
    {
     "text": "Octave Kernel",
     "url": "https://github.com/Calysto/octave_kernel"
    },
    {
     "text": "MetaKernel Magics",
     "url": "https://metakernel.readthedocs.io/en/latest/source/README.html"
    }
   ],
   "mimetype": "text/x-octave",
   "name": "octave",
   "version": "6.2.0"
  }
 },
 "nbformat": 4,
 "nbformat_minor": 5
}
