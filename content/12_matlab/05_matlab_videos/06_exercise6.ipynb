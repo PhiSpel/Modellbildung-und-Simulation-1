{
 "cells": [
  {
   "cell_type": "markdown",
   "id": "db677d55",
   "metadata": {},
   "source": [
    "# 6. Numerische Differentiation und Integration\n",
    "\n",
    "In dieser Übung geht es um das numerische Berechnen der Ableitung bzw. des Integrals. Dabei wird auch auf vergangene Übungen zurückgefriffen. So müssen zum Beispiel Messwertlücken zunächst interpoliert werden, bevor eine Änderungsrate berechnet werden kann.\n",
    "\n",
    "## Situation\n",
    "\n",
    "Die numerische Berechnung von Ableitungen und Integralen spielt für die Berechnung und Simulation technischer Systeme eine entscheidende Rolle. Genauso entscheidend ist es aber auch, Einschränkungen und Grenzen der eingesetzten Hard- und Software zu kennen.\n",
    "\n",
    "Daher ist das Thema dieser Übung numerische Differentiation und Quadratur.\n",
    "\n",
    "## Differentiation 1\n",
    "\n",
    "Berechnen Sie nach dem Ansatz in der Vorlesung (auch bekannt als „h-Methode“) numerisch die Ableitungen der u.g. Funktionen an den genannten Stellen.\n",
    "\n",
    "Dazu soll eine MATLAB-function angelegt werden, welche als Eingang ein beliebiges function-handle sowie den Ort $x0$ erhält und als Ausgang den Wert der Ableitung bei $x0$ zurückgibt.\n",
    "\n",
    "Um den Einfluss der Schrittweite h zu prüfen sollen auch dafür verschiedene Werte verwendet werden.\n",
    "\n",
    "$$x_0=0,1,10,100,1000$$\n",
    "\n",
    "$$h=10^{-4},10^{-8},10^{-12},10^{-16}$$\n",
    "\n",
    "Berechnen Sie zur Bewertung der Ergebnisse die analytischen Ableitungen und stellen Sie die Werte gegenüber.\n",
    "\n",
    "$$f_1 (x)=e^{x^2}$$\n",
    "\n",
    "$$f_2 (x)=\\ln⁡(x)$$\n",
    "\n",
    "$$f_3 (x)= \\sin⁡(x)$$\n",
    "\n",
    "```{admonition} Tipp\n",
    ":class: tip\n",
    "Nutzen Sie zum Abarbeiten der verschiedenen Werte eine Schleife.\n",
    "```"
   ]
  },
  {
   "cell_type": "code",
   "execution_count": null,
   "id": "ba11d9f4",
   "metadata": {},
   "outputs": [],
   "source": [
    "% your code here"
   ]
  },
  {
   "cell_type": "markdown",
   "id": "94e44e1d",
   "metadata": {},
   "source": [
    "## Differentiation 2\n",
    "\n",
    "Bei der Durchführung verschiedener Messreihen sind jeweils folgende Werte ermittelt worden:\n",
    "\n",
    "| t | -4 | 6 | 5 | 1 | 3 |\n",
    "|---|---|---|---|---|---|\n",
    "| y | 1 | 1 | 5 | 8 | 4 |\n",
    "\n",
    "| t | 0 | 1.5708 | 3.1416 | 4.7124 | 6.2832 |\n",
    "|---|---|---|---|---|---|\n",
    "| y | 0 | 1 | 0 | -1 | 0 |\n",
    "\n",
    "| t | 0 | 2.5 | 5.0 | 7.5 | 10 |\n",
    "|---|---|---|---|---|---|\n",
    "| y | 1 | 1 | 1 | 0 | 0 |\n",
    "\n",
    "Für eine simple Änderungsauswertung kann zunächst der Befehl `diff` getestet werden. Er gibt den Wert einer Änderung von $y_i$ zu $y_{i+1}$ aus.\n",
    "\n",
    "Da die Funktionswerte hier aber nur an bestimmten Stellen bekannt sind, muss ein Interpolationspolynom zur Approximation einer Ableitung verwendet werden.\n",
    "\n",
    "Schreiben Sie eine `function`, welche als Eingang $x$- und $y$-Wertepaare sowie einen Abfrageort $x0$ enthält. Die `function` soll dann ein Interpolationspolynom bestimmen und dessen Ableitung an der Stelle $x0$ zurückgeben.\n",
    "\n",
    "```{admonition} Tipp\n",
    ":class: tip\n",
    "Die Koeffizienten des abgeleiteten Polynomes, z.B. mit den Koeffizienten\n",
    "$p = [a, b, c]$, können mittels `polyder(p)` bestimmt werden.\n",
    "\n",
    "Schauen Sie auch nochmals in die Unterlagen in [](content:references:matlab_polynomfitting).\n",
    "```"
   ]
  },
  {
   "cell_type": "code",
   "execution_count": null,
   "id": "03e90245",
   "metadata": {},
   "outputs": [],
   "source": [
    "% your code here\n",
    "function fdot = derivate(f,x0)\n",
    "end"
   ]
  },
  {
   "cell_type": "markdown",
   "id": "2899d32b",
   "metadata": {},
   "source": [
    "## Quadratur\n",
    "\n",
    "Berechnen Sie die Fläche welche zwischen den beiden Funktionen $f_1$ und $f_2$ im Intervall $[0,3]$ aufgespannt wird.\n",
    "\n",
    "$$f_1(x) = e^{\\frac{x}{2}}$$\n",
    "$$f_2(x) = 4\\sin(x)$$\n",
    "\n",
    "```{admonition} Tipp\n",
    ":class: tip\n",
    "Ermitteln Sie zunächst die Schnittpunkte mit einem Newtonverfahren (z.B. `fsolve`) und verwenden Sie dann die Routine `integral`.\n",
    "```"
   ]
  },
  {
   "cell_type": "code",
   "execution_count": null,
   "id": "32076a8f",
   "metadata": {},
   "outputs": [],
   "source": [
    "% your code here"
   ]
  },
  {
   "cell_type": "markdown",
   "id": "bb4f9d59",
   "metadata": {},
   "source": [
    "## Lösung\n",
    "\n",
    "<iframe width=\"560\" height=\"315\" src=\"https://www.youtube.com/embed/l3Ft9GxORmw\" frameborder=\"0\" allow=\"accelerometer; autoplay; encrypted-media; gyroscope; picture-in-picture\" allowfullscreen></iframe>\n",
    "\n",
    "Hier finden Sie auserdem den **Code** der Lösung:"
   ]
  },
  {
   "cell_type": "code",
   "execution_count": null,
   "id": "f179aacc",
   "metadata": {},
   "outputs": [],
   "source": []
  }
 ],
 "metadata": {
  "kernelspec": {
   "display_name": "Octave",
   "language": "octave",
   "name": "octave"
  },
  "language_info": {
   "file_extension": ".m",
   "help_links": [
    {
     "text": "GNU Octave",
     "url": "https://www.gnu.org/software/octave/support.html"
    },
    {
     "text": "Octave Kernel",
     "url": "https://github.com/Calysto/octave_kernel"
    },
    {
     "text": "MetaKernel Magics",
     "url": "https://metakernel.readthedocs.io/en/latest/source/README.html"
    }
   ],
   "mimetype": "text/x-octave",
   "name": "octave",
   "version": "6.2.0"
  }
 },
 "nbformat": 4,
 "nbformat_minor": 5
}
